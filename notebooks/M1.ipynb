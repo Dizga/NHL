{
  "cells": [
    {
      "cell_type": "markdown",
      "metadata": {
        "id": "QfY8t6_IuVcL"
      },
      "source": [
        "[PlayTypes](https://statsapi.web.nhl.com/api/v1/playTypes)\n",
        "[Example game](https://statsapi.web.nhl.com/api/v1/game/2017020001/feed/live)\n",
        "[Example team](https://statsapi.web.nhl.com/api/v1/teams/10)"
      ]
    },
    {
      "cell_type": "markdown",
      "metadata": {
        "id": "5Ga-oiT2Itmz"
      },
      "source": [
        "# Imports"
      ]
    },
    {
      "cell_type": "code",
      "execution_count": 1,
      "metadata": {},
      "outputs": [],
      "source": [
        "%load_ext autoreload\n",
        "%autoreload 2"
      ]
    },
    {
      "cell_type": "code",
      "execution_count": 2,
      "metadata": {},
      "outputs": [
        {
          "name": "stdout",
          "output_type": "stream",
          "text": [
            "/Users/alexandreganito/Documents/Data science/Project/NHL\n"
          ]
        },
        {
          "data": {
            "text/plain": [
              "'/Users/alexandreganito/Documents/Data science/Project/NHL'"
            ]
          },
          "execution_count": 2,
          "metadata": {},
          "output_type": "execute_result"
        }
      ],
      "source": [
        "import pathlib\n",
        "if pathlib.Path().resolve().name == 'notebooks':\n",
        "    %cd ..\n",
        "%pwd"
      ]
    },
    {
      "cell_type": "code",
      "execution_count": 3,
      "metadata": {
        "id": "wUtIcPjBIw24"
      },
      "outputs": [],
      "source": [
        "from datetime import datetime, time\n",
        "from pydantic import BaseModel, model_validator, field_validator\n",
        "from ipywidgets import widgets, interact, IntSlider\n",
        "import plotly.graph_objects as go\n",
        "import plotly.express as px\n",
        "from IPython.display import display, clear_output\n",
        "from typing import Optional, Dict\n",
        "import math\n",
        "from enum import Enum\n",
        "import pandas as pd\n",
        "from src.data import load_data, load_processed_data, load_df_shots\n",
        "from src.models import Side"
      ]
    },
    {
      "cell_type": "markdown",
      "metadata": {
        "id": "-IWJc6olgMTj"
      },
      "source": []
    },
    {
      "cell_type": "markdown",
      "metadata": {
        "id": "WF0f3VGNtUZw"
      },
      "source": [
        "# Raw data examples\n"
      ]
    },
    {
      "cell_type": "code",
      "execution_count": 5,
      "metadata": {
        "colab": {
          "base_uri": "https://localhost:8080/"
        },
        "id": "3mjoFbeS8GBV",
        "outputId": "4e545ac7-0bcd-4be4-8cbb-af7d003387f4"
      },
      "outputs": [
        {
          "name": "stdout",
          "output_type": "stream",
          "text": [
            "Season 2016 successfully loaded from file\n"
          ]
        }
      ],
      "source": [
        "raw = load_data(2016)"
      ]
    },
    {
      "cell_type": "code",
      "execution_count": 36,
      "metadata": {
        "colab": {
          "base_uri": "https://localhost:8080/"
        },
        "id": "fdBVV8118Jv6",
        "outputId": "bd8b917a-bb2e-4bb9-e17a-693530cc3344"
      },
      "outputs": [
        {
          "data": {
            "text/plain": [
              "{'players': [{'player': {'id': 8476879,\n",
              "    'fullName': 'Cody Ceci',\n",
              "    'link': '/api/v1/people/8476879'},\n",
              "   'playerType': 'Shooter'},\n",
              "  {'player': {'id': 8475883,\n",
              "    'fullName': 'Frederik Andersen',\n",
              "    'link': '/api/v1/people/8475883'},\n",
              "   'playerType': 'Goalie'}],\n",
              " 'result': {'event': 'Shot',\n",
              "  'eventCode': 'OTT867',\n",
              "  'eventTypeId': 'SHOT',\n",
              "  'description': 'Cody Ceci Slap Shot saved by Frederik Andersen',\n",
              "  'secondaryType': 'Slap Shot'},\n",
              " 'about': {'eventIdx': 346,\n",
              "  'eventId': 867,\n",
              "  'period': 3,\n",
              "  'periodType': 'REGULAR',\n",
              "  'ordinalNum': '3rd',\n",
              "  'periodTime': '19:09',\n",
              "  'periodTimeRemaining': '00:51',\n",
              "  'dateTime': '2016-10-13T01:49:18Z',\n",
              "  'goals': {'away': 4, 'home': 4}},\n",
              " 'coordinates': {'x': 43.0, 'y': -18.0},\n",
              " 'team': {'id': 9,\n",
              "  'name': 'Ottawa Senators',\n",
              "  'link': '/api/v1/teams/9',\n",
              "  'triCode': 'OTT'}}"
            ]
          },
          "execution_count": 36,
          "metadata": {},
          "output_type": "execute_result"
        }
      ],
      "source": [
        "for play in raw['regulars'][0]['liveData']['plays']['allPlays']:\n",
        "  if play['result']['event'] == 'Shot':\n",
        "    shot_exemple = play\n",
        "  if play['result']['event'] == 'Goal':\n",
        "    goal_exemple = play\n",
        "\n",
        "shot_exemple"
      ]
    },
    {
      "cell_type": "code",
      "execution_count": 37,
      "metadata": {
        "colab": {
          "base_uri": "https://localhost:8080/"
        },
        "id": "FJnvTIom8MR3",
        "outputId": "c03082c1-77df-4d27-ac2a-7cef8318dcac"
      },
      "outputs": [
        {
          "data": {
            "text/plain": [
              "{'players': [{'player': {'id': 8474068,\n",
              "    'fullName': 'Kyle Turris',\n",
              "    'link': '/api/v1/people/8474068'},\n",
              "   'playerType': 'Scorer',\n",
              "   'seasonTotal': 2},\n",
              "  {'player': {'id': 8475913,\n",
              "    'fullName': 'Mark Stone',\n",
              "    'link': '/api/v1/people/8475913'},\n",
              "   'playerType': 'Assist',\n",
              "   'seasonTotal': 2},\n",
              "  {'player': {'id': 8474578,\n",
              "    'fullName': 'Erik Karlsson',\n",
              "    'link': '/api/v1/people/8474578'},\n",
              "   'playerType': 'Assist',\n",
              "   'seasonTotal': 2},\n",
              "  {'player': {'id': 8475883,\n",
              "    'fullName': 'Frederik Andersen',\n",
              "    'link': '/api/v1/people/8475883'},\n",
              "   'playerType': 'Goalie'}],\n",
              " 'result': {'event': 'Goal',\n",
              "  'eventCode': 'OTT876',\n",
              "  'eventTypeId': 'GOAL',\n",
              "  'description': 'Kyle Turris (2) Snap Shot, assists: Mark Stone (2), Erik Karlsson (2)',\n",
              "  'secondaryType': 'Snap Shot',\n",
              "  'strength': {'code': 'EVEN', 'name': 'Even'},\n",
              "  'gameWinningGoal': True,\n",
              "  'emptyNet': False},\n",
              " 'about': {'eventIdx': 354,\n",
              "  'eventId': 876,\n",
              "  'period': 4,\n",
              "  'periodType': 'OVERTIME',\n",
              "  'ordinalNum': 'OT',\n",
              "  'periodTime': '00:37',\n",
              "  'periodTimeRemaining': '04:23',\n",
              "  'dateTime': '2016-10-13T01:53:47Z',\n",
              "  'goals': {'away': 4, 'home': 5}},\n",
              " 'coordinates': {'x': -49.0, 'y': 5.0},\n",
              " 'team': {'id': 9,\n",
              "  'name': 'Ottawa Senators',\n",
              "  'link': '/api/v1/teams/9',\n",
              "  'triCode': 'OTT'}}"
            ]
          },
          "execution_count": 37,
          "metadata": {},
          "output_type": "execute_result"
        }
      ],
      "source": [
        "goal_exemple"
      ]
    },
    {
      "cell_type": "markdown",
      "metadata": {
        "id": "DfPNgzMK8Y9J"
      },
      "source": [
        "# Data interpretation"
      ]
    },
    {
      "cell_type": "code",
      "execution_count": 16,
      "metadata": {
        "colab": {
          "base_uri": "https://localhost:8080/"
        },
        "id": "29hf-RUU9FXc",
        "outputId": "f9bf0fe6-4927-454e-88cd-0767200138c9"
      },
      "outputs": [
        {
          "name": "stdout",
          "output_type": "stream",
          "text": [
            "Processing data... (1-2 minutes)\n",
            "Season 2016 successfully loaded from file\n",
            "Done!\n"
          ]
        }
      ],
      "source": [
        "season = load_processed_data(2016, samples=True)"
      ]
    },
    {
      "cell_type": "code",
      "execution_count": 11,
      "metadata": {
        "colab": {
          "base_uri": "https://localhost:8080/"
        },
        "id": "nx9RHA-0kEZh",
        "outputId": "02ef5868-22e6-4ac2-dd23-b4327a093b13"
      },
      "outputs": [
        {
          "data": {
            "text/plain": [
              "{'Even', 'Power Play', 'Short Handed'}"
            ]
          },
          "execution_count": 11,
          "metadata": {},
          "output_type": "execute_result"
        }
      ],
      "source": [
        "# What are the strengh types ?\n",
        "\n",
        "strengh_types = set()\n",
        "for game in season.regulars:\n",
        "  for play in game.plays:\n",
        "    if play.result.strength:\n",
        "      strengh_types.add(play.result.strength)\n",
        "\n",
        "strengh_types"
      ]
    },
    {
      "cell_type": "code",
      "execution_count": 12,
      "metadata": {
        "colab": {
          "base_uri": "https://localhost:8080/"
        },
        "id": "SbMTK9n_nitS",
        "outputId": "3b964b02-6a59-4f67-bced-c1ab2475e24b"
      },
      "outputs": [
        {
          "data": {
            "text/plain": [
              "{'Backhand',\n",
              " 'Deflected',\n",
              " 'Slap Shot',\n",
              " 'Snap Shot',\n",
              " 'Tip-In',\n",
              " 'Wrap-around',\n",
              " 'Wrist Shot'}"
            ]
          },
          "execution_count": 12,
          "metadata": {},
          "output_type": "execute_result"
        }
      ],
      "source": [
        "# What are the shot types ?\n",
        "\n",
        "shot_types = set()\n",
        "for game in season.regulars:\n",
        "  for play in game.plays:\n",
        "    res = play.result\n",
        "    if (res.event == 'Goal' or res.event == 'Shot') and res.secondaryType:\n",
        "      shot_types.add(res.secondaryType)\n",
        "\n",
        "shot_types"
      ]
    },
    {
      "cell_type": "markdown",
      "metadata": {
        "id": "TxgGUnpDIK7T"
      },
      "source": [
        "# To DataFrames"
      ]
    },
    {
      "cell_type": "code",
      "execution_count": 27,
      "metadata": {},
      "outputs": [],
      "source": [
        "df = load_df_shots(2016)"
      ]
    },
    {
      "cell_type": "code",
      "execution_count": 28,
      "metadata": {},
      "outputs": [
        {
          "data": {
            "text/html": [
              "<div>\n",
              "<style scoped>\n",
              "    .dataframe tbody tr th:only-of-type {\n",
              "        vertical-align: middle;\n",
              "    }\n",
              "\n",
              "    .dataframe tbody tr th {\n",
              "        vertical-align: top;\n",
              "    }\n",
              "\n",
              "    .dataframe thead th {\n",
              "        text-align: right;\n",
              "    }\n",
              "</style>\n",
              "<table border=\"1\" class=\"dataframe\">\n",
              "  <thead>\n",
              "    <tr style=\"text-align: right;\">\n",
              "      <th></th>\n",
              "      <th>Game Id</th>\n",
              "      <th>Periode</th>\n",
              "      <th>Temps écoulé</th>\n",
              "      <th>Equipe</th>\n",
              "      <th>Goal</th>\n",
              "      <th>X</th>\n",
              "      <th>Y</th>\n",
              "      <th>X-opp</th>\n",
              "      <th>Tireur</th>\n",
              "      <th>Gardien</th>\n",
              "      <th>Type</th>\n",
              "      <th>Filet Vide</th>\n",
              "      <th>Force</th>\n",
              "      <th>Net distance</th>\n",
              "    </tr>\n",
              "  </thead>\n",
              "  <tbody>\n",
              "    <tr>\n",
              "      <th>6</th>\n",
              "      <td>1</td>\n",
              "      <td>1</td>\n",
              "      <td>08:21</td>\n",
              "      <td>TOR</td>\n",
              "      <td>True</td>\n",
              "      <td>-70.0</td>\n",
              "      <td>1.0</td>\n",
              "      <td>-89</td>\n",
              "      <td>Auston Matthews</td>\n",
              "      <td>Craig Anderson</td>\n",
              "      <td>Wrist Shot</td>\n",
              "      <td>False</td>\n",
              "      <td>Even</td>\n",
              "      <td>19.026298</td>\n",
              "    </tr>\n",
              "    <tr>\n",
              "      <th>11</th>\n",
              "      <td>1</td>\n",
              "      <td>1</td>\n",
              "      <td>10:26</td>\n",
              "      <td>OTT</td>\n",
              "      <td>True</td>\n",
              "      <td>82.0</td>\n",
              "      <td>3.0</td>\n",
              "      <td>89</td>\n",
              "      <td>Bobby Ryan</td>\n",
              "      <td>Frederik Andersen</td>\n",
              "      <td>Backhand</td>\n",
              "      <td>False</td>\n",
              "      <td>Even</td>\n",
              "      <td>7.615773</td>\n",
              "    </tr>\n",
              "    <tr>\n",
              "      <th>14</th>\n",
              "      <td>1</td>\n",
              "      <td>1</td>\n",
              "      <td>12:49</td>\n",
              "      <td>OTT</td>\n",
              "      <td>True</td>\n",
              "      <td>34.0</td>\n",
              "      <td>-1.0</td>\n",
              "      <td>89</td>\n",
              "      <td>Erik Karlsson</td>\n",
              "      <td>Frederik Andersen</td>\n",
              "      <td>Slap Shot</td>\n",
              "      <td>False</td>\n",
              "      <td>Even</td>\n",
              "      <td>55.009090</td>\n",
              "    </tr>\n",
              "    <tr>\n",
              "      <th>15</th>\n",
              "      <td>1</td>\n",
              "      <td>1</td>\n",
              "      <td>14:18</td>\n",
              "      <td>TOR</td>\n",
              "      <td>True</td>\n",
              "      <td>-76.0</td>\n",
              "      <td>-28.0</td>\n",
              "      <td>-89</td>\n",
              "      <td>Auston Matthews</td>\n",
              "      <td>Craig Anderson</td>\n",
              "      <td>Snap Shot</td>\n",
              "      <td>False</td>\n",
              "      <td>Even</td>\n",
              "      <td>30.870698</td>\n",
              "    </tr>\n",
              "    <tr>\n",
              "      <th>24</th>\n",
              "      <td>1</td>\n",
              "      <td>2</td>\n",
              "      <td>01:25</td>\n",
              "      <td>TOR</td>\n",
              "      <td>True</td>\n",
              "      <td>76.0</td>\n",
              "      <td>-14.0</td>\n",
              "      <td>89</td>\n",
              "      <td>Auston Matthews</td>\n",
              "      <td>Craig Anderson</td>\n",
              "      <td>Wrist Shot</td>\n",
              "      <td>False</td>\n",
              "      <td>Even</td>\n",
              "      <td>19.104973</td>\n",
              "    </tr>\n",
              "    <tr>\n",
              "      <th>...</th>\n",
              "      <td>...</td>\n",
              "      <td>...</td>\n",
              "      <td>...</td>\n",
              "      <td>...</td>\n",
              "      <td>...</td>\n",
              "      <td>...</td>\n",
              "      <td>...</td>\n",
              "      <td>...</td>\n",
              "      <td>...</td>\n",
              "      <td>...</td>\n",
              "      <td>...</td>\n",
              "      <td>...</td>\n",
              "      <td>...</td>\n",
              "      <td>...</td>\n",
              "    </tr>\n",
              "    <tr>\n",
              "      <th>74920</th>\n",
              "      <td>1230</td>\n",
              "      <td>2</td>\n",
              "      <td>04:10</td>\n",
              "      <td>EDM</td>\n",
              "      <td>True</td>\n",
              "      <td>-63.0</td>\n",
              "      <td>0.0</td>\n",
              "      <td>-89</td>\n",
              "      <td>Jordan Eberle</td>\n",
              "      <td>Richard Bachman</td>\n",
              "      <td>Wrist Shot</td>\n",
              "      <td>False</td>\n",
              "      <td>Even</td>\n",
              "      <td>26.000000</td>\n",
              "    </tr>\n",
              "    <tr>\n",
              "      <th>74927</th>\n",
              "      <td>1230</td>\n",
              "      <td>2</td>\n",
              "      <td>14:46</td>\n",
              "      <td>EDM</td>\n",
              "      <td>True</td>\n",
              "      <td>-81.0</td>\n",
              "      <td>-5.0</td>\n",
              "      <td>-89</td>\n",
              "      <td>Drake Caggiula</td>\n",
              "      <td>Richard Bachman</td>\n",
              "      <td>Wrist Shot</td>\n",
              "      <td>False</td>\n",
              "      <td>Even</td>\n",
              "      <td>9.433981</td>\n",
              "    </tr>\n",
              "    <tr>\n",
              "      <th>74935</th>\n",
              "      <td>1230</td>\n",
              "      <td>3</td>\n",
              "      <td>00:31</td>\n",
              "      <td>EDM</td>\n",
              "      <td>True</td>\n",
              "      <td>79.0</td>\n",
              "      <td>2.0</td>\n",
              "      <td>89</td>\n",
              "      <td>Jordan Eberle</td>\n",
              "      <td>Richard Bachman</td>\n",
              "      <td>Tip-In</td>\n",
              "      <td>False</td>\n",
              "      <td>Even</td>\n",
              "      <td>10.198039</td>\n",
              "    </tr>\n",
              "    <tr>\n",
              "      <th>74939</th>\n",
              "      <td>1230</td>\n",
              "      <td>3</td>\n",
              "      <td>01:50</td>\n",
              "      <td>EDM</td>\n",
              "      <td>True</td>\n",
              "      <td>73.0</td>\n",
              "      <td>2.0</td>\n",
              "      <td>89</td>\n",
              "      <td>Leon Draisaitl</td>\n",
              "      <td>Richard Bachman</td>\n",
              "      <td>Snap Shot</td>\n",
              "      <td>False</td>\n",
              "      <td>Even</td>\n",
              "      <td>16.124515</td>\n",
              "    </tr>\n",
              "    <tr>\n",
              "      <th>74941</th>\n",
              "      <td>1230</td>\n",
              "      <td>3</td>\n",
              "      <td>02:35</td>\n",
              "      <td>VAN</td>\n",
              "      <td>True</td>\n",
              "      <td>-40.0</td>\n",
              "      <td>-1.0</td>\n",
              "      <td>-89</td>\n",
              "      <td>Nikita Tryamkin</td>\n",
              "      <td>Laurent Brossoit</td>\n",
              "      <td>Slap Shot</td>\n",
              "      <td>False</td>\n",
              "      <td>Even</td>\n",
              "      <td>49.010203</td>\n",
              "    </tr>\n",
              "  </tbody>\n",
              "</table>\n",
              "<p>6925 rows × 14 columns</p>\n",
              "</div>"
            ],
            "text/plain": [
              "       Game Id  Periode Temps écoulé Equipe  Goal     X     Y  X-opp  \\\n",
              "6            1        1        08:21    TOR  True -70.0   1.0    -89   \n",
              "11           1        1        10:26    OTT  True  82.0   3.0     89   \n",
              "14           1        1        12:49    OTT  True  34.0  -1.0     89   \n",
              "15           1        1        14:18    TOR  True -76.0 -28.0    -89   \n",
              "24           1        2        01:25    TOR  True  76.0 -14.0     89   \n",
              "...        ...      ...          ...    ...   ...   ...   ...    ...   \n",
              "74920     1230        2        04:10    EDM  True -63.0   0.0    -89   \n",
              "74927     1230        2        14:46    EDM  True -81.0  -5.0    -89   \n",
              "74935     1230        3        00:31    EDM  True  79.0   2.0     89   \n",
              "74939     1230        3        01:50    EDM  True  73.0   2.0     89   \n",
              "74941     1230        3        02:35    VAN  True -40.0  -1.0    -89   \n",
              "\n",
              "                Tireur            Gardien        Type Filet Vide Force  \\\n",
              "6      Auston Matthews     Craig Anderson  Wrist Shot      False  Even   \n",
              "11          Bobby Ryan  Frederik Andersen    Backhand      False  Even   \n",
              "14       Erik Karlsson  Frederik Andersen   Slap Shot      False  Even   \n",
              "15     Auston Matthews     Craig Anderson   Snap Shot      False  Even   \n",
              "24     Auston Matthews     Craig Anderson  Wrist Shot      False  Even   \n",
              "...                ...                ...         ...        ...   ...   \n",
              "74920    Jordan Eberle    Richard Bachman  Wrist Shot      False  Even   \n",
              "74927   Drake Caggiula    Richard Bachman  Wrist Shot      False  Even   \n",
              "74935    Jordan Eberle    Richard Bachman      Tip-In      False  Even   \n",
              "74939   Leon Draisaitl    Richard Bachman   Snap Shot      False  Even   \n",
              "74941  Nikita Tryamkin   Laurent Brossoit   Slap Shot      False  Even   \n",
              "\n",
              "       Net distance  \n",
              "6         19.026298  \n",
              "11         7.615773  \n",
              "14        55.009090  \n",
              "15        30.870698  \n",
              "24        19.104973  \n",
              "...             ...  \n",
              "74920     26.000000  \n",
              "74927      9.433981  \n",
              "74935     10.198039  \n",
              "74939     16.124515  \n",
              "74941     49.010203  \n",
              "\n",
              "[6925 rows x 14 columns]"
            ]
          },
          "execution_count": 28,
          "metadata": {},
          "output_type": "execute_result"
        }
      ],
      "source": [
        "df[df['Goal'] == True]"
      ]
    },
    {
      "cell_type": "markdown",
      "metadata": {
        "id": "EBhpl93lO5bh"
      },
      "source": [
        "# Visualisation"
      ]
    },
    {
      "cell_type": "markdown",
      "metadata": {
        "id": "xo9UIZjrNfHj"
      },
      "source": [
        "## Number of shots, by type"
      ]
    },
    {
      "cell_type": "code",
      "execution_count": 29,
      "metadata": {
        "colab": {
          "base_uri": "https://localhost:8080/",
          "height": 542
        },
        "id": "GJI6tbcn19uE",
        "outputId": "8b0b7da6-8da9-436b-f156-2093523c1946"
      },
      "outputs": [
        {
          "data": {
            "application/vnd.plotly.v1+json": {
              "config": {
                "plotlyServerURL": "https://plot.ly"
              },
              "data": [
                {
                  "alignmentgroup": "True",
                  "hovertemplate": "Goal=False<br>Type=%{x}<br>Counts=%{y}<br>text=%{text}<extra></extra>",
                  "legendgroup": "False",
                  "marker": {
                    "color": "#636efa",
                    "pattern": {
                      "shape": ""
                    }
                  },
                  "name": "False",
                  "offsetgroup": "False",
                  "orientation": "v",
                  "showlegend": true,
                  "text": [
                    "89.24%",
                    "80.27%",
                    "93.86%",
                    "90.95%",
                    "81.77%",
                    "91.89%",
                    "91.04%"
                  ],
                  "textposition": "auto",
                  "type": "bar",
                  "x": [
                    "Backhand",
                    "Deflected",
                    "Slap Shot",
                    "Snap Shot",
                    "Tip-In",
                    "Wrap-around",
                    "Wrist Shot"
                  ],
                  "xaxis": "x",
                  "y": [
                    5468,
                    765,
                    11918,
                    10879,
                    3009,
                    714,
                    35275
                  ],
                  "yaxis": "y"
                },
                {
                  "alignmentgroup": "True",
                  "hovertemplate": "Goal=True<br>Type=%{x}<br>Counts=%{y}<br>text=%{text}<extra></extra>",
                  "legendgroup": "True",
                  "marker": {
                    "color": "#EF553B",
                    "pattern": {
                      "shape": ""
                    }
                  },
                  "name": "True",
                  "offsetgroup": "True",
                  "orientation": "v",
                  "showlegend": true,
                  "text": [
                    "10.76%",
                    "19.73%",
                    "6.14%",
                    "9.05%",
                    "18.23%",
                    "8.11%",
                    "8.96%"
                  ],
                  "textposition": "auto",
                  "type": "bar",
                  "x": [
                    "Backhand",
                    "Deflected",
                    "Slap Shot",
                    "Snap Shot",
                    "Tip-In",
                    "Wrap-around",
                    "Wrist Shot"
                  ],
                  "xaxis": "x",
                  "y": [
                    659,
                    188,
                    779,
                    1082,
                    671,
                    63,
                    3471
                  ],
                  "yaxis": "y"
                }
              ],
              "layout": {
                "barmode": "relative",
                "legend": {
                  "title": {
                    "text": "Goal"
                  },
                  "tracegroupgap": 0
                },
                "template": {
                  "data": {
                    "bar": [
                      {
                        "error_x": {
                          "color": "#2a3f5f"
                        },
                        "error_y": {
                          "color": "#2a3f5f"
                        },
                        "marker": {
                          "line": {
                            "color": "#E5ECF6",
                            "width": 0.5
                          },
                          "pattern": {
                            "fillmode": "overlay",
                            "size": 10,
                            "solidity": 0.2
                          }
                        },
                        "type": "bar"
                      }
                    ],
                    "barpolar": [
                      {
                        "marker": {
                          "line": {
                            "color": "#E5ECF6",
                            "width": 0.5
                          },
                          "pattern": {
                            "fillmode": "overlay",
                            "size": 10,
                            "solidity": 0.2
                          }
                        },
                        "type": "barpolar"
                      }
                    ],
                    "carpet": [
                      {
                        "aaxis": {
                          "endlinecolor": "#2a3f5f",
                          "gridcolor": "white",
                          "linecolor": "white",
                          "minorgridcolor": "white",
                          "startlinecolor": "#2a3f5f"
                        },
                        "baxis": {
                          "endlinecolor": "#2a3f5f",
                          "gridcolor": "white",
                          "linecolor": "white",
                          "minorgridcolor": "white",
                          "startlinecolor": "#2a3f5f"
                        },
                        "type": "carpet"
                      }
                    ],
                    "choropleth": [
                      {
                        "colorbar": {
                          "outlinewidth": 0,
                          "ticks": ""
                        },
                        "type": "choropleth"
                      }
                    ],
                    "contour": [
                      {
                        "colorbar": {
                          "outlinewidth": 0,
                          "ticks": ""
                        },
                        "colorscale": [
                          [
                            0,
                            "#0d0887"
                          ],
                          [
                            0.1111111111111111,
                            "#46039f"
                          ],
                          [
                            0.2222222222222222,
                            "#7201a8"
                          ],
                          [
                            0.3333333333333333,
                            "#9c179e"
                          ],
                          [
                            0.4444444444444444,
                            "#bd3786"
                          ],
                          [
                            0.5555555555555556,
                            "#d8576b"
                          ],
                          [
                            0.6666666666666666,
                            "#ed7953"
                          ],
                          [
                            0.7777777777777778,
                            "#fb9f3a"
                          ],
                          [
                            0.8888888888888888,
                            "#fdca26"
                          ],
                          [
                            1,
                            "#f0f921"
                          ]
                        ],
                        "type": "contour"
                      }
                    ],
                    "contourcarpet": [
                      {
                        "colorbar": {
                          "outlinewidth": 0,
                          "ticks": ""
                        },
                        "type": "contourcarpet"
                      }
                    ],
                    "heatmap": [
                      {
                        "colorbar": {
                          "outlinewidth": 0,
                          "ticks": ""
                        },
                        "colorscale": [
                          [
                            0,
                            "#0d0887"
                          ],
                          [
                            0.1111111111111111,
                            "#46039f"
                          ],
                          [
                            0.2222222222222222,
                            "#7201a8"
                          ],
                          [
                            0.3333333333333333,
                            "#9c179e"
                          ],
                          [
                            0.4444444444444444,
                            "#bd3786"
                          ],
                          [
                            0.5555555555555556,
                            "#d8576b"
                          ],
                          [
                            0.6666666666666666,
                            "#ed7953"
                          ],
                          [
                            0.7777777777777778,
                            "#fb9f3a"
                          ],
                          [
                            0.8888888888888888,
                            "#fdca26"
                          ],
                          [
                            1,
                            "#f0f921"
                          ]
                        ],
                        "type": "heatmap"
                      }
                    ],
                    "heatmapgl": [
                      {
                        "colorbar": {
                          "outlinewidth": 0,
                          "ticks": ""
                        },
                        "colorscale": [
                          [
                            0,
                            "#0d0887"
                          ],
                          [
                            0.1111111111111111,
                            "#46039f"
                          ],
                          [
                            0.2222222222222222,
                            "#7201a8"
                          ],
                          [
                            0.3333333333333333,
                            "#9c179e"
                          ],
                          [
                            0.4444444444444444,
                            "#bd3786"
                          ],
                          [
                            0.5555555555555556,
                            "#d8576b"
                          ],
                          [
                            0.6666666666666666,
                            "#ed7953"
                          ],
                          [
                            0.7777777777777778,
                            "#fb9f3a"
                          ],
                          [
                            0.8888888888888888,
                            "#fdca26"
                          ],
                          [
                            1,
                            "#f0f921"
                          ]
                        ],
                        "type": "heatmapgl"
                      }
                    ],
                    "histogram": [
                      {
                        "marker": {
                          "pattern": {
                            "fillmode": "overlay",
                            "size": 10,
                            "solidity": 0.2
                          }
                        },
                        "type": "histogram"
                      }
                    ],
                    "histogram2d": [
                      {
                        "colorbar": {
                          "outlinewidth": 0,
                          "ticks": ""
                        },
                        "colorscale": [
                          [
                            0,
                            "#0d0887"
                          ],
                          [
                            0.1111111111111111,
                            "#46039f"
                          ],
                          [
                            0.2222222222222222,
                            "#7201a8"
                          ],
                          [
                            0.3333333333333333,
                            "#9c179e"
                          ],
                          [
                            0.4444444444444444,
                            "#bd3786"
                          ],
                          [
                            0.5555555555555556,
                            "#d8576b"
                          ],
                          [
                            0.6666666666666666,
                            "#ed7953"
                          ],
                          [
                            0.7777777777777778,
                            "#fb9f3a"
                          ],
                          [
                            0.8888888888888888,
                            "#fdca26"
                          ],
                          [
                            1,
                            "#f0f921"
                          ]
                        ],
                        "type": "histogram2d"
                      }
                    ],
                    "histogram2dcontour": [
                      {
                        "colorbar": {
                          "outlinewidth": 0,
                          "ticks": ""
                        },
                        "colorscale": [
                          [
                            0,
                            "#0d0887"
                          ],
                          [
                            0.1111111111111111,
                            "#46039f"
                          ],
                          [
                            0.2222222222222222,
                            "#7201a8"
                          ],
                          [
                            0.3333333333333333,
                            "#9c179e"
                          ],
                          [
                            0.4444444444444444,
                            "#bd3786"
                          ],
                          [
                            0.5555555555555556,
                            "#d8576b"
                          ],
                          [
                            0.6666666666666666,
                            "#ed7953"
                          ],
                          [
                            0.7777777777777778,
                            "#fb9f3a"
                          ],
                          [
                            0.8888888888888888,
                            "#fdca26"
                          ],
                          [
                            1,
                            "#f0f921"
                          ]
                        ],
                        "type": "histogram2dcontour"
                      }
                    ],
                    "mesh3d": [
                      {
                        "colorbar": {
                          "outlinewidth": 0,
                          "ticks": ""
                        },
                        "type": "mesh3d"
                      }
                    ],
                    "parcoords": [
                      {
                        "line": {
                          "colorbar": {
                            "outlinewidth": 0,
                            "ticks": ""
                          }
                        },
                        "type": "parcoords"
                      }
                    ],
                    "pie": [
                      {
                        "automargin": true,
                        "type": "pie"
                      }
                    ],
                    "scatter": [
                      {
                        "fillpattern": {
                          "fillmode": "overlay",
                          "size": 10,
                          "solidity": 0.2
                        },
                        "type": "scatter"
                      }
                    ],
                    "scatter3d": [
                      {
                        "line": {
                          "colorbar": {
                            "outlinewidth": 0,
                            "ticks": ""
                          }
                        },
                        "marker": {
                          "colorbar": {
                            "outlinewidth": 0,
                            "ticks": ""
                          }
                        },
                        "type": "scatter3d"
                      }
                    ],
                    "scattercarpet": [
                      {
                        "marker": {
                          "colorbar": {
                            "outlinewidth": 0,
                            "ticks": ""
                          }
                        },
                        "type": "scattercarpet"
                      }
                    ],
                    "scattergeo": [
                      {
                        "marker": {
                          "colorbar": {
                            "outlinewidth": 0,
                            "ticks": ""
                          }
                        },
                        "type": "scattergeo"
                      }
                    ],
                    "scattergl": [
                      {
                        "marker": {
                          "colorbar": {
                            "outlinewidth": 0,
                            "ticks": ""
                          }
                        },
                        "type": "scattergl"
                      }
                    ],
                    "scattermapbox": [
                      {
                        "marker": {
                          "colorbar": {
                            "outlinewidth": 0,
                            "ticks": ""
                          }
                        },
                        "type": "scattermapbox"
                      }
                    ],
                    "scatterpolar": [
                      {
                        "marker": {
                          "colorbar": {
                            "outlinewidth": 0,
                            "ticks": ""
                          }
                        },
                        "type": "scatterpolar"
                      }
                    ],
                    "scatterpolargl": [
                      {
                        "marker": {
                          "colorbar": {
                            "outlinewidth": 0,
                            "ticks": ""
                          }
                        },
                        "type": "scatterpolargl"
                      }
                    ],
                    "scatterternary": [
                      {
                        "marker": {
                          "colorbar": {
                            "outlinewidth": 0,
                            "ticks": ""
                          }
                        },
                        "type": "scatterternary"
                      }
                    ],
                    "surface": [
                      {
                        "colorbar": {
                          "outlinewidth": 0,
                          "ticks": ""
                        },
                        "colorscale": [
                          [
                            0,
                            "#0d0887"
                          ],
                          [
                            0.1111111111111111,
                            "#46039f"
                          ],
                          [
                            0.2222222222222222,
                            "#7201a8"
                          ],
                          [
                            0.3333333333333333,
                            "#9c179e"
                          ],
                          [
                            0.4444444444444444,
                            "#bd3786"
                          ],
                          [
                            0.5555555555555556,
                            "#d8576b"
                          ],
                          [
                            0.6666666666666666,
                            "#ed7953"
                          ],
                          [
                            0.7777777777777778,
                            "#fb9f3a"
                          ],
                          [
                            0.8888888888888888,
                            "#fdca26"
                          ],
                          [
                            1,
                            "#f0f921"
                          ]
                        ],
                        "type": "surface"
                      }
                    ],
                    "table": [
                      {
                        "cells": {
                          "fill": {
                            "color": "#EBF0F8"
                          },
                          "line": {
                            "color": "white"
                          }
                        },
                        "header": {
                          "fill": {
                            "color": "#C8D4E3"
                          },
                          "line": {
                            "color": "white"
                          }
                        },
                        "type": "table"
                      }
                    ]
                  },
                  "layout": {
                    "annotationdefaults": {
                      "arrowcolor": "#2a3f5f",
                      "arrowhead": 0,
                      "arrowwidth": 1
                    },
                    "autotypenumbers": "strict",
                    "coloraxis": {
                      "colorbar": {
                        "outlinewidth": 0,
                        "ticks": ""
                      }
                    },
                    "colorscale": {
                      "diverging": [
                        [
                          0,
                          "#8e0152"
                        ],
                        [
                          0.1,
                          "#c51b7d"
                        ],
                        [
                          0.2,
                          "#de77ae"
                        ],
                        [
                          0.3,
                          "#f1b6da"
                        ],
                        [
                          0.4,
                          "#fde0ef"
                        ],
                        [
                          0.5,
                          "#f7f7f7"
                        ],
                        [
                          0.6,
                          "#e6f5d0"
                        ],
                        [
                          0.7,
                          "#b8e186"
                        ],
                        [
                          0.8,
                          "#7fbc41"
                        ],
                        [
                          0.9,
                          "#4d9221"
                        ],
                        [
                          1,
                          "#276419"
                        ]
                      ],
                      "sequential": [
                        [
                          0,
                          "#0d0887"
                        ],
                        [
                          0.1111111111111111,
                          "#46039f"
                        ],
                        [
                          0.2222222222222222,
                          "#7201a8"
                        ],
                        [
                          0.3333333333333333,
                          "#9c179e"
                        ],
                        [
                          0.4444444444444444,
                          "#bd3786"
                        ],
                        [
                          0.5555555555555556,
                          "#d8576b"
                        ],
                        [
                          0.6666666666666666,
                          "#ed7953"
                        ],
                        [
                          0.7777777777777778,
                          "#fb9f3a"
                        ],
                        [
                          0.8888888888888888,
                          "#fdca26"
                        ],
                        [
                          1,
                          "#f0f921"
                        ]
                      ],
                      "sequentialminus": [
                        [
                          0,
                          "#0d0887"
                        ],
                        [
                          0.1111111111111111,
                          "#46039f"
                        ],
                        [
                          0.2222222222222222,
                          "#7201a8"
                        ],
                        [
                          0.3333333333333333,
                          "#9c179e"
                        ],
                        [
                          0.4444444444444444,
                          "#bd3786"
                        ],
                        [
                          0.5555555555555556,
                          "#d8576b"
                        ],
                        [
                          0.6666666666666666,
                          "#ed7953"
                        ],
                        [
                          0.7777777777777778,
                          "#fb9f3a"
                        ],
                        [
                          0.8888888888888888,
                          "#fdca26"
                        ],
                        [
                          1,
                          "#f0f921"
                        ]
                      ]
                    },
                    "colorway": [
                      "#636efa",
                      "#EF553B",
                      "#00cc96",
                      "#ab63fa",
                      "#FFA15A",
                      "#19d3f3",
                      "#FF6692",
                      "#B6E880",
                      "#FF97FF",
                      "#FECB52"
                    ],
                    "font": {
                      "color": "#2a3f5f"
                    },
                    "geo": {
                      "bgcolor": "white",
                      "lakecolor": "white",
                      "landcolor": "#E5ECF6",
                      "showlakes": true,
                      "showland": true,
                      "subunitcolor": "white"
                    },
                    "hoverlabel": {
                      "align": "left"
                    },
                    "hovermode": "closest",
                    "mapbox": {
                      "style": "light"
                    },
                    "paper_bgcolor": "white",
                    "plot_bgcolor": "#E5ECF6",
                    "polar": {
                      "angularaxis": {
                        "gridcolor": "white",
                        "linecolor": "white",
                        "ticks": ""
                      },
                      "bgcolor": "#E5ECF6",
                      "radialaxis": {
                        "gridcolor": "white",
                        "linecolor": "white",
                        "ticks": ""
                      }
                    },
                    "scene": {
                      "xaxis": {
                        "backgroundcolor": "#E5ECF6",
                        "gridcolor": "white",
                        "gridwidth": 2,
                        "linecolor": "white",
                        "showbackground": true,
                        "ticks": "",
                        "zerolinecolor": "white"
                      },
                      "yaxis": {
                        "backgroundcolor": "#E5ECF6",
                        "gridcolor": "white",
                        "gridwidth": 2,
                        "linecolor": "white",
                        "showbackground": true,
                        "ticks": "",
                        "zerolinecolor": "white"
                      },
                      "zaxis": {
                        "backgroundcolor": "#E5ECF6",
                        "gridcolor": "white",
                        "gridwidth": 2,
                        "linecolor": "white",
                        "showbackground": true,
                        "ticks": "",
                        "zerolinecolor": "white"
                      }
                    },
                    "shapedefaults": {
                      "line": {
                        "color": "#2a3f5f"
                      }
                    },
                    "ternary": {
                      "aaxis": {
                        "gridcolor": "white",
                        "linecolor": "white",
                        "ticks": ""
                      },
                      "baxis": {
                        "gridcolor": "white",
                        "linecolor": "white",
                        "ticks": ""
                      },
                      "bgcolor": "#E5ECF6",
                      "caxis": {
                        "gridcolor": "white",
                        "linecolor": "white",
                        "ticks": ""
                      }
                    },
                    "title": {
                      "x": 0.05
                    },
                    "xaxis": {
                      "automargin": true,
                      "gridcolor": "white",
                      "linecolor": "white",
                      "ticks": "",
                      "title": {
                        "standoff": 15
                      },
                      "zerolinecolor": "white",
                      "zerolinewidth": 2
                    },
                    "yaxis": {
                      "automargin": true,
                      "gridcolor": "white",
                      "linecolor": "white",
                      "ticks": "",
                      "title": {
                        "standoff": 15
                      },
                      "zerolinecolor": "white",
                      "zerolinewidth": 2
                    }
                  }
                },
                "title": {
                  "text": "Number of shots, by type"
                },
                "xaxis": {
                  "anchor": "y",
                  "categoryorder": "total descending",
                  "domain": [
                    0,
                    1
                  ],
                  "title": {
                    "text": "Type"
                  }
                },
                "yaxis": {
                  "anchor": "x",
                  "domain": [
                    0,
                    1
                  ],
                  "title": {
                    "text": "Counts"
                  },
                  "type": "log"
                }
              }
            }
          },
          "metadata": {},
          "output_type": "display_data"
        }
      ],
      "source": [
        "ddf = df[df['Type'] != '']\n",
        "df_g = ddf.groupby(['Type', 'Goal']).size().to_frame('Counts').reset_index()\n",
        "df_g['Percentage'] = df_g['Counts'] / df_g.groupby('Type')['Counts'].transform('sum') * 100\n",
        "\n",
        "px.bar(df_g,\n",
        "       x='Type',\n",
        "       y='Counts',\n",
        "       color='Goal',\n",
        "       title=\"Number of shots, by type\",\n",
        "       log_y=True,\n",
        "       text=df_g['Percentage'].apply(lambda x: '{0:1.2f}%'.format(x))\n",
        "       ).update_xaxes(categoryorder='total descending')"
      ]
    },
    {
      "cell_type": "markdown",
      "metadata": {
        "id": "2VMAjmd4NldB"
      },
      "source": [
        "## Distance to net\n",
        "\n",
        "Nets are positioned at x = -89,89 and y = 0, the teams switch sides at each periods."
      ]
    },
    {
      "cell_type": "code",
      "execution_count": 30,
      "metadata": {
        "id": "TB61ypJMpOqZ"
      },
      "outputs": [],
      "source": [
        "df_g = df.groupby(['Goal','Net distance']).size().to_frame('Counts').reset_index()\n",
        "df_g['Bins'] = pd.cut(df_g['Net distance'], 12)\n",
        "df_g = df_g.groupby(['Goal','Bins'], observed=True)['Counts'].sum().to_frame('Counts').reset_index()\n",
        "df_g['Percentage'] = df_g['Counts'] / df_g.groupby('Bins', observed=True)['Counts'].transform('sum') * 100\n",
        "df_g['Bins'] = df_g['Bins'].astype('str')"
      ]
    },
    {
      "cell_type": "code",
      "execution_count": 31,
      "metadata": {
        "colab": {
          "base_uri": "https://localhost:8080/",
          "height": 542
        },
        "id": "ftMppRk5dVxu",
        "outputId": "d2ba0480-0f48-48d1-c9d4-9b6700e26867"
      },
      "outputs": [
        {
          "data": {
            "application/vnd.plotly.v1+json": {
              "config": {
                "plotlyServerURL": "https://plot.ly"
              },
              "data": [
                {
                  "alignmentgroup": "True",
                  "hovertemplate": "Goal=False<br>Bins=%{x}<br>Counts=%{y}<br>text=%{text}<extra></extra>",
                  "legendgroup": "False",
                  "marker": {
                    "color": "#636efa",
                    "pattern": {
                      "shape": ""
                    }
                  },
                  "name": "False",
                  "offsetgroup": "False",
                  "orientation": "v",
                  "showlegend": true,
                  "text": [
                    "82.28%",
                    "88.75%",
                    "95.03%",
                    "96.86%",
                    "97.21%",
                    "96.00%",
                    "91.13%",
                    "84.17%",
                    "88.77%",
                    "90.75%",
                    "85.51%",
                    "85.39%"
                  ],
                  "textposition": "auto",
                  "type": "bar",
                  "x": [
                    "(0.814, 16.518]",
                    "(16.518, 32.036]",
                    "(32.036, 47.554]",
                    "(47.554, 63.072]",
                    "(63.072, 78.59]",
                    "(78.59, 94.108]",
                    "(94.108, 109.626]",
                    "(109.626, 125.144]",
                    "(125.144, 140.662]",
                    "(140.662, 156.18]",
                    "(156.18, 171.698]",
                    "(171.698, 187.216]"
                  ],
                  "xaxis": "x",
                  "y": [
                    15016,
                    16277,
                    17512,
                    15019,
                    2539,
                    793,
                    185,
                    117,
                    166,
                    157,
                    177,
                    76
                  ],
                  "yaxis": "y"
                },
                {
                  "alignmentgroup": "True",
                  "hovertemplate": "Goal=True<br>Bins=%{x}<br>Counts=%{y}<br>text=%{text}<extra></extra>",
                  "legendgroup": "True",
                  "marker": {
                    "color": "#EF553B",
                    "pattern": {
                      "shape": ""
                    }
                  },
                  "name": "True",
                  "offsetgroup": "True",
                  "orientation": "v",
                  "showlegend": true,
                  "text": [
                    "17.72%",
                    "11.25%",
                    "4.97%",
                    "3.14%",
                    "2.79%",
                    "4.00%",
                    "8.87%",
                    "15.83%",
                    "11.23%",
                    "9.25%",
                    "14.49%",
                    "14.61%"
                  ],
                  "textposition": "auto",
                  "type": "bar",
                  "x": [
                    "(0.814, 16.518]",
                    "(16.518, 32.036]",
                    "(32.036, 47.554]",
                    "(47.554, 63.072]",
                    "(63.072, 78.59]",
                    "(78.59, 94.108]",
                    "(94.108, 109.626]",
                    "(109.626, 125.144]",
                    "(125.144, 140.662]",
                    "(140.662, 156.18]",
                    "(156.18, 171.698]",
                    "(171.698, 187.216]"
                  ],
                  "xaxis": "x",
                  "y": [
                    3233,
                    2063,
                    916,
                    487,
                    73,
                    33,
                    18,
                    22,
                    21,
                    16,
                    30,
                    13
                  ],
                  "yaxis": "y"
                }
              ],
              "layout": {
                "barmode": "relative",
                "legend": {
                  "title": {
                    "text": "Goal"
                  },
                  "tracegroupgap": 0
                },
                "template": {
                  "data": {
                    "bar": [
                      {
                        "error_x": {
                          "color": "#2a3f5f"
                        },
                        "error_y": {
                          "color": "#2a3f5f"
                        },
                        "marker": {
                          "line": {
                            "color": "#E5ECF6",
                            "width": 0.5
                          },
                          "pattern": {
                            "fillmode": "overlay",
                            "size": 10,
                            "solidity": 0.2
                          }
                        },
                        "type": "bar"
                      }
                    ],
                    "barpolar": [
                      {
                        "marker": {
                          "line": {
                            "color": "#E5ECF6",
                            "width": 0.5
                          },
                          "pattern": {
                            "fillmode": "overlay",
                            "size": 10,
                            "solidity": 0.2
                          }
                        },
                        "type": "barpolar"
                      }
                    ],
                    "carpet": [
                      {
                        "aaxis": {
                          "endlinecolor": "#2a3f5f",
                          "gridcolor": "white",
                          "linecolor": "white",
                          "minorgridcolor": "white",
                          "startlinecolor": "#2a3f5f"
                        },
                        "baxis": {
                          "endlinecolor": "#2a3f5f",
                          "gridcolor": "white",
                          "linecolor": "white",
                          "minorgridcolor": "white",
                          "startlinecolor": "#2a3f5f"
                        },
                        "type": "carpet"
                      }
                    ],
                    "choropleth": [
                      {
                        "colorbar": {
                          "outlinewidth": 0,
                          "ticks": ""
                        },
                        "type": "choropleth"
                      }
                    ],
                    "contour": [
                      {
                        "colorbar": {
                          "outlinewidth": 0,
                          "ticks": ""
                        },
                        "colorscale": [
                          [
                            0,
                            "#0d0887"
                          ],
                          [
                            0.1111111111111111,
                            "#46039f"
                          ],
                          [
                            0.2222222222222222,
                            "#7201a8"
                          ],
                          [
                            0.3333333333333333,
                            "#9c179e"
                          ],
                          [
                            0.4444444444444444,
                            "#bd3786"
                          ],
                          [
                            0.5555555555555556,
                            "#d8576b"
                          ],
                          [
                            0.6666666666666666,
                            "#ed7953"
                          ],
                          [
                            0.7777777777777778,
                            "#fb9f3a"
                          ],
                          [
                            0.8888888888888888,
                            "#fdca26"
                          ],
                          [
                            1,
                            "#f0f921"
                          ]
                        ],
                        "type": "contour"
                      }
                    ],
                    "contourcarpet": [
                      {
                        "colorbar": {
                          "outlinewidth": 0,
                          "ticks": ""
                        },
                        "type": "contourcarpet"
                      }
                    ],
                    "heatmap": [
                      {
                        "colorbar": {
                          "outlinewidth": 0,
                          "ticks": ""
                        },
                        "colorscale": [
                          [
                            0,
                            "#0d0887"
                          ],
                          [
                            0.1111111111111111,
                            "#46039f"
                          ],
                          [
                            0.2222222222222222,
                            "#7201a8"
                          ],
                          [
                            0.3333333333333333,
                            "#9c179e"
                          ],
                          [
                            0.4444444444444444,
                            "#bd3786"
                          ],
                          [
                            0.5555555555555556,
                            "#d8576b"
                          ],
                          [
                            0.6666666666666666,
                            "#ed7953"
                          ],
                          [
                            0.7777777777777778,
                            "#fb9f3a"
                          ],
                          [
                            0.8888888888888888,
                            "#fdca26"
                          ],
                          [
                            1,
                            "#f0f921"
                          ]
                        ],
                        "type": "heatmap"
                      }
                    ],
                    "heatmapgl": [
                      {
                        "colorbar": {
                          "outlinewidth": 0,
                          "ticks": ""
                        },
                        "colorscale": [
                          [
                            0,
                            "#0d0887"
                          ],
                          [
                            0.1111111111111111,
                            "#46039f"
                          ],
                          [
                            0.2222222222222222,
                            "#7201a8"
                          ],
                          [
                            0.3333333333333333,
                            "#9c179e"
                          ],
                          [
                            0.4444444444444444,
                            "#bd3786"
                          ],
                          [
                            0.5555555555555556,
                            "#d8576b"
                          ],
                          [
                            0.6666666666666666,
                            "#ed7953"
                          ],
                          [
                            0.7777777777777778,
                            "#fb9f3a"
                          ],
                          [
                            0.8888888888888888,
                            "#fdca26"
                          ],
                          [
                            1,
                            "#f0f921"
                          ]
                        ],
                        "type": "heatmapgl"
                      }
                    ],
                    "histogram": [
                      {
                        "marker": {
                          "pattern": {
                            "fillmode": "overlay",
                            "size": 10,
                            "solidity": 0.2
                          }
                        },
                        "type": "histogram"
                      }
                    ],
                    "histogram2d": [
                      {
                        "colorbar": {
                          "outlinewidth": 0,
                          "ticks": ""
                        },
                        "colorscale": [
                          [
                            0,
                            "#0d0887"
                          ],
                          [
                            0.1111111111111111,
                            "#46039f"
                          ],
                          [
                            0.2222222222222222,
                            "#7201a8"
                          ],
                          [
                            0.3333333333333333,
                            "#9c179e"
                          ],
                          [
                            0.4444444444444444,
                            "#bd3786"
                          ],
                          [
                            0.5555555555555556,
                            "#d8576b"
                          ],
                          [
                            0.6666666666666666,
                            "#ed7953"
                          ],
                          [
                            0.7777777777777778,
                            "#fb9f3a"
                          ],
                          [
                            0.8888888888888888,
                            "#fdca26"
                          ],
                          [
                            1,
                            "#f0f921"
                          ]
                        ],
                        "type": "histogram2d"
                      }
                    ],
                    "histogram2dcontour": [
                      {
                        "colorbar": {
                          "outlinewidth": 0,
                          "ticks": ""
                        },
                        "colorscale": [
                          [
                            0,
                            "#0d0887"
                          ],
                          [
                            0.1111111111111111,
                            "#46039f"
                          ],
                          [
                            0.2222222222222222,
                            "#7201a8"
                          ],
                          [
                            0.3333333333333333,
                            "#9c179e"
                          ],
                          [
                            0.4444444444444444,
                            "#bd3786"
                          ],
                          [
                            0.5555555555555556,
                            "#d8576b"
                          ],
                          [
                            0.6666666666666666,
                            "#ed7953"
                          ],
                          [
                            0.7777777777777778,
                            "#fb9f3a"
                          ],
                          [
                            0.8888888888888888,
                            "#fdca26"
                          ],
                          [
                            1,
                            "#f0f921"
                          ]
                        ],
                        "type": "histogram2dcontour"
                      }
                    ],
                    "mesh3d": [
                      {
                        "colorbar": {
                          "outlinewidth": 0,
                          "ticks": ""
                        },
                        "type": "mesh3d"
                      }
                    ],
                    "parcoords": [
                      {
                        "line": {
                          "colorbar": {
                            "outlinewidth": 0,
                            "ticks": ""
                          }
                        },
                        "type": "parcoords"
                      }
                    ],
                    "pie": [
                      {
                        "automargin": true,
                        "type": "pie"
                      }
                    ],
                    "scatter": [
                      {
                        "fillpattern": {
                          "fillmode": "overlay",
                          "size": 10,
                          "solidity": 0.2
                        },
                        "type": "scatter"
                      }
                    ],
                    "scatter3d": [
                      {
                        "line": {
                          "colorbar": {
                            "outlinewidth": 0,
                            "ticks": ""
                          }
                        },
                        "marker": {
                          "colorbar": {
                            "outlinewidth": 0,
                            "ticks": ""
                          }
                        },
                        "type": "scatter3d"
                      }
                    ],
                    "scattercarpet": [
                      {
                        "marker": {
                          "colorbar": {
                            "outlinewidth": 0,
                            "ticks": ""
                          }
                        },
                        "type": "scattercarpet"
                      }
                    ],
                    "scattergeo": [
                      {
                        "marker": {
                          "colorbar": {
                            "outlinewidth": 0,
                            "ticks": ""
                          }
                        },
                        "type": "scattergeo"
                      }
                    ],
                    "scattergl": [
                      {
                        "marker": {
                          "colorbar": {
                            "outlinewidth": 0,
                            "ticks": ""
                          }
                        },
                        "type": "scattergl"
                      }
                    ],
                    "scattermapbox": [
                      {
                        "marker": {
                          "colorbar": {
                            "outlinewidth": 0,
                            "ticks": ""
                          }
                        },
                        "type": "scattermapbox"
                      }
                    ],
                    "scatterpolar": [
                      {
                        "marker": {
                          "colorbar": {
                            "outlinewidth": 0,
                            "ticks": ""
                          }
                        },
                        "type": "scatterpolar"
                      }
                    ],
                    "scatterpolargl": [
                      {
                        "marker": {
                          "colorbar": {
                            "outlinewidth": 0,
                            "ticks": ""
                          }
                        },
                        "type": "scatterpolargl"
                      }
                    ],
                    "scatterternary": [
                      {
                        "marker": {
                          "colorbar": {
                            "outlinewidth": 0,
                            "ticks": ""
                          }
                        },
                        "type": "scatterternary"
                      }
                    ],
                    "surface": [
                      {
                        "colorbar": {
                          "outlinewidth": 0,
                          "ticks": ""
                        },
                        "colorscale": [
                          [
                            0,
                            "#0d0887"
                          ],
                          [
                            0.1111111111111111,
                            "#46039f"
                          ],
                          [
                            0.2222222222222222,
                            "#7201a8"
                          ],
                          [
                            0.3333333333333333,
                            "#9c179e"
                          ],
                          [
                            0.4444444444444444,
                            "#bd3786"
                          ],
                          [
                            0.5555555555555556,
                            "#d8576b"
                          ],
                          [
                            0.6666666666666666,
                            "#ed7953"
                          ],
                          [
                            0.7777777777777778,
                            "#fb9f3a"
                          ],
                          [
                            0.8888888888888888,
                            "#fdca26"
                          ],
                          [
                            1,
                            "#f0f921"
                          ]
                        ],
                        "type": "surface"
                      }
                    ],
                    "table": [
                      {
                        "cells": {
                          "fill": {
                            "color": "#EBF0F8"
                          },
                          "line": {
                            "color": "white"
                          }
                        },
                        "header": {
                          "fill": {
                            "color": "#C8D4E3"
                          },
                          "line": {
                            "color": "white"
                          }
                        },
                        "type": "table"
                      }
                    ]
                  },
                  "layout": {
                    "annotationdefaults": {
                      "arrowcolor": "#2a3f5f",
                      "arrowhead": 0,
                      "arrowwidth": 1
                    },
                    "autotypenumbers": "strict",
                    "coloraxis": {
                      "colorbar": {
                        "outlinewidth": 0,
                        "ticks": ""
                      }
                    },
                    "colorscale": {
                      "diverging": [
                        [
                          0,
                          "#8e0152"
                        ],
                        [
                          0.1,
                          "#c51b7d"
                        ],
                        [
                          0.2,
                          "#de77ae"
                        ],
                        [
                          0.3,
                          "#f1b6da"
                        ],
                        [
                          0.4,
                          "#fde0ef"
                        ],
                        [
                          0.5,
                          "#f7f7f7"
                        ],
                        [
                          0.6,
                          "#e6f5d0"
                        ],
                        [
                          0.7,
                          "#b8e186"
                        ],
                        [
                          0.8,
                          "#7fbc41"
                        ],
                        [
                          0.9,
                          "#4d9221"
                        ],
                        [
                          1,
                          "#276419"
                        ]
                      ],
                      "sequential": [
                        [
                          0,
                          "#0d0887"
                        ],
                        [
                          0.1111111111111111,
                          "#46039f"
                        ],
                        [
                          0.2222222222222222,
                          "#7201a8"
                        ],
                        [
                          0.3333333333333333,
                          "#9c179e"
                        ],
                        [
                          0.4444444444444444,
                          "#bd3786"
                        ],
                        [
                          0.5555555555555556,
                          "#d8576b"
                        ],
                        [
                          0.6666666666666666,
                          "#ed7953"
                        ],
                        [
                          0.7777777777777778,
                          "#fb9f3a"
                        ],
                        [
                          0.8888888888888888,
                          "#fdca26"
                        ],
                        [
                          1,
                          "#f0f921"
                        ]
                      ],
                      "sequentialminus": [
                        [
                          0,
                          "#0d0887"
                        ],
                        [
                          0.1111111111111111,
                          "#46039f"
                        ],
                        [
                          0.2222222222222222,
                          "#7201a8"
                        ],
                        [
                          0.3333333333333333,
                          "#9c179e"
                        ],
                        [
                          0.4444444444444444,
                          "#bd3786"
                        ],
                        [
                          0.5555555555555556,
                          "#d8576b"
                        ],
                        [
                          0.6666666666666666,
                          "#ed7953"
                        ],
                        [
                          0.7777777777777778,
                          "#fb9f3a"
                        ],
                        [
                          0.8888888888888888,
                          "#fdca26"
                        ],
                        [
                          1,
                          "#f0f921"
                        ]
                      ]
                    },
                    "colorway": [
                      "#636efa",
                      "#EF553B",
                      "#00cc96",
                      "#ab63fa",
                      "#FFA15A",
                      "#19d3f3",
                      "#FF6692",
                      "#B6E880",
                      "#FF97FF",
                      "#FECB52"
                    ],
                    "font": {
                      "color": "#2a3f5f"
                    },
                    "geo": {
                      "bgcolor": "white",
                      "lakecolor": "white",
                      "landcolor": "#E5ECF6",
                      "showlakes": true,
                      "showland": true,
                      "subunitcolor": "white"
                    },
                    "hoverlabel": {
                      "align": "left"
                    },
                    "hovermode": "closest",
                    "mapbox": {
                      "style": "light"
                    },
                    "paper_bgcolor": "white",
                    "plot_bgcolor": "#E5ECF6",
                    "polar": {
                      "angularaxis": {
                        "gridcolor": "white",
                        "linecolor": "white",
                        "ticks": ""
                      },
                      "bgcolor": "#E5ECF6",
                      "radialaxis": {
                        "gridcolor": "white",
                        "linecolor": "white",
                        "ticks": ""
                      }
                    },
                    "scene": {
                      "xaxis": {
                        "backgroundcolor": "#E5ECF6",
                        "gridcolor": "white",
                        "gridwidth": 2,
                        "linecolor": "white",
                        "showbackground": true,
                        "ticks": "",
                        "zerolinecolor": "white"
                      },
                      "yaxis": {
                        "backgroundcolor": "#E5ECF6",
                        "gridcolor": "white",
                        "gridwidth": 2,
                        "linecolor": "white",
                        "showbackground": true,
                        "ticks": "",
                        "zerolinecolor": "white"
                      },
                      "zaxis": {
                        "backgroundcolor": "#E5ECF6",
                        "gridcolor": "white",
                        "gridwidth": 2,
                        "linecolor": "white",
                        "showbackground": true,
                        "ticks": "",
                        "zerolinecolor": "white"
                      }
                    },
                    "shapedefaults": {
                      "line": {
                        "color": "#2a3f5f"
                      }
                    },
                    "ternary": {
                      "aaxis": {
                        "gridcolor": "white",
                        "linecolor": "white",
                        "ticks": ""
                      },
                      "baxis": {
                        "gridcolor": "white",
                        "linecolor": "white",
                        "ticks": ""
                      },
                      "bgcolor": "#E5ECF6",
                      "caxis": {
                        "gridcolor": "white",
                        "linecolor": "white",
                        "ticks": ""
                      }
                    },
                    "title": {
                      "x": 0.05
                    },
                    "xaxis": {
                      "automargin": true,
                      "gridcolor": "white",
                      "linecolor": "white",
                      "ticks": "",
                      "title": {
                        "standoff": 15
                      },
                      "zerolinecolor": "white",
                      "zerolinewidth": 2
                    },
                    "yaxis": {
                      "automargin": true,
                      "gridcolor": "white",
                      "linecolor": "white",
                      "ticks": "",
                      "title": {
                        "standoff": 15
                      },
                      "zerolinecolor": "white",
                      "zerolinewidth": 2
                    }
                  }
                },
                "title": {
                  "text": "Number of shots, by distance"
                },
                "xaxis": {
                  "anchor": "y",
                  "domain": [
                    0,
                    1
                  ],
                  "title": {
                    "text": "Bins"
                  }
                },
                "yaxis": {
                  "anchor": "x",
                  "domain": [
                    0,
                    1
                  ],
                  "title": {
                    "text": "Counts"
                  },
                  "type": "log"
                }
              }
            }
          },
          "metadata": {},
          "output_type": "display_data"
        }
      ],
      "source": [
        "from plotly.graph_objs import XBins\n",
        "px.bar(df_g,\n",
        "       x='Bins',\n",
        "       y='Counts',\n",
        "       color='Goal',\n",
        "       title=\"Number of shots, by distance\",\n",
        "       log_y=True,\n",
        "       text=df_g['Percentage'].apply(lambda x: '{0:1.2f}%'.format(x))\n",
        "       )"
      ]
    },
    {
      "cell_type": "markdown",
      "metadata": {
        "id": "TlT3w5jd5Spz"
      },
      "source": [
        "Add boxplot"
      ]
    },
    {
      "cell_type": "code",
      "execution_count": 33,
      "metadata": {
        "id": "ZgL6SXOOjq2Q"
      },
      "outputs": [
        {
          "name": "stderr",
          "output_type": "stream",
          "text": [
            "/Users/alexandreganito/Documents/Data science/Project/NHL/src/models/models.py:140: FutureWarning:\n",
            "\n",
            "The behavior of DataFrame concatenation with empty or all-NA entries is deprecated. In a future version, this will no longer exclude empty or all-NA columns when determining the result dtypes. To retain the old behavior, exclude the relevant entries before the concat operation.\n",
            "\n"
          ]
        }
      ],
      "source": [
        "game = season.regulars[1]\n",
        "df = game.to_df()\n",
        "match_title = f'{game.home_team.name} VS {game.away_team.name}'"
      ]
    },
    {
      "cell_type": "markdown",
      "metadata": {
        "id": "bHFxPjeRO_lE"
      },
      "source": [
        "## Ring"
      ]
    },
    {
      "cell_type": "code",
      "execution_count": 34,
      "metadata": {
        "colab": {
          "base_uri": "https://localhost:8080/",
          "height": 542
        },
        "id": "VHkYOoxUkDaR",
        "outputId": "87d729b3-0898-4471-d34b-7ad9c04649ba"
      },
      "outputs": [
        {
          "data": {
            "application/vnd.plotly.v1+json": {
              "config": {
                "plotlyServerURL": "https://plot.ly"
              },
              "data": [
                {
                  "hovertemplate": "event idx=0<br>x=%{x}<br>y=%{y}<extra></extra>",
                  "legendgroup": "",
                  "marker": {
                    "color": "#111111",
                    "size": 15,
                    "symbol": "circle"
                  },
                  "mode": "markers",
                  "name": "",
                  "orientation": "v",
                  "showlegend": false,
                  "type": "scatter",
                  "x": [
                    null
                  ],
                  "xaxis": "x",
                  "y": [
                    null
                  ],
                  "yaxis": "y"
                }
              ],
              "frames": [
                {
                  "data": [
                    {
                      "hovertemplate": "event idx=0<br>x=%{x}<br>y=%{y}<extra></extra>",
                      "legendgroup": "",
                      "marker": {
                        "color": "#636efa",
                        "symbol": "circle"
                      },
                      "mode": "markers",
                      "name": "",
                      "orientation": "v",
                      "showlegend": false,
                      "type": "scatter",
                      "x": [
                        null
                      ],
                      "xaxis": "x",
                      "y": [
                        null
                      ],
                      "yaxis": "y"
                    }
                  ],
                  "layout": {
                    "title": {
                      "text": "Game Scheduled"
                    }
                  },
                  "name": "0"
                },
                {
                  "data": [
                    {
                      "hovertemplate": "event idx=1<br>x=%{x}<br>y=%{y}<extra></extra>",
                      "legendgroup": "",
                      "marker": {
                        "color": "#636efa",
                        "symbol": "circle"
                      },
                      "mode": "markers",
                      "name": "",
                      "orientation": "v",
                      "showlegend": false,
                      "type": "scatter",
                      "x": [
                        null
                      ],
                      "xaxis": "x",
                      "y": [
                        null
                      ],
                      "yaxis": "y"
                    }
                  ],
                  "layout": {
                    "title": {
                      "text": "Period Ready"
                    }
                  },
                  "name": "1"
                },
                {
                  "data": [
                    {
                      "hovertemplate": "event idx=2<br>x=%{x}<br>y=%{y}<extra></extra>",
                      "legendgroup": "",
                      "marker": {
                        "color": "#636efa",
                        "symbol": "circle"
                      },
                      "mode": "markers",
                      "name": "",
                      "orientation": "v",
                      "showlegend": false,
                      "type": "scatter",
                      "x": [
                        null
                      ],
                      "xaxis": "x",
                      "y": [
                        null
                      ],
                      "yaxis": "y"
                    }
                  ],
                  "layout": {
                    "title": {
                      "text": "Period Start"
                    }
                  },
                  "name": "2"
                },
                {
                  "data": [
                    {
                      "hovertemplate": "event idx=3<br>x=%{x}<br>y=%{y}<extra></extra>",
                      "legendgroup": "",
                      "marker": {
                        "color": "#636efa",
                        "symbol": "circle"
                      },
                      "mode": "markers",
                      "name": "",
                      "orientation": "v",
                      "showlegend": false,
                      "type": "scatter",
                      "x": [
                        0
                      ],
                      "xaxis": "x",
                      "y": [
                        0
                      ],
                      "yaxis": "y"
                    }
                  ],
                  "layout": {
                    "title": {
                      "text": "Paul Stastny faceoff won against Jonathan Toews"
                    }
                  },
                  "name": "3"
                },
                {
                  "data": [
                    {
                      "hovertemplate": "event idx=4<br>x=%{x}<br>y=%{y}<extra></extra>",
                      "legendgroup": "",
                      "marker": {
                        "color": "#636efa",
                        "symbol": "circle"
                      },
                      "mode": "markers",
                      "name": "",
                      "orientation": "v",
                      "showlegend": false,
                      "type": "scatter",
                      "x": [
                        88
                      ],
                      "xaxis": "x",
                      "y": [
                        -37
                      ],
                      "yaxis": "y"
                    }
                  ],
                  "layout": {
                    "title": {
                      "text": "Paul Stastny hit Duncan Keith"
                    }
                  },
                  "name": "4"
                },
                {
                  "data": [
                    {
                      "hovertemplate": "event idx=5<br>x=%{x}<br>y=%{y}<extra></extra>",
                      "legendgroup": "",
                      "marker": {
                        "color": "#636efa",
                        "symbol": "circle"
                      },
                      "mode": "markers",
                      "name": "",
                      "orientation": "v",
                      "showlegend": false,
                      "type": "scatter",
                      "x": [
                        64
                      ],
                      "xaxis": "x",
                      "y": [
                        -16
                      ],
                      "yaxis": "y"
                    }
                  ],
                  "layout": {
                    "title": {
                      "text": "Alexander Steen Snap Shot saved by Corey Crawford"
                    }
                  },
                  "name": "5"
                },
                {
                  "data": [
                    {
                      "hovertemplate": "event idx=6<br>x=%{x}<br>y=%{y}<extra></extra>",
                      "legendgroup": "",
                      "marker": {
                        "color": "#636efa",
                        "symbol": "circle"
                      },
                      "mode": "markers",
                      "name": "",
                      "orientation": "v",
                      "showlegend": false,
                      "type": "scatter",
                      "x": [
                        54
                      ],
                      "xaxis": "x",
                      "y": [
                        28
                      ],
                      "yaxis": "y"
                    }
                  ],
                  "layout": {
                    "title": {
                      "text": "Jay Bouwmeester - Wide of Net"
                    }
                  },
                  "name": "6"
                },
                {
                  "data": [
                    {
                      "hovertemplate": "event idx=7<br>x=%{x}<br>y=%{y}<extra></extra>",
                      "legendgroup": "",
                      "marker": {
                        "color": "#636efa",
                        "symbol": "circle"
                      },
                      "mode": "markers",
                      "name": "",
                      "orientation": "v",
                      "showlegend": false,
                      "type": "scatter",
                      "x": [
                        52
                      ],
                      "xaxis": "x",
                      "y": [
                        -8
                      ],
                      "yaxis": "y"
                    }
                  ],
                  "layout": {
                    "title": {
                      "text": "Jori Lehtera Wrist Shot saved by Corey Crawford"
                    }
                  },
                  "name": "7"
                },
                {
                  "data": [
                    {
                      "hovertemplate": "event idx=8<br>x=%{x}<br>y=%{y}<extra></extra>",
                      "legendgroup": "",
                      "marker": {
                        "color": "#636efa",
                        "symbol": "circle"
                      },
                      "mode": "markers",
                      "name": "",
                      "orientation": "v",
                      "showlegend": false,
                      "type": "scatter",
                      "x": [
                        null
                      ],
                      "xaxis": "x",
                      "y": [
                        null
                      ],
                      "yaxis": "y"
                    }
                  ],
                  "layout": {
                    "title": {
                      "text": "Goalie Stopped"
                    }
                  },
                  "name": "8"
                },
                {
                  "data": [
                    {
                      "hovertemplate": "event idx=9<br>x=%{x}<br>y=%{y}<extra></extra>",
                      "legendgroup": "",
                      "marker": {
                        "color": "#636efa",
                        "symbol": "circle"
                      },
                      "mode": "markers",
                      "name": "",
                      "orientation": "v",
                      "showlegend": false,
                      "type": "scatter",
                      "x": [
                        69
                      ],
                      "xaxis": "x",
                      "y": [
                        -22
                      ],
                      "yaxis": "y"
                    }
                  ],
                  "layout": {
                    "title": {
                      "text": "Marcus Kruger faceoff won against Jori Lehtera"
                    }
                  },
                  "name": "9"
                },
                {
                  "data": [
                    {
                      "hovertemplate": "event idx=10<br>x=%{x}<br>y=%{y}<extra></extra>",
                      "legendgroup": "",
                      "marker": {
                        "color": "#636efa",
                        "symbol": "circle"
                      },
                      "mode": "markers",
                      "name": "",
                      "orientation": "v",
                      "showlegend": false,
                      "type": "scatter",
                      "x": [
                        -95
                      ],
                      "xaxis": "x",
                      "y": [
                        21
                      ],
                      "yaxis": "y"
                    }
                  ],
                  "layout": {
                    "title": {
                      "text": "Tyler Motte hit Joel Edmundson"
                    }
                  },
                  "name": "10"
                },
                {
                  "data": [
                    {
                      "hovertemplate": "event idx=11<br>x=%{x}<br>y=%{y}<extra></extra>",
                      "legendgroup": "",
                      "marker": {
                        "color": "#636efa",
                        "symbol": "circle"
                      },
                      "mode": "markers",
                      "name": "",
                      "orientation": "v",
                      "showlegend": false,
                      "type": "scatter",
                      "x": [
                        86
                      ],
                      "xaxis": "x",
                      "y": [
                        11
                      ],
                      "yaxis": "y"
                    }
                  ],
                  "layout": {
                    "title": {
                      "text": "Colton Parayko - Goalpost"
                    }
                  },
                  "name": "11"
                },
                {
                  "data": [
                    {
                      "hovertemplate": "event idx=12<br>x=%{x}<br>y=%{y}<extra></extra>",
                      "legendgroup": "",
                      "marker": {
                        "color": "#636efa",
                        "symbol": "circle"
                      },
                      "mode": "markers",
                      "name": "",
                      "orientation": "v",
                      "showlegend": false,
                      "type": "scatter",
                      "x": [
                        42
                      ],
                      "xaxis": "x",
                      "y": [
                        32
                      ],
                      "yaxis": "y"
                    }
                  ],
                  "layout": {
                    "title": {
                      "text": "Giveaway by Brian Campbell"
                    }
                  },
                  "name": "12"
                },
                {
                  "data": [
                    {
                      "hovertemplate": "event idx=13<br>x=%{x}<br>y=%{y}<extra></extra>",
                      "legendgroup": "",
                      "marker": {
                        "color": "#636efa",
                        "symbol": "circle"
                      },
                      "mode": "markers",
                      "name": "",
                      "orientation": "v",
                      "showlegend": false,
                      "type": "scatter",
                      "x": [
                        -77
                      ],
                      "xaxis": "x",
                      "y": [
                        8
                      ],
                      "yaxis": "y"
                    }
                  ],
                  "layout": {
                    "title": {
                      "text": "Alex Pietrangelo blocked shot from Artem Anisimov"
                    }
                  },
                  "name": "13"
                },
                {
                  "data": [
                    {
                      "hovertemplate": "event idx=14<br>x=%{x}<br>y=%{y}<extra></extra>",
                      "legendgroup": "",
                      "marker": {
                        "color": "#636efa",
                        "symbol": "circle"
                      },
                      "mode": "markers",
                      "name": "",
                      "orientation": "v",
                      "showlegend": false,
                      "type": "scatter",
                      "x": [
                        -66
                      ],
                      "xaxis": "x",
                      "y": [
                        7
                      ],
                      "yaxis": "y"
                    }
                  ],
                  "layout": {
                    "title": {
                      "text": "Jay Bouwmeester blocked shot from Patrick Kane"
                    }
                  },
                  "name": "14"
                },
                {
                  "data": [
                    {
                      "hovertemplate": "event idx=15<br>x=%{x}<br>y=%{y}<extra></extra>",
                      "legendgroup": "",
                      "marker": {
                        "color": "#636efa",
                        "symbol": "circle"
                      },
                      "mode": "markers",
                      "name": "",
                      "orientation": "v",
                      "showlegend": false,
                      "type": "scatter",
                      "x": [
                        -33
                      ],
                      "xaxis": "x",
                      "y": [
                        -37
                      ],
                      "yaxis": "y"
                    }
                  ],
                  "layout": {
                    "title": {
                      "text": "Michal Kempny hit Dmitrij Jaskin"
                    }
                  },
                  "name": "15"
                },
                {
                  "data": [
                    {
                      "hovertemplate": "event idx=16<br>x=%{x}<br>y=%{y}<extra></extra>",
                      "legendgroup": "",
                      "marker": {
                        "color": "#636efa",
                        "symbol": "circle"
                      },
                      "mode": "markers",
                      "name": "",
                      "orientation": "v",
                      "showlegend": false,
                      "type": "scatter",
                      "x": [
                        -90
                      ],
                      "xaxis": "x",
                      "y": [
                        28
                      ],
                      "yaxis": "y"
                    }
                  ],
                  "layout": {
                    "title": {
                      "text": "Robert Bortuzzo hit Vinnie Hinostroza"
                    }
                  },
                  "name": "16"
                },
                {
                  "data": [
                    {
                      "hovertemplate": "event idx=17<br>x=%{x}<br>y=%{y}<extra></extra>",
                      "legendgroup": "",
                      "marker": {
                        "color": "#636efa",
                        "symbol": "circle"
                      },
                      "mode": "markers",
                      "name": "",
                      "orientation": "v",
                      "showlegend": false,
                      "type": "scatter",
                      "x": [
                        -92
                      ],
                      "xaxis": "x",
                      "y": [
                        33
                      ],
                      "yaxis": "y"
                    }
                  ],
                  "layout": {
                    "title": {
                      "text": "Jordin Tootoo hit Robert Bortuzzo"
                    }
                  },
                  "name": "17"
                },
                {
                  "data": [
                    {
                      "hovertemplate": "event idx=18<br>x=%{x}<br>y=%{y}<extra></extra>",
                      "legendgroup": "",
                      "marker": {
                        "color": "#636efa",
                        "symbol": "circle"
                      },
                      "mode": "markers",
                      "name": "",
                      "orientation": "v",
                      "showlegend": false,
                      "type": "scatter",
                      "x": [
                        null
                      ],
                      "xaxis": "x",
                      "y": [
                        null
                      ],
                      "yaxis": "y"
                    }
                  ],
                  "layout": {
                    "title": {
                      "text": "Offside"
                    }
                  },
                  "name": "18"
                },
                {
                  "data": [
                    {
                      "hovertemplate": "event idx=19<br>x=%{x}<br>y=%{y}<extra></extra>",
                      "legendgroup": "",
                      "marker": {
                        "color": "#636efa",
                        "symbol": "circle"
                      },
                      "mode": "markers",
                      "name": "",
                      "orientation": "v",
                      "showlegend": false,
                      "type": "scatter",
                      "x": [
                        20
                      ],
                      "xaxis": "x",
                      "y": [
                        -22
                      ],
                      "yaxis": "y"
                    }
                  ],
                  "layout": {
                    "title": {
                      "text": "Jonathan Toews faceoff won against Paul Stastny"
                    }
                  },
                  "name": "19"
                },
                {
                  "data": [
                    {
                      "hovertemplate": "event idx=20<br>x=%{x}<br>y=%{y}<extra></extra>",
                      "legendgroup": "",
                      "marker": {
                        "color": "#636efa",
                        "symbol": "circle"
                      },
                      "mode": "markers",
                      "name": "",
                      "orientation": "v",
                      "showlegend": false,
                      "type": "scatter",
                      "x": [
                        -65
                      ],
                      "xaxis": "x",
                      "y": [
                        -39
                      ],
                      "yaxis": "y"
                    }
                  ],
                  "layout": {
                    "title": {
                      "text": "Robert Bortuzzo hit Marian Hossa"
                    }
                  },
                  "name": "20"
                },
                {
                  "data": [
                    {
                      "hovertemplate": "event idx=21<br>x=%{x}<br>y=%{y}<extra></extra>",
                      "legendgroup": "",
                      "marker": {
                        "color": "#636efa",
                        "symbol": "circle"
                      },
                      "mode": "markers",
                      "name": "",
                      "orientation": "v",
                      "showlegend": false,
                      "type": "scatter",
                      "x": [
                        -82
                      ],
                      "xaxis": "x",
                      "y": [
                        -8
                      ],
                      "yaxis": "y"
                    }
                  ],
                  "layout": {
                    "title": {
                      "text": "Jonathan Toews Backhand saved by Jake Allen"
                    }
                  },
                  "name": "21"
                },
                {
                  "data": [
                    {
                      "hovertemplate": "event idx=22<br>x=%{x}<br>y=%{y}<extra></extra>",
                      "legendgroup": "",
                      "marker": {
                        "color": "#636efa",
                        "symbol": "circle"
                      },
                      "mode": "markers",
                      "name": "",
                      "orientation": "v",
                      "showlegend": false,
                      "type": "scatter",
                      "x": [
                        -30
                      ],
                      "xaxis": "x",
                      "y": [
                        38
                      ],
                      "yaxis": "y"
                    }
                  ],
                  "layout": {
                    "title": {
                      "text": "Robby Fabbri Slashing against Trevor van Riemsdyk"
                    }
                  },
                  "name": "22"
                },
                {
                  "data": [
                    {
                      "hovertemplate": "event idx=23<br>x=%{x}<br>y=%{y}<extra></extra>",
                      "legendgroup": "",
                      "marker": {
                        "color": "#636efa",
                        "symbol": "circle"
                      },
                      "mode": "markers",
                      "name": "",
                      "orientation": "v",
                      "showlegend": false,
                      "type": "scatter",
                      "x": [
                        -69
                      ],
                      "xaxis": "x",
                      "y": [
                        -22
                      ],
                      "yaxis": "y"
                    }
                  ],
                  "layout": {
                    "title": {
                      "text": "Jori Lehtera faceoff won against Patrick Kane"
                    }
                  },
                  "name": "23"
                },
                {
                  "data": [
                    {
                      "hovertemplate": "event idx=24<br>x=%{x}<br>y=%{y}<extra></extra>",
                      "legendgroup": "",
                      "marker": {
                        "color": "#636efa",
                        "symbol": "circle"
                      },
                      "mode": "markers",
                      "name": "",
                      "orientation": "v",
                      "showlegend": false,
                      "type": "scatter",
                      "x": [
                        -76
                      ],
                      "xaxis": "x",
                      "y": [
                        29
                      ],
                      "yaxis": "y"
                    }
                  ],
                  "layout": {
                    "title": {
                      "text": "Patrick Kane Wrist Shot saved by Jake Allen"
                    }
                  },
                  "name": "24"
                },
                {
                  "data": [
                    {
                      "hovertemplate": "event idx=25<br>x=%{x}<br>y=%{y}<extra></extra>",
                      "legendgroup": "",
                      "marker": {
                        "color": "#636efa",
                        "symbol": "circle"
                      },
                      "mode": "markers",
                      "name": "",
                      "orientation": "v",
                      "showlegend": false,
                      "type": "scatter",
                      "x": [
                        -17
                      ],
                      "xaxis": "x",
                      "y": [
                        27
                      ],
                      "yaxis": "y"
                    }
                  ],
                  "layout": {
                    "title": {
                      "text": "David Perron hit Brent Seabrook"
                    }
                  },
                  "name": "25"
                },
                {
                  "data": [
                    {
                      "hovertemplate": "event idx=26<br>x=%{x}<br>y=%{y}<extra></extra>",
                      "legendgroup": "",
                      "marker": {
                        "color": "#636efa",
                        "symbol": "circle"
                      },
                      "mode": "markers",
                      "name": "",
                      "orientation": "v",
                      "showlegend": false,
                      "type": "scatter",
                      "x": [
                        -17
                      ],
                      "xaxis": "x",
                      "y": [
                        35
                      ],
                      "yaxis": "y"
                    }
                  ],
                  "layout": {
                    "title": {
                      "text": "Takeaway by Kyle Brodziak"
                    }
                  },
                  "name": "26"
                },
                {
                  "data": [
                    {
                      "hovertemplate": "event idx=27<br>x=%{x}<br>y=%{y}<extra></extra>",
                      "legendgroup": "",
                      "marker": {
                        "color": "#636efa",
                        "symbol": "circle"
                      },
                      "mode": "markers",
                      "name": "",
                      "orientation": "v",
                      "showlegend": false,
                      "type": "scatter",
                      "x": [
                        null
                      ],
                      "xaxis": "x",
                      "y": [
                        null
                      ],
                      "yaxis": "y"
                    }
                  ],
                  "layout": {
                    "title": {
                      "text": "Offside"
                    }
                  },
                  "name": "27"
                },
                {
                  "data": [
                    {
                      "hovertemplate": "event idx=28<br>x=%{x}<br>y=%{y}<extra></extra>",
                      "legendgroup": "",
                      "marker": {
                        "color": "#636efa",
                        "symbol": "circle"
                      },
                      "mode": "markers",
                      "name": "",
                      "orientation": "v",
                      "showlegend": false,
                      "type": "scatter",
                      "x": [
                        -69
                      ],
                      "xaxis": "x",
                      "y": [
                        22
                      ],
                      "yaxis": "y"
                    }
                  ],
                  "layout": {
                    "title": {
                      "text": "Jonathan Toews faceoff won against Paul Stastny"
                    }
                  },
                  "name": "28"
                },
                {
                  "data": [
                    {
                      "hovertemplate": "event idx=29<br>x=%{x}<br>y=%{y}<extra></extra>",
                      "legendgroup": "",
                      "marker": {
                        "color": "#636efa",
                        "symbol": "circle"
                      },
                      "mode": "markers",
                      "name": "",
                      "orientation": "v",
                      "showlegend": false,
                      "type": "scatter",
                      "x": [
                        -76
                      ],
                      "xaxis": "x",
                      "y": [
                        2
                      ],
                      "yaxis": "y"
                    }
                  ],
                  "layout": {
                    "title": {
                      "text": "Jonathan Toews Wrist Shot saved by Jake Allen"
                    }
                  },
                  "name": "29"
                },
                {
                  "data": [
                    {
                      "hovertemplate": "event idx=30<br>x=%{x}<br>y=%{y}<extra></extra>",
                      "legendgroup": "",
                      "marker": {
                        "color": "#636efa",
                        "symbol": "circle"
                      },
                      "mode": "markers",
                      "name": "",
                      "orientation": "v",
                      "showlegend": false,
                      "type": "scatter",
                      "x": [
                        -81
                      ],
                      "xaxis": "x",
                      "y": [
                        -8
                      ],
                      "yaxis": "y"
                    }
                  ],
                  "layout": {
                    "title": {
                      "text": "Richard Panik (1) Wrist Shot, assists: Jonathan Toews (1), Marian Hossa (1)"
                    }
                  },
                  "name": "30"
                },
                {
                  "data": [
                    {
                      "hovertemplate": "event idx=31<br>x=%{x}<br>y=%{y}<extra></extra>",
                      "legendgroup": "",
                      "marker": {
                        "color": "#636efa",
                        "symbol": "circle"
                      },
                      "mode": "markers",
                      "name": "",
                      "orientation": "v",
                      "showlegend": false,
                      "type": "scatter",
                      "x": [
                        0
                      ],
                      "xaxis": "x",
                      "y": [
                        0
                      ],
                      "yaxis": "y"
                    }
                  ],
                  "layout": {
                    "title": {
                      "text": "Artem Anisimov faceoff won against Jori Lehtera"
                    }
                  },
                  "name": "31"
                },
                {
                  "data": [
                    {
                      "hovertemplate": "event idx=32<br>x=%{x}<br>y=%{y}<extra></extra>",
                      "legendgroup": "",
                      "marker": {
                        "color": "#636efa",
                        "symbol": "circle"
                      },
                      "mode": "markers",
                      "name": "",
                      "orientation": "v",
                      "showlegend": false,
                      "type": "scatter",
                      "x": [
                        -79
                      ],
                      "xaxis": "x",
                      "y": [
                        -3
                      ],
                      "yaxis": "y"
                    }
                  ],
                  "layout": {
                    "title": {
                      "text": "Artem Anisimov Wrist Shot saved by Jake Allen"
                    }
                  },
                  "name": "32"
                },
                {
                  "data": [
                    {
                      "hovertemplate": "event idx=33<br>x=%{x}<br>y=%{y}<extra></extra>",
                      "legendgroup": "",
                      "marker": {
                        "color": "#636efa",
                        "symbol": "circle"
                      },
                      "mode": "markers",
                      "name": "",
                      "orientation": "v",
                      "showlegend": false,
                      "type": "scatter",
                      "x": [
                        -77
                      ],
                      "xaxis": "x",
                      "y": [
                        -1
                      ],
                      "yaxis": "y"
                    }
                  ],
                  "layout": {
                    "title": {
                      "text": "Artem Anisimov - Over Net"
                    }
                  },
                  "name": "33"
                },
                {
                  "data": [
                    {
                      "hovertemplate": "event idx=34<br>x=%{x}<br>y=%{y}<extra></extra>",
                      "legendgroup": "",
                      "marker": {
                        "color": "#636efa",
                        "symbol": "circle"
                      },
                      "mode": "markers",
                      "name": "",
                      "orientation": "v",
                      "showlegend": false,
                      "type": "scatter",
                      "x": [
                        -68
                      ],
                      "xaxis": "x",
                      "y": [
                        3
                      ],
                      "yaxis": "y"
                    }
                  ],
                  "layout": {
                    "title": {
                      "text": "Vladimir Tarasenko blocked shot from Michal Kempny"
                    }
                  },
                  "name": "34"
                },
                {
                  "data": [
                    {
                      "hovertemplate": "event idx=35<br>x=%{x}<br>y=%{y}<extra></extra>",
                      "legendgroup": "",
                      "marker": {
                        "color": "#636efa",
                        "symbol": "circle"
                      },
                      "mode": "markers",
                      "name": "",
                      "orientation": "v",
                      "showlegend": false,
                      "type": "scatter",
                      "x": [
                        -91
                      ],
                      "xaxis": "x",
                      "y": [
                        -37
                      ],
                      "yaxis": "y"
                    }
                  ],
                  "layout": {
                    "title": {
                      "text": "Alex Pietrangelo hit Artem Anisimov"
                    }
                  },
                  "name": "35"
                },
                {
                  "data": [
                    {
                      "hovertemplate": "event idx=36<br>x=%{x}<br>y=%{y}<extra></extra>",
                      "legendgroup": "",
                      "marker": {
                        "color": "#636efa",
                        "symbol": "circle"
                      },
                      "mode": "markers",
                      "name": "",
                      "orientation": "v",
                      "showlegend": false,
                      "type": "scatter",
                      "x": [
                        -76
                      ],
                      "xaxis": "x",
                      "y": [
                        -3
                      ],
                      "yaxis": "y"
                    }
                  ],
                  "layout": {
                    "title": {
                      "text": "Jay Bouwmeester blocked shot from Artem Anisimov"
                    }
                  },
                  "name": "36"
                },
                {
                  "data": [
                    {
                      "hovertemplate": "event idx=37<br>x=%{x}<br>y=%{y}<extra></extra>",
                      "legendgroup": "",
                      "marker": {
                        "color": "#636efa",
                        "symbol": "circle"
                      },
                      "mode": "markers",
                      "name": "",
                      "orientation": "v",
                      "showlegend": false,
                      "type": "scatter",
                      "x": [
                        74
                      ],
                      "xaxis": "x",
                      "y": [
                        -34
                      ],
                      "yaxis": "y"
                    }
                  ],
                  "layout": {
                    "title": {
                      "text": "Alex Pietrangelo Slap Shot saved by Corey Crawford"
                    }
                  },
                  "name": "37"
                },
                {
                  "data": [
                    {
                      "hovertemplate": "event idx=38<br>x=%{x}<br>y=%{y}<extra></extra>",
                      "legendgroup": "",
                      "marker": {
                        "color": "#636efa",
                        "symbol": "circle"
                      },
                      "mode": "markers",
                      "name": "",
                      "orientation": "v",
                      "showlegend": false,
                      "type": "scatter",
                      "x": [
                        -95
                      ],
                      "xaxis": "x",
                      "y": [
                        32
                      ],
                      "yaxis": "y"
                    }
                  ],
                  "layout": {
                    "title": {
                      "text": "Ryan Hartman hit Dmitrij Jaskin"
                    }
                  },
                  "name": "38"
                },
                {
                  "data": [
                    {
                      "hovertemplate": "event idx=39<br>x=%{x}<br>y=%{y}<extra></extra>",
                      "legendgroup": "",
                      "marker": {
                        "color": "#636efa",
                        "symbol": "circle"
                      },
                      "mode": "markers",
                      "name": "",
                      "orientation": "v",
                      "showlegend": false,
                      "type": "scatter",
                      "x": [
                        -64
                      ],
                      "xaxis": "x",
                      "y": [
                        -37
                      ],
                      "yaxis": "y"
                    }
                  ],
                  "layout": {
                    "title": {
                      "text": "Takeaway by Tyler Motte"
                    }
                  },
                  "name": "39"
                },
                {
                  "data": [
                    {
                      "hovertemplate": "event idx=40<br>x=%{x}<br>y=%{y}<extra></extra>",
                      "legendgroup": "",
                      "marker": {
                        "color": "#636efa",
                        "symbol": "circle"
                      },
                      "mode": "markers",
                      "name": "",
                      "orientation": "v",
                      "showlegend": false,
                      "type": "scatter",
                      "x": [
                        -46
                      ],
                      "xaxis": "x",
                      "y": [
                        -26
                      ],
                      "yaxis": "y"
                    }
                  ],
                  "layout": {
                    "title": {
                      "text": "Patrik Berglund blocked shot from Duncan Keith"
                    }
                  },
                  "name": "40"
                },
                {
                  "data": [
                    {
                      "hovertemplate": "event idx=41<br>x=%{x}<br>y=%{y}<extra></extra>",
                      "legendgroup": "",
                      "marker": {
                        "color": "#636efa",
                        "symbol": "circle"
                      },
                      "mode": "markers",
                      "name": "",
                      "orientation": "v",
                      "showlegend": false,
                      "type": "scatter",
                      "x": [
                        -34
                      ],
                      "xaxis": "x",
                      "y": [
                        -7
                      ],
                      "yaxis": "y"
                    }
                  ],
                  "layout": {
                    "title": {
                      "text": "Ryan Reaves hit Marcus Kruger"
                    }
                  },
                  "name": "41"
                },
                {
                  "data": [
                    {
                      "hovertemplate": "event idx=42<br>x=%{x}<br>y=%{y}<extra></extra>",
                      "legendgroup": "",
                      "marker": {
                        "color": "#636efa",
                        "symbol": "circle"
                      },
                      "mode": "markers",
                      "name": "",
                      "orientation": "v",
                      "showlegend": false,
                      "type": "scatter",
                      "x": [
                        65
                      ],
                      "xaxis": "x",
                      "y": [
                        -35
                      ],
                      "yaxis": "y"
                    }
                  ],
                  "layout": {
                    "title": {
                      "text": "Kyle Brodziak - Wide of Net"
                    }
                  },
                  "name": "42"
                },
                {
                  "data": [
                    {
                      "hovertemplate": "event idx=43<br>x=%{x}<br>y=%{y}<extra></extra>",
                      "legendgroup": "",
                      "marker": {
                        "color": "#636efa",
                        "symbol": "circle"
                      },
                      "mode": "markers",
                      "name": "",
                      "orientation": "v",
                      "showlegend": false,
                      "type": "scatter",
                      "x": [
                        84
                      ],
                      "xaxis": "x",
                      "y": [
                        -38
                      ],
                      "yaxis": "y"
                    }
                  ],
                  "layout": {
                    "title": {
                      "text": "Giveaway by Gustav Forsling"
                    }
                  },
                  "name": "43"
                },
                {
                  "data": [
                    {
                      "hovertemplate": "event idx=44<br>x=%{x}<br>y=%{y}<extra></extra>",
                      "legendgroup": "",
                      "marker": {
                        "color": "#636efa",
                        "symbol": "circle"
                      },
                      "mode": "markers",
                      "name": "",
                      "orientation": "v",
                      "showlegend": false,
                      "type": "scatter",
                      "x": [
                        44
                      ],
                      "xaxis": "x",
                      "y": [
                        19
                      ],
                      "yaxis": "y"
                    }
                  ],
                  "layout": {
                    "title": {
                      "text": "Jordin Tootoo blocked shot from Joel Edmundson"
                    }
                  },
                  "name": "44"
                },
                {
                  "data": [
                    {
                      "hovertemplate": "event idx=45<br>x=%{x}<br>y=%{y}<extra></extra>",
                      "legendgroup": "",
                      "marker": {
                        "color": "#636efa",
                        "symbol": "circle"
                      },
                      "mode": "markers",
                      "name": "",
                      "orientation": "v",
                      "showlegend": false,
                      "type": "scatter",
                      "x": [
                        61
                      ],
                      "xaxis": "x",
                      "y": [
                        38
                      ],
                      "yaxis": "y"
                    }
                  ],
                  "layout": {
                    "title": {
                      "text": "Giveaway by Jordin Tootoo"
                    }
                  },
                  "name": "45"
                },
                {
                  "data": [
                    {
                      "hovertemplate": "event idx=46<br>x=%{x}<br>y=%{y}<extra></extra>",
                      "legendgroup": "",
                      "marker": {
                        "color": "#636efa",
                        "symbol": "circle"
                      },
                      "mode": "markers",
                      "name": "",
                      "orientation": "v",
                      "showlegend": false,
                      "type": "scatter",
                      "x": [
                        63
                      ],
                      "xaxis": "x",
                      "y": [
                        -3
                      ],
                      "yaxis": "y"
                    }
                  ],
                  "layout": {
                    "title": {
                      "text": "Jori Lehtera Wrist Shot saved by Corey Crawford"
                    }
                  },
                  "name": "46"
                },
                {
                  "data": [
                    {
                      "hovertemplate": "event idx=47<br>x=%{x}<br>y=%{y}<extra></extra>",
                      "legendgroup": "",
                      "marker": {
                        "color": "#636efa",
                        "symbol": "circle"
                      },
                      "mode": "markers",
                      "name": "",
                      "orientation": "v",
                      "showlegend": false,
                      "type": "scatter",
                      "x": [
                        78
                      ],
                      "xaxis": "x",
                      "y": [
                        13
                      ],
                      "yaxis": "y"
                    }
                  ],
                  "layout": {
                    "title": {
                      "text": "Vladimir Tarasenko - Wide of Net"
                    }
                  },
                  "name": "47"
                },
                {
                  "data": [
                    {
                      "hovertemplate": "event idx=48<br>x=%{x}<br>y=%{y}<extra></extra>",
                      "legendgroup": "",
                      "marker": {
                        "color": "#636efa",
                        "symbol": "circle"
                      },
                      "mode": "markers",
                      "name": "",
                      "orientation": "v",
                      "showlegend": false,
                      "type": "scatter",
                      "x": [
                        72
                      ],
                      "xaxis": "x",
                      "y": [
                        3
                      ],
                      "yaxis": "y"
                    }
                  ],
                  "layout": {
                    "title": {
                      "text": "Robert Bortuzzo Backhand saved by Corey Crawford"
                    }
                  },
                  "name": "48"
                },
                {
                  "data": [
                    {
                      "hovertemplate": "event idx=49<br>x=%{x}<br>y=%{y}<extra></extra>",
                      "legendgroup": "",
                      "marker": {
                        "color": "#636efa",
                        "symbol": "circle"
                      },
                      "mode": "markers",
                      "name": "",
                      "orientation": "v",
                      "showlegend": false,
                      "type": "scatter",
                      "x": [
                        null
                      ],
                      "xaxis": "x",
                      "y": [
                        null
                      ],
                      "yaxis": "y"
                    }
                  ],
                  "layout": {
                    "title": {
                      "text": "Offside"
                    }
                  },
                  "name": "49"
                },
                {
                  "data": [
                    {
                      "hovertemplate": "event idx=50<br>x=%{x}<br>y=%{y}<extra></extra>",
                      "legendgroup": "",
                      "marker": {
                        "color": "#636efa",
                        "symbol": "circle"
                      },
                      "mode": "markers",
                      "name": "",
                      "orientation": "v",
                      "showlegend": false,
                      "type": "scatter",
                      "x": [
                        20
                      ],
                      "xaxis": "x",
                      "y": [
                        22
                      ],
                      "yaxis": "y"
                    }
                  ],
                  "layout": {
                    "title": {
                      "text": "Patrik Berglund faceoff won against Marcus Kruger"
                    }
                  },
                  "name": "50"
                },
                {
                  "data": [
                    {
                      "hovertemplate": "event idx=51<br>x=%{x}<br>y=%{y}<extra></extra>",
                      "legendgroup": "",
                      "marker": {
                        "color": "#636efa",
                        "symbol": "circle"
                      },
                      "mode": "markers",
                      "name": "",
                      "orientation": "v",
                      "showlegend": false,
                      "type": "scatter",
                      "x": [
                        92
                      ],
                      "xaxis": "x",
                      "y": [
                        -36
                      ],
                      "yaxis": "y"
                    }
                  ],
                  "layout": {
                    "title": {
                      "text": "Nail Yakupov hit Brian Campbell"
                    }
                  },
                  "name": "51"
                },
                {
                  "data": [
                    {
                      "hovertemplate": "event idx=52<br>x=%{x}<br>y=%{y}<extra></extra>",
                      "legendgroup": "",
                      "marker": {
                        "color": "#636efa",
                        "symbol": "circle"
                      },
                      "mode": "markers",
                      "name": "",
                      "orientation": "v",
                      "showlegend": false,
                      "type": "scatter",
                      "x": [
                        95
                      ],
                      "xaxis": "x",
                      "y": [
                        12
                      ],
                      "yaxis": "y"
                    }
                  ],
                  "layout": {
                    "title": {
                      "text": "Trevor van Riemsdyk hit Colton Parayko"
                    }
                  },
                  "name": "52"
                },
                {
                  "data": [
                    {
                      "hovertemplate": "event idx=53<br>x=%{x}<br>y=%{y}<extra></extra>",
                      "legendgroup": "",
                      "marker": {
                        "color": "#636efa",
                        "symbol": "circle"
                      },
                      "mode": "markers",
                      "name": "",
                      "orientation": "v",
                      "showlegend": false,
                      "type": "scatter",
                      "x": [
                        -49
                      ],
                      "xaxis": "x",
                      "y": [
                        17
                      ],
                      "yaxis": "y"
                    }
                  ],
                  "layout": {
                    "title": {
                      "text": "David Perron blocked shot from Marian Hossa"
                    }
                  },
                  "name": "53"
                },
                {
                  "data": [
                    {
                      "hovertemplate": "event idx=54<br>x=%{x}<br>y=%{y}<extra></extra>",
                      "legendgroup": "",
                      "marker": {
                        "color": "#636efa",
                        "symbol": "circle"
                      },
                      "mode": "markers",
                      "name": "",
                      "orientation": "v",
                      "showlegend": false,
                      "type": "scatter",
                      "x": [
                        -58
                      ],
                      "xaxis": "x",
                      "y": [
                        21
                      ],
                      "yaxis": "y"
                    }
                  ],
                  "layout": {
                    "title": {
                      "text": "Marian Hossa Backhand saved by Jake Allen"
                    }
                  },
                  "name": "54"
                },
                {
                  "data": [
                    {
                      "hovertemplate": "event idx=55<br>x=%{x}<br>y=%{y}<extra></extra>",
                      "legendgroup": "",
                      "marker": {
                        "color": "#636efa",
                        "symbol": "circle"
                      },
                      "mode": "markers",
                      "name": "",
                      "orientation": "v",
                      "showlegend": false,
                      "type": "scatter",
                      "x": [
                        93
                      ],
                      "xaxis": "x",
                      "y": [
                        31
                      ],
                      "yaxis": "y"
                    }
                  ],
                  "layout": {
                    "title": {
                      "text": "Robby Fabbri hit Patrick Kane"
                    }
                  },
                  "name": "55"
                },
                {
                  "data": [
                    {
                      "hovertemplate": "event idx=56<br>x=%{x}<br>y=%{y}<extra></extra>",
                      "legendgroup": "",
                      "marker": {
                        "color": "#636efa",
                        "symbol": "circle"
                      },
                      "mode": "markers",
                      "name": "",
                      "orientation": "v",
                      "showlegend": false,
                      "type": "scatter",
                      "x": [
                        -96
                      ],
                      "xaxis": "x",
                      "y": [
                        -31
                      ],
                      "yaxis": "y"
                    }
                  ],
                  "layout": {
                    "title": {
                      "text": "Giveaway by Alex Pietrangelo"
                    }
                  },
                  "name": "56"
                },
                {
                  "data": [
                    {
                      "hovertemplate": "event idx=57<br>x=%{x}<br>y=%{y}<extra></extra>",
                      "legendgroup": "",
                      "marker": {
                        "color": "#636efa",
                        "symbol": "circle"
                      },
                      "mode": "markers",
                      "name": "",
                      "orientation": "v",
                      "showlegend": false,
                      "type": "scatter",
                      "x": [
                        -51
                      ],
                      "xaxis": "x",
                      "y": [
                        -39
                      ],
                      "yaxis": "y"
                    }
                  ],
                  "layout": {
                    "title": {
                      "text": "Kevin Shattenkirk hit Patrick Kane"
                    }
                  },
                  "name": "57"
                },
                {
                  "data": [
                    {
                      "hovertemplate": "event idx=58<br>x=%{x}<br>y=%{y}<extra></extra>",
                      "legendgroup": "",
                      "marker": {
                        "color": "#636efa",
                        "symbol": "circle"
                      },
                      "mode": "markers",
                      "name": "",
                      "orientation": "v",
                      "showlegend": false,
                      "type": "scatter",
                      "x": [
                        -54
                      ],
                      "xaxis": "x",
                      "y": [
                        37
                      ],
                      "yaxis": "y"
                    }
                  ],
                  "layout": {
                    "title": {
                      "text": "Takeaway by Vinnie Hinostroza"
                    }
                  },
                  "name": "58"
                },
                {
                  "data": [
                    {
                      "hovertemplate": "event idx=59<br>x=%{x}<br>y=%{y}<extra></extra>",
                      "legendgroup": "",
                      "marker": {
                        "color": "#636efa",
                        "symbol": "circle"
                      },
                      "mode": "markers",
                      "name": "",
                      "orientation": "v",
                      "showlegend": false,
                      "type": "scatter",
                      "x": [
                        81
                      ],
                      "xaxis": "x",
                      "y": [
                        0
                      ],
                      "yaxis": "y"
                    }
                  ],
                  "layout": {
                    "title": {
                      "text": "Giveaway by Corey Crawford"
                    }
                  },
                  "name": "59"
                },
                {
                  "data": [
                    {
                      "hovertemplate": "event idx=60<br>x=%{x}<br>y=%{y}<extra></extra>",
                      "legendgroup": "",
                      "marker": {
                        "color": "#636efa",
                        "symbol": "circle"
                      },
                      "mode": "markers",
                      "name": "",
                      "orientation": "v",
                      "showlegend": false,
                      "type": "scatter",
                      "x": [
                        52
                      ],
                      "xaxis": "x",
                      "y": [
                        3
                      ],
                      "yaxis": "y"
                    }
                  ],
                  "layout": {
                    "title": {
                      "text": "Scottie Upshall Wrist Shot saved by Corey Crawford"
                    }
                  },
                  "name": "60"
                },
                {
                  "data": [
                    {
                      "hovertemplate": "event idx=61<br>x=%{x}<br>y=%{y}<extra></extra>",
                      "legendgroup": "",
                      "marker": {
                        "color": "#636efa",
                        "symbol": "circle"
                      },
                      "mode": "markers",
                      "name": "",
                      "orientation": "v",
                      "showlegend": false,
                      "type": "scatter",
                      "x": [
                        null
                      ],
                      "xaxis": "x",
                      "y": [
                        null
                      ],
                      "yaxis": "y"
                    }
                  ],
                  "layout": {
                    "title": {
                      "text": "Goalie Stopped"
                    }
                  },
                  "name": "61"
                },
                {
                  "data": [
                    {
                      "hovertemplate": "event idx=62<br>x=%{x}<br>y=%{y}<extra></extra>",
                      "legendgroup": "",
                      "marker": {
                        "color": "#636efa",
                        "symbol": "circle"
                      },
                      "mode": "markers",
                      "name": "",
                      "orientation": "v",
                      "showlegend": false,
                      "type": "scatter",
                      "x": [
                        69
                      ],
                      "xaxis": "x",
                      "y": [
                        22
                      ],
                      "yaxis": "y"
                    }
                  ],
                  "layout": {
                    "title": {
                      "text": "Marcus Kruger faceoff won against David Perron"
                    }
                  },
                  "name": "62"
                },
                {
                  "data": [
                    {
                      "hovertemplate": "event idx=63<br>x=%{x}<br>y=%{y}<extra></extra>",
                      "legendgroup": "",
                      "marker": {
                        "color": "#636efa",
                        "symbol": "circle"
                      },
                      "mode": "markers",
                      "name": "",
                      "orientation": "v",
                      "showlegend": false,
                      "type": "scatter",
                      "x": [
                        null
                      ],
                      "xaxis": "x",
                      "y": [
                        null
                      ],
                      "yaxis": "y"
                    }
                  ],
                  "layout": {
                    "title": {
                      "text": "Puck in Benches"
                    }
                  },
                  "name": "63"
                },
                {
                  "data": [
                    {
                      "hovertemplate": "event idx=64<br>x=%{x}<br>y=%{y}<extra></extra>",
                      "legendgroup": "",
                      "marker": {
                        "color": "#636efa",
                        "symbol": "circle"
                      },
                      "mode": "markers",
                      "name": "",
                      "orientation": "v",
                      "showlegend": false,
                      "type": "scatter",
                      "x": [
                        69
                      ],
                      "xaxis": "x",
                      "y": [
                        22
                      ],
                      "yaxis": "y"
                    }
                  ],
                  "layout": {
                    "title": {
                      "text": "Jori Lehtera faceoff won against Marcus Kruger"
                    }
                  },
                  "name": "64"
                },
                {
                  "data": [
                    {
                      "hovertemplate": "event idx=65<br>x=%{x}<br>y=%{y}<extra></extra>",
                      "legendgroup": "",
                      "marker": {
                        "color": "#636efa",
                        "symbol": "circle"
                      },
                      "mode": "markers",
                      "name": "",
                      "orientation": "v",
                      "showlegend": false,
                      "type": "scatter",
                      "x": [
                        50
                      ],
                      "xaxis": "x",
                      "y": [
                        -22
                      ],
                      "yaxis": "y"
                    }
                  ],
                  "layout": {
                    "title": {
                      "text": "Tyler Motte blocked shot from Kevin Shattenkirk"
                    }
                  },
                  "name": "65"
                },
                {
                  "data": [
                    {
                      "hovertemplate": "event idx=66<br>x=%{x}<br>y=%{y}<extra></extra>",
                      "legendgroup": "",
                      "marker": {
                        "color": "#636efa",
                        "symbol": "circle"
                      },
                      "mode": "markers",
                      "name": "",
                      "orientation": "v",
                      "showlegend": false,
                      "type": "scatter",
                      "x": [
                        -60
                      ],
                      "xaxis": "x",
                      "y": [
                        -35
                      ],
                      "yaxis": "y"
                    }
                  ],
                  "layout": {
                    "title": {
                      "text": "Giveaway by Kevin Shattenkirk"
                    }
                  },
                  "name": "66"
                },
                {
                  "data": [
                    {
                      "hovertemplate": "event idx=67<br>x=%{x}<br>y=%{y}<extra></extra>",
                      "legendgroup": "",
                      "marker": {
                        "color": "#636efa",
                        "symbol": "circle"
                      },
                      "mode": "markers",
                      "name": "",
                      "orientation": "v",
                      "showlegend": false,
                      "type": "scatter",
                      "x": [
                        -96
                      ],
                      "xaxis": "x",
                      "y": [
                        -6
                      ],
                      "yaxis": "y"
                    }
                  ],
                  "layout": {
                    "title": {
                      "text": "Kevin Shattenkirk hit Marcus Kruger"
                    }
                  },
                  "name": "67"
                },
                {
                  "data": [
                    {
                      "hovertemplate": "event idx=68<br>x=%{x}<br>y=%{y}<extra></extra>",
                      "legendgroup": "",
                      "marker": {
                        "color": "#636efa",
                        "symbol": "circle"
                      },
                      "mode": "markers",
                      "name": "",
                      "orientation": "v",
                      "showlegend": false,
                      "type": "scatter",
                      "x": [
                        76
                      ],
                      "xaxis": "x",
                      "y": [
                        38
                      ],
                      "yaxis": "y"
                    }
                  ],
                  "layout": {
                    "title": {
                      "text": "Tyler Motte hit Vladimir Tarasenko"
                    }
                  },
                  "name": "68"
                },
                {
                  "data": [
                    {
                      "hovertemplate": "event idx=69<br>x=%{x}<br>y=%{y}<extra></extra>",
                      "legendgroup": "",
                      "marker": {
                        "color": "#636efa",
                        "symbol": "circle"
                      },
                      "mode": "markers",
                      "name": "",
                      "orientation": "v",
                      "showlegend": false,
                      "type": "scatter",
                      "x": [
                        null
                      ],
                      "xaxis": "x",
                      "y": [
                        null
                      ],
                      "yaxis": "y"
                    }
                  ],
                  "layout": {
                    "title": {
                      "text": "Icing"
                    }
                  },
                  "name": "69"
                },
                {
                  "data": [
                    {
                      "hovertemplate": "event idx=70<br>x=%{x}<br>y=%{y}<extra></extra>",
                      "legendgroup": "",
                      "marker": {
                        "color": "#636efa",
                        "symbol": "circle"
                      },
                      "mode": "markers",
                      "name": "",
                      "orientation": "v",
                      "showlegend": false,
                      "type": "scatter",
                      "x": [
                        69
                      ],
                      "xaxis": "x",
                      "y": [
                        -22
                      ],
                      "yaxis": "y"
                    }
                  ],
                  "layout": {
                    "title": {
                      "text": "Jonathan Toews faceoff won against Paul Stastny"
                    }
                  },
                  "name": "70"
                },
                {
                  "data": [
                    {
                      "hovertemplate": "event idx=71<br>x=%{x}<br>y=%{y}<extra></extra>",
                      "legendgroup": "",
                      "marker": {
                        "color": "#636efa",
                        "symbol": "circle"
                      },
                      "mode": "markers",
                      "name": "",
                      "orientation": "v",
                      "showlegend": false,
                      "type": "scatter",
                      "x": [
                        80
                      ],
                      "xaxis": "x",
                      "y": [
                        -38
                      ],
                      "yaxis": "y"
                    }
                  ],
                  "layout": {
                    "title": {
                      "text": "Michal Kempny hit Alexander Steen"
                    }
                  },
                  "name": "71"
                },
                {
                  "data": [
                    {
                      "hovertemplate": "event idx=72<br>x=%{x}<br>y=%{y}<extra></extra>",
                      "legendgroup": "",
                      "marker": {
                        "color": "#636efa",
                        "symbol": "circle"
                      },
                      "mode": "markers",
                      "name": "",
                      "orientation": "v",
                      "showlegend": false,
                      "type": "scatter",
                      "x": [
                        78
                      ],
                      "xaxis": "x",
                      "y": [
                        30
                      ],
                      "yaxis": "y"
                    }
                  ],
                  "layout": {
                    "title": {
                      "text": "Patrik Berglund Wrist Shot saved by Corey Crawford"
                    }
                  },
                  "name": "72"
                },
                {
                  "data": [
                    {
                      "hovertemplate": "event idx=73<br>x=%{x}<br>y=%{y}<extra></extra>",
                      "legendgroup": "",
                      "marker": {
                        "color": "#636efa",
                        "symbol": "circle"
                      },
                      "mode": "markers",
                      "name": "",
                      "orientation": "v",
                      "showlegend": false,
                      "type": "scatter",
                      "x": [
                        null
                      ],
                      "xaxis": "x",
                      "y": [
                        null
                      ],
                      "yaxis": "y"
                    }
                  ],
                  "layout": {
                    "title": {
                      "text": "Goalie Stopped"
                    }
                  },
                  "name": "73"
                },
                {
                  "data": [
                    {
                      "hovertemplate": "event idx=74<br>x=%{x}<br>y=%{y}<extra></extra>",
                      "legendgroup": "",
                      "marker": {
                        "color": "#636efa",
                        "symbol": "circle"
                      },
                      "mode": "markers",
                      "name": "",
                      "orientation": "v",
                      "showlegend": false,
                      "type": "scatter",
                      "x": [
                        69
                      ],
                      "xaxis": "x",
                      "y": [
                        22
                      ],
                      "yaxis": "y"
                    }
                  ],
                  "layout": {
                    "title": {
                      "text": "Patrik Berglund faceoff won against Artem Anisimov"
                    }
                  },
                  "name": "74"
                },
                {
                  "data": [
                    {
                      "hovertemplate": "event idx=75<br>x=%{x}<br>y=%{y}<extra></extra>",
                      "legendgroup": "",
                      "marker": {
                        "color": "#636efa",
                        "symbol": "circle"
                      },
                      "mode": "markers",
                      "name": "",
                      "orientation": "v",
                      "showlegend": false,
                      "type": "scatter",
                      "x": [
                        -94
                      ],
                      "xaxis": "x",
                      "y": [
                        32
                      ],
                      "yaxis": "y"
                    }
                  ],
                  "layout": {
                    "title": {
                      "text": "Artemi Panarin hit Joel Edmundson"
                    }
                  },
                  "name": "75"
                },
                {
                  "data": [
                    {
                      "hovertemplate": "event idx=76<br>x=%{x}<br>y=%{y}<extra></extra>",
                      "legendgroup": "",
                      "marker": {
                        "color": "#636efa",
                        "symbol": "circle"
                      },
                      "mode": "markers",
                      "name": "",
                      "orientation": "v",
                      "showlegend": false,
                      "type": "scatter",
                      "x": [
                        -75
                      ],
                      "xaxis": "x",
                      "y": [
                        -30
                      ],
                      "yaxis": "y"
                    }
                  ],
                  "layout": {
                    "title": {
                      "text": "Giveaway by Colton Parayko"
                    }
                  },
                  "name": "76"
                },
                {
                  "data": [
                    {
                      "hovertemplate": "event idx=77<br>x=%{x}<br>y=%{y}<extra></extra>",
                      "legendgroup": "",
                      "marker": {
                        "color": "#636efa",
                        "symbol": "circle"
                      },
                      "mode": "markers",
                      "name": "",
                      "orientation": "v",
                      "showlegend": false,
                      "type": "scatter",
                      "x": [
                        -62
                      ],
                      "xaxis": "x",
                      "y": [
                        37
                      ],
                      "yaxis": "y"
                    }
                  ],
                  "layout": {
                    "title": {
                      "text": "Joel Edmundson hit Patrick Kane"
                    }
                  },
                  "name": "77"
                },
                {
                  "data": [
                    {
                      "hovertemplate": "event idx=78<br>x=%{x}<br>y=%{y}<extra></extra>",
                      "legendgroup": "",
                      "marker": {
                        "color": "#636efa",
                        "symbol": "circle"
                      },
                      "mode": "markers",
                      "name": "",
                      "orientation": "v",
                      "showlegend": false,
                      "type": "scatter",
                      "x": [
                        -84
                      ],
                      "xaxis": "x",
                      "y": [
                        -18
                      ],
                      "yaxis": "y"
                    }
                  ],
                  "layout": {
                    "title": {
                      "text": "Giveaway by Colton Parayko"
                    }
                  },
                  "name": "78"
                },
                {
                  "data": [
                    {
                      "hovertemplate": "event idx=79<br>x=%{x}<br>y=%{y}<extra></extra>",
                      "legendgroup": "",
                      "marker": {
                        "color": "#636efa",
                        "symbol": "circle"
                      },
                      "mode": "markers",
                      "name": "",
                      "orientation": "v",
                      "showlegend": false,
                      "type": "scatter",
                      "x": [
                        69
                      ],
                      "xaxis": "x",
                      "y": [
                        -33
                      ],
                      "yaxis": "y"
                    }
                  ],
                  "layout": {
                    "title": {
                      "text": "Kyle Brodziak Snap Shot saved by Corey Crawford"
                    }
                  },
                  "name": "79"
                },
                {
                  "data": [
                    {
                      "hovertemplate": "event idx=80<br>x=%{x}<br>y=%{y}<extra></extra>",
                      "legendgroup": "",
                      "marker": {
                        "color": "#636efa",
                        "symbol": "circle"
                      },
                      "mode": "markers",
                      "name": "",
                      "orientation": "v",
                      "showlegend": false,
                      "type": "scatter",
                      "x": [
                        null
                      ],
                      "xaxis": "x",
                      "y": [
                        null
                      ],
                      "yaxis": "y"
                    }
                  ],
                  "layout": {
                    "title": {
                      "text": "Goalie Stopped"
                    }
                  },
                  "name": "80"
                },
                {
                  "data": [
                    {
                      "hovertemplate": "event idx=81<br>x=%{x}<br>y=%{y}<extra></extra>",
                      "legendgroup": "",
                      "marker": {
                        "color": "#636efa",
                        "symbol": "circle"
                      },
                      "mode": "markers",
                      "name": "",
                      "orientation": "v",
                      "showlegend": false,
                      "type": "scatter",
                      "x": [
                        69
                      ],
                      "xaxis": "x",
                      "y": [
                        -22
                      ],
                      "yaxis": "y"
                    }
                  ],
                  "layout": {
                    "title": {
                      "text": "Jonathan Toews faceoff won against Paul Stastny"
                    }
                  },
                  "name": "81"
                },
                {
                  "data": [
                    {
                      "hovertemplate": "event idx=82<br>x=%{x}<br>y=%{y}<extra></extra>",
                      "legendgroup": "",
                      "marker": {
                        "color": "#636efa",
                        "symbol": "circle"
                      },
                      "mode": "markers",
                      "name": "",
                      "orientation": "v",
                      "showlegend": false,
                      "type": "scatter",
                      "x": [
                        -55
                      ],
                      "xaxis": "x",
                      "y": [
                        -37
                      ],
                      "yaxis": "y"
                    }
                  ],
                  "layout": {
                    "title": {
                      "text": "Jori Lehtera hit Marian Hossa"
                    }
                  },
                  "name": "82"
                },
                {
                  "data": [
                    {
                      "hovertemplate": "event idx=83<br>x=%{x}<br>y=%{y}<extra></extra>",
                      "legendgroup": "",
                      "marker": {
                        "color": "#636efa",
                        "symbol": "circle"
                      },
                      "mode": "markers",
                      "name": "",
                      "orientation": "v",
                      "showlegend": false,
                      "type": "scatter",
                      "x": [
                        -3
                      ],
                      "xaxis": "x",
                      "y": [
                        -40
                      ],
                      "yaxis": "y"
                    }
                  ],
                  "layout": {
                    "title": {
                      "text": "Patrick Kane hit Colton Parayko"
                    }
                  },
                  "name": "83"
                },
                {
                  "data": [
                    {
                      "hovertemplate": "event idx=84<br>x=%{x}<br>y=%{y}<extra></extra>",
                      "legendgroup": "",
                      "marker": {
                        "color": "#636efa",
                        "symbol": "circle"
                      },
                      "mode": "markers",
                      "name": "",
                      "orientation": "v",
                      "showlegend": false,
                      "type": "scatter",
                      "x": [
                        null
                      ],
                      "xaxis": "x",
                      "y": [
                        null
                      ],
                      "yaxis": "y"
                    }
                  ],
                  "layout": {
                    "title": {
                      "text": "Offside"
                    }
                  },
                  "name": "84"
                },
                {
                  "data": [
                    {
                      "hovertemplate": "event idx=85<br>x=%{x}<br>y=%{y}<extra></extra>",
                      "legendgroup": "",
                      "marker": {
                        "color": "#636efa",
                        "symbol": "circle"
                      },
                      "mode": "markers",
                      "name": "",
                      "orientation": "v",
                      "showlegend": false,
                      "type": "scatter",
                      "x": [
                        20
                      ],
                      "xaxis": "x",
                      "y": [
                        -22
                      ],
                      "yaxis": "y"
                    }
                  ],
                  "layout": {
                    "title": {
                      "text": "Patrik Berglund faceoff won against Artem Anisimov"
                    }
                  },
                  "name": "85"
                },
                {
                  "data": [
                    {
                      "hovertemplate": "event idx=86<br>x=%{x}<br>y=%{y}<extra></extra>",
                      "legendgroup": "",
                      "marker": {
                        "color": "#636efa",
                        "symbol": "circle"
                      },
                      "mode": "markers",
                      "name": "",
                      "orientation": "v",
                      "showlegend": false,
                      "type": "scatter",
                      "x": [
                        95
                      ],
                      "xaxis": "x",
                      "y": [
                        3
                      ],
                      "yaxis": "y"
                    }
                  ],
                  "layout": {
                    "title": {
                      "text": "Brian Campbell hit Jay Bouwmeester"
                    }
                  },
                  "name": "86"
                },
                {
                  "data": [
                    {
                      "hovertemplate": "event idx=87<br>x=%{x}<br>y=%{y}<extra></extra>",
                      "legendgroup": "",
                      "marker": {
                        "color": "#636efa",
                        "symbol": "circle"
                      },
                      "mode": "markers",
                      "name": "",
                      "orientation": "v",
                      "showlegend": false,
                      "type": "scatter",
                      "x": [
                        -48
                      ],
                      "xaxis": "x",
                      "y": [
                        29
                      ],
                      "yaxis": "y"
                    }
                  ],
                  "layout": {
                    "title": {
                      "text": "Takeaway by Dmitrij Jaskin"
                    }
                  },
                  "name": "87"
                },
                {
                  "data": [
                    {
                      "hovertemplate": "event idx=88<br>x=%{x}<br>y=%{y}<extra></extra>",
                      "legendgroup": "",
                      "marker": {
                        "color": "#636efa",
                        "symbol": "circle"
                      },
                      "mode": "markers",
                      "name": "",
                      "orientation": "v",
                      "showlegend": false,
                      "type": "scatter",
                      "x": [
                        -47
                      ],
                      "xaxis": "x",
                      "y": [
                        8
                      ],
                      "yaxis": "y"
                    }
                  ],
                  "layout": {
                    "title": {
                      "text": "Artem Anisimov - Wide of Net"
                    }
                  },
                  "name": "88"
                },
                {
                  "data": [
                    {
                      "hovertemplate": "event idx=89<br>x=%{x}<br>y=%{y}<extra></extra>",
                      "legendgroup": "",
                      "marker": {
                        "color": "#636efa",
                        "symbol": "circle"
                      },
                      "mode": "markers",
                      "name": "",
                      "orientation": "v",
                      "showlegend": false,
                      "type": "scatter",
                      "x": [
                        -71
                      ],
                      "xaxis": "x",
                      "y": [
                        -38
                      ],
                      "yaxis": "y"
                    }
                  ],
                  "layout": {
                    "title": {
                      "text": "Vinnie Hinostroza hit Robert Bortuzzo"
                    }
                  },
                  "name": "89"
                },
                {
                  "data": [
                    {
                      "hovertemplate": "event idx=90<br>x=%{x}<br>y=%{y}<extra></extra>",
                      "legendgroup": "",
                      "marker": {
                        "color": "#636efa",
                        "symbol": "circle"
                      },
                      "mode": "markers",
                      "name": "",
                      "orientation": "v",
                      "showlegend": false,
                      "type": "scatter",
                      "x": [
                        null
                      ],
                      "xaxis": "x",
                      "y": [
                        null
                      ],
                      "yaxis": "y"
                    }
                  ],
                  "layout": {
                    "title": {
                      "text": "Puck in Benches"
                    }
                  },
                  "name": "90"
                },
                {
                  "data": [
                    {
                      "hovertemplate": "event idx=91<br>x=%{x}<br>y=%{y}<extra></extra>",
                      "legendgroup": "",
                      "marker": {
                        "color": "#636efa",
                        "symbol": "circle"
                      },
                      "mode": "markers",
                      "name": "",
                      "orientation": "v",
                      "showlegend": false,
                      "type": "scatter",
                      "x": [
                        0
                      ],
                      "xaxis": "x",
                      "y": [
                        0
                      ],
                      "yaxis": "y"
                    }
                  ],
                  "layout": {
                    "title": {
                      "text": "Kyle Brodziak faceoff won against Nick Schmaltz"
                    }
                  },
                  "name": "91"
                },
                {
                  "data": [
                    {
                      "hovertemplate": "event idx=92<br>x=%{x}<br>y=%{y}<extra></extra>",
                      "legendgroup": "",
                      "marker": {
                        "color": "#636efa",
                        "symbol": "circle"
                      },
                      "mode": "markers",
                      "name": "",
                      "orientation": "v",
                      "showlegend": false,
                      "type": "scatter",
                      "x": [
                        51
                      ],
                      "xaxis": "x",
                      "y": [
                        -7
                      ],
                      "yaxis": "y"
                    }
                  ],
                  "layout": {
                    "title": {
                      "text": "Ryan Reaves - Wide of Net"
                    }
                  },
                  "name": "92"
                },
                {
                  "data": [
                    {
                      "hovertemplate": "event idx=93<br>x=%{x}<br>y=%{y}<extra></extra>",
                      "legendgroup": "",
                      "marker": {
                        "color": "#636efa",
                        "symbol": "circle"
                      },
                      "mode": "markers",
                      "name": "",
                      "orientation": "v",
                      "showlegend": false,
                      "type": "scatter",
                      "x": [
                        86
                      ],
                      "xaxis": "x",
                      "y": [
                        38
                      ],
                      "yaxis": "y"
                    }
                  ],
                  "layout": {
                    "title": {
                      "text": "Scottie Upshall hit Brent Seabrook"
                    }
                  },
                  "name": "93"
                },
                {
                  "data": [
                    {
                      "hovertemplate": "event idx=94<br>x=%{x}<br>y=%{y}<extra></extra>",
                      "legendgroup": "",
                      "marker": {
                        "color": "#636efa",
                        "symbol": "circle"
                      },
                      "mode": "markers",
                      "name": "",
                      "orientation": "v",
                      "showlegend": false,
                      "type": "scatter",
                      "x": [
                        54
                      ],
                      "xaxis": "x",
                      "y": [
                        35
                      ],
                      "yaxis": "y"
                    }
                  ],
                  "layout": {
                    "title": {
                      "text": "Kyle Brodziak hit Jordin Tootoo"
                    }
                  },
                  "name": "94"
                },
                {
                  "data": [
                    {
                      "hovertemplate": "event idx=95<br>x=%{x}<br>y=%{y}<extra></extra>",
                      "legendgroup": "",
                      "marker": {
                        "color": "#636efa",
                        "symbol": "circle"
                      },
                      "mode": "markers",
                      "name": "",
                      "orientation": "v",
                      "showlegend": false,
                      "type": "scatter",
                      "x": [
                        36
                      ],
                      "xaxis": "x",
                      "y": [
                        -33
                      ],
                      "yaxis": "y"
                    }
                  ],
                  "layout": {
                    "title": {
                      "text": "Colton Parayko Slap Shot saved by Corey Crawford"
                    }
                  },
                  "name": "95"
                },
                {
                  "data": [
                    {
                      "hovertemplate": "event idx=96<br>x=%{x}<br>y=%{y}<extra></extra>",
                      "legendgroup": "",
                      "marker": {
                        "color": "#636efa",
                        "symbol": "circle"
                      },
                      "mode": "markers",
                      "name": "",
                      "orientation": "v",
                      "showlegend": false,
                      "type": "scatter",
                      "x": [
                        -13
                      ],
                      "xaxis": "x",
                      "y": [
                        27
                      ],
                      "yaxis": "y"
                    }
                  ],
                  "layout": {
                    "title": {
                      "text": "Takeaway by Alexander Steen"
                    }
                  },
                  "name": "96"
                },
                {
                  "data": [
                    {
                      "hovertemplate": "event idx=97<br>x=%{x}<br>y=%{y}<extra></extra>",
                      "legendgroup": "",
                      "marker": {
                        "color": "#636efa",
                        "symbol": "circle"
                      },
                      "mode": "markers",
                      "name": "",
                      "orientation": "v",
                      "showlegend": false,
                      "type": "scatter",
                      "x": [
                        null
                      ],
                      "xaxis": "x",
                      "y": [
                        null
                      ],
                      "yaxis": "y"
                    }
                  ],
                  "layout": {
                    "title": {
                      "text": "High Stick"
                    }
                  },
                  "name": "97"
                },
                {
                  "data": [
                    {
                      "hovertemplate": "event idx=98<br>x=%{x}<br>y=%{y}<extra></extra>",
                      "legendgroup": "",
                      "marker": {
                        "color": "#636efa",
                        "symbol": "circle"
                      },
                      "mode": "markers",
                      "name": "",
                      "orientation": "v",
                      "showlegend": false,
                      "type": "scatter",
                      "x": [
                        -69
                      ],
                      "xaxis": "x",
                      "y": [
                        -22
                      ],
                      "yaxis": "y"
                    }
                  ],
                  "layout": {
                    "title": {
                      "text": "Artem Anisimov faceoff won against Kyle Brodziak"
                    }
                  },
                  "name": "98"
                },
                {
                  "data": [
                    {
                      "hovertemplate": "event idx=99<br>x=%{x}<br>y=%{y}<extra></extra>",
                      "legendgroup": "",
                      "marker": {
                        "color": "#636efa",
                        "symbol": "circle"
                      },
                      "mode": "markers",
                      "name": "",
                      "orientation": "v",
                      "showlegend": false,
                      "type": "scatter",
                      "x": [
                        -57
                      ],
                      "xaxis": "x",
                      "y": [
                        41
                      ],
                      "yaxis": "y"
                    }
                  ],
                  "layout": {
                    "title": {
                      "text": "Joel Edmundson hit Artem Anisimov"
                    }
                  },
                  "name": "99"
                },
                {
                  "data": [
                    {
                      "hovertemplate": "event idx=100<br>x=%{x}<br>y=%{y}<extra></extra>",
                      "legendgroup": "",
                      "marker": {
                        "color": "#636efa",
                        "symbol": "circle"
                      },
                      "mode": "markers",
                      "name": "",
                      "orientation": "v",
                      "showlegend": false,
                      "type": "scatter",
                      "x": [
                        -50
                      ],
                      "xaxis": "x",
                      "y": [
                        -38
                      ],
                      "yaxis": "y"
                    }
                  ],
                  "layout": {
                    "title": {
                      "text": "Colton Parayko Holding against Patrick Kane"
                    }
                  },
                  "name": "100"
                },
                {
                  "data": [
                    {
                      "hovertemplate": "event idx=101<br>x=%{x}<br>y=%{y}<extra></extra>",
                      "legendgroup": "",
                      "marker": {
                        "color": "#636efa",
                        "symbol": "circle"
                      },
                      "mode": "markers",
                      "name": "",
                      "orientation": "v",
                      "showlegend": false,
                      "type": "scatter",
                      "x": [
                        -69
                      ],
                      "xaxis": "x",
                      "y": [
                        -22
                      ],
                      "yaxis": "y"
                    }
                  ],
                  "layout": {
                    "title": {
                      "text": "Paul Stastny faceoff won against Jonathan Toews"
                    }
                  },
                  "name": "101"
                },
                {
                  "data": [
                    {
                      "hovertemplate": "event idx=102<br>x=%{x}<br>y=%{y}<extra></extra>",
                      "legendgroup": "",
                      "marker": {
                        "color": "#636efa",
                        "symbol": "circle"
                      },
                      "mode": "markers",
                      "name": "",
                      "orientation": "v",
                      "showlegend": false,
                      "type": "scatter",
                      "x": [
                        -94
                      ],
                      "xaxis": "x",
                      "y": [
                        5
                      ],
                      "yaxis": "y"
                    }
                  ],
                  "layout": {
                    "title": {
                      "text": "Giveaway by Jake Allen"
                    }
                  },
                  "name": "102"
                },
                {
                  "data": [
                    {
                      "hovertemplate": "event idx=103<br>x=%{x}<br>y=%{y}<extra></extra>",
                      "legendgroup": "",
                      "marker": {
                        "color": "#636efa",
                        "symbol": "circle"
                      },
                      "mode": "markers",
                      "name": "",
                      "orientation": "v",
                      "showlegend": false,
                      "type": "scatter",
                      "x": [
                        -45
                      ],
                      "xaxis": "x",
                      "y": [
                        -34
                      ],
                      "yaxis": "y"
                    }
                  ],
                  "layout": {
                    "title": {
                      "text": "Robert Bortuzzo hit Artemi Panarin"
                    }
                  },
                  "name": "103"
                },
                {
                  "data": [
                    {
                      "hovertemplate": "event idx=104<br>x=%{x}<br>y=%{y}<extra></extra>",
                      "legendgroup": "",
                      "marker": {
                        "color": "#636efa",
                        "symbol": "circle"
                      },
                      "mode": "markers",
                      "name": "",
                      "orientation": "v",
                      "showlegend": false,
                      "type": "scatter",
                      "x": [
                        null
                      ],
                      "xaxis": "x",
                      "y": [
                        null
                      ],
                      "yaxis": "y"
                    }
                  ],
                  "layout": {
                    "title": {
                      "text": "End of 1st Period"
                    }
                  },
                  "name": "104"
                },
                {
                  "data": [
                    {
                      "hovertemplate": "event idx=105<br>x=%{x}<br>y=%{y}<extra></extra>",
                      "legendgroup": "",
                      "marker": {
                        "color": "#636efa",
                        "symbol": "circle"
                      },
                      "mode": "markers",
                      "name": "",
                      "orientation": "v",
                      "showlegend": false,
                      "type": "scatter",
                      "x": [
                        null
                      ],
                      "xaxis": "x",
                      "y": [
                        null
                      ],
                      "yaxis": "y"
                    }
                  ],
                  "layout": {
                    "title": {
                      "text": "Period Official"
                    }
                  },
                  "name": "105"
                },
                {
                  "data": [
                    {
                      "hovertemplate": "event idx=106<br>x=%{x}<br>y=%{y}<extra></extra>",
                      "legendgroup": "",
                      "marker": {
                        "color": "#636efa",
                        "symbol": "circle"
                      },
                      "mode": "markers",
                      "name": "",
                      "orientation": "v",
                      "showlegend": false,
                      "type": "scatter",
                      "x": [
                        null
                      ],
                      "xaxis": "x",
                      "y": [
                        null
                      ],
                      "yaxis": "y"
                    }
                  ],
                  "layout": {
                    "title": {
                      "text": "Period Ready"
                    }
                  },
                  "name": "106"
                },
                {
                  "data": [
                    {
                      "hovertemplate": "event idx=107<br>x=%{x}<br>y=%{y}<extra></extra>",
                      "legendgroup": "",
                      "marker": {
                        "color": "#636efa",
                        "symbol": "circle"
                      },
                      "mode": "markers",
                      "name": "",
                      "orientation": "v",
                      "showlegend": false,
                      "type": "scatter",
                      "x": [
                        null
                      ],
                      "xaxis": "x",
                      "y": [
                        null
                      ],
                      "yaxis": "y"
                    }
                  ],
                  "layout": {
                    "title": {
                      "text": "Period Start"
                    }
                  },
                  "name": "107"
                },
                {
                  "data": [
                    {
                      "hovertemplate": "event idx=108<br>x=%{x}<br>y=%{y}<extra></extra>",
                      "legendgroup": "",
                      "marker": {
                        "color": "#636efa",
                        "symbol": "circle"
                      },
                      "mode": "markers",
                      "name": "",
                      "orientation": "v",
                      "showlegend": false,
                      "type": "scatter",
                      "x": [
                        0
                      ],
                      "xaxis": "x",
                      "y": [
                        0
                      ],
                      "yaxis": "y"
                    }
                  ],
                  "layout": {
                    "title": {
                      "text": "Paul Stastny faceoff won against Jonathan Toews"
                    }
                  },
                  "name": "108"
                },
                {
                  "data": [
                    {
                      "hovertemplate": "event idx=109<br>x=%{x}<br>y=%{y}<extra></extra>",
                      "legendgroup": "",
                      "marker": {
                        "color": "#636efa",
                        "symbol": "circle"
                      },
                      "mode": "markers",
                      "name": "",
                      "orientation": "v",
                      "showlegend": false,
                      "type": "scatter",
                      "x": [
                        null
                      ],
                      "xaxis": "x",
                      "y": [
                        null
                      ],
                      "yaxis": "y"
                    }
                  ],
                  "layout": {
                    "title": {
                      "text": "Offside"
                    }
                  },
                  "name": "109"
                },
                {
                  "data": [
                    {
                      "hovertemplate": "event idx=110<br>x=%{x}<br>y=%{y}<extra></extra>",
                      "legendgroup": "",
                      "marker": {
                        "color": "#636efa",
                        "symbol": "circle"
                      },
                      "mode": "markers",
                      "name": "",
                      "orientation": "v",
                      "showlegend": false,
                      "type": "scatter",
                      "x": [
                        0
                      ],
                      "xaxis": "x",
                      "y": [
                        0
                      ],
                      "yaxis": "y"
                    }
                  ],
                  "layout": {
                    "title": {
                      "text": "Artem Anisimov faceoff won against Jori Lehtera"
                    }
                  },
                  "name": "110"
                },
                {
                  "data": [
                    {
                      "hovertemplate": "event idx=111<br>x=%{x}<br>y=%{y}<extra></extra>",
                      "legendgroup": "",
                      "marker": {
                        "color": "#636efa",
                        "symbol": "circle"
                      },
                      "mode": "markers",
                      "name": "",
                      "orientation": "v",
                      "showlegend": false,
                      "type": "scatter",
                      "x": [
                        -30
                      ],
                      "xaxis": "x",
                      "y": [
                        -18
                      ],
                      "yaxis": "y"
                    }
                  ],
                  "layout": {
                    "title": {
                      "text": "Giveaway by Richard Panik"
                    }
                  },
                  "name": "111"
                },
                {
                  "data": [
                    {
                      "hovertemplate": "event idx=112<br>x=%{x}<br>y=%{y}<extra></extra>",
                      "legendgroup": "",
                      "marker": {
                        "color": "#636efa",
                        "symbol": "circle"
                      },
                      "mode": "markers",
                      "name": "",
                      "orientation": "v",
                      "showlegend": false,
                      "type": "scatter",
                      "x": [
                        -77
                      ],
                      "xaxis": "x",
                      "y": [
                        4
                      ],
                      "yaxis": "y"
                    }
                  ],
                  "layout": {
                    "title": {
                      "text": "David Perron Wrist Shot saved by Corey Crawford"
                    }
                  },
                  "name": "112"
                },
                {
                  "data": [
                    {
                      "hovertemplate": "event idx=113<br>x=%{x}<br>y=%{y}<extra></extra>",
                      "legendgroup": "",
                      "marker": {
                        "color": "#636efa",
                        "symbol": "circle"
                      },
                      "mode": "markers",
                      "name": "",
                      "orientation": "v",
                      "showlegend": false,
                      "type": "scatter",
                      "x": [
                        -91
                      ],
                      "xaxis": "x",
                      "y": [
                        13
                      ],
                      "yaxis": "y"
                    }
                  ],
                  "layout": {
                    "title": {
                      "text": "David Perron Wrist Shot saved by Corey Crawford"
                    }
                  },
                  "name": "113"
                },
                {
                  "data": [
                    {
                      "hovertemplate": "event idx=114<br>x=%{x}<br>y=%{y}<extra></extra>",
                      "legendgroup": "",
                      "marker": {
                        "color": "#636efa",
                        "symbol": "circle"
                      },
                      "mode": "markers",
                      "name": "",
                      "orientation": "v",
                      "showlegend": false,
                      "type": "scatter",
                      "x": [
                        -81
                      ],
                      "xaxis": "x",
                      "y": [
                        6
                      ],
                      "yaxis": "y"
                    }
                  ],
                  "layout": {
                    "title": {
                      "text": "Jori Lehtera Wrist Shot saved by Corey Crawford"
                    }
                  },
                  "name": "114"
                },
                {
                  "data": [
                    {
                      "hovertemplate": "event idx=115<br>x=%{x}<br>y=%{y}<extra></extra>",
                      "legendgroup": "",
                      "marker": {
                        "color": "#636efa",
                        "symbol": "circle"
                      },
                      "mode": "markers",
                      "name": "",
                      "orientation": "v",
                      "showlegend": false,
                      "type": "scatter",
                      "x": [
                        null
                      ],
                      "xaxis": "x",
                      "y": [
                        null
                      ],
                      "yaxis": "y"
                    }
                  ],
                  "layout": {
                    "title": {
                      "text": "Goalie Stopped"
                    }
                  },
                  "name": "115"
                },
                {
                  "data": [
                    {
                      "hovertemplate": "event idx=116<br>x=%{x}<br>y=%{y}<extra></extra>",
                      "legendgroup": "",
                      "marker": {
                        "color": "#636efa",
                        "symbol": "circle"
                      },
                      "mode": "markers",
                      "name": "",
                      "orientation": "v",
                      "showlegend": false,
                      "type": "scatter",
                      "x": [
                        -69
                      ],
                      "xaxis": "x",
                      "y": [
                        22
                      ],
                      "yaxis": "y"
                    }
                  ],
                  "layout": {
                    "title": {
                      "text": "Jori Lehtera faceoff won against Marcus Kruger"
                    }
                  },
                  "name": "116"
                },
                {
                  "data": [
                    {
                      "hovertemplate": "event idx=117<br>x=%{x}<br>y=%{y}<extra></extra>",
                      "legendgroup": "",
                      "marker": {
                        "color": "#636efa",
                        "symbol": "circle"
                      },
                      "mode": "markers",
                      "name": "",
                      "orientation": "v",
                      "showlegend": false,
                      "type": "scatter",
                      "x": [
                        null
                      ],
                      "xaxis": "x",
                      "y": [
                        null
                      ],
                      "yaxis": "y"
                    }
                  ],
                  "layout": {
                    "title": {
                      "text": "Icing"
                    }
                  },
                  "name": "117"
                },
                {
                  "data": [
                    {
                      "hovertemplate": "event idx=118<br>x=%{x}<br>y=%{y}<extra></extra>",
                      "legendgroup": "",
                      "marker": {
                        "color": "#636efa",
                        "symbol": "circle"
                      },
                      "mode": "markers",
                      "name": "",
                      "orientation": "v",
                      "showlegend": false,
                      "type": "scatter",
                      "x": [
                        69
                      ],
                      "xaxis": "x",
                      "y": [
                        22
                      ],
                      "yaxis": "y"
                    }
                  ],
                  "layout": {
                    "title": {
                      "text": "Jori Lehtera faceoff won against Artem Anisimov"
                    }
                  },
                  "name": "118"
                },
                {
                  "data": [
                    {
                      "hovertemplate": "event idx=119<br>x=%{x}<br>y=%{y}<extra></extra>",
                      "legendgroup": "",
                      "marker": {
                        "color": "#636efa",
                        "symbol": "circle"
                      },
                      "mode": "markers",
                      "name": "",
                      "orientation": "v",
                      "showlegend": false,
                      "type": "scatter",
                      "x": [
                        94
                      ],
                      "xaxis": "x",
                      "y": [
                        8
                      ],
                      "yaxis": "y"
                    }
                  ],
                  "layout": {
                    "title": {
                      "text": "Giveaway by Kevin Shattenkirk"
                    }
                  },
                  "name": "119"
                },
                {
                  "data": [
                    {
                      "hovertemplate": "event idx=120<br>x=%{x}<br>y=%{y}<extra></extra>",
                      "legendgroup": "",
                      "marker": {
                        "color": "#636efa",
                        "symbol": "circle"
                      },
                      "mode": "markers",
                      "name": "",
                      "orientation": "v",
                      "showlegend": false,
                      "type": "scatter",
                      "x": [
                        -72
                      ],
                      "xaxis": "x",
                      "y": [
                        8
                      ],
                      "yaxis": "y"
                    }
                  ],
                  "layout": {
                    "title": {
                      "text": "Michal Kempny blocked shot from Alex Pietrangelo"
                    }
                  },
                  "name": "120"
                },
                {
                  "data": [
                    {
                      "hovertemplate": "event idx=121<br>x=%{x}<br>y=%{y}<extra></extra>",
                      "legendgroup": "",
                      "marker": {
                        "color": "#636efa",
                        "symbol": "circle"
                      },
                      "mode": "markers",
                      "name": "",
                      "orientation": "v",
                      "showlegend": false,
                      "type": "scatter",
                      "x": [
                        64
                      ],
                      "xaxis": "x",
                      "y": [
                        1
                      ],
                      "yaxis": "y"
                    }
                  ],
                  "layout": {
                    "title": {
                      "text": "Vladimir Tarasenko blocked shot from Brent Seabrook"
                    }
                  },
                  "name": "121"
                },
                {
                  "data": [
                    {
                      "hovertemplate": "event idx=122<br>x=%{x}<br>y=%{y}<extra></extra>",
                      "legendgroup": "",
                      "marker": {
                        "color": "#636efa",
                        "symbol": "circle"
                      },
                      "mode": "markers",
                      "name": "",
                      "orientation": "v",
                      "showlegend": false,
                      "type": "scatter",
                      "x": [
                        null
                      ],
                      "xaxis": "x",
                      "y": [
                        null
                      ],
                      "yaxis": "y"
                    }
                  ],
                  "layout": {
                    "title": {
                      "text": "Offside"
                    }
                  },
                  "name": "122"
                },
                {
                  "data": [
                    {
                      "hovertemplate": "event idx=123<br>x=%{x}<br>y=%{y}<extra></extra>",
                      "legendgroup": "",
                      "marker": {
                        "color": "#636efa",
                        "symbol": "circle"
                      },
                      "mode": "markers",
                      "name": "",
                      "orientation": "v",
                      "showlegend": false,
                      "type": "scatter",
                      "x": [
                        -20
                      ],
                      "xaxis": "x",
                      "y": [
                        22
                      ],
                      "yaxis": "y"
                    }
                  ],
                  "layout": {
                    "title": {
                      "text": "Jonathan Toews faceoff won against Patrik Berglund"
                    }
                  },
                  "name": "123"
                },
                {
                  "data": [
                    {
                      "hovertemplate": "event idx=124<br>x=%{x}<br>y=%{y}<extra></extra>",
                      "legendgroup": "",
                      "marker": {
                        "color": "#636efa",
                        "symbol": "circle"
                      },
                      "mode": "markers",
                      "name": "",
                      "orientation": "v",
                      "showlegend": false,
                      "type": "scatter",
                      "x": [
                        60
                      ],
                      "xaxis": "x",
                      "y": [
                        -23
                      ],
                      "yaxis": "y"
                    }
                  ],
                  "layout": {
                    "title": {
                      "text": "Marian Hossa Snap Shot saved by Jake Allen"
                    }
                  },
                  "name": "124"
                },
                {
                  "data": [
                    {
                      "hovertemplate": "event idx=125<br>x=%{x}<br>y=%{y}<extra></extra>",
                      "legendgroup": "",
                      "marker": {
                        "color": "#636efa",
                        "symbol": "circle"
                      },
                      "mode": "markers",
                      "name": "",
                      "orientation": "v",
                      "showlegend": false,
                      "type": "scatter",
                      "x": [
                        null
                      ],
                      "xaxis": "x",
                      "y": [
                        null
                      ],
                      "yaxis": "y"
                    }
                  ],
                  "layout": {
                    "title": {
                      "text": "Goalie Stopped"
                    }
                  },
                  "name": "125"
                },
                {
                  "data": [
                    {
                      "hovertemplate": "event idx=126<br>x=%{x}<br>y=%{y}<extra></extra>",
                      "legendgroup": "",
                      "marker": {
                        "color": "#636efa",
                        "symbol": "circle"
                      },
                      "mode": "markers",
                      "name": "",
                      "orientation": "v",
                      "showlegend": false,
                      "type": "scatter",
                      "x": [
                        69
                      ],
                      "xaxis": "x",
                      "y": [
                        -22
                      ],
                      "yaxis": "y"
                    }
                  ],
                  "layout": {
                    "title": {
                      "text": "Paul Stastny faceoff won against Jonathan Toews"
                    }
                  },
                  "name": "126"
                },
                {
                  "data": [
                    {
                      "hovertemplate": "event idx=127<br>x=%{x}<br>y=%{y}<extra></extra>",
                      "legendgroup": "",
                      "marker": {
                        "color": "#636efa",
                        "symbol": "circle"
                      },
                      "mode": "markers",
                      "name": "",
                      "orientation": "v",
                      "showlegend": false,
                      "type": "scatter",
                      "x": [
                        null
                      ],
                      "xaxis": "x",
                      "y": [
                        null
                      ],
                      "yaxis": "y"
                    }
                  ],
                  "layout": {
                    "title": {
                      "text": "Offside"
                    }
                  },
                  "name": "127"
                },
                {
                  "data": [
                    {
                      "hovertemplate": "event idx=128<br>x=%{x}<br>y=%{y}<extra></extra>",
                      "legendgroup": "",
                      "marker": {
                        "color": "#636efa",
                        "symbol": "circle"
                      },
                      "mode": "markers",
                      "name": "",
                      "orientation": "v",
                      "showlegend": false,
                      "type": "scatter",
                      "x": [
                        0
                      ],
                      "xaxis": "x",
                      "y": [
                        0
                      ],
                      "yaxis": "y"
                    }
                  ],
                  "layout": {
                    "title": {
                      "text": "Jonathan Toews faceoff won against Paul Stastny"
                    }
                  },
                  "name": "128"
                },
                {
                  "data": [
                    {
                      "hovertemplate": "event idx=129<br>x=%{x}<br>y=%{y}<extra></extra>",
                      "legendgroup": "",
                      "marker": {
                        "color": "#636efa",
                        "symbol": "circle"
                      },
                      "mode": "markers",
                      "name": "",
                      "orientation": "v",
                      "showlegend": false,
                      "type": "scatter",
                      "x": [
                        -70
                      ],
                      "xaxis": "x",
                      "y": [
                        -13
                      ],
                      "yaxis": "y"
                    }
                  ],
                  "layout": {
                    "title": {
                      "text": "Trevor van Riemsdyk Hooking against Robby Fabbri"
                    }
                  },
                  "name": "129"
                },
                {
                  "data": [
                    {
                      "hovertemplate": "event idx=130<br>x=%{x}<br>y=%{y}<extra></extra>",
                      "legendgroup": "",
                      "marker": {
                        "color": "#636efa",
                        "symbol": "circle"
                      },
                      "mode": "markers",
                      "name": "",
                      "orientation": "v",
                      "showlegend": false,
                      "type": "scatter",
                      "x": [
                        -69
                      ],
                      "xaxis": "x",
                      "y": [
                        22
                      ],
                      "yaxis": "y"
                    }
                  ],
                  "layout": {
                    "title": {
                      "text": "Patrik Berglund faceoff won against Marcus Kruger"
                    }
                  },
                  "name": "130"
                },
                {
                  "data": [
                    {
                      "hovertemplate": "event idx=131<br>x=%{x}<br>y=%{y}<extra></extra>",
                      "legendgroup": "",
                      "marker": {
                        "color": "#636efa",
                        "symbol": "circle"
                      },
                      "mode": "markers",
                      "name": "",
                      "orientation": "v",
                      "showlegend": false,
                      "type": "scatter",
                      "x": [
                        94
                      ],
                      "xaxis": "x",
                      "y": [
                        34
                      ],
                      "yaxis": "y"
                    }
                  ],
                  "layout": {
                    "title": {
                      "text": "Giveaway by Robby Fabbri"
                    }
                  },
                  "name": "131"
                },
                {
                  "data": [
                    {
                      "hovertemplate": "event idx=132<br>x=%{x}<br>y=%{y}<extra></extra>",
                      "legendgroup": "",
                      "marker": {
                        "color": "#636efa",
                        "symbol": "circle"
                      },
                      "mode": "markers",
                      "name": "",
                      "orientation": "v",
                      "showlegend": false,
                      "type": "scatter",
                      "x": [
                        -82
                      ],
                      "xaxis": "x",
                      "y": [
                        -16
                      ],
                      "yaxis": "y"
                    }
                  ],
                  "layout": {
                    "title": {
                      "text": "Jori Lehtera Wrist Shot saved by Corey Crawford"
                    }
                  },
                  "name": "132"
                },
                {
                  "data": [
                    {
                      "hovertemplate": "event idx=133<br>x=%{x}<br>y=%{y}<extra></extra>",
                      "legendgroup": "",
                      "marker": {
                        "color": "#636efa",
                        "symbol": "circle"
                      },
                      "mode": "markers",
                      "name": "",
                      "orientation": "v",
                      "showlegend": false,
                      "type": "scatter",
                      "x": [
                        -88
                      ],
                      "xaxis": "x",
                      "y": [
                        -10
                      ],
                      "yaxis": "y"
                    }
                  ],
                  "layout": {
                    "title": {
                      "text": "Giveaway by Brent Seabrook"
                    }
                  },
                  "name": "133"
                },
                {
                  "data": [
                    {
                      "hovertemplate": "event idx=134<br>x=%{x}<br>y=%{y}<extra></extra>",
                      "legendgroup": "",
                      "marker": {
                        "color": "#636efa",
                        "symbol": "circle"
                      },
                      "mode": "markers",
                      "name": "",
                      "orientation": "v",
                      "showlegend": false,
                      "type": "scatter",
                      "x": [
                        -49
                      ],
                      "xaxis": "x",
                      "y": [
                        -23
                      ],
                      "yaxis": "y"
                    }
                  ],
                  "layout": {
                    "title": {
                      "text": "David Perron Slap Shot saved by Corey Crawford"
                    }
                  },
                  "name": "134"
                },
                {
                  "data": [
                    {
                      "hovertemplate": "event idx=135<br>x=%{x}<br>y=%{y}<extra></extra>",
                      "legendgroup": "",
                      "marker": {
                        "color": "#636efa",
                        "symbol": "circle"
                      },
                      "mode": "markers",
                      "name": "",
                      "orientation": "v",
                      "showlegend": false,
                      "type": "scatter",
                      "x": [
                        -94
                      ],
                      "xaxis": "x",
                      "y": [
                        -29
                      ],
                      "yaxis": "y"
                    }
                  ],
                  "layout": {
                    "title": {
                      "text": "Brian Campbell hit Kevin Shattenkirk"
                    }
                  },
                  "name": "135"
                },
                {
                  "data": [
                    {
                      "hovertemplate": "event idx=136<br>x=%{x}<br>y=%{y}<extra></extra>",
                      "legendgroup": "",
                      "marker": {
                        "color": "#636efa",
                        "symbol": "circle"
                      },
                      "mode": "markers",
                      "name": "",
                      "orientation": "v",
                      "showlegend": false,
                      "type": "scatter",
                      "x": [
                        -45
                      ],
                      "xaxis": "x",
                      "y": [
                        -27
                      ],
                      "yaxis": "y"
                    }
                  ],
                  "layout": {
                    "title": {
                      "text": "Kevin Shattenkirk (1) Slap Shot, assists: Alex Pietrangelo (1), Alexander Steen (1)"
                    }
                  },
                  "name": "136"
                },
                {
                  "data": [
                    {
                      "hovertemplate": "event idx=137<br>x=%{x}<br>y=%{y}<extra></extra>",
                      "legendgroup": "",
                      "marker": {
                        "color": "#636efa",
                        "symbol": "circle"
                      },
                      "mode": "markers",
                      "name": "",
                      "orientation": "v",
                      "showlegend": false,
                      "type": "scatter",
                      "x": [
                        0
                      ],
                      "xaxis": "x",
                      "y": [
                        0
                      ],
                      "yaxis": "y"
                    }
                  ],
                  "layout": {
                    "title": {
                      "text": "Kyle Brodziak faceoff won against Nick Schmaltz"
                    }
                  },
                  "name": "137"
                },
                {
                  "data": [
                    {
                      "hovertemplate": "event idx=138<br>x=%{x}<br>y=%{y}<extra></extra>",
                      "legendgroup": "",
                      "marker": {
                        "color": "#636efa",
                        "symbol": "circle"
                      },
                      "mode": "markers",
                      "name": "",
                      "orientation": "v",
                      "showlegend": false,
                      "type": "scatter",
                      "x": [
                        -82
                      ],
                      "xaxis": "x",
                      "y": [
                        37
                      ],
                      "yaxis": "y"
                    }
                  ],
                  "layout": {
                    "title": {
                      "text": "Giveaway by Nick Schmaltz"
                    }
                  },
                  "name": "138"
                },
                {
                  "data": [
                    {
                      "hovertemplate": "event idx=139<br>x=%{x}<br>y=%{y}<extra></extra>",
                      "legendgroup": "",
                      "marker": {
                        "color": "#636efa",
                        "symbol": "circle"
                      },
                      "mode": "markers",
                      "name": "",
                      "orientation": "v",
                      "showlegend": false,
                      "type": "scatter",
                      "x": [
                        -95
                      ],
                      "xaxis": "x",
                      "y": [
                        15
                      ],
                      "yaxis": "y"
                    }
                  ],
                  "layout": {
                    "title": {
                      "text": "Kyle Brodziak hit Brian Campbell"
                    }
                  },
                  "name": "139"
                },
                {
                  "data": [
                    {
                      "hovertemplate": "event idx=140<br>x=%{x}<br>y=%{y}<extra></extra>",
                      "legendgroup": "",
                      "marker": {
                        "color": "#636efa",
                        "symbol": "circle"
                      },
                      "mode": "markers",
                      "name": "",
                      "orientation": "v",
                      "showlegend": false,
                      "type": "scatter",
                      "x": [
                        -72
                      ],
                      "xaxis": "x",
                      "y": [
                        3
                      ],
                      "yaxis": "y"
                    }
                  ],
                  "layout": {
                    "title": {
                      "text": "Ryan Reaves Tip-In saved by Corey Crawford"
                    }
                  },
                  "name": "140"
                },
                {
                  "data": [
                    {
                      "hovertemplate": "event idx=141<br>x=%{x}<br>y=%{y}<extra></extra>",
                      "legendgroup": "",
                      "marker": {
                        "color": "#636efa",
                        "symbol": "circle"
                      },
                      "mode": "markers",
                      "name": "",
                      "orientation": "v",
                      "showlegend": false,
                      "type": "scatter",
                      "x": [
                        null
                      ],
                      "xaxis": "x",
                      "y": [
                        null
                      ],
                      "yaxis": "y"
                    }
                  ],
                  "layout": {
                    "title": {
                      "text": "Referee or Linesman"
                    }
                  },
                  "name": "141"
                },
                {
                  "data": [
                    {
                      "hovertemplate": "event idx=142<br>x=%{x}<br>y=%{y}<extra></extra>",
                      "legendgroup": "",
                      "marker": {
                        "color": "#636efa",
                        "symbol": "circle"
                      },
                      "mode": "markers",
                      "name": "",
                      "orientation": "v",
                      "showlegend": false,
                      "type": "scatter",
                      "x": [
                        -69
                      ],
                      "xaxis": "x",
                      "y": [
                        22
                      ],
                      "yaxis": "y"
                    }
                  ],
                  "layout": {
                    "title": {
                      "text": "Jori Lehtera faceoff won against Marcus Kruger"
                    }
                  },
                  "name": "142"
                },
                {
                  "data": [
                    {
                      "hovertemplate": "event idx=143<br>x=%{x}<br>y=%{y}<extra></extra>",
                      "legendgroup": "",
                      "marker": {
                        "color": "#636efa",
                        "symbol": "circle"
                      },
                      "mode": "markers",
                      "name": "",
                      "orientation": "v",
                      "showlegend": false,
                      "type": "scatter",
                      "x": [
                        -38
                      ],
                      "xaxis": "x",
                      "y": [
                        -18
                      ],
                      "yaxis": "y"
                    }
                  ],
                  "layout": {
                    "title": {
                      "text": "Takeaway by Ryan Hartman"
                    }
                  },
                  "name": "143"
                },
                {
                  "data": [
                    {
                      "hovertemplate": "event idx=144<br>x=%{x}<br>y=%{y}<extra></extra>",
                      "legendgroup": "",
                      "marker": {
                        "color": "#636efa",
                        "symbol": "circle"
                      },
                      "mode": "markers",
                      "name": "",
                      "orientation": "v",
                      "showlegend": false,
                      "type": "scatter",
                      "x": [
                        48
                      ],
                      "xaxis": "x",
                      "y": [
                        -36
                      ],
                      "yaxis": "y"
                    }
                  ],
                  "layout": {
                    "title": {
                      "text": "Tyler Motte hit Robert Bortuzzo"
                    }
                  },
                  "name": "144"
                },
                {
                  "data": [
                    {
                      "hovertemplate": "event idx=145<br>x=%{x}<br>y=%{y}<extra></extra>",
                      "legendgroup": "",
                      "marker": {
                        "color": "#636efa",
                        "symbol": "circle"
                      },
                      "mode": "markers",
                      "name": "",
                      "orientation": "v",
                      "showlegend": false,
                      "type": "scatter",
                      "x": [
                        null
                      ],
                      "xaxis": "x",
                      "y": [
                        null
                      ],
                      "yaxis": "y"
                    }
                  ],
                  "layout": {
                    "title": {
                      "text": "Icing"
                    }
                  },
                  "name": "145"
                },
                {
                  "data": [
                    {
                      "hovertemplate": "event idx=146<br>x=%{x}<br>y=%{y}<extra></extra>",
                      "legendgroup": "",
                      "marker": {
                        "color": "#636efa",
                        "symbol": "circle"
                      },
                      "mode": "markers",
                      "name": "",
                      "orientation": "v",
                      "showlegend": false,
                      "type": "scatter",
                      "x": [
                        69
                      ],
                      "xaxis": "x",
                      "y": [
                        22
                      ],
                      "yaxis": "y"
                    }
                  ],
                  "layout": {
                    "title": {
                      "text": "Artem Anisimov faceoff won against Jori Lehtera"
                    }
                  },
                  "name": "146"
                },
                {
                  "data": [
                    {
                      "hovertemplate": "event idx=147<br>x=%{x}<br>y=%{y}<extra></extra>",
                      "legendgroup": "",
                      "marker": {
                        "color": "#636efa",
                        "symbol": "circle"
                      },
                      "mode": "markers",
                      "name": "",
                      "orientation": "v",
                      "showlegend": false,
                      "type": "scatter",
                      "x": [
                        48
                      ],
                      "xaxis": "x",
                      "y": [
                        25
                      ],
                      "yaxis": "y"
                    }
                  ],
                  "layout": {
                    "title": {
                      "text": "Artemi Panarin Slap Shot saved by Jake Allen"
                    }
                  },
                  "name": "147"
                },
                {
                  "data": [
                    {
                      "hovertemplate": "event idx=148<br>x=%{x}<br>y=%{y}<extra></extra>",
                      "legendgroup": "",
                      "marker": {
                        "color": "#636efa",
                        "symbol": "circle"
                      },
                      "mode": "markers",
                      "name": "",
                      "orientation": "v",
                      "showlegend": false,
                      "type": "scatter",
                      "x": [
                        -79
                      ],
                      "xaxis": "x",
                      "y": [
                        -4
                      ],
                      "yaxis": "y"
                    }
                  ],
                  "layout": {
                    "title": {
                      "text": "Colton Parayko Backhand saved by Corey Crawford"
                    }
                  },
                  "name": "148"
                },
                {
                  "data": [
                    {
                      "hovertemplate": "event idx=149<br>x=%{x}<br>y=%{y}<extra></extra>",
                      "legendgroup": "",
                      "marker": {
                        "color": "#636efa",
                        "symbol": "circle"
                      },
                      "mode": "markers",
                      "name": "",
                      "orientation": "v",
                      "showlegend": false,
                      "type": "scatter",
                      "x": [
                        -35
                      ],
                      "xaxis": "x",
                      "y": [
                        23
                      ],
                      "yaxis": "y"
                    }
                  ],
                  "layout": {
                    "title": {
                      "text": "Takeaway by Colton Parayko"
                    }
                  },
                  "name": "149"
                },
                {
                  "data": [
                    {
                      "hovertemplate": "event idx=150<br>x=%{x}<br>y=%{y}<extra></extra>",
                      "legendgroup": "",
                      "marker": {
                        "color": "#636efa",
                        "symbol": "circle"
                      },
                      "mode": "markers",
                      "name": "",
                      "orientation": "v",
                      "showlegend": false,
                      "type": "scatter",
                      "x": [
                        81
                      ],
                      "xaxis": "x",
                      "y": [
                        -38
                      ],
                      "yaxis": "y"
                    }
                  ],
                  "layout": {
                    "title": {
                      "text": "Giveaway by Joel Edmundson"
                    }
                  },
                  "name": "150"
                },
                {
                  "data": [
                    {
                      "hovertemplate": "event idx=151<br>x=%{x}<br>y=%{y}<extra></extra>",
                      "legendgroup": "",
                      "marker": {
                        "color": "#636efa",
                        "symbol": "circle"
                      },
                      "mode": "markers",
                      "name": "",
                      "orientation": "v",
                      "showlegend": false,
                      "type": "scatter",
                      "x": [
                        11
                      ],
                      "xaxis": "x",
                      "y": [
                        38
                      ],
                      "yaxis": "y"
                    }
                  ],
                  "layout": {
                    "title": {
                      "text": "Richard Panik hit Dmitrij Jaskin"
                    }
                  },
                  "name": "151"
                },
                {
                  "data": [
                    {
                      "hovertemplate": "event idx=152<br>x=%{x}<br>y=%{y}<extra></extra>",
                      "legendgroup": "",
                      "marker": {
                        "color": "#636efa",
                        "symbol": "circle"
                      },
                      "mode": "markers",
                      "name": "",
                      "orientation": "v",
                      "showlegend": false,
                      "type": "scatter",
                      "x": [
                        90
                      ],
                      "xaxis": "x",
                      "y": [
                        36
                      ],
                      "yaxis": "y"
                    }
                  ],
                  "layout": {
                    "title": {
                      "text": "Joel Edmundson hit Marian Hossa"
                    }
                  },
                  "name": "152"
                },
                {
                  "data": [
                    {
                      "hovertemplate": "event idx=153<br>x=%{x}<br>y=%{y}<extra></extra>",
                      "legendgroup": "",
                      "marker": {
                        "color": "#636efa",
                        "symbol": "circle"
                      },
                      "mode": "markers",
                      "name": "",
                      "orientation": "v",
                      "showlegend": false,
                      "type": "scatter",
                      "x": [
                        -93
                      ],
                      "xaxis": "x",
                      "y": [
                        31
                      ],
                      "yaxis": "y"
                    }
                  ],
                  "layout": {
                    "title": {
                      "text": "Ryan Reaves hit Brent Seabrook"
                    }
                  },
                  "name": "153"
                },
                {
                  "data": [
                    {
                      "hovertemplate": "event idx=154<br>x=%{x}<br>y=%{y}<extra></extra>",
                      "legendgroup": "",
                      "marker": {
                        "color": "#636efa",
                        "symbol": "circle"
                      },
                      "mode": "markers",
                      "name": "",
                      "orientation": "v",
                      "showlegend": false,
                      "type": "scatter",
                      "x": [
                        -50
                      ],
                      "xaxis": "x",
                      "y": [
                        -11
                      ],
                      "yaxis": "y"
                    }
                  ],
                  "layout": {
                    "title": {
                      "text": "Ryan Hartman blocked shot from Jay Bouwmeester"
                    }
                  },
                  "name": "154"
                },
                {
                  "data": [
                    {
                      "hovertemplate": "event idx=155<br>x=%{x}<br>y=%{y}<extra></extra>",
                      "legendgroup": "",
                      "marker": {
                        "color": "#636efa",
                        "symbol": "circle"
                      },
                      "mode": "markers",
                      "name": "",
                      "orientation": "v",
                      "showlegend": false,
                      "type": "scatter",
                      "x": [
                        -93
                      ],
                      "xaxis": "x",
                      "y": [
                        33
                      ],
                      "yaxis": "y"
                    }
                  ],
                  "layout": {
                    "title": {
                      "text": "Ryan Reaves hit Marcus Kruger"
                    }
                  },
                  "name": "155"
                },
                {
                  "data": [
                    {
                      "hovertemplate": "event idx=156<br>x=%{x}<br>y=%{y}<extra></extra>",
                      "legendgroup": "",
                      "marker": {
                        "color": "#636efa",
                        "symbol": "circle"
                      },
                      "mode": "markers",
                      "name": "",
                      "orientation": "v",
                      "showlegend": false,
                      "type": "scatter",
                      "x": [
                        -87
                      ],
                      "xaxis": "x",
                      "y": [
                        38
                      ],
                      "yaxis": "y"
                    }
                  ],
                  "layout": {
                    "title": {
                      "text": "Marcus Kruger hit Scottie Upshall"
                    }
                  },
                  "name": "156"
                },
                {
                  "data": [
                    {
                      "hovertemplate": "event idx=157<br>x=%{x}<br>y=%{y}<extra></extra>",
                      "legendgroup": "",
                      "marker": {
                        "color": "#636efa",
                        "symbol": "circle"
                      },
                      "mode": "markers",
                      "name": "",
                      "orientation": "v",
                      "showlegend": false,
                      "type": "scatter",
                      "x": [
                        null
                      ],
                      "xaxis": "x",
                      "y": [
                        null
                      ],
                      "yaxis": "y"
                    }
                  ],
                  "layout": {
                    "title": {
                      "text": "Offside"
                    }
                  },
                  "name": "157"
                },
                {
                  "data": [
                    {
                      "hovertemplate": "event idx=158<br>x=%{x}<br>y=%{y}<extra></extra>",
                      "legendgroup": "",
                      "marker": {
                        "color": "#636efa",
                        "symbol": "circle"
                      },
                      "mode": "markers",
                      "name": "",
                      "orientation": "v",
                      "showlegend": false,
                      "type": "scatter",
                      "x": [
                        -20
                      ],
                      "xaxis": "x",
                      "y": [
                        -22
                      ],
                      "yaxis": "y"
                    }
                  ],
                  "layout": {
                    "title": {
                      "text": "Jori Lehtera faceoff won against Artem Anisimov"
                    }
                  },
                  "name": "158"
                },
                {
                  "data": [
                    {
                      "hovertemplate": "event idx=159<br>x=%{x}<br>y=%{y}<extra></extra>",
                      "legendgroup": "",
                      "marker": {
                        "color": "#636efa",
                        "symbol": "circle"
                      },
                      "mode": "markers",
                      "name": "",
                      "orientation": "v",
                      "showlegend": false,
                      "type": "scatter",
                      "x": [
                        null
                      ],
                      "xaxis": "x",
                      "y": [
                        null
                      ],
                      "yaxis": "y"
                    }
                  ],
                  "layout": {
                    "title": {
                      "text": "Puck in Netting"
                    }
                  },
                  "name": "159"
                },
                {
                  "data": [
                    {
                      "hovertemplate": "event idx=160<br>x=%{x}<br>y=%{y}<extra></extra>",
                      "legendgroup": "",
                      "marker": {
                        "color": "#636efa",
                        "symbol": "circle"
                      },
                      "mode": "markers",
                      "name": "",
                      "orientation": "v",
                      "showlegend": false,
                      "type": "scatter",
                      "x": [
                        0
                      ],
                      "xaxis": "x",
                      "y": [
                        0
                      ],
                      "yaxis": "y"
                    }
                  ],
                  "layout": {
                    "title": {
                      "text": "Jori Lehtera faceoff won against Artem Anisimov"
                    }
                  },
                  "name": "160"
                },
                {
                  "data": [
                    {
                      "hovertemplate": "event idx=161<br>x=%{x}<br>y=%{y}<extra></extra>",
                      "legendgroup": "",
                      "marker": {
                        "color": "#636efa",
                        "symbol": "circle"
                      },
                      "mode": "markers",
                      "name": "",
                      "orientation": "v",
                      "showlegend": false,
                      "type": "scatter",
                      "x": [
                        75
                      ],
                      "xaxis": "x",
                      "y": [
                        -3
                      ],
                      "yaxis": "y"
                    }
                  ],
                  "layout": {
                    "title": {
                      "text": "Jay Bouwmeester blocked shot from Brent Seabrook"
                    }
                  },
                  "name": "161"
                },
                {
                  "data": [
                    {
                      "hovertemplate": "event idx=162<br>x=%{x}<br>y=%{y}<extra></extra>",
                      "legendgroup": "",
                      "marker": {
                        "color": "#636efa",
                        "symbol": "circle"
                      },
                      "mode": "markers",
                      "name": "",
                      "orientation": "v",
                      "showlegend": false,
                      "type": "scatter",
                      "x": [
                        37
                      ],
                      "xaxis": "x",
                      "y": [
                        26
                      ],
                      "yaxis": "y"
                    }
                  ],
                  "layout": {
                    "title": {
                      "text": "Takeaway by Marian Hossa"
                    }
                  },
                  "name": "162"
                },
                {
                  "data": [
                    {
                      "hovertemplate": "event idx=163<br>x=%{x}<br>y=%{y}<extra></extra>",
                      "legendgroup": "",
                      "marker": {
                        "color": "#636efa",
                        "symbol": "circle"
                      },
                      "mode": "markers",
                      "name": "",
                      "orientation": "v",
                      "showlegend": false,
                      "type": "scatter",
                      "x": [
                        94
                      ],
                      "xaxis": "x",
                      "y": [
                        -35
                      ],
                      "yaxis": "y"
                    }
                  ],
                  "layout": {
                    "title": {
                      "text": "Richard Panik hit Kevin Shattenkirk"
                    }
                  },
                  "name": "163"
                },
                {
                  "data": [
                    {
                      "hovertemplate": "event idx=164<br>x=%{x}<br>y=%{y}<extra></extra>",
                      "legendgroup": "",
                      "marker": {
                        "color": "#636efa",
                        "symbol": "circle"
                      },
                      "mode": "markers",
                      "name": "",
                      "orientation": "v",
                      "showlegend": false,
                      "type": "scatter",
                      "x": [
                        97
                      ],
                      "xaxis": "x",
                      "y": [
                        -18
                      ],
                      "yaxis": "y"
                    }
                  ],
                  "layout": {
                    "title": {
                      "text": "Giveaway by Robert Bortuzzo"
                    }
                  },
                  "name": "164"
                },
                {
                  "data": [
                    {
                      "hovertemplate": "event idx=165<br>x=%{x}<br>y=%{y}<extra></extra>",
                      "legendgroup": "",
                      "marker": {
                        "color": "#636efa",
                        "symbol": "circle"
                      },
                      "mode": "markers",
                      "name": "",
                      "orientation": "v",
                      "showlegend": false,
                      "type": "scatter",
                      "x": [
                        34
                      ],
                      "xaxis": "x",
                      "y": [
                        23
                      ],
                      "yaxis": "y"
                    }
                  ],
                  "layout": {
                    "title": {
                      "text": "Giveaway by Jonathan Toews"
                    }
                  },
                  "name": "165"
                },
                {
                  "data": [
                    {
                      "hovertemplate": "event idx=166<br>x=%{x}<br>y=%{y}<extra></extra>",
                      "legendgroup": "",
                      "marker": {
                        "color": "#636efa",
                        "symbol": "circle"
                      },
                      "mode": "markers",
                      "name": "",
                      "orientation": "v",
                      "showlegend": false,
                      "type": "scatter",
                      "x": [
                        -52
                      ],
                      "xaxis": "x",
                      "y": [
                        -32
                      ],
                      "yaxis": "y"
                    }
                  ],
                  "layout": {
                    "title": {
                      "text": "Nail Yakupov Wrist Shot saved by Corey Crawford"
                    }
                  },
                  "name": "166"
                },
                {
                  "data": [
                    {
                      "hovertemplate": "event idx=167<br>x=%{x}<br>y=%{y}<extra></extra>",
                      "legendgroup": "",
                      "marker": {
                        "color": "#636efa",
                        "symbol": "circle"
                      },
                      "mode": "markers",
                      "name": "",
                      "orientation": "v",
                      "showlegend": false,
                      "type": "scatter",
                      "x": [
                        null
                      ],
                      "xaxis": "x",
                      "y": [
                        null
                      ],
                      "yaxis": "y"
                    }
                  ],
                  "layout": {
                    "title": {
                      "text": "Goalie Stopped"
                    }
                  },
                  "name": "167"
                },
                {
                  "data": [
                    {
                      "hovertemplate": "event idx=168<br>x=%{x}<br>y=%{y}<extra></extra>",
                      "legendgroup": "",
                      "marker": {
                        "color": "#636efa",
                        "symbol": "circle"
                      },
                      "mode": "markers",
                      "name": "",
                      "orientation": "v",
                      "showlegend": false,
                      "type": "scatter",
                      "x": [
                        -69
                      ],
                      "xaxis": "x",
                      "y": [
                        -22
                      ],
                      "yaxis": "y"
                    }
                  ],
                  "layout": {
                    "title": {
                      "text": "Marcus Kruger faceoff won against David Perron"
                    }
                  },
                  "name": "168"
                },
                {
                  "data": [
                    {
                      "hovertemplate": "event idx=169<br>x=%{x}<br>y=%{y}<extra></extra>",
                      "legendgroup": "",
                      "marker": {
                        "color": "#636efa",
                        "symbol": "circle"
                      },
                      "mode": "markers",
                      "name": "",
                      "orientation": "v",
                      "showlegend": false,
                      "type": "scatter",
                      "x": [
                        -19
                      ],
                      "xaxis": "x",
                      "y": [
                        -31
                      ],
                      "yaxis": "y"
                    }
                  ],
                  "layout": {
                    "title": {
                      "text": "Joel Edmundson hit Ryan Hartman"
                    }
                  },
                  "name": "169"
                },
                {
                  "data": [
                    {
                      "hovertemplate": "event idx=170<br>x=%{x}<br>y=%{y}<extra></extra>",
                      "legendgroup": "",
                      "marker": {
                        "color": "#636efa",
                        "symbol": "circle"
                      },
                      "mode": "markers",
                      "name": "",
                      "orientation": "v",
                      "showlegend": false,
                      "type": "scatter",
                      "x": [
                        null
                      ],
                      "xaxis": "x",
                      "y": [
                        null
                      ],
                      "yaxis": "y"
                    }
                  ],
                  "layout": {
                    "title": {
                      "text": "Puck in Netting"
                    }
                  },
                  "name": "170"
                },
                {
                  "data": [
                    {
                      "hovertemplate": "event idx=171<br>x=%{x}<br>y=%{y}<extra></extra>",
                      "legendgroup": "",
                      "marker": {
                        "color": "#636efa",
                        "symbol": "circle"
                      },
                      "mode": "markers",
                      "name": "",
                      "orientation": "v",
                      "showlegend": false,
                      "type": "scatter",
                      "x": [
                        -69
                      ],
                      "xaxis": "x",
                      "y": [
                        -22
                      ],
                      "yaxis": "y"
                    }
                  ],
                  "layout": {
                    "title": {
                      "text": "Patrik Berglund faceoff won against Jonathan Toews"
                    }
                  },
                  "name": "171"
                },
                {
                  "data": [
                    {
                      "hovertemplate": "event idx=172<br>x=%{x}<br>y=%{y}<extra></extra>",
                      "legendgroup": "",
                      "marker": {
                        "color": "#636efa",
                        "symbol": "circle"
                      },
                      "mode": "markers",
                      "name": "",
                      "orientation": "v",
                      "showlegend": false,
                      "type": "scatter",
                      "x": [
                        -66
                      ],
                      "xaxis": "x",
                      "y": [
                        35
                      ],
                      "yaxis": "y"
                    }
                  ],
                  "layout": {
                    "title": {
                      "text": "Dmitrij Jaskin hit Gustav Forsling"
                    }
                  },
                  "name": "172"
                },
                {
                  "data": [
                    {
                      "hovertemplate": "event idx=173<br>x=%{x}<br>y=%{y}<extra></extra>",
                      "legendgroup": "",
                      "marker": {
                        "color": "#636efa",
                        "symbol": "circle"
                      },
                      "mode": "markers",
                      "name": "",
                      "orientation": "v",
                      "showlegend": false,
                      "type": "scatter",
                      "x": [
                        null
                      ],
                      "xaxis": "x",
                      "y": [
                        null
                      ],
                      "yaxis": "y"
                    }
                  ],
                  "layout": {
                    "title": {
                      "text": "Icing"
                    }
                  },
                  "name": "173"
                },
                {
                  "data": [
                    {
                      "hovertemplate": "event idx=174<br>x=%{x}<br>y=%{y}<extra></extra>",
                      "legendgroup": "",
                      "marker": {
                        "color": "#636efa",
                        "symbol": "circle"
                      },
                      "mode": "markers",
                      "name": "",
                      "orientation": "v",
                      "showlegend": false,
                      "type": "scatter",
                      "x": [
                        69
                      ],
                      "xaxis": "x",
                      "y": [
                        -22
                      ],
                      "yaxis": "y"
                    }
                  ],
                  "layout": {
                    "title": {
                      "text": "Patrik Berglund faceoff won against Richard Panik"
                    }
                  },
                  "name": "174"
                },
                {
                  "data": [
                    {
                      "hovertemplate": "event idx=175<br>x=%{x}<br>y=%{y}<extra></extra>",
                      "legendgroup": "",
                      "marker": {
                        "color": "#636efa",
                        "symbol": "circle"
                      },
                      "mode": "markers",
                      "name": "",
                      "orientation": "v",
                      "showlegend": false,
                      "type": "scatter",
                      "x": [
                        -71
                      ],
                      "xaxis": "x",
                      "y": [
                        10
                      ],
                      "yaxis": "y"
                    }
                  ],
                  "layout": {
                    "title": {
                      "text": "Takeaway by Nail Yakupov"
                    }
                  },
                  "name": "175"
                },
                {
                  "data": [
                    {
                      "hovertemplate": "event idx=176<br>x=%{x}<br>y=%{y}<extra></extra>",
                      "legendgroup": "",
                      "marker": {
                        "color": "#636efa",
                        "symbol": "circle"
                      },
                      "mode": "markers",
                      "name": "",
                      "orientation": "v",
                      "showlegend": false,
                      "type": "scatter",
                      "x": [
                        41
                      ],
                      "xaxis": "x",
                      "y": [
                        19
                      ],
                      "yaxis": "y"
                    }
                  ],
                  "layout": {
                    "title": {
                      "text": "Dmitrij Jaskin blocked shot from Gustav Forsling"
                    }
                  },
                  "name": "176"
                },
                {
                  "data": [
                    {
                      "hovertemplate": "event idx=177<br>x=%{x}<br>y=%{y}<extra></extra>",
                      "legendgroup": "",
                      "marker": {
                        "color": "#636efa",
                        "symbol": "circle"
                      },
                      "mode": "markers",
                      "name": "",
                      "orientation": "v",
                      "showlegend": false,
                      "type": "scatter",
                      "x": [
                        -78
                      ],
                      "xaxis": "x",
                      "y": [
                        18
                      ],
                      "yaxis": "y"
                    }
                  ],
                  "layout": {
                    "title": {
                      "text": "Nail Yakupov - Wide of Net"
                    }
                  },
                  "name": "177"
                },
                {
                  "data": [
                    {
                      "hovertemplate": "event idx=178<br>x=%{x}<br>y=%{y}<extra></extra>",
                      "legendgroup": "",
                      "marker": {
                        "color": "#636efa",
                        "symbol": "circle"
                      },
                      "mode": "markers",
                      "name": "",
                      "orientation": "v",
                      "showlegend": false,
                      "type": "scatter",
                      "x": [
                        -35
                      ],
                      "xaxis": "x",
                      "y": [
                        -34
                      ],
                      "yaxis": "y"
                    }
                  ],
                  "layout": {
                    "title": {
                      "text": "Vladimir Tarasenko hit Trevor van Riemsdyk"
                    }
                  },
                  "name": "178"
                },
                {
                  "data": [
                    {
                      "hovertemplate": "event idx=179<br>x=%{x}<br>y=%{y}<extra></extra>",
                      "legendgroup": "",
                      "marker": {
                        "color": "#636efa",
                        "symbol": "circle"
                      },
                      "mode": "markers",
                      "name": "",
                      "orientation": "v",
                      "showlegend": false,
                      "type": "scatter",
                      "x": [
                        -68
                      ],
                      "xaxis": "x",
                      "y": [
                        -17
                      ],
                      "yaxis": "y"
                    }
                  ],
                  "layout": {
                    "title": {
                      "text": "David Perron Wrist Shot saved by Corey Crawford"
                    }
                  },
                  "name": "179"
                },
                {
                  "data": [
                    {
                      "hovertemplate": "event idx=180<br>x=%{x}<br>y=%{y}<extra></extra>",
                      "legendgroup": "",
                      "marker": {
                        "color": "#636efa",
                        "symbol": "circle"
                      },
                      "mode": "markers",
                      "name": "",
                      "orientation": "v",
                      "showlegend": false,
                      "type": "scatter",
                      "x": [
                        -67
                      ],
                      "xaxis": "x",
                      "y": [
                        -29
                      ],
                      "yaxis": "y"
                    }
                  ],
                  "layout": {
                    "title": {
                      "text": "Takeaway by Marcus Kruger"
                    }
                  },
                  "name": "180"
                },
                {
                  "data": [
                    {
                      "hovertemplate": "event idx=181<br>x=%{x}<br>y=%{y}<extra></extra>",
                      "legendgroup": "",
                      "marker": {
                        "color": "#636efa",
                        "symbol": "circle"
                      },
                      "mode": "markers",
                      "name": "",
                      "orientation": "v",
                      "showlegend": false,
                      "type": "scatter",
                      "x": [
                        52
                      ],
                      "xaxis": "x",
                      "y": [
                        32
                      ],
                      "yaxis": "y"
                    }
                  ],
                  "layout": {
                    "title": {
                      "text": "Giveaway by Robert Bortuzzo"
                    }
                  },
                  "name": "181"
                },
                {
                  "data": [
                    {
                      "hovertemplate": "event idx=182<br>x=%{x}<br>y=%{y}<extra></extra>",
                      "legendgroup": "",
                      "marker": {
                        "color": "#636efa",
                        "symbol": "circle"
                      },
                      "mode": "markers",
                      "name": "",
                      "orientation": "v",
                      "showlegend": false,
                      "type": "scatter",
                      "x": [
                        58
                      ],
                      "xaxis": "x",
                      "y": [
                        -23
                      ],
                      "yaxis": "y"
                    }
                  ],
                  "layout": {
                    "title": {
                      "text": "Ryan Hartman - Wide of Net"
                    }
                  },
                  "name": "182"
                },
                {
                  "data": [
                    {
                      "hovertemplate": "event idx=183<br>x=%{x}<br>y=%{y}<extra></extra>",
                      "legendgroup": "",
                      "marker": {
                        "color": "#636efa",
                        "symbol": "circle"
                      },
                      "mode": "markers",
                      "name": "",
                      "orientation": "v",
                      "showlegend": false,
                      "type": "scatter",
                      "x": [
                        80
                      ],
                      "xaxis": "x",
                      "y": [
                        6
                      ],
                      "yaxis": "y"
                    }
                  ],
                  "layout": {
                    "title": {
                      "text": "Ryan Hartman (1) Backhand, assists: Tyler Motte (1), Marcus Kruger (1)"
                    }
                  },
                  "name": "183"
                },
                {
                  "data": [
                    {
                      "hovertemplate": "event idx=184<br>x=%{x}<br>y=%{y}<extra></extra>",
                      "legendgroup": "",
                      "marker": {
                        "color": "#636efa",
                        "symbol": "circle"
                      },
                      "mode": "markers",
                      "name": "",
                      "orientation": "v",
                      "showlegend": false,
                      "type": "scatter",
                      "x": [
                        0
                      ],
                      "xaxis": "x",
                      "y": [
                        0
                      ],
                      "yaxis": "y"
                    }
                  ],
                  "layout": {
                    "title": {
                      "text": "Nick Schmaltz faceoff won against Patrik Berglund"
                    }
                  },
                  "name": "184"
                },
                {
                  "data": [
                    {
                      "hovertemplate": "event idx=185<br>x=%{x}<br>y=%{y}<extra></extra>",
                      "legendgroup": "",
                      "marker": {
                        "color": "#636efa",
                        "symbol": "circle"
                      },
                      "mode": "markers",
                      "name": "",
                      "orientation": "v",
                      "showlegend": false,
                      "type": "scatter",
                      "x": [
                        -34
                      ],
                      "xaxis": "x",
                      "y": [
                        3
                      ],
                      "yaxis": "y"
                    }
                  ],
                  "layout": {
                    "title": {
                      "text": "Takeaway by Vinnie Hinostroza"
                    }
                  },
                  "name": "185"
                },
                {
                  "data": [
                    {
                      "hovertemplate": "event idx=186<br>x=%{x}<br>y=%{y}<extra></extra>",
                      "legendgroup": "",
                      "marker": {
                        "color": "#636efa",
                        "symbol": "circle"
                      },
                      "mode": "markers",
                      "name": "",
                      "orientation": "v",
                      "showlegend": false,
                      "type": "scatter",
                      "x": [
                        -95
                      ],
                      "xaxis": "x",
                      "y": [
                        10
                      ],
                      "yaxis": "y"
                    }
                  ],
                  "layout": {
                    "title": {
                      "text": "Giveaway by Vinnie Hinostroza"
                    }
                  },
                  "name": "186"
                },
                {
                  "data": [
                    {
                      "hovertemplate": "event idx=187<br>x=%{x}<br>y=%{y}<extra></extra>",
                      "legendgroup": "",
                      "marker": {
                        "color": "#636efa",
                        "symbol": "circle"
                      },
                      "mode": "markers",
                      "name": "",
                      "orientation": "v",
                      "showlegend": false,
                      "type": "scatter",
                      "x": [
                        -69
                      ],
                      "xaxis": "x",
                      "y": [
                        4
                      ],
                      "yaxis": "y"
                    }
                  ],
                  "layout": {
                    "title": {
                      "text": "Patrik Berglund - Wide of Net"
                    }
                  },
                  "name": "187"
                },
                {
                  "data": [
                    {
                      "hovertemplate": "event idx=188<br>x=%{x}<br>y=%{y}<extra></extra>",
                      "legendgroup": "",
                      "marker": {
                        "color": "#636efa",
                        "symbol": "circle"
                      },
                      "mode": "markers",
                      "name": "",
                      "orientation": "v",
                      "showlegend": false,
                      "type": "scatter",
                      "x": [
                        null
                      ],
                      "xaxis": "x",
                      "y": [
                        null
                      ],
                      "yaxis": "y"
                    }
                  ],
                  "layout": {
                    "title": {
                      "text": "High Stick"
                    }
                  },
                  "name": "188"
                },
                {
                  "data": [
                    {
                      "hovertemplate": "event idx=189<br>x=%{x}<br>y=%{y}<extra></extra>",
                      "legendgroup": "",
                      "marker": {
                        "color": "#636efa",
                        "symbol": "circle"
                      },
                      "mode": "markers",
                      "name": "",
                      "orientation": "v",
                      "showlegend": false,
                      "type": "scatter",
                      "x": [
                        69
                      ],
                      "xaxis": "x",
                      "y": [
                        -22
                      ],
                      "yaxis": "y"
                    }
                  ],
                  "layout": {
                    "title": {
                      "text": "Jonathan Toews faceoff won against Paul Stastny"
                    }
                  },
                  "name": "189"
                },
                {
                  "data": [
                    {
                      "hovertemplate": "event idx=190<br>x=%{x}<br>y=%{y}<extra></extra>",
                      "legendgroup": "",
                      "marker": {
                        "color": "#636efa",
                        "symbol": "circle"
                      },
                      "mode": "markers",
                      "name": "",
                      "orientation": "v",
                      "showlegend": false,
                      "type": "scatter",
                      "x": [
                        52
                      ],
                      "xaxis": "x",
                      "y": [
                        -22
                      ],
                      "yaxis": "y"
                    }
                  ],
                  "layout": {
                    "title": {
                      "text": "Joel Edmundson blocked shot from Marian Hossa"
                    }
                  },
                  "name": "190"
                },
                {
                  "data": [
                    {
                      "hovertemplate": "event idx=191<br>x=%{x}<br>y=%{y}<extra></extra>",
                      "legendgroup": "",
                      "marker": {
                        "color": "#636efa",
                        "symbol": "circle"
                      },
                      "mode": "markers",
                      "name": "",
                      "orientation": "v",
                      "showlegend": false,
                      "type": "scatter",
                      "x": [
                        59
                      ],
                      "xaxis": "x",
                      "y": [
                        26
                      ],
                      "yaxis": "y"
                    }
                  ],
                  "layout": {
                    "title": {
                      "text": "Richard Panik - Over Net"
                    }
                  },
                  "name": "191"
                },
                {
                  "data": [
                    {
                      "hovertemplate": "event idx=192<br>x=%{x}<br>y=%{y}<extra></extra>",
                      "legendgroup": "",
                      "marker": {
                        "color": "#636efa",
                        "symbol": "circle"
                      },
                      "mode": "markers",
                      "name": "",
                      "orientation": "v",
                      "showlegend": false,
                      "type": "scatter",
                      "x": [
                        null
                      ],
                      "xaxis": "x",
                      "y": [
                        null
                      ],
                      "yaxis": "y"
                    }
                  ],
                  "layout": {
                    "title": {
                      "text": "Puck in Benches"
                    }
                  },
                  "name": "192"
                },
                {
                  "data": [
                    {
                      "hovertemplate": "event idx=193<br>x=%{x}<br>y=%{y}<extra></extra>",
                      "legendgroup": "",
                      "marker": {
                        "color": "#636efa",
                        "symbol": "circle"
                      },
                      "mode": "markers",
                      "name": "",
                      "orientation": "v",
                      "showlegend": false,
                      "type": "scatter",
                      "x": [
                        69
                      ],
                      "xaxis": "x",
                      "y": [
                        22
                      ],
                      "yaxis": "y"
                    }
                  ],
                  "layout": {
                    "title": {
                      "text": "Jori Lehtera faceoff won against Artem Anisimov"
                    }
                  },
                  "name": "193"
                },
                {
                  "data": [
                    {
                      "hovertemplate": "event idx=194<br>x=%{x}<br>y=%{y}<extra></extra>",
                      "legendgroup": "",
                      "marker": {
                        "color": "#636efa",
                        "symbol": "circle"
                      },
                      "mode": "markers",
                      "name": "",
                      "orientation": "v",
                      "showlegend": false,
                      "type": "scatter",
                      "x": [
                        91
                      ],
                      "xaxis": "x",
                      "y": [
                        -19
                      ],
                      "yaxis": "y"
                    }
                  ],
                  "layout": {
                    "title": {
                      "text": "Takeaway by Artemi Panarin"
                    }
                  },
                  "name": "194"
                },
                {
                  "data": [
                    {
                      "hovertemplate": "event idx=195<br>x=%{x}<br>y=%{y}<extra></extra>",
                      "legendgroup": "",
                      "marker": {
                        "color": "#636efa",
                        "symbol": "circle"
                      },
                      "mode": "markers",
                      "name": "",
                      "orientation": "v",
                      "showlegend": false,
                      "type": "scatter",
                      "x": [
                        97
                      ],
                      "xaxis": "x",
                      "y": [
                        -21
                      ],
                      "yaxis": "y"
                    }
                  ],
                  "layout": {
                    "title": {
                      "text": "Giveaway by Jay Bouwmeester"
                    }
                  },
                  "name": "195"
                },
                {
                  "data": [
                    {
                      "hovertemplate": "event idx=196<br>x=%{x}<br>y=%{y}<extra></extra>",
                      "legendgroup": "",
                      "marker": {
                        "color": "#636efa",
                        "symbol": "circle"
                      },
                      "mode": "markers",
                      "name": "",
                      "orientation": "v",
                      "showlegend": false,
                      "type": "scatter",
                      "x": [
                        87
                      ],
                      "xaxis": "x",
                      "y": [
                        -33
                      ],
                      "yaxis": "y"
                    }
                  ],
                  "layout": {
                    "title": {
                      "text": "Takeaway by Marcus Kruger"
                    }
                  },
                  "name": "196"
                },
                {
                  "data": [
                    {
                      "hovertemplate": "event idx=197<br>x=%{x}<br>y=%{y}<extra></extra>",
                      "legendgroup": "",
                      "marker": {
                        "color": "#636efa",
                        "symbol": "circle"
                      },
                      "mode": "markers",
                      "name": "",
                      "orientation": "v",
                      "showlegend": false,
                      "type": "scatter",
                      "x": [
                        95
                      ],
                      "xaxis": "x",
                      "y": [
                        -10
                      ],
                      "yaxis": "y"
                    }
                  ],
                  "layout": {
                    "title": {
                      "text": "Takeaway by Alex Pietrangelo"
                    }
                  },
                  "name": "197"
                },
                {
                  "data": [
                    {
                      "hovertemplate": "event idx=198<br>x=%{x}<br>y=%{y}<extra></extra>",
                      "legendgroup": "",
                      "marker": {
                        "color": "#636efa",
                        "symbol": "circle"
                      },
                      "mode": "markers",
                      "name": "",
                      "orientation": "v",
                      "showlegend": false,
                      "type": "scatter",
                      "x": [
                        -37
                      ],
                      "xaxis": "x",
                      "y": [
                        38
                      ],
                      "yaxis": "y"
                    }
                  ],
                  "layout": {
                    "title": {
                      "text": "Takeaway by Vinnie Hinostroza"
                    }
                  },
                  "name": "198"
                },
                {
                  "data": [
                    {
                      "hovertemplate": "event idx=199<br>x=%{x}<br>y=%{y}<extra></extra>",
                      "legendgroup": "",
                      "marker": {
                        "color": "#636efa",
                        "symbol": "circle"
                      },
                      "mode": "markers",
                      "name": "",
                      "orientation": "v",
                      "showlegend": false,
                      "type": "scatter",
                      "x": [
                        null
                      ],
                      "xaxis": "x",
                      "y": [
                        null
                      ],
                      "yaxis": "y"
                    }
                  ],
                  "layout": {
                    "title": {
                      "text": "Offside"
                    }
                  },
                  "name": "199"
                },
                {
                  "data": [
                    {
                      "hovertemplate": "event idx=200<br>x=%{x}<br>y=%{y}<extra></extra>",
                      "legendgroup": "",
                      "marker": {
                        "color": "#636efa",
                        "symbol": "circle"
                      },
                      "mode": "markers",
                      "name": "",
                      "orientation": "v",
                      "showlegend": false,
                      "type": "scatter",
                      "x": [
                        20
                      ],
                      "xaxis": "x",
                      "y": [
                        22
                      ],
                      "yaxis": "y"
                    }
                  ],
                  "layout": {
                    "title": {
                      "text": "Paul Stastny faceoff won against Jonathan Toews"
                    }
                  },
                  "name": "200"
                },
                {
                  "data": [
                    {
                      "hovertemplate": "event idx=201<br>x=%{x}<br>y=%{y}<extra></extra>",
                      "legendgroup": "",
                      "marker": {
                        "color": "#636efa",
                        "symbol": "circle"
                      },
                      "mode": "markers",
                      "name": "",
                      "orientation": "v",
                      "showlegend": false,
                      "type": "scatter",
                      "x": [
                        93
                      ],
                      "xaxis": "x",
                      "y": [
                        34
                      ],
                      "yaxis": "y"
                    }
                  ],
                  "layout": {
                    "title": {
                      "text": "Jonathan Toews Slashing against Colton Parayko"
                    }
                  },
                  "name": "201"
                },
                {
                  "data": [
                    {
                      "hovertemplate": "event idx=202<br>x=%{x}<br>y=%{y}<extra></extra>",
                      "legendgroup": "",
                      "marker": {
                        "color": "#636efa",
                        "symbol": "circle"
                      },
                      "mode": "markers",
                      "name": "",
                      "orientation": "v",
                      "showlegend": false,
                      "type": "scatter",
                      "x": [
                        -69
                      ],
                      "xaxis": "x",
                      "y": [
                        22
                      ],
                      "yaxis": "y"
                    }
                  ],
                  "layout": {
                    "title": {
                      "text": "Paul Stastny faceoff won against Marcus Kruger"
                    }
                  },
                  "name": "202"
                },
                {
                  "data": [
                    {
                      "hovertemplate": "event idx=203<br>x=%{x}<br>y=%{y}<extra></extra>",
                      "legendgroup": "",
                      "marker": {
                        "color": "#636efa",
                        "symbol": "circle"
                      },
                      "mode": "markers",
                      "name": "",
                      "orientation": "v",
                      "showlegend": false,
                      "type": "scatter",
                      "x": [
                        -45
                      ],
                      "xaxis": "x",
                      "y": [
                        -28
                      ],
                      "yaxis": "y"
                    }
                  ],
                  "layout": {
                    "title": {
                      "text": "Alex Pietrangelo - Over Net"
                    }
                  },
                  "name": "203"
                },
                {
                  "data": [
                    {
                      "hovertemplate": "event idx=204<br>x=%{x}<br>y=%{y}<extra></extra>",
                      "legendgroup": "",
                      "marker": {
                        "color": "#636efa",
                        "symbol": "circle"
                      },
                      "mode": "markers",
                      "name": "",
                      "orientation": "v",
                      "showlegend": false,
                      "type": "scatter",
                      "x": [
                        -67
                      ],
                      "xaxis": "x",
                      "y": [
                        26
                      ],
                      "yaxis": "y"
                    }
                  ],
                  "layout": {
                    "title": {
                      "text": "Vladimir Tarasenko Slap Shot saved by Corey Crawford"
                    }
                  },
                  "name": "204"
                },
                {
                  "data": [
                    {
                      "hovertemplate": "event idx=205<br>x=%{x}<br>y=%{y}<extra></extra>",
                      "legendgroup": "",
                      "marker": {
                        "color": "#636efa",
                        "symbol": "circle"
                      },
                      "mode": "markers",
                      "name": "",
                      "orientation": "v",
                      "showlegend": false,
                      "type": "scatter",
                      "x": [
                        -48
                      ],
                      "xaxis": "x",
                      "y": [
                        4
                      ],
                      "yaxis": "y"
                    }
                  ],
                  "layout": {
                    "title": {
                      "text": "Artem Anisimov Hooking against Alex Pietrangelo"
                    }
                  },
                  "name": "205"
                },
                {
                  "data": [
                    {
                      "hovertemplate": "event idx=206<br>x=%{x}<br>y=%{y}<extra></extra>",
                      "legendgroup": "",
                      "marker": {
                        "color": "#636efa",
                        "symbol": "circle"
                      },
                      "mode": "markers",
                      "name": "",
                      "orientation": "v",
                      "showlegend": false,
                      "type": "scatter",
                      "x": [
                        -69
                      ],
                      "xaxis": "x",
                      "y": [
                        22
                      ],
                      "yaxis": "y"
                    }
                  ],
                  "layout": {
                    "title": {
                      "text": "Marcus Kruger faceoff won against Paul Stastny"
                    }
                  },
                  "name": "206"
                },
                {
                  "data": [
                    {
                      "hovertemplate": "event idx=207<br>x=%{x}<br>y=%{y}<extra></extra>",
                      "legendgroup": "",
                      "marker": {
                        "color": "#636efa",
                        "symbol": "circle"
                      },
                      "mode": "markers",
                      "name": "",
                      "orientation": "v",
                      "showlegend": false,
                      "type": "scatter",
                      "x": [
                        -42
                      ],
                      "xaxis": "x",
                      "y": [
                        6
                      ],
                      "yaxis": "y"
                    }
                  ],
                  "layout": {
                    "title": {
                      "text": "Colton Parayko - Wide of Net"
                    }
                  },
                  "name": "207"
                },
                {
                  "data": [
                    {
                      "hovertemplate": "event idx=208<br>x=%{x}<br>y=%{y}<extra></extra>",
                      "legendgroup": "",
                      "marker": {
                        "color": "#636efa",
                        "symbol": "circle"
                      },
                      "mode": "markers",
                      "name": "",
                      "orientation": "v",
                      "showlegend": false,
                      "type": "scatter",
                      "x": [
                        -46
                      ],
                      "xaxis": "x",
                      "y": [
                        -29
                      ],
                      "yaxis": "y"
                    }
                  ],
                  "layout": {
                    "title": {
                      "text": "Kevin Shattenkirk Slap Shot saved by Corey Crawford"
                    }
                  },
                  "name": "208"
                },
                {
                  "data": [
                    {
                      "hovertemplate": "event idx=209<br>x=%{x}<br>y=%{y}<extra></extra>",
                      "legendgroup": "",
                      "marker": {
                        "color": "#636efa",
                        "symbol": "circle"
                      },
                      "mode": "markers",
                      "name": "",
                      "orientation": "v",
                      "showlegend": false,
                      "type": "scatter",
                      "x": [
                        -43
                      ],
                      "xaxis": "x",
                      "y": [
                        -4
                      ],
                      "yaxis": "y"
                    }
                  ],
                  "layout": {
                    "title": {
                      "text": "Vladimir Tarasenko Wrist Shot saved by Corey Crawford"
                    }
                  },
                  "name": "209"
                },
                {
                  "data": [
                    {
                      "hovertemplate": "event idx=210<br>x=%{x}<br>y=%{y}<extra></extra>",
                      "legendgroup": "",
                      "marker": {
                        "color": "#636efa",
                        "symbol": "circle"
                      },
                      "mode": "markers",
                      "name": "",
                      "orientation": "v",
                      "showlegend": false,
                      "type": "scatter",
                      "x": [
                        -50
                      ],
                      "xaxis": "x",
                      "y": [
                        18
                      ],
                      "yaxis": "y"
                    }
                  ],
                  "layout": {
                    "title": {
                      "text": "Vladimir Tarasenko (1) Wrist Shot, assists: Paul Stastny (1), Kevin Shattenkirk (1)"
                    }
                  },
                  "name": "210"
                },
                {
                  "data": [
                    {
                      "hovertemplate": "event idx=211<br>x=%{x}<br>y=%{y}<extra></extra>",
                      "legendgroup": "",
                      "marker": {
                        "color": "#636efa",
                        "symbol": "circle"
                      },
                      "mode": "markers",
                      "name": "",
                      "orientation": "v",
                      "showlegend": false,
                      "type": "scatter",
                      "x": [
                        -78
                      ],
                      "xaxis": "x",
                      "y": [
                        -29
                      ],
                      "yaxis": "y"
                    }
                  ],
                  "layout": {
                    "title": {
                      "text": "Duncan Keith Hi-sticking against Colton Parayko"
                    }
                  },
                  "name": "211"
                },
                {
                  "data": [
                    {
                      "hovertemplate": "event idx=212<br>x=%{x}<br>y=%{y}<extra></extra>",
                      "legendgroup": "",
                      "marker": {
                        "color": "#636efa",
                        "symbol": "circle"
                      },
                      "mode": "markers",
                      "name": "",
                      "orientation": "v",
                      "showlegend": false,
                      "type": "scatter",
                      "x": [
                        0
                      ],
                      "xaxis": "x",
                      "y": [
                        0
                      ],
                      "yaxis": "y"
                    }
                  ],
                  "layout": {
                    "title": {
                      "text": "Paul Stastny faceoff won against Jonathan Toews"
                    }
                  },
                  "name": "212"
                },
                {
                  "data": [
                    {
                      "hovertemplate": "event idx=213<br>x=%{x}<br>y=%{y}<extra></extra>",
                      "legendgroup": "",
                      "marker": {
                        "color": "#636efa",
                        "symbol": "circle"
                      },
                      "mode": "markers",
                      "name": "",
                      "orientation": "v",
                      "showlegend": false,
                      "type": "scatter",
                      "x": [
                        -93
                      ],
                      "xaxis": "x",
                      "y": [
                        -34
                      ],
                      "yaxis": "y"
                    }
                  ],
                  "layout": {
                    "title": {
                      "text": "Giveaway by Brent Seabrook"
                    }
                  },
                  "name": "213"
                },
                {
                  "data": [
                    {
                      "hovertemplate": "event idx=214<br>x=%{x}<br>y=%{y}<extra></extra>",
                      "legendgroup": "",
                      "marker": {
                        "color": "#636efa",
                        "symbol": "circle"
                      },
                      "mode": "markers",
                      "name": "",
                      "orientation": "v",
                      "showlegend": false,
                      "type": "scatter",
                      "x": [
                        -79
                      ],
                      "xaxis": "x",
                      "y": [
                        0
                      ],
                      "yaxis": "y"
                    }
                  ],
                  "layout": {
                    "title": {
                      "text": "Alexander Steen Tip-In saved by Corey Crawford"
                    }
                  },
                  "name": "214"
                },
                {
                  "data": [
                    {
                      "hovertemplate": "event idx=215<br>x=%{x}<br>y=%{y}<extra></extra>",
                      "legendgroup": "",
                      "marker": {
                        "color": "#636efa",
                        "symbol": "circle"
                      },
                      "mode": "markers",
                      "name": "",
                      "orientation": "v",
                      "showlegend": false,
                      "type": "scatter",
                      "x": [
                        null
                      ],
                      "xaxis": "x",
                      "y": [
                        null
                      ],
                      "yaxis": "y"
                    }
                  ],
                  "layout": {
                    "title": {
                      "text": "End of 2nd Period"
                    }
                  },
                  "name": "215"
                },
                {
                  "data": [
                    {
                      "hovertemplate": "event idx=216<br>x=%{x}<br>y=%{y}<extra></extra>",
                      "legendgroup": "",
                      "marker": {
                        "color": "#636efa",
                        "symbol": "circle"
                      },
                      "mode": "markers",
                      "name": "",
                      "orientation": "v",
                      "showlegend": false,
                      "type": "scatter",
                      "x": [
                        null
                      ],
                      "xaxis": "x",
                      "y": [
                        null
                      ],
                      "yaxis": "y"
                    }
                  ],
                  "layout": {
                    "title": {
                      "text": "Period Official"
                    }
                  },
                  "name": "216"
                },
                {
                  "data": [
                    {
                      "hovertemplate": "event idx=217<br>x=%{x}<br>y=%{y}<extra></extra>",
                      "legendgroup": "",
                      "marker": {
                        "color": "#636efa",
                        "symbol": "circle"
                      },
                      "mode": "markers",
                      "name": "",
                      "orientation": "v",
                      "showlegend": false,
                      "type": "scatter",
                      "x": [
                        null
                      ],
                      "xaxis": "x",
                      "y": [
                        null
                      ],
                      "yaxis": "y"
                    }
                  ],
                  "layout": {
                    "title": {
                      "text": "Period Ready"
                    }
                  },
                  "name": "217"
                },
                {
                  "data": [
                    {
                      "hovertemplate": "event idx=218<br>x=%{x}<br>y=%{y}<extra></extra>",
                      "legendgroup": "",
                      "marker": {
                        "color": "#636efa",
                        "symbol": "circle"
                      },
                      "mode": "markers",
                      "name": "",
                      "orientation": "v",
                      "showlegend": false,
                      "type": "scatter",
                      "x": [
                        null
                      ],
                      "xaxis": "x",
                      "y": [
                        null
                      ],
                      "yaxis": "y"
                    }
                  ],
                  "layout": {
                    "title": {
                      "text": "Period Start"
                    }
                  },
                  "name": "218"
                },
                {
                  "data": [
                    {
                      "hovertemplate": "event idx=219<br>x=%{x}<br>y=%{y}<extra></extra>",
                      "legendgroup": "",
                      "marker": {
                        "color": "#636efa",
                        "symbol": "circle"
                      },
                      "mode": "markers",
                      "name": "",
                      "orientation": "v",
                      "showlegend": false,
                      "type": "scatter",
                      "x": [
                        0
                      ],
                      "xaxis": "x",
                      "y": [
                        0
                      ],
                      "yaxis": "y"
                    }
                  ],
                  "layout": {
                    "title": {
                      "text": "Paul Stastny faceoff won against Jonathan Toews"
                    }
                  },
                  "name": "219"
                },
                {
                  "data": [
                    {
                      "hovertemplate": "event idx=220<br>x=%{x}<br>y=%{y}<extra></extra>",
                      "legendgroup": "",
                      "marker": {
                        "color": "#636efa",
                        "symbol": "circle"
                      },
                      "mode": "markers",
                      "name": "",
                      "orientation": "v",
                      "showlegend": false,
                      "type": "scatter",
                      "x": [
                        39
                      ],
                      "xaxis": "x",
                      "y": [
                        4
                      ],
                      "yaxis": "y"
                    }
                  ],
                  "layout": {
                    "title": {
                      "text": "Kevin Shattenkirk Slap Shot saved by Corey Crawford"
                    }
                  },
                  "name": "220"
                },
                {
                  "data": [
                    {
                      "hovertemplate": "event idx=221<br>x=%{x}<br>y=%{y}<extra></extra>",
                      "legendgroup": "",
                      "marker": {
                        "color": "#636efa",
                        "symbol": "circle"
                      },
                      "mode": "markers",
                      "name": "",
                      "orientation": "v",
                      "showlegend": false,
                      "type": "scatter",
                      "x": [
                        null
                      ],
                      "xaxis": "x",
                      "y": [
                        null
                      ],
                      "yaxis": "y"
                    }
                  ],
                  "layout": {
                    "title": {
                      "text": "Goalie Stopped"
                    }
                  },
                  "name": "221"
                },
                {
                  "data": [
                    {
                      "hovertemplate": "event idx=222<br>x=%{x}<br>y=%{y}<extra></extra>",
                      "legendgroup": "",
                      "marker": {
                        "color": "#636efa",
                        "symbol": "circle"
                      },
                      "mode": "markers",
                      "name": "",
                      "orientation": "v",
                      "showlegend": false,
                      "type": "scatter",
                      "x": [
                        69
                      ],
                      "xaxis": "x",
                      "y": [
                        22
                      ],
                      "yaxis": "y"
                    }
                  ],
                  "layout": {
                    "title": {
                      "text": "Paul Stastny faceoff won against Artem Anisimov"
                    }
                  },
                  "name": "222"
                },
                {
                  "data": [
                    {
                      "hovertemplate": "event idx=223<br>x=%{x}<br>y=%{y}<extra></extra>",
                      "legendgroup": "",
                      "marker": {
                        "color": "#636efa",
                        "symbol": "circle"
                      },
                      "mode": "markers",
                      "name": "",
                      "orientation": "v",
                      "showlegend": false,
                      "type": "scatter",
                      "x": [
                        68
                      ],
                      "xaxis": "x",
                      "y": [
                        30
                      ],
                      "yaxis": "y"
                    }
                  ],
                  "layout": {
                    "title": {
                      "text": "Vladimir Tarasenko Wrist Shot saved by Corey Crawford"
                    }
                  },
                  "name": "223"
                },
                {
                  "data": [
                    {
                      "hovertemplate": "event idx=224<br>x=%{x}<br>y=%{y}<extra></extra>",
                      "legendgroup": "",
                      "marker": {
                        "color": "#636efa",
                        "symbol": "circle"
                      },
                      "mode": "markers",
                      "name": "",
                      "orientation": "v",
                      "showlegend": false,
                      "type": "scatter",
                      "x": [
                        76
                      ],
                      "xaxis": "x",
                      "y": [
                        5
                      ],
                      "yaxis": "y"
                    }
                  ],
                  "layout": {
                    "title": {
                      "text": "Paul Stastny (1) Wrist Shot, assists: Vladimir Tarasenko (1), Kevin Shattenkirk (2)"
                    }
                  },
                  "name": "224"
                },
                {
                  "data": [
                    {
                      "hovertemplate": "event idx=225<br>x=%{x}<br>y=%{y}<extra></extra>",
                      "legendgroup": "",
                      "marker": {
                        "color": "#636efa",
                        "symbol": "circle"
                      },
                      "mode": "markers",
                      "name": "",
                      "orientation": "v",
                      "showlegend": false,
                      "type": "scatter",
                      "x": [
                        0
                      ],
                      "xaxis": "x",
                      "y": [
                        0
                      ],
                      "yaxis": "y"
                    }
                  ],
                  "layout": {
                    "title": {
                      "text": "Jonathan Toews faceoff won against Jori Lehtera"
                    }
                  },
                  "name": "225"
                },
                {
                  "data": [
                    {
                      "hovertemplate": "event idx=226<br>x=%{x}<br>y=%{y}<extra></extra>",
                      "legendgroup": "",
                      "marker": {
                        "color": "#636efa",
                        "symbol": "circle"
                      },
                      "mode": "markers",
                      "name": "",
                      "orientation": "v",
                      "showlegend": false,
                      "type": "scatter",
                      "x": [
                        null
                      ],
                      "xaxis": "x",
                      "y": [
                        null
                      ],
                      "yaxis": "y"
                    }
                  ],
                  "layout": {
                    "title": {
                      "text": "Puck in Benches"
                    }
                  },
                  "name": "226"
                },
                {
                  "data": [
                    {
                      "hovertemplate": "event idx=227<br>x=%{x}<br>y=%{y}<extra></extra>",
                      "legendgroup": "",
                      "marker": {
                        "color": "#636efa",
                        "symbol": "circle"
                      },
                      "mode": "markers",
                      "name": "",
                      "orientation": "v",
                      "showlegend": false,
                      "type": "scatter",
                      "x": [
                        -20
                      ],
                      "xaxis": "x",
                      "y": [
                        22
                      ],
                      "yaxis": "y"
                    }
                  ],
                  "layout": {
                    "title": {
                      "text": "Artem Anisimov faceoff won against Paul Stastny"
                    }
                  },
                  "name": "227"
                },
                {
                  "data": [
                    {
                      "hovertemplate": "event idx=228<br>x=%{x}<br>y=%{y}<extra></extra>",
                      "legendgroup": "",
                      "marker": {
                        "color": "#636efa",
                        "symbol": "circle"
                      },
                      "mode": "markers",
                      "name": "",
                      "orientation": "v",
                      "showlegend": false,
                      "type": "scatter",
                      "x": [
                        53
                      ],
                      "xaxis": "x",
                      "y": [
                        -38
                      ],
                      "yaxis": "y"
                    }
                  ],
                  "layout": {
                    "title": {
                      "text": "Trevor van Riemsdyk Boarding against Robby Fabbri"
                    }
                  },
                  "name": "228"
                },
                {
                  "data": [
                    {
                      "hovertemplate": "event idx=229<br>x=%{x}<br>y=%{y}<extra></extra>",
                      "legendgroup": "",
                      "marker": {
                        "color": "#636efa",
                        "symbol": "circle"
                      },
                      "mode": "markers",
                      "name": "",
                      "orientation": "v",
                      "showlegend": false,
                      "type": "scatter",
                      "x": [
                        69
                      ],
                      "xaxis": "x",
                      "y": [
                        -22
                      ],
                      "yaxis": "y"
                    }
                  ],
                  "layout": {
                    "title": {
                      "text": "Marcus Kruger faceoff won against Paul Stastny"
                    }
                  },
                  "name": "229"
                },
                {
                  "data": [
                    {
                      "hovertemplate": "event idx=230<br>x=%{x}<br>y=%{y}<extra></extra>",
                      "legendgroup": "",
                      "marker": {
                        "color": "#636efa",
                        "symbol": "circle"
                      },
                      "mode": "markers",
                      "name": "",
                      "orientation": "v",
                      "showlegend": false,
                      "type": "scatter",
                      "x": [
                        93
                      ],
                      "xaxis": "x",
                      "y": [
                        -7
                      ],
                      "yaxis": "y"
                    }
                  ],
                  "layout": {
                    "title": {
                      "text": "Duncan Keith hit Jori Lehtera"
                    }
                  },
                  "name": "230"
                },
                {
                  "data": [
                    {
                      "hovertemplate": "event idx=231<br>x=%{x}<br>y=%{y}<extra></extra>",
                      "legendgroup": "",
                      "marker": {
                        "color": "#636efa",
                        "symbol": "circle"
                      },
                      "mode": "markers",
                      "name": "",
                      "orientation": "v",
                      "showlegend": false,
                      "type": "scatter",
                      "x": [
                        68
                      ],
                      "xaxis": "x",
                      "y": [
                        30
                      ],
                      "yaxis": "y"
                    }
                  ],
                  "layout": {
                    "title": {
                      "text": "Colton Parayko Slap Shot saved by Corey Crawford"
                    }
                  },
                  "name": "231"
                },
                {
                  "data": [
                    {
                      "hovertemplate": "event idx=232<br>x=%{x}<br>y=%{y}<extra></extra>",
                      "legendgroup": "",
                      "marker": {
                        "color": "#636efa",
                        "symbol": "circle"
                      },
                      "mode": "markers",
                      "name": "",
                      "orientation": "v",
                      "showlegend": false,
                      "type": "scatter",
                      "x": [
                        83
                      ],
                      "xaxis": "x",
                      "y": [
                        -27
                      ],
                      "yaxis": "y"
                    }
                  ],
                  "layout": {
                    "title": {
                      "text": "Colton Parayko Wrist Shot saved by Corey Crawford"
                    }
                  },
                  "name": "232"
                },
                {
                  "data": [
                    {
                      "hovertemplate": "event idx=233<br>x=%{x}<br>y=%{y}<extra></extra>",
                      "legendgroup": "",
                      "marker": {
                        "color": "#636efa",
                        "symbol": "circle"
                      },
                      "mode": "markers",
                      "name": "",
                      "orientation": "v",
                      "showlegend": false,
                      "type": "scatter",
                      "x": [
                        51
                      ],
                      "xaxis": "x",
                      "y": [
                        36
                      ],
                      "yaxis": "y"
                    }
                  ],
                  "layout": {
                    "title": {
                      "text": "Artem Anisimov hit David Perron"
                    }
                  },
                  "name": "233"
                },
                {
                  "data": [
                    {
                      "hovertemplate": "event idx=234<br>x=%{x}<br>y=%{y}<extra></extra>",
                      "legendgroup": "",
                      "marker": {
                        "color": "#636efa",
                        "symbol": "circle"
                      },
                      "mode": "markers",
                      "name": "",
                      "orientation": "v",
                      "showlegend": false,
                      "type": "scatter",
                      "x": [
                        63
                      ],
                      "xaxis": "x",
                      "y": [
                        -2
                      ],
                      "yaxis": "y"
                    }
                  ],
                  "layout": {
                    "title": {
                      "text": "Alexander Steen - Wide of Net"
                    }
                  },
                  "name": "234"
                },
                {
                  "data": [
                    {
                      "hovertemplate": "event idx=235<br>x=%{x}<br>y=%{y}<extra></extra>",
                      "legendgroup": "",
                      "marker": {
                        "color": "#636efa",
                        "symbol": "circle"
                      },
                      "mode": "markers",
                      "name": "",
                      "orientation": "v",
                      "showlegend": false,
                      "type": "scatter",
                      "x": [
                        -78
                      ],
                      "xaxis": "x",
                      "y": [
                        29
                      ],
                      "yaxis": "y"
                    }
                  ],
                  "layout": {
                    "title": {
                      "text": "Ryan Hartman Wrist Shot saved by Jake Allen"
                    }
                  },
                  "name": "235"
                },
                {
                  "data": [
                    {
                      "hovertemplate": "event idx=236<br>x=%{x}<br>y=%{y}<extra></extra>",
                      "legendgroup": "",
                      "marker": {
                        "color": "#636efa",
                        "symbol": "circle"
                      },
                      "mode": "markers",
                      "name": "",
                      "orientation": "v",
                      "showlegend": false,
                      "type": "scatter",
                      "x": [
                        null
                      ],
                      "xaxis": "x",
                      "y": [
                        null
                      ],
                      "yaxis": "y"
                    }
                  ],
                  "layout": {
                    "title": {
                      "text": "Goalie Stopped"
                    }
                  },
                  "name": "236"
                },
                {
                  "data": [
                    {
                      "hovertemplate": "event idx=237<br>x=%{x}<br>y=%{y}<extra></extra>",
                      "legendgroup": "",
                      "marker": {
                        "color": "#636efa",
                        "symbol": "circle"
                      },
                      "mode": "markers",
                      "name": "",
                      "orientation": "v",
                      "showlegend": false,
                      "type": "scatter",
                      "x": [
                        -69
                      ],
                      "xaxis": "x",
                      "y": [
                        22
                      ],
                      "yaxis": "y"
                    }
                  ],
                  "layout": {
                    "title": {
                      "text": "Jonathan Toews faceoff won against Patrik Berglund"
                    }
                  },
                  "name": "237"
                },
                {
                  "data": [
                    {
                      "hovertemplate": "event idx=238<br>x=%{x}<br>y=%{y}<extra></extra>",
                      "legendgroup": "",
                      "marker": {
                        "color": "#636efa",
                        "symbol": "circle"
                      },
                      "mode": "markers",
                      "name": "",
                      "orientation": "v",
                      "showlegend": false,
                      "type": "scatter",
                      "x": [
                        94
                      ],
                      "xaxis": "x",
                      "y": [
                        9
                      ],
                      "yaxis": "y"
                    }
                  ],
                  "layout": {
                    "title": {
                      "text": "Giveaway by Gustav Forsling"
                    }
                  },
                  "name": "238"
                },
                {
                  "data": [
                    {
                      "hovertemplate": "event idx=239<br>x=%{x}<br>y=%{y}<extra></extra>",
                      "legendgroup": "",
                      "marker": {
                        "color": "#636efa",
                        "symbol": "circle"
                      },
                      "mode": "markers",
                      "name": "",
                      "orientation": "v",
                      "showlegend": false,
                      "type": "scatter",
                      "x": [
                        51
                      ],
                      "xaxis": "x",
                      "y": [
                        22
                      ],
                      "yaxis": "y"
                    }
                  ],
                  "layout": {
                    "title": {
                      "text": "Alex Pietrangelo Wrist Shot saved by Corey Crawford"
                    }
                  },
                  "name": "239"
                },
                {
                  "data": [
                    {
                      "hovertemplate": "event idx=240<br>x=%{x}<br>y=%{y}<extra></extra>",
                      "legendgroup": "",
                      "marker": {
                        "color": "#636efa",
                        "symbol": "circle"
                      },
                      "mode": "markers",
                      "name": "",
                      "orientation": "v",
                      "showlegend": false,
                      "type": "scatter",
                      "x": [
                        -65
                      ],
                      "xaxis": "x",
                      "y": [
                        -25
                      ],
                      "yaxis": "y"
                    }
                  ],
                  "layout": {
                    "title": {
                      "text": "Artem Anisimov Wrist Shot saved by Jake Allen"
                    }
                  },
                  "name": "240"
                },
                {
                  "data": [
                    {
                      "hovertemplate": "event idx=241<br>x=%{x}<br>y=%{y}<extra></extra>",
                      "legendgroup": "",
                      "marker": {
                        "color": "#636efa",
                        "symbol": "circle"
                      },
                      "mode": "markers",
                      "name": "",
                      "orientation": "v",
                      "showlegend": false,
                      "type": "scatter",
                      "x": [
                        -92
                      ],
                      "xaxis": "x",
                      "y": [
                        37
                      ],
                      "yaxis": "y"
                    }
                  ],
                  "layout": {
                    "title": {
                      "text": "Richard Panik hit Alex Pietrangelo"
                    }
                  },
                  "name": "241"
                },
                {
                  "data": [
                    {
                      "hovertemplate": "event idx=242<br>x=%{x}<br>y=%{y}<extra></extra>",
                      "legendgroup": "",
                      "marker": {
                        "color": "#636efa",
                        "symbol": "circle"
                      },
                      "mode": "markers",
                      "name": "",
                      "orientation": "v",
                      "showlegend": false,
                      "type": "scatter",
                      "x": [
                        -47
                      ],
                      "xaxis": "x",
                      "y": [
                        39
                      ],
                      "yaxis": "y"
                    }
                  ],
                  "layout": {
                    "title": {
                      "text": "Richard Panik hit Kevin Shattenkirk"
                    }
                  },
                  "name": "242"
                },
                {
                  "data": [
                    {
                      "hovertemplate": "event idx=243<br>x=%{x}<br>y=%{y}<extra></extra>",
                      "legendgroup": "",
                      "marker": {
                        "color": "#636efa",
                        "symbol": "circle"
                      },
                      "mode": "markers",
                      "name": "",
                      "orientation": "v",
                      "showlegend": false,
                      "type": "scatter",
                      "x": [
                        null
                      ],
                      "xaxis": "x",
                      "y": [
                        null
                      ],
                      "yaxis": "y"
                    }
                  ],
                  "layout": {
                    "title": {
                      "text": "Icing"
                    }
                  },
                  "name": "243"
                },
                {
                  "data": [
                    {
                      "hovertemplate": "event idx=244<br>x=%{x}<br>y=%{y}<extra></extra>",
                      "legendgroup": "",
                      "marker": {
                        "color": "#636efa",
                        "symbol": "circle"
                      },
                      "mode": "markers",
                      "name": "",
                      "orientation": "v",
                      "showlegend": false,
                      "type": "scatter",
                      "x": [
                        69
                      ],
                      "xaxis": "x",
                      "y": [
                        22
                      ],
                      "yaxis": "y"
                    }
                  ],
                  "layout": {
                    "title": {
                      "text": "Patrik Berglund faceoff won against Artem Anisimov"
                    }
                  },
                  "name": "244"
                },
                {
                  "data": [
                    {
                      "hovertemplate": "event idx=245<br>x=%{x}<br>y=%{y}<extra></extra>",
                      "legendgroup": "",
                      "marker": {
                        "color": "#636efa",
                        "symbol": "circle"
                      },
                      "mode": "markers",
                      "name": "",
                      "orientation": "v",
                      "showlegend": false,
                      "type": "scatter",
                      "x": [
                        45
                      ],
                      "xaxis": "x",
                      "y": [
                        20
                      ],
                      "yaxis": "y"
                    }
                  ],
                  "layout": {
                    "title": {
                      "text": "Vinnie Hinostroza blocked shot from Joel Edmundson"
                    }
                  },
                  "name": "245"
                },
                {
                  "data": [
                    {
                      "hovertemplate": "event idx=246<br>x=%{x}<br>y=%{y}<extra></extra>",
                      "legendgroup": "",
                      "marker": {
                        "color": "#636efa",
                        "symbol": "circle"
                      },
                      "mode": "markers",
                      "name": "",
                      "orientation": "v",
                      "showlegend": false,
                      "type": "scatter",
                      "x": [
                        null
                      ],
                      "xaxis": "x",
                      "y": [
                        null
                      ],
                      "yaxis": "y"
                    }
                  ],
                  "layout": {
                    "title": {
                      "text": "TV timeout"
                    }
                  },
                  "name": "246"
                },
                {
                  "data": [
                    {
                      "hovertemplate": "event idx=247<br>x=%{x}<br>y=%{y}<extra></extra>",
                      "legendgroup": "",
                      "marker": {
                        "color": "#636efa",
                        "symbol": "circle"
                      },
                      "mode": "markers",
                      "name": "",
                      "orientation": "v",
                      "showlegend": false,
                      "type": "scatter",
                      "x": [
                        82
                      ],
                      "xaxis": "x",
                      "y": [
                        39
                      ],
                      "yaxis": "y"
                    }
                  ],
                  "layout": {
                    "title": {
                      "text": "Patrik Berglund Hi-sticking against Trevor van Riemsdyk"
                    }
                  },
                  "name": "247"
                },
                {
                  "data": [
                    {
                      "hovertemplate": "event idx=248<br>x=%{x}<br>y=%{y}<extra></extra>",
                      "legendgroup": "",
                      "marker": {
                        "color": "#636efa",
                        "symbol": "circle"
                      },
                      "mode": "markers",
                      "name": "",
                      "orientation": "v",
                      "showlegend": false,
                      "type": "scatter",
                      "x": [
                        -69
                      ],
                      "xaxis": "x",
                      "y": [
                        22
                      ],
                      "yaxis": "y"
                    }
                  ],
                  "layout": {
                    "title": {
                      "text": "Paul Stastny faceoff won against Artem Anisimov"
                    }
                  },
                  "name": "248"
                },
                {
                  "data": [
                    {
                      "hovertemplate": "event idx=249<br>x=%{x}<br>y=%{y}<extra></extra>",
                      "legendgroup": "",
                      "marker": {
                        "color": "#636efa",
                        "symbol": "circle"
                      },
                      "mode": "markers",
                      "name": "",
                      "orientation": "v",
                      "showlegend": false,
                      "type": "scatter",
                      "x": [
                        -49
                      ],
                      "xaxis": "x",
                      "y": [
                        36
                      ],
                      "yaxis": "y"
                    }
                  ],
                  "layout": {
                    "title": {
                      "text": "Giveaway by Alex Pietrangelo"
                    }
                  },
                  "name": "249"
                },
                {
                  "data": [
                    {
                      "hovertemplate": "event idx=250<br>x=%{x}<br>y=%{y}<extra></extra>",
                      "legendgroup": "",
                      "marker": {
                        "color": "#636efa",
                        "symbol": "circle"
                      },
                      "mode": "markers",
                      "name": "",
                      "orientation": "v",
                      "showlegend": false,
                      "type": "scatter",
                      "x": [
                        -74
                      ],
                      "xaxis": "x",
                      "y": [
                        -8
                      ],
                      "yaxis": "y"
                    }
                  ],
                  "layout": {
                    "title": {
                      "text": "Colton Parayko blocked shot from Marian Hossa"
                    }
                  },
                  "name": "250"
                },
                {
                  "data": [
                    {
                      "hovertemplate": "event idx=251<br>x=%{x}<br>y=%{y}<extra></extra>",
                      "legendgroup": "",
                      "marker": {
                        "color": "#636efa",
                        "symbol": "circle"
                      },
                      "mode": "markers",
                      "name": "",
                      "orientation": "v",
                      "showlegend": false,
                      "type": "scatter",
                      "x": [
                        -83
                      ],
                      "xaxis": "x",
                      "y": [
                        7
                      ],
                      "yaxis": "y"
                    }
                  ],
                  "layout": {
                    "title": {
                      "text": "Richard Panik Wrist Shot saved by Jake Allen"
                    }
                  },
                  "name": "251"
                },
                {
                  "data": [
                    {
                      "hovertemplate": "event idx=252<br>x=%{x}<br>y=%{y}<extra></extra>",
                      "legendgroup": "",
                      "marker": {
                        "color": "#636efa",
                        "symbol": "circle"
                      },
                      "mode": "markers",
                      "name": "",
                      "orientation": "v",
                      "showlegend": false,
                      "type": "scatter",
                      "x": [
                        null
                      ],
                      "xaxis": "x",
                      "y": [
                        null
                      ],
                      "yaxis": "y"
                    }
                  ],
                  "layout": {
                    "title": {
                      "text": "Goalie Stopped"
                    }
                  },
                  "name": "252"
                },
                {
                  "data": [
                    {
                      "hovertemplate": "event idx=253<br>x=%{x}<br>y=%{y}<extra></extra>",
                      "legendgroup": "",
                      "marker": {
                        "color": "#636efa",
                        "symbol": "circle"
                      },
                      "mode": "markers",
                      "name": "",
                      "orientation": "v",
                      "showlegend": false,
                      "type": "scatter",
                      "x": [
                        -69
                      ],
                      "xaxis": "x",
                      "y": [
                        22
                      ],
                      "yaxis": "y"
                    }
                  ],
                  "layout": {
                    "title": {
                      "text": "Paul Stastny faceoff won against Nick Schmaltz"
                    }
                  },
                  "name": "253"
                },
                {
                  "data": [
                    {
                      "hovertemplate": "event idx=254<br>x=%{x}<br>y=%{y}<extra></extra>",
                      "legendgroup": "",
                      "marker": {
                        "color": "#636efa",
                        "symbol": "circle"
                      },
                      "mode": "markers",
                      "name": "",
                      "orientation": "v",
                      "showlegend": false,
                      "type": "scatter",
                      "x": [
                        -95
                      ],
                      "xaxis": "x",
                      "y": [
                        15
                      ],
                      "yaxis": "y"
                    }
                  ],
                  "layout": {
                    "title": {
                      "text": "Joel Edmundson hit Nick Schmaltz"
                    }
                  },
                  "name": "254"
                },
                {
                  "data": [
                    {
                      "hovertemplate": "event idx=255<br>x=%{x}<br>y=%{y}<extra></extra>",
                      "legendgroup": "",
                      "marker": {
                        "color": "#636efa",
                        "symbol": "circle"
                      },
                      "mode": "markers",
                      "name": "",
                      "orientation": "v",
                      "showlegend": false,
                      "type": "scatter",
                      "x": [
                        null
                      ],
                      "xaxis": "x",
                      "y": [
                        null
                      ],
                      "yaxis": "y"
                    }
                  ],
                  "layout": {
                    "title": {
                      "text": "Offside"
                    }
                  },
                  "name": "255"
                },
                {
                  "data": [
                    {
                      "hovertemplate": "event idx=256<br>x=%{x}<br>y=%{y}<extra></extra>",
                      "legendgroup": "",
                      "marker": {
                        "color": "#636efa",
                        "symbol": "circle"
                      },
                      "mode": "markers",
                      "name": "",
                      "orientation": "v",
                      "showlegend": false,
                      "type": "scatter",
                      "x": [
                        -20
                      ],
                      "xaxis": "x",
                      "y": [
                        -22
                      ],
                      "yaxis": "y"
                    }
                  ],
                  "layout": {
                    "title": {
                      "text": "Vinnie Hinostroza faceoff won against Patrik Berglund"
                    }
                  },
                  "name": "256"
                },
                {
                  "data": [
                    {
                      "hovertemplate": "event idx=257<br>x=%{x}<br>y=%{y}<extra></extra>",
                      "legendgroup": "",
                      "marker": {
                        "color": "#636efa",
                        "symbol": "circle"
                      },
                      "mode": "markers",
                      "name": "",
                      "orientation": "v",
                      "showlegend": false,
                      "type": "scatter",
                      "x": [
                        -79
                      ],
                      "xaxis": "x",
                      "y": [
                        -18
                      ],
                      "yaxis": "y"
                    }
                  ],
                  "layout": {
                    "title": {
                      "text": "Tyler Motte Wrist Shot saved by Jake Allen"
                    }
                  },
                  "name": "257"
                },
                {
                  "data": [
                    {
                      "hovertemplate": "event idx=258<br>x=%{x}<br>y=%{y}<extra></extra>",
                      "legendgroup": "",
                      "marker": {
                        "color": "#636efa",
                        "symbol": "circle"
                      },
                      "mode": "markers",
                      "name": "",
                      "orientation": "v",
                      "showlegend": false,
                      "type": "scatter",
                      "x": [
                        null
                      ],
                      "xaxis": "x",
                      "y": [
                        null
                      ],
                      "yaxis": "y"
                    }
                  ],
                  "layout": {
                    "title": {
                      "text": "Icing"
                    }
                  },
                  "name": "258"
                },
                {
                  "data": [
                    {
                      "hovertemplate": "event idx=259<br>x=%{x}<br>y=%{y}<extra></extra>",
                      "legendgroup": "",
                      "marker": {
                        "color": "#636efa",
                        "symbol": "circle"
                      },
                      "mode": "markers",
                      "name": "",
                      "orientation": "v",
                      "showlegend": false,
                      "type": "scatter",
                      "x": [
                        69
                      ],
                      "xaxis": "x",
                      "y": [
                        -22
                      ],
                      "yaxis": "y"
                    }
                  ],
                  "layout": {
                    "title": {
                      "text": "Kyle Brodziak faceoff won against Vinnie Hinostroza"
                    }
                  },
                  "name": "259"
                },
                {
                  "data": [
                    {
                      "hovertemplate": "event idx=260<br>x=%{x}<br>y=%{y}<extra></extra>",
                      "legendgroup": "",
                      "marker": {
                        "color": "#636efa",
                        "symbol": "circle"
                      },
                      "mode": "markers",
                      "name": "",
                      "orientation": "v",
                      "showlegend": false,
                      "type": "scatter",
                      "x": [
                        88
                      ],
                      "xaxis": "x",
                      "y": [
                        -9
                      ],
                      "yaxis": "y"
                    }
                  ],
                  "layout": {
                    "title": {
                      "text": "Scottie Upshall Wrist Shot saved by Corey Crawford"
                    }
                  },
                  "name": "260"
                },
                {
                  "data": [
                    {
                      "hovertemplate": "event idx=261<br>x=%{x}<br>y=%{y}<extra></extra>",
                      "legendgroup": "",
                      "marker": {
                        "color": "#636efa",
                        "symbol": "circle"
                      },
                      "mode": "markers",
                      "name": "",
                      "orientation": "v",
                      "showlegend": false,
                      "type": "scatter",
                      "x": [
                        83
                      ],
                      "xaxis": "x",
                      "y": [
                        -7
                      ],
                      "yaxis": "y"
                    }
                  ],
                  "layout": {
                    "title": {
                      "text": "Kyle Brodziak Wrist Shot saved by Corey Crawford"
                    }
                  },
                  "name": "261"
                },
                {
                  "data": [
                    {
                      "hovertemplate": "event idx=262<br>x=%{x}<br>y=%{y}<extra></extra>",
                      "legendgroup": "",
                      "marker": {
                        "color": "#636efa",
                        "symbol": "circle"
                      },
                      "mode": "markers",
                      "name": "",
                      "orientation": "v",
                      "showlegend": false,
                      "type": "scatter",
                      "x": [
                        null
                      ],
                      "xaxis": "x",
                      "y": [
                        null
                      ],
                      "yaxis": "y"
                    }
                  ],
                  "layout": {
                    "title": {
                      "text": "Goalie Stopped"
                    }
                  },
                  "name": "262"
                },
                {
                  "data": [
                    {
                      "hovertemplate": "event idx=263<br>x=%{x}<br>y=%{y}<extra></extra>",
                      "legendgroup": "",
                      "marker": {
                        "color": "#636efa",
                        "symbol": "circle"
                      },
                      "mode": "markers",
                      "name": "",
                      "orientation": "v",
                      "showlegend": false,
                      "type": "scatter",
                      "x": [
                        98
                      ],
                      "xaxis": "x",
                      "y": [
                        0
                      ],
                      "yaxis": "y"
                    }
                  ],
                  "layout": {
                    "title": {
                      "text": "Kyle Brodziak Roughing against Brent Seabrook"
                    }
                  },
                  "name": "263"
                },
                {
                  "data": [
                    {
                      "hovertemplate": "event idx=264<br>x=%{x}<br>y=%{y}<extra></extra>",
                      "legendgroup": "",
                      "marker": {
                        "color": "#636efa",
                        "symbol": "circle"
                      },
                      "mode": "markers",
                      "name": "",
                      "orientation": "v",
                      "showlegend": false,
                      "type": "scatter",
                      "x": [
                        -69
                      ],
                      "xaxis": "x",
                      "y": [
                        22
                      ],
                      "yaxis": "y"
                    }
                  ],
                  "layout": {
                    "title": {
                      "text": "Paul Stastny faceoff won against Jonathan Toews"
                    }
                  },
                  "name": "264"
                },
                {
                  "data": [
                    {
                      "hovertemplate": "event idx=265<br>x=%{x}<br>y=%{y}<extra></extra>",
                      "legendgroup": "",
                      "marker": {
                        "color": "#636efa",
                        "symbol": "circle"
                      },
                      "mode": "markers",
                      "name": "",
                      "orientation": "v",
                      "showlegend": false,
                      "type": "scatter",
                      "x": [
                        -43
                      ],
                      "xaxis": "x",
                      "y": [
                        19
                      ],
                      "yaxis": "y"
                    }
                  ],
                  "layout": {
                    "title": {
                      "text": "Gustav Forsling Slap Shot saved by Jake Allen"
                    }
                  },
                  "name": "265"
                },
                {
                  "data": [
                    {
                      "hovertemplate": "event idx=266<br>x=%{x}<br>y=%{y}<extra></extra>",
                      "legendgroup": "",
                      "marker": {
                        "color": "#636efa",
                        "symbol": "circle"
                      },
                      "mode": "markers",
                      "name": "",
                      "orientation": "v",
                      "showlegend": false,
                      "type": "scatter",
                      "x": [
                        -51
                      ],
                      "xaxis": "x",
                      "y": [
                        -27
                      ],
                      "yaxis": "y"
                    }
                  ],
                  "layout": {
                    "title": {
                      "text": "Artemi Panarin Slap Shot saved by Jake Allen"
                    }
                  },
                  "name": "266"
                },
                {
                  "data": [
                    {
                      "hovertemplate": "event idx=267<br>x=%{x}<br>y=%{y}<extra></extra>",
                      "legendgroup": "",
                      "marker": {
                        "color": "#636efa",
                        "symbol": "circle"
                      },
                      "mode": "markers",
                      "name": "",
                      "orientation": "v",
                      "showlegend": false,
                      "type": "scatter",
                      "x": [
                        -62
                      ],
                      "xaxis": "x",
                      "y": [
                        27
                      ],
                      "yaxis": "y"
                    }
                  ],
                  "layout": {
                    "title": {
                      "text": "Patrick Kane Wrist Shot saved by Jake Allen"
                    }
                  },
                  "name": "267"
                },
                {
                  "data": [
                    {
                      "hovertemplate": "event idx=268<br>x=%{x}<br>y=%{y}<extra></extra>",
                      "legendgroup": "",
                      "marker": {
                        "color": "#636efa",
                        "symbol": "circle"
                      },
                      "mode": "markers",
                      "name": "",
                      "orientation": "v",
                      "showlegend": false,
                      "type": "scatter",
                      "x": [
                        null
                      ],
                      "xaxis": "x",
                      "y": [
                        null
                      ],
                      "yaxis": "y"
                    }
                  ],
                  "layout": {
                    "title": {
                      "text": "Goalie Stopped"
                    }
                  },
                  "name": "268"
                },
                {
                  "data": [
                    {
                      "hovertemplate": "event idx=269<br>x=%{x}<br>y=%{y}<extra></extra>",
                      "legendgroup": "",
                      "marker": {
                        "color": "#636efa",
                        "symbol": "circle"
                      },
                      "mode": "markers",
                      "name": "",
                      "orientation": "v",
                      "showlegend": false,
                      "type": "scatter",
                      "x": [
                        -69
                      ],
                      "xaxis": "x",
                      "y": [
                        22
                      ],
                      "yaxis": "y"
                    }
                  ],
                  "layout": {
                    "title": {
                      "text": "Paul Stastny faceoff won against Artem Anisimov"
                    }
                  },
                  "name": "269"
                },
                {
                  "data": [
                    {
                      "hovertemplate": "event idx=270<br>x=%{x}<br>y=%{y}<extra></extra>",
                      "legendgroup": "",
                      "marker": {
                        "color": "#636efa",
                        "symbol": "circle"
                      },
                      "mode": "markers",
                      "name": "",
                      "orientation": "v",
                      "showlegend": false,
                      "type": "scatter",
                      "x": [
                        -37
                      ],
                      "xaxis": "x",
                      "y": [
                        -21
                      ],
                      "yaxis": "y"
                    }
                  ],
                  "layout": {
                    "title": {
                      "text": "Duncan Keith Slap Shot saved by Jake Allen"
                    }
                  },
                  "name": "270"
                },
                {
                  "data": [
                    {
                      "hovertemplate": "event idx=271<br>x=%{x}<br>y=%{y}<extra></extra>",
                      "legendgroup": "",
                      "marker": {
                        "color": "#636efa",
                        "symbol": "circle"
                      },
                      "mode": "markers",
                      "name": "",
                      "orientation": "v",
                      "showlegend": false,
                      "type": "scatter",
                      "x": [
                        -46
                      ],
                      "xaxis": "x",
                      "y": [
                        41
                      ],
                      "yaxis": "y"
                    }
                  ],
                  "layout": {
                    "title": {
                      "text": "Jay Bouwmeester hit Marian Hossa"
                    }
                  },
                  "name": "271"
                },
                {
                  "data": [
                    {
                      "hovertemplate": "event idx=272<br>x=%{x}<br>y=%{y}<extra></extra>",
                      "legendgroup": "",
                      "marker": {
                        "color": "#636efa",
                        "symbol": "circle"
                      },
                      "mode": "markers",
                      "name": "",
                      "orientation": "v",
                      "showlegend": false,
                      "type": "scatter",
                      "x": [
                        74
                      ],
                      "xaxis": "x",
                      "y": [
                        -6
                      ],
                      "yaxis": "y"
                    }
                  ],
                  "layout": {
                    "title": {
                      "text": "Trevor van Riemsdyk blocked shot from Colton Parayko"
                    }
                  },
                  "name": "272"
                },
                {
                  "data": [
                    {
                      "hovertemplate": "event idx=273<br>x=%{x}<br>y=%{y}<extra></extra>",
                      "legendgroup": "",
                      "marker": {
                        "color": "#636efa",
                        "symbol": "circle"
                      },
                      "mode": "markers",
                      "name": "",
                      "orientation": "v",
                      "showlegend": false,
                      "type": "scatter",
                      "x": [
                        -58
                      ],
                      "xaxis": "x",
                      "y": [
                        -21
                      ],
                      "yaxis": "y"
                    }
                  ],
                  "layout": {
                    "title": {
                      "text": "Tyler Motte Wrist Shot saved by Jake Allen"
                    }
                  },
                  "name": "273"
                },
                {
                  "data": [
                    {
                      "hovertemplate": "event idx=274<br>x=%{x}<br>y=%{y}<extra></extra>",
                      "legendgroup": "",
                      "marker": {
                        "color": "#636efa",
                        "symbol": "circle"
                      },
                      "mode": "markers",
                      "name": "",
                      "orientation": "v",
                      "showlegend": false,
                      "type": "scatter",
                      "x": [
                        null
                      ],
                      "xaxis": "x",
                      "y": [
                        null
                      ],
                      "yaxis": "y"
                    }
                  ],
                  "layout": {
                    "title": {
                      "text": "Goalie Stopped"
                    }
                  },
                  "name": "274"
                },
                {
                  "data": [
                    {
                      "hovertemplate": "event idx=275<br>x=%{x}<br>y=%{y}<extra></extra>",
                      "legendgroup": "",
                      "marker": {
                        "color": "#636efa",
                        "symbol": "circle"
                      },
                      "mode": "markers",
                      "name": "",
                      "orientation": "v",
                      "showlegend": false,
                      "type": "scatter",
                      "x": [
                        -69
                      ],
                      "xaxis": "x",
                      "y": [
                        -22
                      ],
                      "yaxis": "y"
                    }
                  ],
                  "layout": {
                    "title": {
                      "text": "Paul Stastny faceoff won against Jonathan Toews"
                    }
                  },
                  "name": "275"
                },
                {
                  "data": [
                    {
                      "hovertemplate": "event idx=276<br>x=%{x}<br>y=%{y}<extra></extra>",
                      "legendgroup": "",
                      "marker": {
                        "color": "#636efa",
                        "symbol": "circle"
                      },
                      "mode": "markers",
                      "name": "",
                      "orientation": "v",
                      "showlegend": false,
                      "type": "scatter",
                      "x": [
                        null
                      ],
                      "xaxis": "x",
                      "y": [
                        null
                      ],
                      "yaxis": "y"
                    }
                  ],
                  "layout": {
                    "title": {
                      "text": "Icing"
                    }
                  },
                  "name": "276"
                },
                {
                  "data": [
                    {
                      "hovertemplate": "event idx=277<br>x=%{x}<br>y=%{y}<extra></extra>",
                      "legendgroup": "",
                      "marker": {
                        "color": "#636efa",
                        "symbol": "circle"
                      },
                      "mode": "markers",
                      "name": "",
                      "orientation": "v",
                      "showlegend": false,
                      "type": "scatter",
                      "x": [
                        -69
                      ],
                      "xaxis": "x",
                      "y": [
                        22
                      ],
                      "yaxis": "y"
                    }
                  ],
                  "layout": {
                    "title": {
                      "text": "Jonathan Toews faceoff won against Paul Stastny"
                    }
                  },
                  "name": "277"
                },
                {
                  "data": [
                    {
                      "hovertemplate": "event idx=278<br>x=%{x}<br>y=%{y}<extra></extra>",
                      "legendgroup": "",
                      "marker": {
                        "color": "#636efa",
                        "symbol": "circle"
                      },
                      "mode": "markers",
                      "name": "",
                      "orientation": "v",
                      "showlegend": false,
                      "type": "scatter",
                      "x": [
                        -68
                      ],
                      "xaxis": "x",
                      "y": [
                        -9
                      ],
                      "yaxis": "y"
                    }
                  ],
                  "layout": {
                    "title": {
                      "text": "Alex Pietrangelo blocked shot from Artemi Panarin"
                    }
                  },
                  "name": "278"
                },
                {
                  "data": [
                    {
                      "hovertemplate": "event idx=279<br>x=%{x}<br>y=%{y}<extra></extra>",
                      "legendgroup": "",
                      "marker": {
                        "color": "#636efa",
                        "symbol": "circle"
                      },
                      "mode": "markers",
                      "name": "",
                      "orientation": "v",
                      "showlegend": false,
                      "type": "scatter",
                      "x": [
                        -49
                      ],
                      "xaxis": "x",
                      "y": [
                        38
                      ],
                      "yaxis": "y"
                    }
                  ],
                  "layout": {
                    "title": {
                      "text": "Patrik Berglund hit Brent Seabrook"
                    }
                  },
                  "name": "279"
                },
                {
                  "data": [
                    {
                      "hovertemplate": "event idx=280<br>x=%{x}<br>y=%{y}<extra></extra>",
                      "legendgroup": "",
                      "marker": {
                        "color": "#636efa",
                        "symbol": "circle"
                      },
                      "mode": "markers",
                      "name": "",
                      "orientation": "v",
                      "showlegend": false,
                      "type": "scatter",
                      "x": [
                        -67
                      ],
                      "xaxis": "x",
                      "y": [
                        5
                      ],
                      "yaxis": "y"
                    }
                  ],
                  "layout": {
                    "title": {
                      "text": "Jori Lehtera blocked shot from Artemi Panarin"
                    }
                  },
                  "name": "280"
                },
                {
                  "data": [
                    {
                      "hovertemplate": "event idx=281<br>x=%{x}<br>y=%{y}<extra></extra>",
                      "legendgroup": "",
                      "marker": {
                        "color": "#636efa",
                        "symbol": "circle"
                      },
                      "mode": "markers",
                      "name": "",
                      "orientation": "v",
                      "showlegend": false,
                      "type": "scatter",
                      "x": [
                        -84
                      ],
                      "xaxis": "x",
                      "y": [
                        -6
                      ],
                      "yaxis": "y"
                    }
                  ],
                  "layout": {
                    "title": {
                      "text": "Marian Hossa Backhand saved by Jake Allen"
                    }
                  },
                  "name": "281"
                },
                {
                  "data": [
                    {
                      "hovertemplate": "event idx=282<br>x=%{x}<br>y=%{y}<extra></extra>",
                      "legendgroup": "",
                      "marker": {
                        "color": "#636efa",
                        "symbol": "circle"
                      },
                      "mode": "markers",
                      "name": "",
                      "orientation": "v",
                      "showlegend": false,
                      "type": "scatter",
                      "x": [
                        null
                      ],
                      "xaxis": "x",
                      "y": [
                        null
                      ],
                      "yaxis": "y"
                    }
                  ],
                  "layout": {
                    "title": {
                      "text": "Offside"
                    }
                  },
                  "name": "282"
                },
                {
                  "data": [
                    {
                      "hovertemplate": "event idx=283<br>x=%{x}<br>y=%{y}<extra></extra>",
                      "legendgroup": "",
                      "marker": {
                        "color": "#636efa",
                        "symbol": "circle"
                      },
                      "mode": "markers",
                      "name": "",
                      "orientation": "v",
                      "showlegend": false,
                      "type": "scatter",
                      "x": [
                        -20
                      ],
                      "xaxis": "x",
                      "y": [
                        -22
                      ],
                      "yaxis": "y"
                    }
                  ],
                  "layout": {
                    "title": {
                      "text": "Jori Lehtera faceoff won against Artem Anisimov"
                    }
                  },
                  "name": "283"
                },
                {
                  "data": [
                    {
                      "hovertemplate": "event idx=284<br>x=%{x}<br>y=%{y}<extra></extra>",
                      "legendgroup": "",
                      "marker": {
                        "color": "#636efa",
                        "symbol": "circle"
                      },
                      "mode": "markers",
                      "name": "",
                      "orientation": "v",
                      "showlegend": false,
                      "type": "scatter",
                      "x": [
                        -97
                      ],
                      "xaxis": "x",
                      "y": [
                        7
                      ],
                      "yaxis": "y"
                    }
                  ],
                  "layout": {
                    "title": {
                      "text": "Jay Bouwmeester hit Patrick Kane"
                    }
                  },
                  "name": "284"
                },
                {
                  "data": [
                    {
                      "hovertemplate": "event idx=285<br>x=%{x}<br>y=%{y}<extra></extra>",
                      "legendgroup": "",
                      "marker": {
                        "color": "#636efa",
                        "symbol": "circle"
                      },
                      "mode": "markers",
                      "name": "",
                      "orientation": "v",
                      "showlegend": false,
                      "type": "scatter",
                      "x": [
                        null
                      ],
                      "xaxis": "x",
                      "y": [
                        null
                      ],
                      "yaxis": "y"
                    }
                  ],
                  "layout": {
                    "title": {
                      "text": "Icing"
                    }
                  },
                  "name": "285"
                },
                {
                  "data": [
                    {
                      "hovertemplate": "event idx=286<br>x=%{x}<br>y=%{y}<extra></extra>",
                      "legendgroup": "",
                      "marker": {
                        "color": "#636efa",
                        "symbol": "circle"
                      },
                      "mode": "markers",
                      "name": "",
                      "orientation": "v",
                      "showlegend": false,
                      "type": "scatter",
                      "x": [
                        -69
                      ],
                      "xaxis": "x",
                      "y": [
                        -22
                      ],
                      "yaxis": "y"
                    }
                  ],
                  "layout": {
                    "title": {
                      "text": "Patrik Berglund faceoff won against Artem Anisimov"
                    }
                  },
                  "name": "286"
                },
                {
                  "data": [
                    {
                      "hovertemplate": "event idx=287<br>x=%{x}<br>y=%{y}<extra></extra>",
                      "legendgroup": "",
                      "marker": {
                        "color": "#636efa",
                        "symbol": "circle"
                      },
                      "mode": "markers",
                      "name": "",
                      "orientation": "v",
                      "showlegend": false,
                      "type": "scatter",
                      "x": [
                        -36
                      ],
                      "xaxis": "x",
                      "y": [
                        -33
                      ],
                      "yaxis": "y"
                    }
                  ],
                  "layout": {
                    "title": {
                      "text": "Duncan Keith - Over Net"
                    }
                  },
                  "name": "287"
                },
                {
                  "data": [
                    {
                      "hovertemplate": "event idx=288<br>x=%{x}<br>y=%{y}<extra></extra>",
                      "legendgroup": "",
                      "marker": {
                        "color": "#636efa",
                        "symbol": "circle"
                      },
                      "mode": "markers",
                      "name": "",
                      "orientation": "v",
                      "showlegend": false,
                      "type": "scatter",
                      "x": [
                        44
                      ],
                      "xaxis": "x",
                      "y": [
                        -38
                      ],
                      "yaxis": "y"
                    }
                  ],
                  "layout": {
                    "title": {
                      "text": "Takeaway by Artem Anisimov"
                    }
                  },
                  "name": "288"
                },
                {
                  "data": [
                    {
                      "hovertemplate": "event idx=289<br>x=%{x}<br>y=%{y}<extra></extra>",
                      "legendgroup": "",
                      "marker": {
                        "color": "#636efa",
                        "symbol": "circle"
                      },
                      "mode": "markers",
                      "name": "",
                      "orientation": "v",
                      "showlegend": false,
                      "type": "scatter",
                      "x": [
                        -45
                      ],
                      "xaxis": "x",
                      "y": [
                        10
                      ],
                      "yaxis": "y"
                    }
                  ],
                  "layout": {
                    "title": {
                      "text": "Alexander Steen blocked shot from Gustav Forsling"
                    }
                  },
                  "name": "289"
                },
                {
                  "data": [
                    {
                      "hovertemplate": "event idx=290<br>x=%{x}<br>y=%{y}<extra></extra>",
                      "legendgroup": "",
                      "marker": {
                        "color": "#636efa",
                        "symbol": "circle"
                      },
                      "mode": "markers",
                      "name": "",
                      "orientation": "v",
                      "showlegend": false,
                      "type": "scatter",
                      "x": [
                        -52
                      ],
                      "xaxis": "x",
                      "y": [
                        -12
                      ],
                      "yaxis": "y"
                    }
                  ],
                  "layout": {
                    "title": {
                      "text": "Paul Stastny blocked shot from Artemi Panarin"
                    }
                  },
                  "name": "290"
                },
                {
                  "data": [
                    {
                      "hovertemplate": "event idx=291<br>x=%{x}<br>y=%{y}<extra></extra>",
                      "legendgroup": "",
                      "marker": {
                        "color": "#636efa",
                        "symbol": "circle"
                      },
                      "mode": "markers",
                      "name": "",
                      "orientation": "v",
                      "showlegend": false,
                      "type": "scatter",
                      "x": [
                        81
                      ],
                      "xaxis": "x",
                      "y": [
                        -15
                      ],
                      "yaxis": "y"
                    }
                  ],
                  "layout": {
                    "title": {
                      "text": "Paul Stastny - Goalpost"
                    }
                  },
                  "name": "291"
                },
                {
                  "data": [
                    {
                      "hovertemplate": "event idx=292<br>x=%{x}<br>y=%{y}<extra></extra>",
                      "legendgroup": "",
                      "marker": {
                        "color": "#636efa",
                        "symbol": "circle"
                      },
                      "mode": "markers",
                      "name": "",
                      "orientation": "v",
                      "showlegend": false,
                      "type": "scatter",
                      "x": [
                        77
                      ],
                      "xaxis": "x",
                      "y": [
                        5
                      ],
                      "yaxis": "y"
                    }
                  ],
                  "layout": {
                    "title": {
                      "text": "Vladimir Tarasenko (2) Wrist Shot, assists: Paul Stastny (2), Alexander Steen (2)"
                    }
                  },
                  "name": "292"
                },
                {
                  "data": [
                    {
                      "hovertemplate": "event idx=293<br>x=%{x}<br>y=%{y}<extra></extra>",
                      "legendgroup": "",
                      "marker": {
                        "color": "#636efa",
                        "symbol": "circle"
                      },
                      "mode": "markers",
                      "name": "",
                      "orientation": "v",
                      "showlegend": false,
                      "type": "scatter",
                      "x": [
                        null
                      ],
                      "xaxis": "x",
                      "y": [
                        null
                      ],
                      "yaxis": "y"
                    }
                  ],
                  "layout": {
                    "title": {
                      "text": "Home Timeout"
                    }
                  },
                  "name": "293"
                },
                {
                  "data": [
                    {
                      "hovertemplate": "event idx=294<br>x=%{x}<br>y=%{y}<extra></extra>",
                      "legendgroup": "",
                      "marker": {
                        "color": "#636efa",
                        "symbol": "circle"
                      },
                      "mode": "markers",
                      "name": "",
                      "orientation": "v",
                      "showlegend": false,
                      "type": "scatter",
                      "x": [
                        0
                      ],
                      "xaxis": "x",
                      "y": [
                        0
                      ],
                      "yaxis": "y"
                    }
                  ],
                  "layout": {
                    "title": {
                      "text": "Jonathan Toews faceoff won against Patrik Berglund"
                    }
                  },
                  "name": "294"
                },
                {
                  "data": [
                    {
                      "hovertemplate": "event idx=295<br>x=%{x}<br>y=%{y}<extra></extra>",
                      "legendgroup": "",
                      "marker": {
                        "color": "#636efa",
                        "symbol": "circle"
                      },
                      "mode": "markers",
                      "name": "",
                      "orientation": "v",
                      "showlegend": false,
                      "type": "scatter",
                      "x": [
                        34
                      ],
                      "xaxis": "x",
                      "y": [
                        16
                      ],
                      "yaxis": "y"
                    }
                  ],
                  "layout": {
                    "title": {
                      "text": "Duncan Keith blocked shot from Patrik Berglund"
                    }
                  },
                  "name": "295"
                },
                {
                  "data": [
                    {
                      "hovertemplate": "event idx=296<br>x=%{x}<br>y=%{y}<extra></extra>",
                      "legendgroup": "",
                      "marker": {
                        "color": "#636efa",
                        "symbol": "circle"
                      },
                      "mode": "markers",
                      "name": "",
                      "orientation": "v",
                      "showlegend": false,
                      "type": "scatter",
                      "x": [
                        45
                      ],
                      "xaxis": "x",
                      "y": [
                        -38
                      ],
                      "yaxis": "y"
                    }
                  ],
                  "layout": {
                    "title": {
                      "text": "Jonathan Toews hit Kyle Brodziak"
                    }
                  },
                  "name": "296"
                },
                {
                  "data": [
                    {
                      "hovertemplate": "event idx=297<br>x=%{x}<br>y=%{y}<extra></extra>",
                      "legendgroup": "",
                      "marker": {
                        "color": "#636efa",
                        "symbol": "circle"
                      },
                      "mode": "markers",
                      "name": "",
                      "orientation": "v",
                      "showlegend": false,
                      "type": "scatter",
                      "x": [
                        -70
                      ],
                      "xaxis": "x",
                      "y": [
                        -8
                      ],
                      "yaxis": "y"
                    }
                  ],
                  "layout": {
                    "title": {
                      "text": "Giveaway by Colton Parayko"
                    }
                  },
                  "name": "297"
                },
                {
                  "data": [
                    {
                      "hovertemplate": "event idx=298<br>x=%{x}<br>y=%{y}<extra></extra>",
                      "legendgroup": "",
                      "marker": {
                        "color": "#636efa",
                        "symbol": "circle"
                      },
                      "mode": "markers",
                      "name": "",
                      "orientation": "v",
                      "showlegend": false,
                      "type": "scatter",
                      "x": [
                        26
                      ],
                      "xaxis": "x",
                      "y": [
                        27
                      ],
                      "yaxis": "y"
                    }
                  ],
                  "layout": {
                    "title": {
                      "text": "Scottie Upshall (1) , assists: none"
                    }
                  },
                  "name": "298"
                },
                {
                  "data": [
                    {
                      "hovertemplate": "event idx=299<br>x=%{x}<br>y=%{y}<extra></extra>",
                      "legendgroup": "",
                      "marker": {
                        "color": "#636efa",
                        "symbol": "circle"
                      },
                      "mode": "markers",
                      "name": "",
                      "orientation": "v",
                      "showlegend": false,
                      "type": "scatter",
                      "x": [
                        0
                      ],
                      "xaxis": "x",
                      "y": [
                        0
                      ],
                      "yaxis": "y"
                    }
                  ],
                  "layout": {
                    "title": {
                      "text": "Jori Lehtera faceoff won against Nick Schmaltz"
                    }
                  },
                  "name": "299"
                },
                {
                  "data": [
                    {
                      "hovertemplate": "event idx=300<br>x=%{x}<br>y=%{y}<extra></extra>",
                      "legendgroup": "",
                      "marker": {
                        "color": "#636efa",
                        "symbol": "circle"
                      },
                      "mode": "markers",
                      "name": "",
                      "orientation": "v",
                      "showlegend": false,
                      "type": "scatter",
                      "x": [
                        95
                      ],
                      "xaxis": "x",
                      "y": [
                        14
                      ],
                      "yaxis": "y"
                    }
                  ],
                  "layout": {
                    "title": {
                      "text": "Nick Schmaltz hit Jori Lehtera"
                    }
                  },
                  "name": "300"
                },
                {
                  "data": [
                    {
                      "hovertemplate": "event idx=301<br>x=%{x}<br>y=%{y}<extra></extra>",
                      "legendgroup": "",
                      "marker": {
                        "color": "#636efa",
                        "symbol": "circle"
                      },
                      "mode": "markers",
                      "name": "",
                      "orientation": "v",
                      "showlegend": false,
                      "type": "scatter",
                      "x": [
                        57
                      ],
                      "xaxis": "x",
                      "y": [
                        -14
                      ],
                      "yaxis": "y"
                    }
                  ],
                  "layout": {
                    "title": {
                      "text": "Nick Schmaltz blocked shot from Dmitrij Jaskin"
                    }
                  },
                  "name": "301"
                },
                {
                  "data": [
                    {
                      "hovertemplate": "event idx=302<br>x=%{x}<br>y=%{y}<extra></extra>",
                      "legendgroup": "",
                      "marker": {
                        "color": "#636efa",
                        "symbol": "circle"
                      },
                      "mode": "markers",
                      "name": "",
                      "orientation": "v",
                      "showlegend": false,
                      "type": "scatter",
                      "x": [
                        null
                      ],
                      "xaxis": "x",
                      "y": [
                        null
                      ],
                      "yaxis": "y"
                    }
                  ],
                  "layout": {
                    "title": {
                      "text": "End of 3rd Period"
                    }
                  },
                  "name": "302"
                },
                {
                  "data": [
                    {
                      "hovertemplate": "event idx=303<br>x=%{x}<br>y=%{y}<extra></extra>",
                      "legendgroup": "",
                      "marker": {
                        "color": "#636efa",
                        "symbol": "circle"
                      },
                      "mode": "markers",
                      "name": "",
                      "orientation": "v",
                      "showlegend": false,
                      "type": "scatter",
                      "x": [
                        null
                      ],
                      "xaxis": "x",
                      "y": [
                        null
                      ],
                      "yaxis": "y"
                    }
                  ],
                  "layout": {
                    "title": {
                      "text": "Period Official"
                    }
                  },
                  "name": "303"
                },
                {
                  "data": [
                    {
                      "hovertemplate": "event idx=304<br>x=%{x}<br>y=%{y}<extra></extra>",
                      "legendgroup": "",
                      "marker": {
                        "color": "#636efa",
                        "symbol": "circle"
                      },
                      "mode": "markers",
                      "name": "",
                      "orientation": "v",
                      "showlegend": false,
                      "type": "scatter",
                      "x": [
                        null
                      ],
                      "xaxis": "x",
                      "y": [
                        null
                      ],
                      "yaxis": "y"
                    }
                  ],
                  "layout": {
                    "title": {
                      "text": "Game End"
                    }
                  },
                  "name": "304"
                }
              ],
              "layout": {
                "autosize": false,
                "images": [
                  {
                    "layer": "below",
                    "opacity": 0.9,
                    "sizex": 200,
                    "sizey": 85,
                    "sizing": "stretch",
                    "source": "https://raw.githubusercontent.com/udem-ift6758/project-template/main/figures/nhl_rink.png",
                    "x": -100,
                    "xref": "x",
                    "y": 42.5,
                    "yref": "y"
                  }
                ],
                "legend": {
                  "tracegroupgap": 0
                },
                "margin": {
                  "t": 60
                },
                "sliders": [
                  {
                    "active": 0,
                    "currentvalue": {
                      "prefix": "event idx="
                    },
                    "len": 0.9,
                    "pad": {
                      "b": 10,
                      "t": 60
                    },
                    "steps": [
                      {
                        "args": [
                          [
                            "0"
                          ],
                          {
                            "frame": {
                              "duration": 0,
                              "redraw": true
                            },
                            "fromcurrent": true,
                            "mode": "immediate",
                            "transition": {
                              "duration": 0,
                              "easing": "linear"
                            }
                          }
                        ],
                        "label": "0",
                        "method": "animate"
                      },
                      {
                        "args": [
                          [
                            "1"
                          ],
                          {
                            "frame": {
                              "duration": 0,
                              "redraw": true
                            },
                            "fromcurrent": true,
                            "mode": "immediate",
                            "transition": {
                              "duration": 0,
                              "easing": "linear"
                            }
                          }
                        ],
                        "label": "1",
                        "method": "animate"
                      },
                      {
                        "args": [
                          [
                            "2"
                          ],
                          {
                            "frame": {
                              "duration": 0,
                              "redraw": true
                            },
                            "fromcurrent": true,
                            "mode": "immediate",
                            "transition": {
                              "duration": 0,
                              "easing": "linear"
                            }
                          }
                        ],
                        "label": "2",
                        "method": "animate"
                      },
                      {
                        "args": [
                          [
                            "3"
                          ],
                          {
                            "frame": {
                              "duration": 0,
                              "redraw": true
                            },
                            "fromcurrent": true,
                            "mode": "immediate",
                            "transition": {
                              "duration": 0,
                              "easing": "linear"
                            }
                          }
                        ],
                        "label": "3",
                        "method": "animate"
                      },
                      {
                        "args": [
                          [
                            "4"
                          ],
                          {
                            "frame": {
                              "duration": 0,
                              "redraw": true
                            },
                            "fromcurrent": true,
                            "mode": "immediate",
                            "transition": {
                              "duration": 0,
                              "easing": "linear"
                            }
                          }
                        ],
                        "label": "4",
                        "method": "animate"
                      },
                      {
                        "args": [
                          [
                            "5"
                          ],
                          {
                            "frame": {
                              "duration": 0,
                              "redraw": true
                            },
                            "fromcurrent": true,
                            "mode": "immediate",
                            "transition": {
                              "duration": 0,
                              "easing": "linear"
                            }
                          }
                        ],
                        "label": "5",
                        "method": "animate"
                      },
                      {
                        "args": [
                          [
                            "6"
                          ],
                          {
                            "frame": {
                              "duration": 0,
                              "redraw": true
                            },
                            "fromcurrent": true,
                            "mode": "immediate",
                            "transition": {
                              "duration": 0,
                              "easing": "linear"
                            }
                          }
                        ],
                        "label": "6",
                        "method": "animate"
                      },
                      {
                        "args": [
                          [
                            "7"
                          ],
                          {
                            "frame": {
                              "duration": 0,
                              "redraw": true
                            },
                            "fromcurrent": true,
                            "mode": "immediate",
                            "transition": {
                              "duration": 0,
                              "easing": "linear"
                            }
                          }
                        ],
                        "label": "7",
                        "method": "animate"
                      },
                      {
                        "args": [
                          [
                            "8"
                          ],
                          {
                            "frame": {
                              "duration": 0,
                              "redraw": true
                            },
                            "fromcurrent": true,
                            "mode": "immediate",
                            "transition": {
                              "duration": 0,
                              "easing": "linear"
                            }
                          }
                        ],
                        "label": "8",
                        "method": "animate"
                      },
                      {
                        "args": [
                          [
                            "9"
                          ],
                          {
                            "frame": {
                              "duration": 0,
                              "redraw": true
                            },
                            "fromcurrent": true,
                            "mode": "immediate",
                            "transition": {
                              "duration": 0,
                              "easing": "linear"
                            }
                          }
                        ],
                        "label": "9",
                        "method": "animate"
                      },
                      {
                        "args": [
                          [
                            "10"
                          ],
                          {
                            "frame": {
                              "duration": 0,
                              "redraw": true
                            },
                            "fromcurrent": true,
                            "mode": "immediate",
                            "transition": {
                              "duration": 0,
                              "easing": "linear"
                            }
                          }
                        ],
                        "label": "10",
                        "method": "animate"
                      },
                      {
                        "args": [
                          [
                            "11"
                          ],
                          {
                            "frame": {
                              "duration": 0,
                              "redraw": true
                            },
                            "fromcurrent": true,
                            "mode": "immediate",
                            "transition": {
                              "duration": 0,
                              "easing": "linear"
                            }
                          }
                        ],
                        "label": "11",
                        "method": "animate"
                      },
                      {
                        "args": [
                          [
                            "12"
                          ],
                          {
                            "frame": {
                              "duration": 0,
                              "redraw": true
                            },
                            "fromcurrent": true,
                            "mode": "immediate",
                            "transition": {
                              "duration": 0,
                              "easing": "linear"
                            }
                          }
                        ],
                        "label": "12",
                        "method": "animate"
                      },
                      {
                        "args": [
                          [
                            "13"
                          ],
                          {
                            "frame": {
                              "duration": 0,
                              "redraw": true
                            },
                            "fromcurrent": true,
                            "mode": "immediate",
                            "transition": {
                              "duration": 0,
                              "easing": "linear"
                            }
                          }
                        ],
                        "label": "13",
                        "method": "animate"
                      },
                      {
                        "args": [
                          [
                            "14"
                          ],
                          {
                            "frame": {
                              "duration": 0,
                              "redraw": true
                            },
                            "fromcurrent": true,
                            "mode": "immediate",
                            "transition": {
                              "duration": 0,
                              "easing": "linear"
                            }
                          }
                        ],
                        "label": "14",
                        "method": "animate"
                      },
                      {
                        "args": [
                          [
                            "15"
                          ],
                          {
                            "frame": {
                              "duration": 0,
                              "redraw": true
                            },
                            "fromcurrent": true,
                            "mode": "immediate",
                            "transition": {
                              "duration": 0,
                              "easing": "linear"
                            }
                          }
                        ],
                        "label": "15",
                        "method": "animate"
                      },
                      {
                        "args": [
                          [
                            "16"
                          ],
                          {
                            "frame": {
                              "duration": 0,
                              "redraw": true
                            },
                            "fromcurrent": true,
                            "mode": "immediate",
                            "transition": {
                              "duration": 0,
                              "easing": "linear"
                            }
                          }
                        ],
                        "label": "16",
                        "method": "animate"
                      },
                      {
                        "args": [
                          [
                            "17"
                          ],
                          {
                            "frame": {
                              "duration": 0,
                              "redraw": true
                            },
                            "fromcurrent": true,
                            "mode": "immediate",
                            "transition": {
                              "duration": 0,
                              "easing": "linear"
                            }
                          }
                        ],
                        "label": "17",
                        "method": "animate"
                      },
                      {
                        "args": [
                          [
                            "18"
                          ],
                          {
                            "frame": {
                              "duration": 0,
                              "redraw": true
                            },
                            "fromcurrent": true,
                            "mode": "immediate",
                            "transition": {
                              "duration": 0,
                              "easing": "linear"
                            }
                          }
                        ],
                        "label": "18",
                        "method": "animate"
                      },
                      {
                        "args": [
                          [
                            "19"
                          ],
                          {
                            "frame": {
                              "duration": 0,
                              "redraw": true
                            },
                            "fromcurrent": true,
                            "mode": "immediate",
                            "transition": {
                              "duration": 0,
                              "easing": "linear"
                            }
                          }
                        ],
                        "label": "19",
                        "method": "animate"
                      },
                      {
                        "args": [
                          [
                            "20"
                          ],
                          {
                            "frame": {
                              "duration": 0,
                              "redraw": true
                            },
                            "fromcurrent": true,
                            "mode": "immediate",
                            "transition": {
                              "duration": 0,
                              "easing": "linear"
                            }
                          }
                        ],
                        "label": "20",
                        "method": "animate"
                      },
                      {
                        "args": [
                          [
                            "21"
                          ],
                          {
                            "frame": {
                              "duration": 0,
                              "redraw": true
                            },
                            "fromcurrent": true,
                            "mode": "immediate",
                            "transition": {
                              "duration": 0,
                              "easing": "linear"
                            }
                          }
                        ],
                        "label": "21",
                        "method": "animate"
                      },
                      {
                        "args": [
                          [
                            "22"
                          ],
                          {
                            "frame": {
                              "duration": 0,
                              "redraw": true
                            },
                            "fromcurrent": true,
                            "mode": "immediate",
                            "transition": {
                              "duration": 0,
                              "easing": "linear"
                            }
                          }
                        ],
                        "label": "22",
                        "method": "animate"
                      },
                      {
                        "args": [
                          [
                            "23"
                          ],
                          {
                            "frame": {
                              "duration": 0,
                              "redraw": true
                            },
                            "fromcurrent": true,
                            "mode": "immediate",
                            "transition": {
                              "duration": 0,
                              "easing": "linear"
                            }
                          }
                        ],
                        "label": "23",
                        "method": "animate"
                      },
                      {
                        "args": [
                          [
                            "24"
                          ],
                          {
                            "frame": {
                              "duration": 0,
                              "redraw": true
                            },
                            "fromcurrent": true,
                            "mode": "immediate",
                            "transition": {
                              "duration": 0,
                              "easing": "linear"
                            }
                          }
                        ],
                        "label": "24",
                        "method": "animate"
                      },
                      {
                        "args": [
                          [
                            "25"
                          ],
                          {
                            "frame": {
                              "duration": 0,
                              "redraw": true
                            },
                            "fromcurrent": true,
                            "mode": "immediate",
                            "transition": {
                              "duration": 0,
                              "easing": "linear"
                            }
                          }
                        ],
                        "label": "25",
                        "method": "animate"
                      },
                      {
                        "args": [
                          [
                            "26"
                          ],
                          {
                            "frame": {
                              "duration": 0,
                              "redraw": true
                            },
                            "fromcurrent": true,
                            "mode": "immediate",
                            "transition": {
                              "duration": 0,
                              "easing": "linear"
                            }
                          }
                        ],
                        "label": "26",
                        "method": "animate"
                      },
                      {
                        "args": [
                          [
                            "27"
                          ],
                          {
                            "frame": {
                              "duration": 0,
                              "redraw": true
                            },
                            "fromcurrent": true,
                            "mode": "immediate",
                            "transition": {
                              "duration": 0,
                              "easing": "linear"
                            }
                          }
                        ],
                        "label": "27",
                        "method": "animate"
                      },
                      {
                        "args": [
                          [
                            "28"
                          ],
                          {
                            "frame": {
                              "duration": 0,
                              "redraw": true
                            },
                            "fromcurrent": true,
                            "mode": "immediate",
                            "transition": {
                              "duration": 0,
                              "easing": "linear"
                            }
                          }
                        ],
                        "label": "28",
                        "method": "animate"
                      },
                      {
                        "args": [
                          [
                            "29"
                          ],
                          {
                            "frame": {
                              "duration": 0,
                              "redraw": true
                            },
                            "fromcurrent": true,
                            "mode": "immediate",
                            "transition": {
                              "duration": 0,
                              "easing": "linear"
                            }
                          }
                        ],
                        "label": "29",
                        "method": "animate"
                      },
                      {
                        "args": [
                          [
                            "30"
                          ],
                          {
                            "frame": {
                              "duration": 0,
                              "redraw": true
                            },
                            "fromcurrent": true,
                            "mode": "immediate",
                            "transition": {
                              "duration": 0,
                              "easing": "linear"
                            }
                          }
                        ],
                        "label": "30",
                        "method": "animate"
                      },
                      {
                        "args": [
                          [
                            "31"
                          ],
                          {
                            "frame": {
                              "duration": 0,
                              "redraw": true
                            },
                            "fromcurrent": true,
                            "mode": "immediate",
                            "transition": {
                              "duration": 0,
                              "easing": "linear"
                            }
                          }
                        ],
                        "label": "31",
                        "method": "animate"
                      },
                      {
                        "args": [
                          [
                            "32"
                          ],
                          {
                            "frame": {
                              "duration": 0,
                              "redraw": true
                            },
                            "fromcurrent": true,
                            "mode": "immediate",
                            "transition": {
                              "duration": 0,
                              "easing": "linear"
                            }
                          }
                        ],
                        "label": "32",
                        "method": "animate"
                      },
                      {
                        "args": [
                          [
                            "33"
                          ],
                          {
                            "frame": {
                              "duration": 0,
                              "redraw": true
                            },
                            "fromcurrent": true,
                            "mode": "immediate",
                            "transition": {
                              "duration": 0,
                              "easing": "linear"
                            }
                          }
                        ],
                        "label": "33",
                        "method": "animate"
                      },
                      {
                        "args": [
                          [
                            "34"
                          ],
                          {
                            "frame": {
                              "duration": 0,
                              "redraw": true
                            },
                            "fromcurrent": true,
                            "mode": "immediate",
                            "transition": {
                              "duration": 0,
                              "easing": "linear"
                            }
                          }
                        ],
                        "label": "34",
                        "method": "animate"
                      },
                      {
                        "args": [
                          [
                            "35"
                          ],
                          {
                            "frame": {
                              "duration": 0,
                              "redraw": true
                            },
                            "fromcurrent": true,
                            "mode": "immediate",
                            "transition": {
                              "duration": 0,
                              "easing": "linear"
                            }
                          }
                        ],
                        "label": "35",
                        "method": "animate"
                      },
                      {
                        "args": [
                          [
                            "36"
                          ],
                          {
                            "frame": {
                              "duration": 0,
                              "redraw": true
                            },
                            "fromcurrent": true,
                            "mode": "immediate",
                            "transition": {
                              "duration": 0,
                              "easing": "linear"
                            }
                          }
                        ],
                        "label": "36",
                        "method": "animate"
                      },
                      {
                        "args": [
                          [
                            "37"
                          ],
                          {
                            "frame": {
                              "duration": 0,
                              "redraw": true
                            },
                            "fromcurrent": true,
                            "mode": "immediate",
                            "transition": {
                              "duration": 0,
                              "easing": "linear"
                            }
                          }
                        ],
                        "label": "37",
                        "method": "animate"
                      },
                      {
                        "args": [
                          [
                            "38"
                          ],
                          {
                            "frame": {
                              "duration": 0,
                              "redraw": true
                            },
                            "fromcurrent": true,
                            "mode": "immediate",
                            "transition": {
                              "duration": 0,
                              "easing": "linear"
                            }
                          }
                        ],
                        "label": "38",
                        "method": "animate"
                      },
                      {
                        "args": [
                          [
                            "39"
                          ],
                          {
                            "frame": {
                              "duration": 0,
                              "redraw": true
                            },
                            "fromcurrent": true,
                            "mode": "immediate",
                            "transition": {
                              "duration": 0,
                              "easing": "linear"
                            }
                          }
                        ],
                        "label": "39",
                        "method": "animate"
                      },
                      {
                        "args": [
                          [
                            "40"
                          ],
                          {
                            "frame": {
                              "duration": 0,
                              "redraw": true
                            },
                            "fromcurrent": true,
                            "mode": "immediate",
                            "transition": {
                              "duration": 0,
                              "easing": "linear"
                            }
                          }
                        ],
                        "label": "40",
                        "method": "animate"
                      },
                      {
                        "args": [
                          [
                            "41"
                          ],
                          {
                            "frame": {
                              "duration": 0,
                              "redraw": true
                            },
                            "fromcurrent": true,
                            "mode": "immediate",
                            "transition": {
                              "duration": 0,
                              "easing": "linear"
                            }
                          }
                        ],
                        "label": "41",
                        "method": "animate"
                      },
                      {
                        "args": [
                          [
                            "42"
                          ],
                          {
                            "frame": {
                              "duration": 0,
                              "redraw": true
                            },
                            "fromcurrent": true,
                            "mode": "immediate",
                            "transition": {
                              "duration": 0,
                              "easing": "linear"
                            }
                          }
                        ],
                        "label": "42",
                        "method": "animate"
                      },
                      {
                        "args": [
                          [
                            "43"
                          ],
                          {
                            "frame": {
                              "duration": 0,
                              "redraw": true
                            },
                            "fromcurrent": true,
                            "mode": "immediate",
                            "transition": {
                              "duration": 0,
                              "easing": "linear"
                            }
                          }
                        ],
                        "label": "43",
                        "method": "animate"
                      },
                      {
                        "args": [
                          [
                            "44"
                          ],
                          {
                            "frame": {
                              "duration": 0,
                              "redraw": true
                            },
                            "fromcurrent": true,
                            "mode": "immediate",
                            "transition": {
                              "duration": 0,
                              "easing": "linear"
                            }
                          }
                        ],
                        "label": "44",
                        "method": "animate"
                      },
                      {
                        "args": [
                          [
                            "45"
                          ],
                          {
                            "frame": {
                              "duration": 0,
                              "redraw": true
                            },
                            "fromcurrent": true,
                            "mode": "immediate",
                            "transition": {
                              "duration": 0,
                              "easing": "linear"
                            }
                          }
                        ],
                        "label": "45",
                        "method": "animate"
                      },
                      {
                        "args": [
                          [
                            "46"
                          ],
                          {
                            "frame": {
                              "duration": 0,
                              "redraw": true
                            },
                            "fromcurrent": true,
                            "mode": "immediate",
                            "transition": {
                              "duration": 0,
                              "easing": "linear"
                            }
                          }
                        ],
                        "label": "46",
                        "method": "animate"
                      },
                      {
                        "args": [
                          [
                            "47"
                          ],
                          {
                            "frame": {
                              "duration": 0,
                              "redraw": true
                            },
                            "fromcurrent": true,
                            "mode": "immediate",
                            "transition": {
                              "duration": 0,
                              "easing": "linear"
                            }
                          }
                        ],
                        "label": "47",
                        "method": "animate"
                      },
                      {
                        "args": [
                          [
                            "48"
                          ],
                          {
                            "frame": {
                              "duration": 0,
                              "redraw": true
                            },
                            "fromcurrent": true,
                            "mode": "immediate",
                            "transition": {
                              "duration": 0,
                              "easing": "linear"
                            }
                          }
                        ],
                        "label": "48",
                        "method": "animate"
                      },
                      {
                        "args": [
                          [
                            "49"
                          ],
                          {
                            "frame": {
                              "duration": 0,
                              "redraw": true
                            },
                            "fromcurrent": true,
                            "mode": "immediate",
                            "transition": {
                              "duration": 0,
                              "easing": "linear"
                            }
                          }
                        ],
                        "label": "49",
                        "method": "animate"
                      },
                      {
                        "args": [
                          [
                            "50"
                          ],
                          {
                            "frame": {
                              "duration": 0,
                              "redraw": true
                            },
                            "fromcurrent": true,
                            "mode": "immediate",
                            "transition": {
                              "duration": 0,
                              "easing": "linear"
                            }
                          }
                        ],
                        "label": "50",
                        "method": "animate"
                      },
                      {
                        "args": [
                          [
                            "51"
                          ],
                          {
                            "frame": {
                              "duration": 0,
                              "redraw": true
                            },
                            "fromcurrent": true,
                            "mode": "immediate",
                            "transition": {
                              "duration": 0,
                              "easing": "linear"
                            }
                          }
                        ],
                        "label": "51",
                        "method": "animate"
                      },
                      {
                        "args": [
                          [
                            "52"
                          ],
                          {
                            "frame": {
                              "duration": 0,
                              "redraw": true
                            },
                            "fromcurrent": true,
                            "mode": "immediate",
                            "transition": {
                              "duration": 0,
                              "easing": "linear"
                            }
                          }
                        ],
                        "label": "52",
                        "method": "animate"
                      },
                      {
                        "args": [
                          [
                            "53"
                          ],
                          {
                            "frame": {
                              "duration": 0,
                              "redraw": true
                            },
                            "fromcurrent": true,
                            "mode": "immediate",
                            "transition": {
                              "duration": 0,
                              "easing": "linear"
                            }
                          }
                        ],
                        "label": "53",
                        "method": "animate"
                      },
                      {
                        "args": [
                          [
                            "54"
                          ],
                          {
                            "frame": {
                              "duration": 0,
                              "redraw": true
                            },
                            "fromcurrent": true,
                            "mode": "immediate",
                            "transition": {
                              "duration": 0,
                              "easing": "linear"
                            }
                          }
                        ],
                        "label": "54",
                        "method": "animate"
                      },
                      {
                        "args": [
                          [
                            "55"
                          ],
                          {
                            "frame": {
                              "duration": 0,
                              "redraw": true
                            },
                            "fromcurrent": true,
                            "mode": "immediate",
                            "transition": {
                              "duration": 0,
                              "easing": "linear"
                            }
                          }
                        ],
                        "label": "55",
                        "method": "animate"
                      },
                      {
                        "args": [
                          [
                            "56"
                          ],
                          {
                            "frame": {
                              "duration": 0,
                              "redraw": true
                            },
                            "fromcurrent": true,
                            "mode": "immediate",
                            "transition": {
                              "duration": 0,
                              "easing": "linear"
                            }
                          }
                        ],
                        "label": "56",
                        "method": "animate"
                      },
                      {
                        "args": [
                          [
                            "57"
                          ],
                          {
                            "frame": {
                              "duration": 0,
                              "redraw": true
                            },
                            "fromcurrent": true,
                            "mode": "immediate",
                            "transition": {
                              "duration": 0,
                              "easing": "linear"
                            }
                          }
                        ],
                        "label": "57",
                        "method": "animate"
                      },
                      {
                        "args": [
                          [
                            "58"
                          ],
                          {
                            "frame": {
                              "duration": 0,
                              "redraw": true
                            },
                            "fromcurrent": true,
                            "mode": "immediate",
                            "transition": {
                              "duration": 0,
                              "easing": "linear"
                            }
                          }
                        ],
                        "label": "58",
                        "method": "animate"
                      },
                      {
                        "args": [
                          [
                            "59"
                          ],
                          {
                            "frame": {
                              "duration": 0,
                              "redraw": true
                            },
                            "fromcurrent": true,
                            "mode": "immediate",
                            "transition": {
                              "duration": 0,
                              "easing": "linear"
                            }
                          }
                        ],
                        "label": "59",
                        "method": "animate"
                      },
                      {
                        "args": [
                          [
                            "60"
                          ],
                          {
                            "frame": {
                              "duration": 0,
                              "redraw": true
                            },
                            "fromcurrent": true,
                            "mode": "immediate",
                            "transition": {
                              "duration": 0,
                              "easing": "linear"
                            }
                          }
                        ],
                        "label": "60",
                        "method": "animate"
                      },
                      {
                        "args": [
                          [
                            "61"
                          ],
                          {
                            "frame": {
                              "duration": 0,
                              "redraw": true
                            },
                            "fromcurrent": true,
                            "mode": "immediate",
                            "transition": {
                              "duration": 0,
                              "easing": "linear"
                            }
                          }
                        ],
                        "label": "61",
                        "method": "animate"
                      },
                      {
                        "args": [
                          [
                            "62"
                          ],
                          {
                            "frame": {
                              "duration": 0,
                              "redraw": true
                            },
                            "fromcurrent": true,
                            "mode": "immediate",
                            "transition": {
                              "duration": 0,
                              "easing": "linear"
                            }
                          }
                        ],
                        "label": "62",
                        "method": "animate"
                      },
                      {
                        "args": [
                          [
                            "63"
                          ],
                          {
                            "frame": {
                              "duration": 0,
                              "redraw": true
                            },
                            "fromcurrent": true,
                            "mode": "immediate",
                            "transition": {
                              "duration": 0,
                              "easing": "linear"
                            }
                          }
                        ],
                        "label": "63",
                        "method": "animate"
                      },
                      {
                        "args": [
                          [
                            "64"
                          ],
                          {
                            "frame": {
                              "duration": 0,
                              "redraw": true
                            },
                            "fromcurrent": true,
                            "mode": "immediate",
                            "transition": {
                              "duration": 0,
                              "easing": "linear"
                            }
                          }
                        ],
                        "label": "64",
                        "method": "animate"
                      },
                      {
                        "args": [
                          [
                            "65"
                          ],
                          {
                            "frame": {
                              "duration": 0,
                              "redraw": true
                            },
                            "fromcurrent": true,
                            "mode": "immediate",
                            "transition": {
                              "duration": 0,
                              "easing": "linear"
                            }
                          }
                        ],
                        "label": "65",
                        "method": "animate"
                      },
                      {
                        "args": [
                          [
                            "66"
                          ],
                          {
                            "frame": {
                              "duration": 0,
                              "redraw": true
                            },
                            "fromcurrent": true,
                            "mode": "immediate",
                            "transition": {
                              "duration": 0,
                              "easing": "linear"
                            }
                          }
                        ],
                        "label": "66",
                        "method": "animate"
                      },
                      {
                        "args": [
                          [
                            "67"
                          ],
                          {
                            "frame": {
                              "duration": 0,
                              "redraw": true
                            },
                            "fromcurrent": true,
                            "mode": "immediate",
                            "transition": {
                              "duration": 0,
                              "easing": "linear"
                            }
                          }
                        ],
                        "label": "67",
                        "method": "animate"
                      },
                      {
                        "args": [
                          [
                            "68"
                          ],
                          {
                            "frame": {
                              "duration": 0,
                              "redraw": true
                            },
                            "fromcurrent": true,
                            "mode": "immediate",
                            "transition": {
                              "duration": 0,
                              "easing": "linear"
                            }
                          }
                        ],
                        "label": "68",
                        "method": "animate"
                      },
                      {
                        "args": [
                          [
                            "69"
                          ],
                          {
                            "frame": {
                              "duration": 0,
                              "redraw": true
                            },
                            "fromcurrent": true,
                            "mode": "immediate",
                            "transition": {
                              "duration": 0,
                              "easing": "linear"
                            }
                          }
                        ],
                        "label": "69",
                        "method": "animate"
                      },
                      {
                        "args": [
                          [
                            "70"
                          ],
                          {
                            "frame": {
                              "duration": 0,
                              "redraw": true
                            },
                            "fromcurrent": true,
                            "mode": "immediate",
                            "transition": {
                              "duration": 0,
                              "easing": "linear"
                            }
                          }
                        ],
                        "label": "70",
                        "method": "animate"
                      },
                      {
                        "args": [
                          [
                            "71"
                          ],
                          {
                            "frame": {
                              "duration": 0,
                              "redraw": true
                            },
                            "fromcurrent": true,
                            "mode": "immediate",
                            "transition": {
                              "duration": 0,
                              "easing": "linear"
                            }
                          }
                        ],
                        "label": "71",
                        "method": "animate"
                      },
                      {
                        "args": [
                          [
                            "72"
                          ],
                          {
                            "frame": {
                              "duration": 0,
                              "redraw": true
                            },
                            "fromcurrent": true,
                            "mode": "immediate",
                            "transition": {
                              "duration": 0,
                              "easing": "linear"
                            }
                          }
                        ],
                        "label": "72",
                        "method": "animate"
                      },
                      {
                        "args": [
                          [
                            "73"
                          ],
                          {
                            "frame": {
                              "duration": 0,
                              "redraw": true
                            },
                            "fromcurrent": true,
                            "mode": "immediate",
                            "transition": {
                              "duration": 0,
                              "easing": "linear"
                            }
                          }
                        ],
                        "label": "73",
                        "method": "animate"
                      },
                      {
                        "args": [
                          [
                            "74"
                          ],
                          {
                            "frame": {
                              "duration": 0,
                              "redraw": true
                            },
                            "fromcurrent": true,
                            "mode": "immediate",
                            "transition": {
                              "duration": 0,
                              "easing": "linear"
                            }
                          }
                        ],
                        "label": "74",
                        "method": "animate"
                      },
                      {
                        "args": [
                          [
                            "75"
                          ],
                          {
                            "frame": {
                              "duration": 0,
                              "redraw": true
                            },
                            "fromcurrent": true,
                            "mode": "immediate",
                            "transition": {
                              "duration": 0,
                              "easing": "linear"
                            }
                          }
                        ],
                        "label": "75",
                        "method": "animate"
                      },
                      {
                        "args": [
                          [
                            "76"
                          ],
                          {
                            "frame": {
                              "duration": 0,
                              "redraw": true
                            },
                            "fromcurrent": true,
                            "mode": "immediate",
                            "transition": {
                              "duration": 0,
                              "easing": "linear"
                            }
                          }
                        ],
                        "label": "76",
                        "method": "animate"
                      },
                      {
                        "args": [
                          [
                            "77"
                          ],
                          {
                            "frame": {
                              "duration": 0,
                              "redraw": true
                            },
                            "fromcurrent": true,
                            "mode": "immediate",
                            "transition": {
                              "duration": 0,
                              "easing": "linear"
                            }
                          }
                        ],
                        "label": "77",
                        "method": "animate"
                      },
                      {
                        "args": [
                          [
                            "78"
                          ],
                          {
                            "frame": {
                              "duration": 0,
                              "redraw": true
                            },
                            "fromcurrent": true,
                            "mode": "immediate",
                            "transition": {
                              "duration": 0,
                              "easing": "linear"
                            }
                          }
                        ],
                        "label": "78",
                        "method": "animate"
                      },
                      {
                        "args": [
                          [
                            "79"
                          ],
                          {
                            "frame": {
                              "duration": 0,
                              "redraw": true
                            },
                            "fromcurrent": true,
                            "mode": "immediate",
                            "transition": {
                              "duration": 0,
                              "easing": "linear"
                            }
                          }
                        ],
                        "label": "79",
                        "method": "animate"
                      },
                      {
                        "args": [
                          [
                            "80"
                          ],
                          {
                            "frame": {
                              "duration": 0,
                              "redraw": true
                            },
                            "fromcurrent": true,
                            "mode": "immediate",
                            "transition": {
                              "duration": 0,
                              "easing": "linear"
                            }
                          }
                        ],
                        "label": "80",
                        "method": "animate"
                      },
                      {
                        "args": [
                          [
                            "81"
                          ],
                          {
                            "frame": {
                              "duration": 0,
                              "redraw": true
                            },
                            "fromcurrent": true,
                            "mode": "immediate",
                            "transition": {
                              "duration": 0,
                              "easing": "linear"
                            }
                          }
                        ],
                        "label": "81",
                        "method": "animate"
                      },
                      {
                        "args": [
                          [
                            "82"
                          ],
                          {
                            "frame": {
                              "duration": 0,
                              "redraw": true
                            },
                            "fromcurrent": true,
                            "mode": "immediate",
                            "transition": {
                              "duration": 0,
                              "easing": "linear"
                            }
                          }
                        ],
                        "label": "82",
                        "method": "animate"
                      },
                      {
                        "args": [
                          [
                            "83"
                          ],
                          {
                            "frame": {
                              "duration": 0,
                              "redraw": true
                            },
                            "fromcurrent": true,
                            "mode": "immediate",
                            "transition": {
                              "duration": 0,
                              "easing": "linear"
                            }
                          }
                        ],
                        "label": "83",
                        "method": "animate"
                      },
                      {
                        "args": [
                          [
                            "84"
                          ],
                          {
                            "frame": {
                              "duration": 0,
                              "redraw": true
                            },
                            "fromcurrent": true,
                            "mode": "immediate",
                            "transition": {
                              "duration": 0,
                              "easing": "linear"
                            }
                          }
                        ],
                        "label": "84",
                        "method": "animate"
                      },
                      {
                        "args": [
                          [
                            "85"
                          ],
                          {
                            "frame": {
                              "duration": 0,
                              "redraw": true
                            },
                            "fromcurrent": true,
                            "mode": "immediate",
                            "transition": {
                              "duration": 0,
                              "easing": "linear"
                            }
                          }
                        ],
                        "label": "85",
                        "method": "animate"
                      },
                      {
                        "args": [
                          [
                            "86"
                          ],
                          {
                            "frame": {
                              "duration": 0,
                              "redraw": true
                            },
                            "fromcurrent": true,
                            "mode": "immediate",
                            "transition": {
                              "duration": 0,
                              "easing": "linear"
                            }
                          }
                        ],
                        "label": "86",
                        "method": "animate"
                      },
                      {
                        "args": [
                          [
                            "87"
                          ],
                          {
                            "frame": {
                              "duration": 0,
                              "redraw": true
                            },
                            "fromcurrent": true,
                            "mode": "immediate",
                            "transition": {
                              "duration": 0,
                              "easing": "linear"
                            }
                          }
                        ],
                        "label": "87",
                        "method": "animate"
                      },
                      {
                        "args": [
                          [
                            "88"
                          ],
                          {
                            "frame": {
                              "duration": 0,
                              "redraw": true
                            },
                            "fromcurrent": true,
                            "mode": "immediate",
                            "transition": {
                              "duration": 0,
                              "easing": "linear"
                            }
                          }
                        ],
                        "label": "88",
                        "method": "animate"
                      },
                      {
                        "args": [
                          [
                            "89"
                          ],
                          {
                            "frame": {
                              "duration": 0,
                              "redraw": true
                            },
                            "fromcurrent": true,
                            "mode": "immediate",
                            "transition": {
                              "duration": 0,
                              "easing": "linear"
                            }
                          }
                        ],
                        "label": "89",
                        "method": "animate"
                      },
                      {
                        "args": [
                          [
                            "90"
                          ],
                          {
                            "frame": {
                              "duration": 0,
                              "redraw": true
                            },
                            "fromcurrent": true,
                            "mode": "immediate",
                            "transition": {
                              "duration": 0,
                              "easing": "linear"
                            }
                          }
                        ],
                        "label": "90",
                        "method": "animate"
                      },
                      {
                        "args": [
                          [
                            "91"
                          ],
                          {
                            "frame": {
                              "duration": 0,
                              "redraw": true
                            },
                            "fromcurrent": true,
                            "mode": "immediate",
                            "transition": {
                              "duration": 0,
                              "easing": "linear"
                            }
                          }
                        ],
                        "label": "91",
                        "method": "animate"
                      },
                      {
                        "args": [
                          [
                            "92"
                          ],
                          {
                            "frame": {
                              "duration": 0,
                              "redraw": true
                            },
                            "fromcurrent": true,
                            "mode": "immediate",
                            "transition": {
                              "duration": 0,
                              "easing": "linear"
                            }
                          }
                        ],
                        "label": "92",
                        "method": "animate"
                      },
                      {
                        "args": [
                          [
                            "93"
                          ],
                          {
                            "frame": {
                              "duration": 0,
                              "redraw": true
                            },
                            "fromcurrent": true,
                            "mode": "immediate",
                            "transition": {
                              "duration": 0,
                              "easing": "linear"
                            }
                          }
                        ],
                        "label": "93",
                        "method": "animate"
                      },
                      {
                        "args": [
                          [
                            "94"
                          ],
                          {
                            "frame": {
                              "duration": 0,
                              "redraw": true
                            },
                            "fromcurrent": true,
                            "mode": "immediate",
                            "transition": {
                              "duration": 0,
                              "easing": "linear"
                            }
                          }
                        ],
                        "label": "94",
                        "method": "animate"
                      },
                      {
                        "args": [
                          [
                            "95"
                          ],
                          {
                            "frame": {
                              "duration": 0,
                              "redraw": true
                            },
                            "fromcurrent": true,
                            "mode": "immediate",
                            "transition": {
                              "duration": 0,
                              "easing": "linear"
                            }
                          }
                        ],
                        "label": "95",
                        "method": "animate"
                      },
                      {
                        "args": [
                          [
                            "96"
                          ],
                          {
                            "frame": {
                              "duration": 0,
                              "redraw": true
                            },
                            "fromcurrent": true,
                            "mode": "immediate",
                            "transition": {
                              "duration": 0,
                              "easing": "linear"
                            }
                          }
                        ],
                        "label": "96",
                        "method": "animate"
                      },
                      {
                        "args": [
                          [
                            "97"
                          ],
                          {
                            "frame": {
                              "duration": 0,
                              "redraw": true
                            },
                            "fromcurrent": true,
                            "mode": "immediate",
                            "transition": {
                              "duration": 0,
                              "easing": "linear"
                            }
                          }
                        ],
                        "label": "97",
                        "method": "animate"
                      },
                      {
                        "args": [
                          [
                            "98"
                          ],
                          {
                            "frame": {
                              "duration": 0,
                              "redraw": true
                            },
                            "fromcurrent": true,
                            "mode": "immediate",
                            "transition": {
                              "duration": 0,
                              "easing": "linear"
                            }
                          }
                        ],
                        "label": "98",
                        "method": "animate"
                      },
                      {
                        "args": [
                          [
                            "99"
                          ],
                          {
                            "frame": {
                              "duration": 0,
                              "redraw": true
                            },
                            "fromcurrent": true,
                            "mode": "immediate",
                            "transition": {
                              "duration": 0,
                              "easing": "linear"
                            }
                          }
                        ],
                        "label": "99",
                        "method": "animate"
                      },
                      {
                        "args": [
                          [
                            "100"
                          ],
                          {
                            "frame": {
                              "duration": 0,
                              "redraw": true
                            },
                            "fromcurrent": true,
                            "mode": "immediate",
                            "transition": {
                              "duration": 0,
                              "easing": "linear"
                            }
                          }
                        ],
                        "label": "100",
                        "method": "animate"
                      },
                      {
                        "args": [
                          [
                            "101"
                          ],
                          {
                            "frame": {
                              "duration": 0,
                              "redraw": true
                            },
                            "fromcurrent": true,
                            "mode": "immediate",
                            "transition": {
                              "duration": 0,
                              "easing": "linear"
                            }
                          }
                        ],
                        "label": "101",
                        "method": "animate"
                      },
                      {
                        "args": [
                          [
                            "102"
                          ],
                          {
                            "frame": {
                              "duration": 0,
                              "redraw": true
                            },
                            "fromcurrent": true,
                            "mode": "immediate",
                            "transition": {
                              "duration": 0,
                              "easing": "linear"
                            }
                          }
                        ],
                        "label": "102",
                        "method": "animate"
                      },
                      {
                        "args": [
                          [
                            "103"
                          ],
                          {
                            "frame": {
                              "duration": 0,
                              "redraw": true
                            },
                            "fromcurrent": true,
                            "mode": "immediate",
                            "transition": {
                              "duration": 0,
                              "easing": "linear"
                            }
                          }
                        ],
                        "label": "103",
                        "method": "animate"
                      },
                      {
                        "args": [
                          [
                            "104"
                          ],
                          {
                            "frame": {
                              "duration": 0,
                              "redraw": true
                            },
                            "fromcurrent": true,
                            "mode": "immediate",
                            "transition": {
                              "duration": 0,
                              "easing": "linear"
                            }
                          }
                        ],
                        "label": "104",
                        "method": "animate"
                      },
                      {
                        "args": [
                          [
                            "105"
                          ],
                          {
                            "frame": {
                              "duration": 0,
                              "redraw": true
                            },
                            "fromcurrent": true,
                            "mode": "immediate",
                            "transition": {
                              "duration": 0,
                              "easing": "linear"
                            }
                          }
                        ],
                        "label": "105",
                        "method": "animate"
                      },
                      {
                        "args": [
                          [
                            "106"
                          ],
                          {
                            "frame": {
                              "duration": 0,
                              "redraw": true
                            },
                            "fromcurrent": true,
                            "mode": "immediate",
                            "transition": {
                              "duration": 0,
                              "easing": "linear"
                            }
                          }
                        ],
                        "label": "106",
                        "method": "animate"
                      },
                      {
                        "args": [
                          [
                            "107"
                          ],
                          {
                            "frame": {
                              "duration": 0,
                              "redraw": true
                            },
                            "fromcurrent": true,
                            "mode": "immediate",
                            "transition": {
                              "duration": 0,
                              "easing": "linear"
                            }
                          }
                        ],
                        "label": "107",
                        "method": "animate"
                      },
                      {
                        "args": [
                          [
                            "108"
                          ],
                          {
                            "frame": {
                              "duration": 0,
                              "redraw": true
                            },
                            "fromcurrent": true,
                            "mode": "immediate",
                            "transition": {
                              "duration": 0,
                              "easing": "linear"
                            }
                          }
                        ],
                        "label": "108",
                        "method": "animate"
                      },
                      {
                        "args": [
                          [
                            "109"
                          ],
                          {
                            "frame": {
                              "duration": 0,
                              "redraw": true
                            },
                            "fromcurrent": true,
                            "mode": "immediate",
                            "transition": {
                              "duration": 0,
                              "easing": "linear"
                            }
                          }
                        ],
                        "label": "109",
                        "method": "animate"
                      },
                      {
                        "args": [
                          [
                            "110"
                          ],
                          {
                            "frame": {
                              "duration": 0,
                              "redraw": true
                            },
                            "fromcurrent": true,
                            "mode": "immediate",
                            "transition": {
                              "duration": 0,
                              "easing": "linear"
                            }
                          }
                        ],
                        "label": "110",
                        "method": "animate"
                      },
                      {
                        "args": [
                          [
                            "111"
                          ],
                          {
                            "frame": {
                              "duration": 0,
                              "redraw": true
                            },
                            "fromcurrent": true,
                            "mode": "immediate",
                            "transition": {
                              "duration": 0,
                              "easing": "linear"
                            }
                          }
                        ],
                        "label": "111",
                        "method": "animate"
                      },
                      {
                        "args": [
                          [
                            "112"
                          ],
                          {
                            "frame": {
                              "duration": 0,
                              "redraw": true
                            },
                            "fromcurrent": true,
                            "mode": "immediate",
                            "transition": {
                              "duration": 0,
                              "easing": "linear"
                            }
                          }
                        ],
                        "label": "112",
                        "method": "animate"
                      },
                      {
                        "args": [
                          [
                            "113"
                          ],
                          {
                            "frame": {
                              "duration": 0,
                              "redraw": true
                            },
                            "fromcurrent": true,
                            "mode": "immediate",
                            "transition": {
                              "duration": 0,
                              "easing": "linear"
                            }
                          }
                        ],
                        "label": "113",
                        "method": "animate"
                      },
                      {
                        "args": [
                          [
                            "114"
                          ],
                          {
                            "frame": {
                              "duration": 0,
                              "redraw": true
                            },
                            "fromcurrent": true,
                            "mode": "immediate",
                            "transition": {
                              "duration": 0,
                              "easing": "linear"
                            }
                          }
                        ],
                        "label": "114",
                        "method": "animate"
                      },
                      {
                        "args": [
                          [
                            "115"
                          ],
                          {
                            "frame": {
                              "duration": 0,
                              "redraw": true
                            },
                            "fromcurrent": true,
                            "mode": "immediate",
                            "transition": {
                              "duration": 0,
                              "easing": "linear"
                            }
                          }
                        ],
                        "label": "115",
                        "method": "animate"
                      },
                      {
                        "args": [
                          [
                            "116"
                          ],
                          {
                            "frame": {
                              "duration": 0,
                              "redraw": true
                            },
                            "fromcurrent": true,
                            "mode": "immediate",
                            "transition": {
                              "duration": 0,
                              "easing": "linear"
                            }
                          }
                        ],
                        "label": "116",
                        "method": "animate"
                      },
                      {
                        "args": [
                          [
                            "117"
                          ],
                          {
                            "frame": {
                              "duration": 0,
                              "redraw": true
                            },
                            "fromcurrent": true,
                            "mode": "immediate",
                            "transition": {
                              "duration": 0,
                              "easing": "linear"
                            }
                          }
                        ],
                        "label": "117",
                        "method": "animate"
                      },
                      {
                        "args": [
                          [
                            "118"
                          ],
                          {
                            "frame": {
                              "duration": 0,
                              "redraw": true
                            },
                            "fromcurrent": true,
                            "mode": "immediate",
                            "transition": {
                              "duration": 0,
                              "easing": "linear"
                            }
                          }
                        ],
                        "label": "118",
                        "method": "animate"
                      },
                      {
                        "args": [
                          [
                            "119"
                          ],
                          {
                            "frame": {
                              "duration": 0,
                              "redraw": true
                            },
                            "fromcurrent": true,
                            "mode": "immediate",
                            "transition": {
                              "duration": 0,
                              "easing": "linear"
                            }
                          }
                        ],
                        "label": "119",
                        "method": "animate"
                      },
                      {
                        "args": [
                          [
                            "120"
                          ],
                          {
                            "frame": {
                              "duration": 0,
                              "redraw": true
                            },
                            "fromcurrent": true,
                            "mode": "immediate",
                            "transition": {
                              "duration": 0,
                              "easing": "linear"
                            }
                          }
                        ],
                        "label": "120",
                        "method": "animate"
                      },
                      {
                        "args": [
                          [
                            "121"
                          ],
                          {
                            "frame": {
                              "duration": 0,
                              "redraw": true
                            },
                            "fromcurrent": true,
                            "mode": "immediate",
                            "transition": {
                              "duration": 0,
                              "easing": "linear"
                            }
                          }
                        ],
                        "label": "121",
                        "method": "animate"
                      },
                      {
                        "args": [
                          [
                            "122"
                          ],
                          {
                            "frame": {
                              "duration": 0,
                              "redraw": true
                            },
                            "fromcurrent": true,
                            "mode": "immediate",
                            "transition": {
                              "duration": 0,
                              "easing": "linear"
                            }
                          }
                        ],
                        "label": "122",
                        "method": "animate"
                      },
                      {
                        "args": [
                          [
                            "123"
                          ],
                          {
                            "frame": {
                              "duration": 0,
                              "redraw": true
                            },
                            "fromcurrent": true,
                            "mode": "immediate",
                            "transition": {
                              "duration": 0,
                              "easing": "linear"
                            }
                          }
                        ],
                        "label": "123",
                        "method": "animate"
                      },
                      {
                        "args": [
                          [
                            "124"
                          ],
                          {
                            "frame": {
                              "duration": 0,
                              "redraw": true
                            },
                            "fromcurrent": true,
                            "mode": "immediate",
                            "transition": {
                              "duration": 0,
                              "easing": "linear"
                            }
                          }
                        ],
                        "label": "124",
                        "method": "animate"
                      },
                      {
                        "args": [
                          [
                            "125"
                          ],
                          {
                            "frame": {
                              "duration": 0,
                              "redraw": true
                            },
                            "fromcurrent": true,
                            "mode": "immediate",
                            "transition": {
                              "duration": 0,
                              "easing": "linear"
                            }
                          }
                        ],
                        "label": "125",
                        "method": "animate"
                      },
                      {
                        "args": [
                          [
                            "126"
                          ],
                          {
                            "frame": {
                              "duration": 0,
                              "redraw": true
                            },
                            "fromcurrent": true,
                            "mode": "immediate",
                            "transition": {
                              "duration": 0,
                              "easing": "linear"
                            }
                          }
                        ],
                        "label": "126",
                        "method": "animate"
                      },
                      {
                        "args": [
                          [
                            "127"
                          ],
                          {
                            "frame": {
                              "duration": 0,
                              "redraw": true
                            },
                            "fromcurrent": true,
                            "mode": "immediate",
                            "transition": {
                              "duration": 0,
                              "easing": "linear"
                            }
                          }
                        ],
                        "label": "127",
                        "method": "animate"
                      },
                      {
                        "args": [
                          [
                            "128"
                          ],
                          {
                            "frame": {
                              "duration": 0,
                              "redraw": true
                            },
                            "fromcurrent": true,
                            "mode": "immediate",
                            "transition": {
                              "duration": 0,
                              "easing": "linear"
                            }
                          }
                        ],
                        "label": "128",
                        "method": "animate"
                      },
                      {
                        "args": [
                          [
                            "129"
                          ],
                          {
                            "frame": {
                              "duration": 0,
                              "redraw": true
                            },
                            "fromcurrent": true,
                            "mode": "immediate",
                            "transition": {
                              "duration": 0,
                              "easing": "linear"
                            }
                          }
                        ],
                        "label": "129",
                        "method": "animate"
                      },
                      {
                        "args": [
                          [
                            "130"
                          ],
                          {
                            "frame": {
                              "duration": 0,
                              "redraw": true
                            },
                            "fromcurrent": true,
                            "mode": "immediate",
                            "transition": {
                              "duration": 0,
                              "easing": "linear"
                            }
                          }
                        ],
                        "label": "130",
                        "method": "animate"
                      },
                      {
                        "args": [
                          [
                            "131"
                          ],
                          {
                            "frame": {
                              "duration": 0,
                              "redraw": true
                            },
                            "fromcurrent": true,
                            "mode": "immediate",
                            "transition": {
                              "duration": 0,
                              "easing": "linear"
                            }
                          }
                        ],
                        "label": "131",
                        "method": "animate"
                      },
                      {
                        "args": [
                          [
                            "132"
                          ],
                          {
                            "frame": {
                              "duration": 0,
                              "redraw": true
                            },
                            "fromcurrent": true,
                            "mode": "immediate",
                            "transition": {
                              "duration": 0,
                              "easing": "linear"
                            }
                          }
                        ],
                        "label": "132",
                        "method": "animate"
                      },
                      {
                        "args": [
                          [
                            "133"
                          ],
                          {
                            "frame": {
                              "duration": 0,
                              "redraw": true
                            },
                            "fromcurrent": true,
                            "mode": "immediate",
                            "transition": {
                              "duration": 0,
                              "easing": "linear"
                            }
                          }
                        ],
                        "label": "133",
                        "method": "animate"
                      },
                      {
                        "args": [
                          [
                            "134"
                          ],
                          {
                            "frame": {
                              "duration": 0,
                              "redraw": true
                            },
                            "fromcurrent": true,
                            "mode": "immediate",
                            "transition": {
                              "duration": 0,
                              "easing": "linear"
                            }
                          }
                        ],
                        "label": "134",
                        "method": "animate"
                      },
                      {
                        "args": [
                          [
                            "135"
                          ],
                          {
                            "frame": {
                              "duration": 0,
                              "redraw": true
                            },
                            "fromcurrent": true,
                            "mode": "immediate",
                            "transition": {
                              "duration": 0,
                              "easing": "linear"
                            }
                          }
                        ],
                        "label": "135",
                        "method": "animate"
                      },
                      {
                        "args": [
                          [
                            "136"
                          ],
                          {
                            "frame": {
                              "duration": 0,
                              "redraw": true
                            },
                            "fromcurrent": true,
                            "mode": "immediate",
                            "transition": {
                              "duration": 0,
                              "easing": "linear"
                            }
                          }
                        ],
                        "label": "136",
                        "method": "animate"
                      },
                      {
                        "args": [
                          [
                            "137"
                          ],
                          {
                            "frame": {
                              "duration": 0,
                              "redraw": true
                            },
                            "fromcurrent": true,
                            "mode": "immediate",
                            "transition": {
                              "duration": 0,
                              "easing": "linear"
                            }
                          }
                        ],
                        "label": "137",
                        "method": "animate"
                      },
                      {
                        "args": [
                          [
                            "138"
                          ],
                          {
                            "frame": {
                              "duration": 0,
                              "redraw": true
                            },
                            "fromcurrent": true,
                            "mode": "immediate",
                            "transition": {
                              "duration": 0,
                              "easing": "linear"
                            }
                          }
                        ],
                        "label": "138",
                        "method": "animate"
                      },
                      {
                        "args": [
                          [
                            "139"
                          ],
                          {
                            "frame": {
                              "duration": 0,
                              "redraw": true
                            },
                            "fromcurrent": true,
                            "mode": "immediate",
                            "transition": {
                              "duration": 0,
                              "easing": "linear"
                            }
                          }
                        ],
                        "label": "139",
                        "method": "animate"
                      },
                      {
                        "args": [
                          [
                            "140"
                          ],
                          {
                            "frame": {
                              "duration": 0,
                              "redraw": true
                            },
                            "fromcurrent": true,
                            "mode": "immediate",
                            "transition": {
                              "duration": 0,
                              "easing": "linear"
                            }
                          }
                        ],
                        "label": "140",
                        "method": "animate"
                      },
                      {
                        "args": [
                          [
                            "141"
                          ],
                          {
                            "frame": {
                              "duration": 0,
                              "redraw": true
                            },
                            "fromcurrent": true,
                            "mode": "immediate",
                            "transition": {
                              "duration": 0,
                              "easing": "linear"
                            }
                          }
                        ],
                        "label": "141",
                        "method": "animate"
                      },
                      {
                        "args": [
                          [
                            "142"
                          ],
                          {
                            "frame": {
                              "duration": 0,
                              "redraw": true
                            },
                            "fromcurrent": true,
                            "mode": "immediate",
                            "transition": {
                              "duration": 0,
                              "easing": "linear"
                            }
                          }
                        ],
                        "label": "142",
                        "method": "animate"
                      },
                      {
                        "args": [
                          [
                            "143"
                          ],
                          {
                            "frame": {
                              "duration": 0,
                              "redraw": true
                            },
                            "fromcurrent": true,
                            "mode": "immediate",
                            "transition": {
                              "duration": 0,
                              "easing": "linear"
                            }
                          }
                        ],
                        "label": "143",
                        "method": "animate"
                      },
                      {
                        "args": [
                          [
                            "144"
                          ],
                          {
                            "frame": {
                              "duration": 0,
                              "redraw": true
                            },
                            "fromcurrent": true,
                            "mode": "immediate",
                            "transition": {
                              "duration": 0,
                              "easing": "linear"
                            }
                          }
                        ],
                        "label": "144",
                        "method": "animate"
                      },
                      {
                        "args": [
                          [
                            "145"
                          ],
                          {
                            "frame": {
                              "duration": 0,
                              "redraw": true
                            },
                            "fromcurrent": true,
                            "mode": "immediate",
                            "transition": {
                              "duration": 0,
                              "easing": "linear"
                            }
                          }
                        ],
                        "label": "145",
                        "method": "animate"
                      },
                      {
                        "args": [
                          [
                            "146"
                          ],
                          {
                            "frame": {
                              "duration": 0,
                              "redraw": true
                            },
                            "fromcurrent": true,
                            "mode": "immediate",
                            "transition": {
                              "duration": 0,
                              "easing": "linear"
                            }
                          }
                        ],
                        "label": "146",
                        "method": "animate"
                      },
                      {
                        "args": [
                          [
                            "147"
                          ],
                          {
                            "frame": {
                              "duration": 0,
                              "redraw": true
                            },
                            "fromcurrent": true,
                            "mode": "immediate",
                            "transition": {
                              "duration": 0,
                              "easing": "linear"
                            }
                          }
                        ],
                        "label": "147",
                        "method": "animate"
                      },
                      {
                        "args": [
                          [
                            "148"
                          ],
                          {
                            "frame": {
                              "duration": 0,
                              "redraw": true
                            },
                            "fromcurrent": true,
                            "mode": "immediate",
                            "transition": {
                              "duration": 0,
                              "easing": "linear"
                            }
                          }
                        ],
                        "label": "148",
                        "method": "animate"
                      },
                      {
                        "args": [
                          [
                            "149"
                          ],
                          {
                            "frame": {
                              "duration": 0,
                              "redraw": true
                            },
                            "fromcurrent": true,
                            "mode": "immediate",
                            "transition": {
                              "duration": 0,
                              "easing": "linear"
                            }
                          }
                        ],
                        "label": "149",
                        "method": "animate"
                      },
                      {
                        "args": [
                          [
                            "150"
                          ],
                          {
                            "frame": {
                              "duration": 0,
                              "redraw": true
                            },
                            "fromcurrent": true,
                            "mode": "immediate",
                            "transition": {
                              "duration": 0,
                              "easing": "linear"
                            }
                          }
                        ],
                        "label": "150",
                        "method": "animate"
                      },
                      {
                        "args": [
                          [
                            "151"
                          ],
                          {
                            "frame": {
                              "duration": 0,
                              "redraw": true
                            },
                            "fromcurrent": true,
                            "mode": "immediate",
                            "transition": {
                              "duration": 0,
                              "easing": "linear"
                            }
                          }
                        ],
                        "label": "151",
                        "method": "animate"
                      },
                      {
                        "args": [
                          [
                            "152"
                          ],
                          {
                            "frame": {
                              "duration": 0,
                              "redraw": true
                            },
                            "fromcurrent": true,
                            "mode": "immediate",
                            "transition": {
                              "duration": 0,
                              "easing": "linear"
                            }
                          }
                        ],
                        "label": "152",
                        "method": "animate"
                      },
                      {
                        "args": [
                          [
                            "153"
                          ],
                          {
                            "frame": {
                              "duration": 0,
                              "redraw": true
                            },
                            "fromcurrent": true,
                            "mode": "immediate",
                            "transition": {
                              "duration": 0,
                              "easing": "linear"
                            }
                          }
                        ],
                        "label": "153",
                        "method": "animate"
                      },
                      {
                        "args": [
                          [
                            "154"
                          ],
                          {
                            "frame": {
                              "duration": 0,
                              "redraw": true
                            },
                            "fromcurrent": true,
                            "mode": "immediate",
                            "transition": {
                              "duration": 0,
                              "easing": "linear"
                            }
                          }
                        ],
                        "label": "154",
                        "method": "animate"
                      },
                      {
                        "args": [
                          [
                            "155"
                          ],
                          {
                            "frame": {
                              "duration": 0,
                              "redraw": true
                            },
                            "fromcurrent": true,
                            "mode": "immediate",
                            "transition": {
                              "duration": 0,
                              "easing": "linear"
                            }
                          }
                        ],
                        "label": "155",
                        "method": "animate"
                      },
                      {
                        "args": [
                          [
                            "156"
                          ],
                          {
                            "frame": {
                              "duration": 0,
                              "redraw": true
                            },
                            "fromcurrent": true,
                            "mode": "immediate",
                            "transition": {
                              "duration": 0,
                              "easing": "linear"
                            }
                          }
                        ],
                        "label": "156",
                        "method": "animate"
                      },
                      {
                        "args": [
                          [
                            "157"
                          ],
                          {
                            "frame": {
                              "duration": 0,
                              "redraw": true
                            },
                            "fromcurrent": true,
                            "mode": "immediate",
                            "transition": {
                              "duration": 0,
                              "easing": "linear"
                            }
                          }
                        ],
                        "label": "157",
                        "method": "animate"
                      },
                      {
                        "args": [
                          [
                            "158"
                          ],
                          {
                            "frame": {
                              "duration": 0,
                              "redraw": true
                            },
                            "fromcurrent": true,
                            "mode": "immediate",
                            "transition": {
                              "duration": 0,
                              "easing": "linear"
                            }
                          }
                        ],
                        "label": "158",
                        "method": "animate"
                      },
                      {
                        "args": [
                          [
                            "159"
                          ],
                          {
                            "frame": {
                              "duration": 0,
                              "redraw": true
                            },
                            "fromcurrent": true,
                            "mode": "immediate",
                            "transition": {
                              "duration": 0,
                              "easing": "linear"
                            }
                          }
                        ],
                        "label": "159",
                        "method": "animate"
                      },
                      {
                        "args": [
                          [
                            "160"
                          ],
                          {
                            "frame": {
                              "duration": 0,
                              "redraw": true
                            },
                            "fromcurrent": true,
                            "mode": "immediate",
                            "transition": {
                              "duration": 0,
                              "easing": "linear"
                            }
                          }
                        ],
                        "label": "160",
                        "method": "animate"
                      },
                      {
                        "args": [
                          [
                            "161"
                          ],
                          {
                            "frame": {
                              "duration": 0,
                              "redraw": true
                            },
                            "fromcurrent": true,
                            "mode": "immediate",
                            "transition": {
                              "duration": 0,
                              "easing": "linear"
                            }
                          }
                        ],
                        "label": "161",
                        "method": "animate"
                      },
                      {
                        "args": [
                          [
                            "162"
                          ],
                          {
                            "frame": {
                              "duration": 0,
                              "redraw": true
                            },
                            "fromcurrent": true,
                            "mode": "immediate",
                            "transition": {
                              "duration": 0,
                              "easing": "linear"
                            }
                          }
                        ],
                        "label": "162",
                        "method": "animate"
                      },
                      {
                        "args": [
                          [
                            "163"
                          ],
                          {
                            "frame": {
                              "duration": 0,
                              "redraw": true
                            },
                            "fromcurrent": true,
                            "mode": "immediate",
                            "transition": {
                              "duration": 0,
                              "easing": "linear"
                            }
                          }
                        ],
                        "label": "163",
                        "method": "animate"
                      },
                      {
                        "args": [
                          [
                            "164"
                          ],
                          {
                            "frame": {
                              "duration": 0,
                              "redraw": true
                            },
                            "fromcurrent": true,
                            "mode": "immediate",
                            "transition": {
                              "duration": 0,
                              "easing": "linear"
                            }
                          }
                        ],
                        "label": "164",
                        "method": "animate"
                      },
                      {
                        "args": [
                          [
                            "165"
                          ],
                          {
                            "frame": {
                              "duration": 0,
                              "redraw": true
                            },
                            "fromcurrent": true,
                            "mode": "immediate",
                            "transition": {
                              "duration": 0,
                              "easing": "linear"
                            }
                          }
                        ],
                        "label": "165",
                        "method": "animate"
                      },
                      {
                        "args": [
                          [
                            "166"
                          ],
                          {
                            "frame": {
                              "duration": 0,
                              "redraw": true
                            },
                            "fromcurrent": true,
                            "mode": "immediate",
                            "transition": {
                              "duration": 0,
                              "easing": "linear"
                            }
                          }
                        ],
                        "label": "166",
                        "method": "animate"
                      },
                      {
                        "args": [
                          [
                            "167"
                          ],
                          {
                            "frame": {
                              "duration": 0,
                              "redraw": true
                            },
                            "fromcurrent": true,
                            "mode": "immediate",
                            "transition": {
                              "duration": 0,
                              "easing": "linear"
                            }
                          }
                        ],
                        "label": "167",
                        "method": "animate"
                      },
                      {
                        "args": [
                          [
                            "168"
                          ],
                          {
                            "frame": {
                              "duration": 0,
                              "redraw": true
                            },
                            "fromcurrent": true,
                            "mode": "immediate",
                            "transition": {
                              "duration": 0,
                              "easing": "linear"
                            }
                          }
                        ],
                        "label": "168",
                        "method": "animate"
                      },
                      {
                        "args": [
                          [
                            "169"
                          ],
                          {
                            "frame": {
                              "duration": 0,
                              "redraw": true
                            },
                            "fromcurrent": true,
                            "mode": "immediate",
                            "transition": {
                              "duration": 0,
                              "easing": "linear"
                            }
                          }
                        ],
                        "label": "169",
                        "method": "animate"
                      },
                      {
                        "args": [
                          [
                            "170"
                          ],
                          {
                            "frame": {
                              "duration": 0,
                              "redraw": true
                            },
                            "fromcurrent": true,
                            "mode": "immediate",
                            "transition": {
                              "duration": 0,
                              "easing": "linear"
                            }
                          }
                        ],
                        "label": "170",
                        "method": "animate"
                      },
                      {
                        "args": [
                          [
                            "171"
                          ],
                          {
                            "frame": {
                              "duration": 0,
                              "redraw": true
                            },
                            "fromcurrent": true,
                            "mode": "immediate",
                            "transition": {
                              "duration": 0,
                              "easing": "linear"
                            }
                          }
                        ],
                        "label": "171",
                        "method": "animate"
                      },
                      {
                        "args": [
                          [
                            "172"
                          ],
                          {
                            "frame": {
                              "duration": 0,
                              "redraw": true
                            },
                            "fromcurrent": true,
                            "mode": "immediate",
                            "transition": {
                              "duration": 0,
                              "easing": "linear"
                            }
                          }
                        ],
                        "label": "172",
                        "method": "animate"
                      },
                      {
                        "args": [
                          [
                            "173"
                          ],
                          {
                            "frame": {
                              "duration": 0,
                              "redraw": true
                            },
                            "fromcurrent": true,
                            "mode": "immediate",
                            "transition": {
                              "duration": 0,
                              "easing": "linear"
                            }
                          }
                        ],
                        "label": "173",
                        "method": "animate"
                      },
                      {
                        "args": [
                          [
                            "174"
                          ],
                          {
                            "frame": {
                              "duration": 0,
                              "redraw": true
                            },
                            "fromcurrent": true,
                            "mode": "immediate",
                            "transition": {
                              "duration": 0,
                              "easing": "linear"
                            }
                          }
                        ],
                        "label": "174",
                        "method": "animate"
                      },
                      {
                        "args": [
                          [
                            "175"
                          ],
                          {
                            "frame": {
                              "duration": 0,
                              "redraw": true
                            },
                            "fromcurrent": true,
                            "mode": "immediate",
                            "transition": {
                              "duration": 0,
                              "easing": "linear"
                            }
                          }
                        ],
                        "label": "175",
                        "method": "animate"
                      },
                      {
                        "args": [
                          [
                            "176"
                          ],
                          {
                            "frame": {
                              "duration": 0,
                              "redraw": true
                            },
                            "fromcurrent": true,
                            "mode": "immediate",
                            "transition": {
                              "duration": 0,
                              "easing": "linear"
                            }
                          }
                        ],
                        "label": "176",
                        "method": "animate"
                      },
                      {
                        "args": [
                          [
                            "177"
                          ],
                          {
                            "frame": {
                              "duration": 0,
                              "redraw": true
                            },
                            "fromcurrent": true,
                            "mode": "immediate",
                            "transition": {
                              "duration": 0,
                              "easing": "linear"
                            }
                          }
                        ],
                        "label": "177",
                        "method": "animate"
                      },
                      {
                        "args": [
                          [
                            "178"
                          ],
                          {
                            "frame": {
                              "duration": 0,
                              "redraw": true
                            },
                            "fromcurrent": true,
                            "mode": "immediate",
                            "transition": {
                              "duration": 0,
                              "easing": "linear"
                            }
                          }
                        ],
                        "label": "178",
                        "method": "animate"
                      },
                      {
                        "args": [
                          [
                            "179"
                          ],
                          {
                            "frame": {
                              "duration": 0,
                              "redraw": true
                            },
                            "fromcurrent": true,
                            "mode": "immediate",
                            "transition": {
                              "duration": 0,
                              "easing": "linear"
                            }
                          }
                        ],
                        "label": "179",
                        "method": "animate"
                      },
                      {
                        "args": [
                          [
                            "180"
                          ],
                          {
                            "frame": {
                              "duration": 0,
                              "redraw": true
                            },
                            "fromcurrent": true,
                            "mode": "immediate",
                            "transition": {
                              "duration": 0,
                              "easing": "linear"
                            }
                          }
                        ],
                        "label": "180",
                        "method": "animate"
                      },
                      {
                        "args": [
                          [
                            "181"
                          ],
                          {
                            "frame": {
                              "duration": 0,
                              "redraw": true
                            },
                            "fromcurrent": true,
                            "mode": "immediate",
                            "transition": {
                              "duration": 0,
                              "easing": "linear"
                            }
                          }
                        ],
                        "label": "181",
                        "method": "animate"
                      },
                      {
                        "args": [
                          [
                            "182"
                          ],
                          {
                            "frame": {
                              "duration": 0,
                              "redraw": true
                            },
                            "fromcurrent": true,
                            "mode": "immediate",
                            "transition": {
                              "duration": 0,
                              "easing": "linear"
                            }
                          }
                        ],
                        "label": "182",
                        "method": "animate"
                      },
                      {
                        "args": [
                          [
                            "183"
                          ],
                          {
                            "frame": {
                              "duration": 0,
                              "redraw": true
                            },
                            "fromcurrent": true,
                            "mode": "immediate",
                            "transition": {
                              "duration": 0,
                              "easing": "linear"
                            }
                          }
                        ],
                        "label": "183",
                        "method": "animate"
                      },
                      {
                        "args": [
                          [
                            "184"
                          ],
                          {
                            "frame": {
                              "duration": 0,
                              "redraw": true
                            },
                            "fromcurrent": true,
                            "mode": "immediate",
                            "transition": {
                              "duration": 0,
                              "easing": "linear"
                            }
                          }
                        ],
                        "label": "184",
                        "method": "animate"
                      },
                      {
                        "args": [
                          [
                            "185"
                          ],
                          {
                            "frame": {
                              "duration": 0,
                              "redraw": true
                            },
                            "fromcurrent": true,
                            "mode": "immediate",
                            "transition": {
                              "duration": 0,
                              "easing": "linear"
                            }
                          }
                        ],
                        "label": "185",
                        "method": "animate"
                      },
                      {
                        "args": [
                          [
                            "186"
                          ],
                          {
                            "frame": {
                              "duration": 0,
                              "redraw": true
                            },
                            "fromcurrent": true,
                            "mode": "immediate",
                            "transition": {
                              "duration": 0,
                              "easing": "linear"
                            }
                          }
                        ],
                        "label": "186",
                        "method": "animate"
                      },
                      {
                        "args": [
                          [
                            "187"
                          ],
                          {
                            "frame": {
                              "duration": 0,
                              "redraw": true
                            },
                            "fromcurrent": true,
                            "mode": "immediate",
                            "transition": {
                              "duration": 0,
                              "easing": "linear"
                            }
                          }
                        ],
                        "label": "187",
                        "method": "animate"
                      },
                      {
                        "args": [
                          [
                            "188"
                          ],
                          {
                            "frame": {
                              "duration": 0,
                              "redraw": true
                            },
                            "fromcurrent": true,
                            "mode": "immediate",
                            "transition": {
                              "duration": 0,
                              "easing": "linear"
                            }
                          }
                        ],
                        "label": "188",
                        "method": "animate"
                      },
                      {
                        "args": [
                          [
                            "189"
                          ],
                          {
                            "frame": {
                              "duration": 0,
                              "redraw": true
                            },
                            "fromcurrent": true,
                            "mode": "immediate",
                            "transition": {
                              "duration": 0,
                              "easing": "linear"
                            }
                          }
                        ],
                        "label": "189",
                        "method": "animate"
                      },
                      {
                        "args": [
                          [
                            "190"
                          ],
                          {
                            "frame": {
                              "duration": 0,
                              "redraw": true
                            },
                            "fromcurrent": true,
                            "mode": "immediate",
                            "transition": {
                              "duration": 0,
                              "easing": "linear"
                            }
                          }
                        ],
                        "label": "190",
                        "method": "animate"
                      },
                      {
                        "args": [
                          [
                            "191"
                          ],
                          {
                            "frame": {
                              "duration": 0,
                              "redraw": true
                            },
                            "fromcurrent": true,
                            "mode": "immediate",
                            "transition": {
                              "duration": 0,
                              "easing": "linear"
                            }
                          }
                        ],
                        "label": "191",
                        "method": "animate"
                      },
                      {
                        "args": [
                          [
                            "192"
                          ],
                          {
                            "frame": {
                              "duration": 0,
                              "redraw": true
                            },
                            "fromcurrent": true,
                            "mode": "immediate",
                            "transition": {
                              "duration": 0,
                              "easing": "linear"
                            }
                          }
                        ],
                        "label": "192",
                        "method": "animate"
                      },
                      {
                        "args": [
                          [
                            "193"
                          ],
                          {
                            "frame": {
                              "duration": 0,
                              "redraw": true
                            },
                            "fromcurrent": true,
                            "mode": "immediate",
                            "transition": {
                              "duration": 0,
                              "easing": "linear"
                            }
                          }
                        ],
                        "label": "193",
                        "method": "animate"
                      },
                      {
                        "args": [
                          [
                            "194"
                          ],
                          {
                            "frame": {
                              "duration": 0,
                              "redraw": true
                            },
                            "fromcurrent": true,
                            "mode": "immediate",
                            "transition": {
                              "duration": 0,
                              "easing": "linear"
                            }
                          }
                        ],
                        "label": "194",
                        "method": "animate"
                      },
                      {
                        "args": [
                          [
                            "195"
                          ],
                          {
                            "frame": {
                              "duration": 0,
                              "redraw": true
                            },
                            "fromcurrent": true,
                            "mode": "immediate",
                            "transition": {
                              "duration": 0,
                              "easing": "linear"
                            }
                          }
                        ],
                        "label": "195",
                        "method": "animate"
                      },
                      {
                        "args": [
                          [
                            "196"
                          ],
                          {
                            "frame": {
                              "duration": 0,
                              "redraw": true
                            },
                            "fromcurrent": true,
                            "mode": "immediate",
                            "transition": {
                              "duration": 0,
                              "easing": "linear"
                            }
                          }
                        ],
                        "label": "196",
                        "method": "animate"
                      },
                      {
                        "args": [
                          [
                            "197"
                          ],
                          {
                            "frame": {
                              "duration": 0,
                              "redraw": true
                            },
                            "fromcurrent": true,
                            "mode": "immediate",
                            "transition": {
                              "duration": 0,
                              "easing": "linear"
                            }
                          }
                        ],
                        "label": "197",
                        "method": "animate"
                      },
                      {
                        "args": [
                          [
                            "198"
                          ],
                          {
                            "frame": {
                              "duration": 0,
                              "redraw": true
                            },
                            "fromcurrent": true,
                            "mode": "immediate",
                            "transition": {
                              "duration": 0,
                              "easing": "linear"
                            }
                          }
                        ],
                        "label": "198",
                        "method": "animate"
                      },
                      {
                        "args": [
                          [
                            "199"
                          ],
                          {
                            "frame": {
                              "duration": 0,
                              "redraw": true
                            },
                            "fromcurrent": true,
                            "mode": "immediate",
                            "transition": {
                              "duration": 0,
                              "easing": "linear"
                            }
                          }
                        ],
                        "label": "199",
                        "method": "animate"
                      },
                      {
                        "args": [
                          [
                            "200"
                          ],
                          {
                            "frame": {
                              "duration": 0,
                              "redraw": true
                            },
                            "fromcurrent": true,
                            "mode": "immediate",
                            "transition": {
                              "duration": 0,
                              "easing": "linear"
                            }
                          }
                        ],
                        "label": "200",
                        "method": "animate"
                      },
                      {
                        "args": [
                          [
                            "201"
                          ],
                          {
                            "frame": {
                              "duration": 0,
                              "redraw": true
                            },
                            "fromcurrent": true,
                            "mode": "immediate",
                            "transition": {
                              "duration": 0,
                              "easing": "linear"
                            }
                          }
                        ],
                        "label": "201",
                        "method": "animate"
                      },
                      {
                        "args": [
                          [
                            "202"
                          ],
                          {
                            "frame": {
                              "duration": 0,
                              "redraw": true
                            },
                            "fromcurrent": true,
                            "mode": "immediate",
                            "transition": {
                              "duration": 0,
                              "easing": "linear"
                            }
                          }
                        ],
                        "label": "202",
                        "method": "animate"
                      },
                      {
                        "args": [
                          [
                            "203"
                          ],
                          {
                            "frame": {
                              "duration": 0,
                              "redraw": true
                            },
                            "fromcurrent": true,
                            "mode": "immediate",
                            "transition": {
                              "duration": 0,
                              "easing": "linear"
                            }
                          }
                        ],
                        "label": "203",
                        "method": "animate"
                      },
                      {
                        "args": [
                          [
                            "204"
                          ],
                          {
                            "frame": {
                              "duration": 0,
                              "redraw": true
                            },
                            "fromcurrent": true,
                            "mode": "immediate",
                            "transition": {
                              "duration": 0,
                              "easing": "linear"
                            }
                          }
                        ],
                        "label": "204",
                        "method": "animate"
                      },
                      {
                        "args": [
                          [
                            "205"
                          ],
                          {
                            "frame": {
                              "duration": 0,
                              "redraw": true
                            },
                            "fromcurrent": true,
                            "mode": "immediate",
                            "transition": {
                              "duration": 0,
                              "easing": "linear"
                            }
                          }
                        ],
                        "label": "205",
                        "method": "animate"
                      },
                      {
                        "args": [
                          [
                            "206"
                          ],
                          {
                            "frame": {
                              "duration": 0,
                              "redraw": true
                            },
                            "fromcurrent": true,
                            "mode": "immediate",
                            "transition": {
                              "duration": 0,
                              "easing": "linear"
                            }
                          }
                        ],
                        "label": "206",
                        "method": "animate"
                      },
                      {
                        "args": [
                          [
                            "207"
                          ],
                          {
                            "frame": {
                              "duration": 0,
                              "redraw": true
                            },
                            "fromcurrent": true,
                            "mode": "immediate",
                            "transition": {
                              "duration": 0,
                              "easing": "linear"
                            }
                          }
                        ],
                        "label": "207",
                        "method": "animate"
                      },
                      {
                        "args": [
                          [
                            "208"
                          ],
                          {
                            "frame": {
                              "duration": 0,
                              "redraw": true
                            },
                            "fromcurrent": true,
                            "mode": "immediate",
                            "transition": {
                              "duration": 0,
                              "easing": "linear"
                            }
                          }
                        ],
                        "label": "208",
                        "method": "animate"
                      },
                      {
                        "args": [
                          [
                            "209"
                          ],
                          {
                            "frame": {
                              "duration": 0,
                              "redraw": true
                            },
                            "fromcurrent": true,
                            "mode": "immediate",
                            "transition": {
                              "duration": 0,
                              "easing": "linear"
                            }
                          }
                        ],
                        "label": "209",
                        "method": "animate"
                      },
                      {
                        "args": [
                          [
                            "210"
                          ],
                          {
                            "frame": {
                              "duration": 0,
                              "redraw": true
                            },
                            "fromcurrent": true,
                            "mode": "immediate",
                            "transition": {
                              "duration": 0,
                              "easing": "linear"
                            }
                          }
                        ],
                        "label": "210",
                        "method": "animate"
                      },
                      {
                        "args": [
                          [
                            "211"
                          ],
                          {
                            "frame": {
                              "duration": 0,
                              "redraw": true
                            },
                            "fromcurrent": true,
                            "mode": "immediate",
                            "transition": {
                              "duration": 0,
                              "easing": "linear"
                            }
                          }
                        ],
                        "label": "211",
                        "method": "animate"
                      },
                      {
                        "args": [
                          [
                            "212"
                          ],
                          {
                            "frame": {
                              "duration": 0,
                              "redraw": true
                            },
                            "fromcurrent": true,
                            "mode": "immediate",
                            "transition": {
                              "duration": 0,
                              "easing": "linear"
                            }
                          }
                        ],
                        "label": "212",
                        "method": "animate"
                      },
                      {
                        "args": [
                          [
                            "213"
                          ],
                          {
                            "frame": {
                              "duration": 0,
                              "redraw": true
                            },
                            "fromcurrent": true,
                            "mode": "immediate",
                            "transition": {
                              "duration": 0,
                              "easing": "linear"
                            }
                          }
                        ],
                        "label": "213",
                        "method": "animate"
                      },
                      {
                        "args": [
                          [
                            "214"
                          ],
                          {
                            "frame": {
                              "duration": 0,
                              "redraw": true
                            },
                            "fromcurrent": true,
                            "mode": "immediate",
                            "transition": {
                              "duration": 0,
                              "easing": "linear"
                            }
                          }
                        ],
                        "label": "214",
                        "method": "animate"
                      },
                      {
                        "args": [
                          [
                            "215"
                          ],
                          {
                            "frame": {
                              "duration": 0,
                              "redraw": true
                            },
                            "fromcurrent": true,
                            "mode": "immediate",
                            "transition": {
                              "duration": 0,
                              "easing": "linear"
                            }
                          }
                        ],
                        "label": "215",
                        "method": "animate"
                      },
                      {
                        "args": [
                          [
                            "216"
                          ],
                          {
                            "frame": {
                              "duration": 0,
                              "redraw": true
                            },
                            "fromcurrent": true,
                            "mode": "immediate",
                            "transition": {
                              "duration": 0,
                              "easing": "linear"
                            }
                          }
                        ],
                        "label": "216",
                        "method": "animate"
                      },
                      {
                        "args": [
                          [
                            "217"
                          ],
                          {
                            "frame": {
                              "duration": 0,
                              "redraw": true
                            },
                            "fromcurrent": true,
                            "mode": "immediate",
                            "transition": {
                              "duration": 0,
                              "easing": "linear"
                            }
                          }
                        ],
                        "label": "217",
                        "method": "animate"
                      },
                      {
                        "args": [
                          [
                            "218"
                          ],
                          {
                            "frame": {
                              "duration": 0,
                              "redraw": true
                            },
                            "fromcurrent": true,
                            "mode": "immediate",
                            "transition": {
                              "duration": 0,
                              "easing": "linear"
                            }
                          }
                        ],
                        "label": "218",
                        "method": "animate"
                      },
                      {
                        "args": [
                          [
                            "219"
                          ],
                          {
                            "frame": {
                              "duration": 0,
                              "redraw": true
                            },
                            "fromcurrent": true,
                            "mode": "immediate",
                            "transition": {
                              "duration": 0,
                              "easing": "linear"
                            }
                          }
                        ],
                        "label": "219",
                        "method": "animate"
                      },
                      {
                        "args": [
                          [
                            "220"
                          ],
                          {
                            "frame": {
                              "duration": 0,
                              "redraw": true
                            },
                            "fromcurrent": true,
                            "mode": "immediate",
                            "transition": {
                              "duration": 0,
                              "easing": "linear"
                            }
                          }
                        ],
                        "label": "220",
                        "method": "animate"
                      },
                      {
                        "args": [
                          [
                            "221"
                          ],
                          {
                            "frame": {
                              "duration": 0,
                              "redraw": true
                            },
                            "fromcurrent": true,
                            "mode": "immediate",
                            "transition": {
                              "duration": 0,
                              "easing": "linear"
                            }
                          }
                        ],
                        "label": "221",
                        "method": "animate"
                      },
                      {
                        "args": [
                          [
                            "222"
                          ],
                          {
                            "frame": {
                              "duration": 0,
                              "redraw": true
                            },
                            "fromcurrent": true,
                            "mode": "immediate",
                            "transition": {
                              "duration": 0,
                              "easing": "linear"
                            }
                          }
                        ],
                        "label": "222",
                        "method": "animate"
                      },
                      {
                        "args": [
                          [
                            "223"
                          ],
                          {
                            "frame": {
                              "duration": 0,
                              "redraw": true
                            },
                            "fromcurrent": true,
                            "mode": "immediate",
                            "transition": {
                              "duration": 0,
                              "easing": "linear"
                            }
                          }
                        ],
                        "label": "223",
                        "method": "animate"
                      },
                      {
                        "args": [
                          [
                            "224"
                          ],
                          {
                            "frame": {
                              "duration": 0,
                              "redraw": true
                            },
                            "fromcurrent": true,
                            "mode": "immediate",
                            "transition": {
                              "duration": 0,
                              "easing": "linear"
                            }
                          }
                        ],
                        "label": "224",
                        "method": "animate"
                      },
                      {
                        "args": [
                          [
                            "225"
                          ],
                          {
                            "frame": {
                              "duration": 0,
                              "redraw": true
                            },
                            "fromcurrent": true,
                            "mode": "immediate",
                            "transition": {
                              "duration": 0,
                              "easing": "linear"
                            }
                          }
                        ],
                        "label": "225",
                        "method": "animate"
                      },
                      {
                        "args": [
                          [
                            "226"
                          ],
                          {
                            "frame": {
                              "duration": 0,
                              "redraw": true
                            },
                            "fromcurrent": true,
                            "mode": "immediate",
                            "transition": {
                              "duration": 0,
                              "easing": "linear"
                            }
                          }
                        ],
                        "label": "226",
                        "method": "animate"
                      },
                      {
                        "args": [
                          [
                            "227"
                          ],
                          {
                            "frame": {
                              "duration": 0,
                              "redraw": true
                            },
                            "fromcurrent": true,
                            "mode": "immediate",
                            "transition": {
                              "duration": 0,
                              "easing": "linear"
                            }
                          }
                        ],
                        "label": "227",
                        "method": "animate"
                      },
                      {
                        "args": [
                          [
                            "228"
                          ],
                          {
                            "frame": {
                              "duration": 0,
                              "redraw": true
                            },
                            "fromcurrent": true,
                            "mode": "immediate",
                            "transition": {
                              "duration": 0,
                              "easing": "linear"
                            }
                          }
                        ],
                        "label": "228",
                        "method": "animate"
                      },
                      {
                        "args": [
                          [
                            "229"
                          ],
                          {
                            "frame": {
                              "duration": 0,
                              "redraw": true
                            },
                            "fromcurrent": true,
                            "mode": "immediate",
                            "transition": {
                              "duration": 0,
                              "easing": "linear"
                            }
                          }
                        ],
                        "label": "229",
                        "method": "animate"
                      },
                      {
                        "args": [
                          [
                            "230"
                          ],
                          {
                            "frame": {
                              "duration": 0,
                              "redraw": true
                            },
                            "fromcurrent": true,
                            "mode": "immediate",
                            "transition": {
                              "duration": 0,
                              "easing": "linear"
                            }
                          }
                        ],
                        "label": "230",
                        "method": "animate"
                      },
                      {
                        "args": [
                          [
                            "231"
                          ],
                          {
                            "frame": {
                              "duration": 0,
                              "redraw": true
                            },
                            "fromcurrent": true,
                            "mode": "immediate",
                            "transition": {
                              "duration": 0,
                              "easing": "linear"
                            }
                          }
                        ],
                        "label": "231",
                        "method": "animate"
                      },
                      {
                        "args": [
                          [
                            "232"
                          ],
                          {
                            "frame": {
                              "duration": 0,
                              "redraw": true
                            },
                            "fromcurrent": true,
                            "mode": "immediate",
                            "transition": {
                              "duration": 0,
                              "easing": "linear"
                            }
                          }
                        ],
                        "label": "232",
                        "method": "animate"
                      },
                      {
                        "args": [
                          [
                            "233"
                          ],
                          {
                            "frame": {
                              "duration": 0,
                              "redraw": true
                            },
                            "fromcurrent": true,
                            "mode": "immediate",
                            "transition": {
                              "duration": 0,
                              "easing": "linear"
                            }
                          }
                        ],
                        "label": "233",
                        "method": "animate"
                      },
                      {
                        "args": [
                          [
                            "234"
                          ],
                          {
                            "frame": {
                              "duration": 0,
                              "redraw": true
                            },
                            "fromcurrent": true,
                            "mode": "immediate",
                            "transition": {
                              "duration": 0,
                              "easing": "linear"
                            }
                          }
                        ],
                        "label": "234",
                        "method": "animate"
                      },
                      {
                        "args": [
                          [
                            "235"
                          ],
                          {
                            "frame": {
                              "duration": 0,
                              "redraw": true
                            },
                            "fromcurrent": true,
                            "mode": "immediate",
                            "transition": {
                              "duration": 0,
                              "easing": "linear"
                            }
                          }
                        ],
                        "label": "235",
                        "method": "animate"
                      },
                      {
                        "args": [
                          [
                            "236"
                          ],
                          {
                            "frame": {
                              "duration": 0,
                              "redraw": true
                            },
                            "fromcurrent": true,
                            "mode": "immediate",
                            "transition": {
                              "duration": 0,
                              "easing": "linear"
                            }
                          }
                        ],
                        "label": "236",
                        "method": "animate"
                      },
                      {
                        "args": [
                          [
                            "237"
                          ],
                          {
                            "frame": {
                              "duration": 0,
                              "redraw": true
                            },
                            "fromcurrent": true,
                            "mode": "immediate",
                            "transition": {
                              "duration": 0,
                              "easing": "linear"
                            }
                          }
                        ],
                        "label": "237",
                        "method": "animate"
                      },
                      {
                        "args": [
                          [
                            "238"
                          ],
                          {
                            "frame": {
                              "duration": 0,
                              "redraw": true
                            },
                            "fromcurrent": true,
                            "mode": "immediate",
                            "transition": {
                              "duration": 0,
                              "easing": "linear"
                            }
                          }
                        ],
                        "label": "238",
                        "method": "animate"
                      },
                      {
                        "args": [
                          [
                            "239"
                          ],
                          {
                            "frame": {
                              "duration": 0,
                              "redraw": true
                            },
                            "fromcurrent": true,
                            "mode": "immediate",
                            "transition": {
                              "duration": 0,
                              "easing": "linear"
                            }
                          }
                        ],
                        "label": "239",
                        "method": "animate"
                      },
                      {
                        "args": [
                          [
                            "240"
                          ],
                          {
                            "frame": {
                              "duration": 0,
                              "redraw": true
                            },
                            "fromcurrent": true,
                            "mode": "immediate",
                            "transition": {
                              "duration": 0,
                              "easing": "linear"
                            }
                          }
                        ],
                        "label": "240",
                        "method": "animate"
                      },
                      {
                        "args": [
                          [
                            "241"
                          ],
                          {
                            "frame": {
                              "duration": 0,
                              "redraw": true
                            },
                            "fromcurrent": true,
                            "mode": "immediate",
                            "transition": {
                              "duration": 0,
                              "easing": "linear"
                            }
                          }
                        ],
                        "label": "241",
                        "method": "animate"
                      },
                      {
                        "args": [
                          [
                            "242"
                          ],
                          {
                            "frame": {
                              "duration": 0,
                              "redraw": true
                            },
                            "fromcurrent": true,
                            "mode": "immediate",
                            "transition": {
                              "duration": 0,
                              "easing": "linear"
                            }
                          }
                        ],
                        "label": "242",
                        "method": "animate"
                      },
                      {
                        "args": [
                          [
                            "243"
                          ],
                          {
                            "frame": {
                              "duration": 0,
                              "redraw": true
                            },
                            "fromcurrent": true,
                            "mode": "immediate",
                            "transition": {
                              "duration": 0,
                              "easing": "linear"
                            }
                          }
                        ],
                        "label": "243",
                        "method": "animate"
                      },
                      {
                        "args": [
                          [
                            "244"
                          ],
                          {
                            "frame": {
                              "duration": 0,
                              "redraw": true
                            },
                            "fromcurrent": true,
                            "mode": "immediate",
                            "transition": {
                              "duration": 0,
                              "easing": "linear"
                            }
                          }
                        ],
                        "label": "244",
                        "method": "animate"
                      },
                      {
                        "args": [
                          [
                            "245"
                          ],
                          {
                            "frame": {
                              "duration": 0,
                              "redraw": true
                            },
                            "fromcurrent": true,
                            "mode": "immediate",
                            "transition": {
                              "duration": 0,
                              "easing": "linear"
                            }
                          }
                        ],
                        "label": "245",
                        "method": "animate"
                      },
                      {
                        "args": [
                          [
                            "246"
                          ],
                          {
                            "frame": {
                              "duration": 0,
                              "redraw": true
                            },
                            "fromcurrent": true,
                            "mode": "immediate",
                            "transition": {
                              "duration": 0,
                              "easing": "linear"
                            }
                          }
                        ],
                        "label": "246",
                        "method": "animate"
                      },
                      {
                        "args": [
                          [
                            "247"
                          ],
                          {
                            "frame": {
                              "duration": 0,
                              "redraw": true
                            },
                            "fromcurrent": true,
                            "mode": "immediate",
                            "transition": {
                              "duration": 0,
                              "easing": "linear"
                            }
                          }
                        ],
                        "label": "247",
                        "method": "animate"
                      },
                      {
                        "args": [
                          [
                            "248"
                          ],
                          {
                            "frame": {
                              "duration": 0,
                              "redraw": true
                            },
                            "fromcurrent": true,
                            "mode": "immediate",
                            "transition": {
                              "duration": 0,
                              "easing": "linear"
                            }
                          }
                        ],
                        "label": "248",
                        "method": "animate"
                      },
                      {
                        "args": [
                          [
                            "249"
                          ],
                          {
                            "frame": {
                              "duration": 0,
                              "redraw": true
                            },
                            "fromcurrent": true,
                            "mode": "immediate",
                            "transition": {
                              "duration": 0,
                              "easing": "linear"
                            }
                          }
                        ],
                        "label": "249",
                        "method": "animate"
                      },
                      {
                        "args": [
                          [
                            "250"
                          ],
                          {
                            "frame": {
                              "duration": 0,
                              "redraw": true
                            },
                            "fromcurrent": true,
                            "mode": "immediate",
                            "transition": {
                              "duration": 0,
                              "easing": "linear"
                            }
                          }
                        ],
                        "label": "250",
                        "method": "animate"
                      },
                      {
                        "args": [
                          [
                            "251"
                          ],
                          {
                            "frame": {
                              "duration": 0,
                              "redraw": true
                            },
                            "fromcurrent": true,
                            "mode": "immediate",
                            "transition": {
                              "duration": 0,
                              "easing": "linear"
                            }
                          }
                        ],
                        "label": "251",
                        "method": "animate"
                      },
                      {
                        "args": [
                          [
                            "252"
                          ],
                          {
                            "frame": {
                              "duration": 0,
                              "redraw": true
                            },
                            "fromcurrent": true,
                            "mode": "immediate",
                            "transition": {
                              "duration": 0,
                              "easing": "linear"
                            }
                          }
                        ],
                        "label": "252",
                        "method": "animate"
                      },
                      {
                        "args": [
                          [
                            "253"
                          ],
                          {
                            "frame": {
                              "duration": 0,
                              "redraw": true
                            },
                            "fromcurrent": true,
                            "mode": "immediate",
                            "transition": {
                              "duration": 0,
                              "easing": "linear"
                            }
                          }
                        ],
                        "label": "253",
                        "method": "animate"
                      },
                      {
                        "args": [
                          [
                            "254"
                          ],
                          {
                            "frame": {
                              "duration": 0,
                              "redraw": true
                            },
                            "fromcurrent": true,
                            "mode": "immediate",
                            "transition": {
                              "duration": 0,
                              "easing": "linear"
                            }
                          }
                        ],
                        "label": "254",
                        "method": "animate"
                      },
                      {
                        "args": [
                          [
                            "255"
                          ],
                          {
                            "frame": {
                              "duration": 0,
                              "redraw": true
                            },
                            "fromcurrent": true,
                            "mode": "immediate",
                            "transition": {
                              "duration": 0,
                              "easing": "linear"
                            }
                          }
                        ],
                        "label": "255",
                        "method": "animate"
                      },
                      {
                        "args": [
                          [
                            "256"
                          ],
                          {
                            "frame": {
                              "duration": 0,
                              "redraw": true
                            },
                            "fromcurrent": true,
                            "mode": "immediate",
                            "transition": {
                              "duration": 0,
                              "easing": "linear"
                            }
                          }
                        ],
                        "label": "256",
                        "method": "animate"
                      },
                      {
                        "args": [
                          [
                            "257"
                          ],
                          {
                            "frame": {
                              "duration": 0,
                              "redraw": true
                            },
                            "fromcurrent": true,
                            "mode": "immediate",
                            "transition": {
                              "duration": 0,
                              "easing": "linear"
                            }
                          }
                        ],
                        "label": "257",
                        "method": "animate"
                      },
                      {
                        "args": [
                          [
                            "258"
                          ],
                          {
                            "frame": {
                              "duration": 0,
                              "redraw": true
                            },
                            "fromcurrent": true,
                            "mode": "immediate",
                            "transition": {
                              "duration": 0,
                              "easing": "linear"
                            }
                          }
                        ],
                        "label": "258",
                        "method": "animate"
                      },
                      {
                        "args": [
                          [
                            "259"
                          ],
                          {
                            "frame": {
                              "duration": 0,
                              "redraw": true
                            },
                            "fromcurrent": true,
                            "mode": "immediate",
                            "transition": {
                              "duration": 0,
                              "easing": "linear"
                            }
                          }
                        ],
                        "label": "259",
                        "method": "animate"
                      },
                      {
                        "args": [
                          [
                            "260"
                          ],
                          {
                            "frame": {
                              "duration": 0,
                              "redraw": true
                            },
                            "fromcurrent": true,
                            "mode": "immediate",
                            "transition": {
                              "duration": 0,
                              "easing": "linear"
                            }
                          }
                        ],
                        "label": "260",
                        "method": "animate"
                      },
                      {
                        "args": [
                          [
                            "261"
                          ],
                          {
                            "frame": {
                              "duration": 0,
                              "redraw": true
                            },
                            "fromcurrent": true,
                            "mode": "immediate",
                            "transition": {
                              "duration": 0,
                              "easing": "linear"
                            }
                          }
                        ],
                        "label": "261",
                        "method": "animate"
                      },
                      {
                        "args": [
                          [
                            "262"
                          ],
                          {
                            "frame": {
                              "duration": 0,
                              "redraw": true
                            },
                            "fromcurrent": true,
                            "mode": "immediate",
                            "transition": {
                              "duration": 0,
                              "easing": "linear"
                            }
                          }
                        ],
                        "label": "262",
                        "method": "animate"
                      },
                      {
                        "args": [
                          [
                            "263"
                          ],
                          {
                            "frame": {
                              "duration": 0,
                              "redraw": true
                            },
                            "fromcurrent": true,
                            "mode": "immediate",
                            "transition": {
                              "duration": 0,
                              "easing": "linear"
                            }
                          }
                        ],
                        "label": "263",
                        "method": "animate"
                      },
                      {
                        "args": [
                          [
                            "264"
                          ],
                          {
                            "frame": {
                              "duration": 0,
                              "redraw": true
                            },
                            "fromcurrent": true,
                            "mode": "immediate",
                            "transition": {
                              "duration": 0,
                              "easing": "linear"
                            }
                          }
                        ],
                        "label": "264",
                        "method": "animate"
                      },
                      {
                        "args": [
                          [
                            "265"
                          ],
                          {
                            "frame": {
                              "duration": 0,
                              "redraw": true
                            },
                            "fromcurrent": true,
                            "mode": "immediate",
                            "transition": {
                              "duration": 0,
                              "easing": "linear"
                            }
                          }
                        ],
                        "label": "265",
                        "method": "animate"
                      },
                      {
                        "args": [
                          [
                            "266"
                          ],
                          {
                            "frame": {
                              "duration": 0,
                              "redraw": true
                            },
                            "fromcurrent": true,
                            "mode": "immediate",
                            "transition": {
                              "duration": 0,
                              "easing": "linear"
                            }
                          }
                        ],
                        "label": "266",
                        "method": "animate"
                      },
                      {
                        "args": [
                          [
                            "267"
                          ],
                          {
                            "frame": {
                              "duration": 0,
                              "redraw": true
                            },
                            "fromcurrent": true,
                            "mode": "immediate",
                            "transition": {
                              "duration": 0,
                              "easing": "linear"
                            }
                          }
                        ],
                        "label": "267",
                        "method": "animate"
                      },
                      {
                        "args": [
                          [
                            "268"
                          ],
                          {
                            "frame": {
                              "duration": 0,
                              "redraw": true
                            },
                            "fromcurrent": true,
                            "mode": "immediate",
                            "transition": {
                              "duration": 0,
                              "easing": "linear"
                            }
                          }
                        ],
                        "label": "268",
                        "method": "animate"
                      },
                      {
                        "args": [
                          [
                            "269"
                          ],
                          {
                            "frame": {
                              "duration": 0,
                              "redraw": true
                            },
                            "fromcurrent": true,
                            "mode": "immediate",
                            "transition": {
                              "duration": 0,
                              "easing": "linear"
                            }
                          }
                        ],
                        "label": "269",
                        "method": "animate"
                      },
                      {
                        "args": [
                          [
                            "270"
                          ],
                          {
                            "frame": {
                              "duration": 0,
                              "redraw": true
                            },
                            "fromcurrent": true,
                            "mode": "immediate",
                            "transition": {
                              "duration": 0,
                              "easing": "linear"
                            }
                          }
                        ],
                        "label": "270",
                        "method": "animate"
                      },
                      {
                        "args": [
                          [
                            "271"
                          ],
                          {
                            "frame": {
                              "duration": 0,
                              "redraw": true
                            },
                            "fromcurrent": true,
                            "mode": "immediate",
                            "transition": {
                              "duration": 0,
                              "easing": "linear"
                            }
                          }
                        ],
                        "label": "271",
                        "method": "animate"
                      },
                      {
                        "args": [
                          [
                            "272"
                          ],
                          {
                            "frame": {
                              "duration": 0,
                              "redraw": true
                            },
                            "fromcurrent": true,
                            "mode": "immediate",
                            "transition": {
                              "duration": 0,
                              "easing": "linear"
                            }
                          }
                        ],
                        "label": "272",
                        "method": "animate"
                      },
                      {
                        "args": [
                          [
                            "273"
                          ],
                          {
                            "frame": {
                              "duration": 0,
                              "redraw": true
                            },
                            "fromcurrent": true,
                            "mode": "immediate",
                            "transition": {
                              "duration": 0,
                              "easing": "linear"
                            }
                          }
                        ],
                        "label": "273",
                        "method": "animate"
                      },
                      {
                        "args": [
                          [
                            "274"
                          ],
                          {
                            "frame": {
                              "duration": 0,
                              "redraw": true
                            },
                            "fromcurrent": true,
                            "mode": "immediate",
                            "transition": {
                              "duration": 0,
                              "easing": "linear"
                            }
                          }
                        ],
                        "label": "274",
                        "method": "animate"
                      },
                      {
                        "args": [
                          [
                            "275"
                          ],
                          {
                            "frame": {
                              "duration": 0,
                              "redraw": true
                            },
                            "fromcurrent": true,
                            "mode": "immediate",
                            "transition": {
                              "duration": 0,
                              "easing": "linear"
                            }
                          }
                        ],
                        "label": "275",
                        "method": "animate"
                      },
                      {
                        "args": [
                          [
                            "276"
                          ],
                          {
                            "frame": {
                              "duration": 0,
                              "redraw": true
                            },
                            "fromcurrent": true,
                            "mode": "immediate",
                            "transition": {
                              "duration": 0,
                              "easing": "linear"
                            }
                          }
                        ],
                        "label": "276",
                        "method": "animate"
                      },
                      {
                        "args": [
                          [
                            "277"
                          ],
                          {
                            "frame": {
                              "duration": 0,
                              "redraw": true
                            },
                            "fromcurrent": true,
                            "mode": "immediate",
                            "transition": {
                              "duration": 0,
                              "easing": "linear"
                            }
                          }
                        ],
                        "label": "277",
                        "method": "animate"
                      },
                      {
                        "args": [
                          [
                            "278"
                          ],
                          {
                            "frame": {
                              "duration": 0,
                              "redraw": true
                            },
                            "fromcurrent": true,
                            "mode": "immediate",
                            "transition": {
                              "duration": 0,
                              "easing": "linear"
                            }
                          }
                        ],
                        "label": "278",
                        "method": "animate"
                      },
                      {
                        "args": [
                          [
                            "279"
                          ],
                          {
                            "frame": {
                              "duration": 0,
                              "redraw": true
                            },
                            "fromcurrent": true,
                            "mode": "immediate",
                            "transition": {
                              "duration": 0,
                              "easing": "linear"
                            }
                          }
                        ],
                        "label": "279",
                        "method": "animate"
                      },
                      {
                        "args": [
                          [
                            "280"
                          ],
                          {
                            "frame": {
                              "duration": 0,
                              "redraw": true
                            },
                            "fromcurrent": true,
                            "mode": "immediate",
                            "transition": {
                              "duration": 0,
                              "easing": "linear"
                            }
                          }
                        ],
                        "label": "280",
                        "method": "animate"
                      },
                      {
                        "args": [
                          [
                            "281"
                          ],
                          {
                            "frame": {
                              "duration": 0,
                              "redraw": true
                            },
                            "fromcurrent": true,
                            "mode": "immediate",
                            "transition": {
                              "duration": 0,
                              "easing": "linear"
                            }
                          }
                        ],
                        "label": "281",
                        "method": "animate"
                      },
                      {
                        "args": [
                          [
                            "282"
                          ],
                          {
                            "frame": {
                              "duration": 0,
                              "redraw": true
                            },
                            "fromcurrent": true,
                            "mode": "immediate",
                            "transition": {
                              "duration": 0,
                              "easing": "linear"
                            }
                          }
                        ],
                        "label": "282",
                        "method": "animate"
                      },
                      {
                        "args": [
                          [
                            "283"
                          ],
                          {
                            "frame": {
                              "duration": 0,
                              "redraw": true
                            },
                            "fromcurrent": true,
                            "mode": "immediate",
                            "transition": {
                              "duration": 0,
                              "easing": "linear"
                            }
                          }
                        ],
                        "label": "283",
                        "method": "animate"
                      },
                      {
                        "args": [
                          [
                            "284"
                          ],
                          {
                            "frame": {
                              "duration": 0,
                              "redraw": true
                            },
                            "fromcurrent": true,
                            "mode": "immediate",
                            "transition": {
                              "duration": 0,
                              "easing": "linear"
                            }
                          }
                        ],
                        "label": "284",
                        "method": "animate"
                      },
                      {
                        "args": [
                          [
                            "285"
                          ],
                          {
                            "frame": {
                              "duration": 0,
                              "redraw": true
                            },
                            "fromcurrent": true,
                            "mode": "immediate",
                            "transition": {
                              "duration": 0,
                              "easing": "linear"
                            }
                          }
                        ],
                        "label": "285",
                        "method": "animate"
                      },
                      {
                        "args": [
                          [
                            "286"
                          ],
                          {
                            "frame": {
                              "duration": 0,
                              "redraw": true
                            },
                            "fromcurrent": true,
                            "mode": "immediate",
                            "transition": {
                              "duration": 0,
                              "easing": "linear"
                            }
                          }
                        ],
                        "label": "286",
                        "method": "animate"
                      },
                      {
                        "args": [
                          [
                            "287"
                          ],
                          {
                            "frame": {
                              "duration": 0,
                              "redraw": true
                            },
                            "fromcurrent": true,
                            "mode": "immediate",
                            "transition": {
                              "duration": 0,
                              "easing": "linear"
                            }
                          }
                        ],
                        "label": "287",
                        "method": "animate"
                      },
                      {
                        "args": [
                          [
                            "288"
                          ],
                          {
                            "frame": {
                              "duration": 0,
                              "redraw": true
                            },
                            "fromcurrent": true,
                            "mode": "immediate",
                            "transition": {
                              "duration": 0,
                              "easing": "linear"
                            }
                          }
                        ],
                        "label": "288",
                        "method": "animate"
                      },
                      {
                        "args": [
                          [
                            "289"
                          ],
                          {
                            "frame": {
                              "duration": 0,
                              "redraw": true
                            },
                            "fromcurrent": true,
                            "mode": "immediate",
                            "transition": {
                              "duration": 0,
                              "easing": "linear"
                            }
                          }
                        ],
                        "label": "289",
                        "method": "animate"
                      },
                      {
                        "args": [
                          [
                            "290"
                          ],
                          {
                            "frame": {
                              "duration": 0,
                              "redraw": true
                            },
                            "fromcurrent": true,
                            "mode": "immediate",
                            "transition": {
                              "duration": 0,
                              "easing": "linear"
                            }
                          }
                        ],
                        "label": "290",
                        "method": "animate"
                      },
                      {
                        "args": [
                          [
                            "291"
                          ],
                          {
                            "frame": {
                              "duration": 0,
                              "redraw": true
                            },
                            "fromcurrent": true,
                            "mode": "immediate",
                            "transition": {
                              "duration": 0,
                              "easing": "linear"
                            }
                          }
                        ],
                        "label": "291",
                        "method": "animate"
                      },
                      {
                        "args": [
                          [
                            "292"
                          ],
                          {
                            "frame": {
                              "duration": 0,
                              "redraw": true
                            },
                            "fromcurrent": true,
                            "mode": "immediate",
                            "transition": {
                              "duration": 0,
                              "easing": "linear"
                            }
                          }
                        ],
                        "label": "292",
                        "method": "animate"
                      },
                      {
                        "args": [
                          [
                            "293"
                          ],
                          {
                            "frame": {
                              "duration": 0,
                              "redraw": true
                            },
                            "fromcurrent": true,
                            "mode": "immediate",
                            "transition": {
                              "duration": 0,
                              "easing": "linear"
                            }
                          }
                        ],
                        "label": "293",
                        "method": "animate"
                      },
                      {
                        "args": [
                          [
                            "294"
                          ],
                          {
                            "frame": {
                              "duration": 0,
                              "redraw": true
                            },
                            "fromcurrent": true,
                            "mode": "immediate",
                            "transition": {
                              "duration": 0,
                              "easing": "linear"
                            }
                          }
                        ],
                        "label": "294",
                        "method": "animate"
                      },
                      {
                        "args": [
                          [
                            "295"
                          ],
                          {
                            "frame": {
                              "duration": 0,
                              "redraw": true
                            },
                            "fromcurrent": true,
                            "mode": "immediate",
                            "transition": {
                              "duration": 0,
                              "easing": "linear"
                            }
                          }
                        ],
                        "label": "295",
                        "method": "animate"
                      },
                      {
                        "args": [
                          [
                            "296"
                          ],
                          {
                            "frame": {
                              "duration": 0,
                              "redraw": true
                            },
                            "fromcurrent": true,
                            "mode": "immediate",
                            "transition": {
                              "duration": 0,
                              "easing": "linear"
                            }
                          }
                        ],
                        "label": "296",
                        "method": "animate"
                      },
                      {
                        "args": [
                          [
                            "297"
                          ],
                          {
                            "frame": {
                              "duration": 0,
                              "redraw": true
                            },
                            "fromcurrent": true,
                            "mode": "immediate",
                            "transition": {
                              "duration": 0,
                              "easing": "linear"
                            }
                          }
                        ],
                        "label": "297",
                        "method": "animate"
                      },
                      {
                        "args": [
                          [
                            "298"
                          ],
                          {
                            "frame": {
                              "duration": 0,
                              "redraw": true
                            },
                            "fromcurrent": true,
                            "mode": "immediate",
                            "transition": {
                              "duration": 0,
                              "easing": "linear"
                            }
                          }
                        ],
                        "label": "298",
                        "method": "animate"
                      },
                      {
                        "args": [
                          [
                            "299"
                          ],
                          {
                            "frame": {
                              "duration": 0,
                              "redraw": true
                            },
                            "fromcurrent": true,
                            "mode": "immediate",
                            "transition": {
                              "duration": 0,
                              "easing": "linear"
                            }
                          }
                        ],
                        "label": "299",
                        "method": "animate"
                      },
                      {
                        "args": [
                          [
                            "300"
                          ],
                          {
                            "frame": {
                              "duration": 0,
                              "redraw": true
                            },
                            "fromcurrent": true,
                            "mode": "immediate",
                            "transition": {
                              "duration": 0,
                              "easing": "linear"
                            }
                          }
                        ],
                        "label": "300",
                        "method": "animate"
                      },
                      {
                        "args": [
                          [
                            "301"
                          ],
                          {
                            "frame": {
                              "duration": 0,
                              "redraw": true
                            },
                            "fromcurrent": true,
                            "mode": "immediate",
                            "transition": {
                              "duration": 0,
                              "easing": "linear"
                            }
                          }
                        ],
                        "label": "301",
                        "method": "animate"
                      },
                      {
                        "args": [
                          [
                            "302"
                          ],
                          {
                            "frame": {
                              "duration": 0,
                              "redraw": true
                            },
                            "fromcurrent": true,
                            "mode": "immediate",
                            "transition": {
                              "duration": 0,
                              "easing": "linear"
                            }
                          }
                        ],
                        "label": "302",
                        "method": "animate"
                      },
                      {
                        "args": [
                          [
                            "303"
                          ],
                          {
                            "frame": {
                              "duration": 0,
                              "redraw": true
                            },
                            "fromcurrent": true,
                            "mode": "immediate",
                            "transition": {
                              "duration": 0,
                              "easing": "linear"
                            }
                          }
                        ],
                        "label": "303",
                        "method": "animate"
                      },
                      {
                        "args": [
                          [
                            "304"
                          ],
                          {
                            "frame": {
                              "duration": 0,
                              "redraw": true
                            },
                            "fromcurrent": true,
                            "mode": "immediate",
                            "transition": {
                              "duration": 0,
                              "easing": "linear"
                            }
                          }
                        ],
                        "label": "304",
                        "method": "animate"
                      }
                    ],
                    "x": 0.1,
                    "xanchor": "left",
                    "y": 0,
                    "yanchor": "top"
                  }
                ],
                "template": {
                  "data": {
                    "bar": [
                      {
                        "error_x": {
                          "color": "#2a3f5f"
                        },
                        "error_y": {
                          "color": "#2a3f5f"
                        },
                        "marker": {
                          "line": {
                            "color": "white",
                            "width": 0.5
                          },
                          "pattern": {
                            "fillmode": "overlay",
                            "size": 10,
                            "solidity": 0.2
                          }
                        },
                        "type": "bar"
                      }
                    ],
                    "barpolar": [
                      {
                        "marker": {
                          "line": {
                            "color": "white",
                            "width": 0.5
                          },
                          "pattern": {
                            "fillmode": "overlay",
                            "size": 10,
                            "solidity": 0.2
                          }
                        },
                        "type": "barpolar"
                      }
                    ],
                    "carpet": [
                      {
                        "aaxis": {
                          "endlinecolor": "#2a3f5f",
                          "gridcolor": "#C8D4E3",
                          "linecolor": "#C8D4E3",
                          "minorgridcolor": "#C8D4E3",
                          "startlinecolor": "#2a3f5f"
                        },
                        "baxis": {
                          "endlinecolor": "#2a3f5f",
                          "gridcolor": "#C8D4E3",
                          "linecolor": "#C8D4E3",
                          "minorgridcolor": "#C8D4E3",
                          "startlinecolor": "#2a3f5f"
                        },
                        "type": "carpet"
                      }
                    ],
                    "choropleth": [
                      {
                        "colorbar": {
                          "outlinewidth": 0,
                          "ticks": ""
                        },
                        "type": "choropleth"
                      }
                    ],
                    "contour": [
                      {
                        "colorbar": {
                          "outlinewidth": 0,
                          "ticks": ""
                        },
                        "colorscale": [
                          [
                            0,
                            "#0d0887"
                          ],
                          [
                            0.1111111111111111,
                            "#46039f"
                          ],
                          [
                            0.2222222222222222,
                            "#7201a8"
                          ],
                          [
                            0.3333333333333333,
                            "#9c179e"
                          ],
                          [
                            0.4444444444444444,
                            "#bd3786"
                          ],
                          [
                            0.5555555555555556,
                            "#d8576b"
                          ],
                          [
                            0.6666666666666666,
                            "#ed7953"
                          ],
                          [
                            0.7777777777777778,
                            "#fb9f3a"
                          ],
                          [
                            0.8888888888888888,
                            "#fdca26"
                          ],
                          [
                            1,
                            "#f0f921"
                          ]
                        ],
                        "type": "contour"
                      }
                    ],
                    "contourcarpet": [
                      {
                        "colorbar": {
                          "outlinewidth": 0,
                          "ticks": ""
                        },
                        "type": "contourcarpet"
                      }
                    ],
                    "heatmap": [
                      {
                        "colorbar": {
                          "outlinewidth": 0,
                          "ticks": ""
                        },
                        "colorscale": [
                          [
                            0,
                            "#0d0887"
                          ],
                          [
                            0.1111111111111111,
                            "#46039f"
                          ],
                          [
                            0.2222222222222222,
                            "#7201a8"
                          ],
                          [
                            0.3333333333333333,
                            "#9c179e"
                          ],
                          [
                            0.4444444444444444,
                            "#bd3786"
                          ],
                          [
                            0.5555555555555556,
                            "#d8576b"
                          ],
                          [
                            0.6666666666666666,
                            "#ed7953"
                          ],
                          [
                            0.7777777777777778,
                            "#fb9f3a"
                          ],
                          [
                            0.8888888888888888,
                            "#fdca26"
                          ],
                          [
                            1,
                            "#f0f921"
                          ]
                        ],
                        "type": "heatmap"
                      }
                    ],
                    "heatmapgl": [
                      {
                        "colorbar": {
                          "outlinewidth": 0,
                          "ticks": ""
                        },
                        "colorscale": [
                          [
                            0,
                            "#0d0887"
                          ],
                          [
                            0.1111111111111111,
                            "#46039f"
                          ],
                          [
                            0.2222222222222222,
                            "#7201a8"
                          ],
                          [
                            0.3333333333333333,
                            "#9c179e"
                          ],
                          [
                            0.4444444444444444,
                            "#bd3786"
                          ],
                          [
                            0.5555555555555556,
                            "#d8576b"
                          ],
                          [
                            0.6666666666666666,
                            "#ed7953"
                          ],
                          [
                            0.7777777777777778,
                            "#fb9f3a"
                          ],
                          [
                            0.8888888888888888,
                            "#fdca26"
                          ],
                          [
                            1,
                            "#f0f921"
                          ]
                        ],
                        "type": "heatmapgl"
                      }
                    ],
                    "histogram": [
                      {
                        "marker": {
                          "pattern": {
                            "fillmode": "overlay",
                            "size": 10,
                            "solidity": 0.2
                          }
                        },
                        "type": "histogram"
                      }
                    ],
                    "histogram2d": [
                      {
                        "colorbar": {
                          "outlinewidth": 0,
                          "ticks": ""
                        },
                        "colorscale": [
                          [
                            0,
                            "#0d0887"
                          ],
                          [
                            0.1111111111111111,
                            "#46039f"
                          ],
                          [
                            0.2222222222222222,
                            "#7201a8"
                          ],
                          [
                            0.3333333333333333,
                            "#9c179e"
                          ],
                          [
                            0.4444444444444444,
                            "#bd3786"
                          ],
                          [
                            0.5555555555555556,
                            "#d8576b"
                          ],
                          [
                            0.6666666666666666,
                            "#ed7953"
                          ],
                          [
                            0.7777777777777778,
                            "#fb9f3a"
                          ],
                          [
                            0.8888888888888888,
                            "#fdca26"
                          ],
                          [
                            1,
                            "#f0f921"
                          ]
                        ],
                        "type": "histogram2d"
                      }
                    ],
                    "histogram2dcontour": [
                      {
                        "colorbar": {
                          "outlinewidth": 0,
                          "ticks": ""
                        },
                        "colorscale": [
                          [
                            0,
                            "#0d0887"
                          ],
                          [
                            0.1111111111111111,
                            "#46039f"
                          ],
                          [
                            0.2222222222222222,
                            "#7201a8"
                          ],
                          [
                            0.3333333333333333,
                            "#9c179e"
                          ],
                          [
                            0.4444444444444444,
                            "#bd3786"
                          ],
                          [
                            0.5555555555555556,
                            "#d8576b"
                          ],
                          [
                            0.6666666666666666,
                            "#ed7953"
                          ],
                          [
                            0.7777777777777778,
                            "#fb9f3a"
                          ],
                          [
                            0.8888888888888888,
                            "#fdca26"
                          ],
                          [
                            1,
                            "#f0f921"
                          ]
                        ],
                        "type": "histogram2dcontour"
                      }
                    ],
                    "mesh3d": [
                      {
                        "colorbar": {
                          "outlinewidth": 0,
                          "ticks": ""
                        },
                        "type": "mesh3d"
                      }
                    ],
                    "parcoords": [
                      {
                        "line": {
                          "colorbar": {
                            "outlinewidth": 0,
                            "ticks": ""
                          }
                        },
                        "type": "parcoords"
                      }
                    ],
                    "pie": [
                      {
                        "automargin": true,
                        "type": "pie"
                      }
                    ],
                    "scatter": [
                      {
                        "fillpattern": {
                          "fillmode": "overlay",
                          "size": 10,
                          "solidity": 0.2
                        },
                        "type": "scatter"
                      }
                    ],
                    "scatter3d": [
                      {
                        "line": {
                          "colorbar": {
                            "outlinewidth": 0,
                            "ticks": ""
                          }
                        },
                        "marker": {
                          "colorbar": {
                            "outlinewidth": 0,
                            "ticks": ""
                          }
                        },
                        "type": "scatter3d"
                      }
                    ],
                    "scattercarpet": [
                      {
                        "marker": {
                          "colorbar": {
                            "outlinewidth": 0,
                            "ticks": ""
                          }
                        },
                        "type": "scattercarpet"
                      }
                    ],
                    "scattergeo": [
                      {
                        "marker": {
                          "colorbar": {
                            "outlinewidth": 0,
                            "ticks": ""
                          }
                        },
                        "type": "scattergeo"
                      }
                    ],
                    "scattergl": [
                      {
                        "marker": {
                          "colorbar": {
                            "outlinewidth": 0,
                            "ticks": ""
                          }
                        },
                        "type": "scattergl"
                      }
                    ],
                    "scattermapbox": [
                      {
                        "marker": {
                          "colorbar": {
                            "outlinewidth": 0,
                            "ticks": ""
                          }
                        },
                        "type": "scattermapbox"
                      }
                    ],
                    "scatterpolar": [
                      {
                        "marker": {
                          "colorbar": {
                            "outlinewidth": 0,
                            "ticks": ""
                          }
                        },
                        "type": "scatterpolar"
                      }
                    ],
                    "scatterpolargl": [
                      {
                        "marker": {
                          "colorbar": {
                            "outlinewidth": 0,
                            "ticks": ""
                          }
                        },
                        "type": "scatterpolargl"
                      }
                    ],
                    "scatterternary": [
                      {
                        "marker": {
                          "colorbar": {
                            "outlinewidth": 0,
                            "ticks": ""
                          }
                        },
                        "type": "scatterternary"
                      }
                    ],
                    "surface": [
                      {
                        "colorbar": {
                          "outlinewidth": 0,
                          "ticks": ""
                        },
                        "colorscale": [
                          [
                            0,
                            "#0d0887"
                          ],
                          [
                            0.1111111111111111,
                            "#46039f"
                          ],
                          [
                            0.2222222222222222,
                            "#7201a8"
                          ],
                          [
                            0.3333333333333333,
                            "#9c179e"
                          ],
                          [
                            0.4444444444444444,
                            "#bd3786"
                          ],
                          [
                            0.5555555555555556,
                            "#d8576b"
                          ],
                          [
                            0.6666666666666666,
                            "#ed7953"
                          ],
                          [
                            0.7777777777777778,
                            "#fb9f3a"
                          ],
                          [
                            0.8888888888888888,
                            "#fdca26"
                          ],
                          [
                            1,
                            "#f0f921"
                          ]
                        ],
                        "type": "surface"
                      }
                    ],
                    "table": [
                      {
                        "cells": {
                          "fill": {
                            "color": "#EBF0F8"
                          },
                          "line": {
                            "color": "white"
                          }
                        },
                        "header": {
                          "fill": {
                            "color": "#C8D4E3"
                          },
                          "line": {
                            "color": "white"
                          }
                        },
                        "type": "table"
                      }
                    ]
                  },
                  "layout": {
                    "annotationdefaults": {
                      "arrowcolor": "#2a3f5f",
                      "arrowhead": 0,
                      "arrowwidth": 1
                    },
                    "autotypenumbers": "strict",
                    "coloraxis": {
                      "colorbar": {
                        "outlinewidth": 0,
                        "ticks": ""
                      }
                    },
                    "colorscale": {
                      "diverging": [
                        [
                          0,
                          "#8e0152"
                        ],
                        [
                          0.1,
                          "#c51b7d"
                        ],
                        [
                          0.2,
                          "#de77ae"
                        ],
                        [
                          0.3,
                          "#f1b6da"
                        ],
                        [
                          0.4,
                          "#fde0ef"
                        ],
                        [
                          0.5,
                          "#f7f7f7"
                        ],
                        [
                          0.6,
                          "#e6f5d0"
                        ],
                        [
                          0.7,
                          "#b8e186"
                        ],
                        [
                          0.8,
                          "#7fbc41"
                        ],
                        [
                          0.9,
                          "#4d9221"
                        ],
                        [
                          1,
                          "#276419"
                        ]
                      ],
                      "sequential": [
                        [
                          0,
                          "#0d0887"
                        ],
                        [
                          0.1111111111111111,
                          "#46039f"
                        ],
                        [
                          0.2222222222222222,
                          "#7201a8"
                        ],
                        [
                          0.3333333333333333,
                          "#9c179e"
                        ],
                        [
                          0.4444444444444444,
                          "#bd3786"
                        ],
                        [
                          0.5555555555555556,
                          "#d8576b"
                        ],
                        [
                          0.6666666666666666,
                          "#ed7953"
                        ],
                        [
                          0.7777777777777778,
                          "#fb9f3a"
                        ],
                        [
                          0.8888888888888888,
                          "#fdca26"
                        ],
                        [
                          1,
                          "#f0f921"
                        ]
                      ],
                      "sequentialminus": [
                        [
                          0,
                          "#0d0887"
                        ],
                        [
                          0.1111111111111111,
                          "#46039f"
                        ],
                        [
                          0.2222222222222222,
                          "#7201a8"
                        ],
                        [
                          0.3333333333333333,
                          "#9c179e"
                        ],
                        [
                          0.4444444444444444,
                          "#bd3786"
                        ],
                        [
                          0.5555555555555556,
                          "#d8576b"
                        ],
                        [
                          0.6666666666666666,
                          "#ed7953"
                        ],
                        [
                          0.7777777777777778,
                          "#fb9f3a"
                        ],
                        [
                          0.8888888888888888,
                          "#fdca26"
                        ],
                        [
                          1,
                          "#f0f921"
                        ]
                      ]
                    },
                    "colorway": [
                      "#636efa",
                      "#EF553B",
                      "#00cc96",
                      "#ab63fa",
                      "#FFA15A",
                      "#19d3f3",
                      "#FF6692",
                      "#B6E880",
                      "#FF97FF",
                      "#FECB52"
                    ],
                    "font": {
                      "color": "#2a3f5f"
                    },
                    "geo": {
                      "bgcolor": "white",
                      "lakecolor": "white",
                      "landcolor": "white",
                      "showlakes": true,
                      "showland": true,
                      "subunitcolor": "#C8D4E3"
                    },
                    "hoverlabel": {
                      "align": "left"
                    },
                    "hovermode": "closest",
                    "mapbox": {
                      "style": "light"
                    },
                    "paper_bgcolor": "white",
                    "plot_bgcolor": "white",
                    "polar": {
                      "angularaxis": {
                        "gridcolor": "#EBF0F8",
                        "linecolor": "#EBF0F8",
                        "ticks": ""
                      },
                      "bgcolor": "white",
                      "radialaxis": {
                        "gridcolor": "#EBF0F8",
                        "linecolor": "#EBF0F8",
                        "ticks": ""
                      }
                    },
                    "scene": {
                      "xaxis": {
                        "backgroundcolor": "white",
                        "gridcolor": "#DFE8F3",
                        "gridwidth": 2,
                        "linecolor": "#EBF0F8",
                        "showbackground": true,
                        "ticks": "",
                        "zerolinecolor": "#EBF0F8"
                      },
                      "yaxis": {
                        "backgroundcolor": "white",
                        "gridcolor": "#DFE8F3",
                        "gridwidth": 2,
                        "linecolor": "#EBF0F8",
                        "showbackground": true,
                        "ticks": "",
                        "zerolinecolor": "#EBF0F8"
                      },
                      "zaxis": {
                        "backgroundcolor": "white",
                        "gridcolor": "#DFE8F3",
                        "gridwidth": 2,
                        "linecolor": "#EBF0F8",
                        "showbackground": true,
                        "ticks": "",
                        "zerolinecolor": "#EBF0F8"
                      }
                    },
                    "shapedefaults": {
                      "line": {
                        "color": "#2a3f5f"
                      }
                    },
                    "ternary": {
                      "aaxis": {
                        "gridcolor": "#DFE8F3",
                        "linecolor": "#A2B1C6",
                        "ticks": ""
                      },
                      "baxis": {
                        "gridcolor": "#DFE8F3",
                        "linecolor": "#A2B1C6",
                        "ticks": ""
                      },
                      "bgcolor": "white",
                      "caxis": {
                        "gridcolor": "#DFE8F3",
                        "linecolor": "#A2B1C6",
                        "ticks": ""
                      }
                    },
                    "title": {
                      "x": 0.05
                    },
                    "xaxis": {
                      "automargin": true,
                      "gridcolor": "#EBF0F8",
                      "linecolor": "#EBF0F8",
                      "ticks": "",
                      "title": {
                        "standoff": 15
                      },
                      "zerolinecolor": "#EBF0F8",
                      "zerolinewidth": 2
                    },
                    "yaxis": {
                      "automargin": true,
                      "gridcolor": "#EBF0F8",
                      "linecolor": "#EBF0F8",
                      "ticks": "",
                      "title": {
                        "standoff": 15
                      },
                      "zerolinecolor": "#EBF0F8",
                      "zerolinewidth": 2
                    }
                  }
                },
                "title": {
                  "text": "Chicago Blackhawks VS St. Louis Blues",
                  "x": 0.5,
                  "xanchor": "center",
                  "y": 0.9,
                  "yanchor": "top"
                },
                "updatemenus": [
                  {
                    "buttons": [
                      {
                        "args": [
                          null,
                          {
                            "frame": {
                              "duration": 2000,
                              "redraw": true
                            },
                            "fromcurrent": true,
                            "mode": "immediate",
                            "transition": {
                              "duration": 500,
                              "easing": "linear"
                            }
                          }
                        ],
                        "label": "&#9654;",
                        "method": "animate"
                      },
                      {
                        "args": [
                          [
                            null
                          ],
                          {
                            "frame": {
                              "duration": 0,
                              "redraw": false
                            },
                            "fromcurrent": true,
                            "mode": "immediate",
                            "transition": {
                              "duration": 0,
                              "easing": "linear"
                            }
                          }
                        ],
                        "label": "&#9724;",
                        "method": "animate"
                      }
                    ],
                    "direction": "left",
                    "pad": {
                      "r": 10,
                      "t": 70
                    },
                    "showactive": false,
                    "type": "buttons",
                    "x": 0.1,
                    "xanchor": "right",
                    "y": 0,
                    "yanchor": "top"
                  }
                ],
                "xaxis": {
                  "anchor": "y",
                  "domain": [
                    0,
                    1
                  ],
                  "range": [
                    -100,
                    100
                  ],
                  "showgrid": false,
                  "showline": false,
                  "title": {
                    "text": "x"
                  },
                  "zeroline": false
                },
                "yaxis": {
                  "anchor": "x",
                  "domain": [
                    0,
                    1
                  ],
                  "range": [
                    -42.5,
                    42.5
                  ],
                  "scaleanchor": "x",
                  "scaleratio": 1,
                  "showgrid": false,
                  "showline": false,
                  "title": {
                    "text": "y"
                  },
                  "zeroline": false
                }
              }
            }
          },
          "metadata": {},
          "output_type": "display_data"
        }
      ],
      "source": [
        "import plotly.express as px\n",
        "fig = px.scatter(df, x=\"x\", y=\"y\", animation_frame=\"event idx\", range_x=[-100,100], range_y=[-42.5,42.5])\n",
        "\n",
        "fig.update_traces(mode='markers',\n",
        "                         marker_size=15,\n",
        "                         marker_color=\"#111111\")\n",
        "\n",
        "fig.add_layout_image(\n",
        "  source=\"https://raw.githubusercontent.com/udem-ift6758/project-template/main/figures/nhl_rink.png\",\n",
        "  xref=\"x\",\n",
        "  yref=\"y\",\n",
        "  x=-100,\n",
        "  y=42.5,\n",
        "  sizex=200,\n",
        "  sizey=85,\n",
        "  sizing=\"stretch\",\n",
        "  opacity=0.9,\n",
        "  layer=\"below\"\n",
        ")\n",
        "fig.update_xaxes(showline=False, zeroline=False, showgrid=False, range=[-100, 100])\n",
        "fig.update_yaxes(\n",
        "    showline=False,\n",
        "    zeroline=False,\n",
        "    showgrid=False,\n",
        "    range=[-42.5, 42.5],\n",
        "    scaleanchor = \"x\",\n",
        "    scaleratio = 1,\n",
        "  )\n",
        "\n",
        "fig.update_layout(\n",
        "  title={\n",
        "        'text': match_title,\n",
        "        'y':0.9,\n",
        "        'x':0.5,\n",
        "        'xanchor': 'center',\n",
        "        'yanchor': 'top'},\n",
        "  autosize=False,\n",
        "  template=\"plotly_white\",)\n",
        "\n",
        "fig.layout.updatemenus[0].buttons[0].args[1][\"frame\"][\"duration\"] = 2000\n",
        "fig.layout.updatemenus[0].buttons[0].args[1][\"frame\"][\"redraw\"] = True\n",
        "\n",
        "for id, fr in enumerate(fig.frames):\n",
        "  fr.layout.title = df.loc[id]['description']\n",
        "\n",
        "for step in fig.layout.sliders[0].steps:\n",
        "    step[\"args\"][1][\"frame\"][\"redraw\"] = True\n",
        "\n",
        "\n",
        "fig.show()"
      ]
    },
    {
      "cell_type": "code",
      "execution_count": null,
      "metadata": {
        "id": "nCAcV_Uv2_Ka"
      },
      "outputs": [],
      "source": [
        "fig.write_html(\"plotly_demo_3.html\", auto_play = False)"
      ]
    },
    {
      "cell_type": "markdown",
      "metadata": {
        "id": "DKdtsjZaGmqY"
      },
      "source": [
        "# Autres"
      ]
    },
    {
      "cell_type": "code",
      "execution_count": null,
      "metadata": {
        "id": "gF_62nqkG5qc"
      },
      "outputs": [],
      "source": [
        "play = season.regulars[0].plays[51]\n",
        "\n",
        "# Create figure\n",
        "fig = go.Figure()\n",
        "\n",
        "fig.add_trace(go.Scatter(x= [89], y=[0],\n",
        "                         mode='markers',\n",
        "                         marker_size=15,\n",
        "                         marker_color=\"#111111\"))\n",
        "\n",
        "# Add images\n",
        "fig.add_layout_image(\n",
        "        dict(\n",
        "            source=\"https://raw.githubusercontent.com/udem-ift6758/project-template/main/figures/nhl_rink.png\",\n",
        "            xref=\"x\",\n",
        "            yref=\"y\",\n",
        "            x=-100,\n",
        "            y=42.5,\n",
        "            sizex=200,\n",
        "            sizey=85,\n",
        "            sizing=\"stretch\",\n",
        "            opacity=0.9,\n",
        "            layer=\"below\")\n",
        ")\n",
        "\n",
        "fig.update_xaxes(showline=False, zeroline=False, showgrid=False, range=[-100, 100])\n",
        "fig.update_yaxes(\n",
        "    showline=False,\n",
        "    zeroline=False,\n",
        "    showgrid=False,\n",
        "    range=[-42.5, 42.5],\n",
        "    scaleanchor = \"x\",\n",
        "    scaleratio = 1,\n",
        "  )\n",
        "\n",
        "# Set templates\n",
        "# fig.update_layout(template=\"plotly_white\")\n",
        "fig.update_layout(\n",
        "  title={\n",
        "        'text': play.result.description,\n",
        "        'y':0.9,\n",
        "        'x':0.5,\n",
        "        'xanchor': 'center',\n",
        "        'yanchor': 'top'},\n",
        "    autosize=False,\n",
        "    template=\"plotly_white\")\n",
        "\n",
        "fig.show()"
      ]
    },
    {
      "cell_type": "code",
      "execution_count": null,
      "metadata": {
        "id": "mPRJ2XqGG99_"
      },
      "outputs": [],
      "source": [
        "from ipywidgets import interact, IntSlider\n",
        "import plotly.graph_objects as go\n",
        "\n",
        "plays = season.regulars[0].plays\n",
        "\n",
        "positions = [Coordinates(x=1, y=2), Coordinates(x=3, y=4), Coordinates(x=5, y=6)]\n",
        "\n",
        "def plot_coordinate(index: int):\n",
        "    # Get the chosen coordinates\n",
        "\n",
        "    play = plays[index]\n",
        "\n",
        "    # play = game.allPlays[index]\n",
        "\n",
        "    # coord = positions[index]\n",
        "\n",
        "    # Create a scatter plot for the chosen coordinate\n",
        "    fig = go.Figure(go.Scatter(x= [play.coordinates.x], y=[play.coordinates.y],\n",
        "                         mode='markers',\n",
        "                         marker_size=15,\n",
        "                         marker_color=\"#111111\"))\n",
        "\n",
        "    # Set the range so it stays constant\n",
        "    # fig.update_layout(\n",
        "    #     xaxis=dict(range=[0, max([c.x for c in positions]) + 1]),\n",
        "    #     yaxis=dict(range=[0, max([c.y for c in positions]) + 1])\n",
        "    # )\n",
        "\n",
        "    fig.add_layout_image(\n",
        "            dict(\n",
        "                source=\"https://dbdzm869oupei.cloudfront.net/img/vinylrugs/preview/32553.png\",\n",
        "                xref=\"x\",\n",
        "                yref=\"y\",\n",
        "                x=-100,\n",
        "                y=42.5,\n",
        "                sizex=200,\n",
        "                sizey=85,\n",
        "                sizing=\"stretch\",\n",
        "                opacity=0.9,\n",
        "                layer=\"below\")\n",
        "    )\n",
        "\n",
        "    fig.update_xaxes(showline=False, zeroline=False, showgrid=False, range=[-100, 100])\n",
        "    fig.update_yaxes(\n",
        "        showline=False,\n",
        "        zeroline=False,\n",
        "        showgrid=False,\n",
        "        range=[-42.5, 42.5],\n",
        "        scaleanchor = \"x\",\n",
        "        scaleratio = 1,\n",
        "      )\n",
        "\n",
        "    fig.update_layout(\n",
        "      title={\n",
        "            'text': play.description,\n",
        "            'y':0.9,\n",
        "            'x':0.5,\n",
        "            'xanchor': 'center',\n",
        "            'yanchor': 'top'},\n",
        "        autosize=False,\n",
        "        template=\"plotly_white\")\n",
        "\n",
        "    fig.show()\n",
        "\n",
        "# Use ipywidgets to select a specific index\n",
        "interact(plot_coordinate, index=IntSlider(min=0, max=len(plays)-1, value=0))"
      ]
    }
  ],
  "metadata": {
    "colab": {
      "provenance": []
    },
    "kernelspec": {
      "display_name": "Python 3",
      "name": "python3"
    },
    "language_info": {
      "codemirror_mode": {
        "name": "ipython",
        "version": 3
      },
      "file_extension": ".py",
      "mimetype": "text/x-python",
      "name": "python",
      "nbconvert_exporter": "python",
      "pygments_lexer": "ipython3",
      "version": "3.10.13"
    },
    "widgets": {
      "application/vnd.jupyter.widget-state+json": {
        "39fd68583ad04b7890f856b4b2839532": {
          "model_module": "@jupyter-widgets/controls",
          "model_module_version": "1.5.0",
          "model_name": "DescriptionStyleModel",
          "state": {
            "_model_module": "@jupyter-widgets/controls",
            "_model_module_version": "1.5.0",
            "_model_name": "DescriptionStyleModel",
            "_view_count": null,
            "_view_module": "@jupyter-widgets/base",
            "_view_module_version": "1.2.0",
            "_view_name": "StyleView",
            "description_width": ""
          }
        },
        "57278cf4ee724a20aaa98cc96c54248a": {
          "model_module": "@jupyter-widgets/controls",
          "model_module_version": "1.5.0",
          "model_name": "TextModel",
          "state": {
            "_dom_classes": [],
            "_model_module": "@jupyter-widgets/controls",
            "_model_module_version": "1.5.0",
            "_model_name": "TextModel",
            "_view_count": null,
            "_view_module": "@jupyter-widgets/controls",
            "_view_module_version": "1.5.0",
            "_view_name": "TextView",
            "continuous_update": true,
            "description": "Season:",
            "description_tooltip": null,
            "disabled": false,
            "layout": "IPY_MODEL_f52a3318c31b49668c2750ba38711441",
            "placeholder": "​",
            "style": "IPY_MODEL_39fd68583ad04b7890f856b4b2839532",
            "value": "2016"
          }
        },
        "f52a3318c31b49668c2750ba38711441": {
          "model_module": "@jupyter-widgets/base",
          "model_module_version": "1.2.0",
          "model_name": "LayoutModel",
          "state": {
            "_model_module": "@jupyter-widgets/base",
            "_model_module_version": "1.2.0",
            "_model_name": "LayoutModel",
            "_view_count": null,
            "_view_module": "@jupyter-widgets/base",
            "_view_module_version": "1.2.0",
            "_view_name": "LayoutView",
            "align_content": null,
            "align_items": null,
            "align_self": null,
            "border": null,
            "bottom": null,
            "display": null,
            "flex": null,
            "flex_flow": null,
            "grid_area": null,
            "grid_auto_columns": null,
            "grid_auto_flow": null,
            "grid_auto_rows": null,
            "grid_column": null,
            "grid_gap": null,
            "grid_row": null,
            "grid_template_areas": null,
            "grid_template_columns": null,
            "grid_template_rows": null,
            "height": null,
            "justify_content": null,
            "justify_items": null,
            "left": null,
            "margin": null,
            "max_height": null,
            "max_width": null,
            "min_height": null,
            "min_width": null,
            "object_fit": null,
            "object_position": null,
            "order": null,
            "overflow": null,
            "overflow_x": null,
            "overflow_y": null,
            "padding": null,
            "right": null,
            "top": null,
            "visibility": null,
            "width": null
          }
        }
      }
    }
  },
  "nbformat": 4,
  "nbformat_minor": 0
}
