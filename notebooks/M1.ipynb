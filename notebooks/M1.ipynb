{
  "cells": [
    {
      "cell_type": "markdown",
      "metadata": {
        "id": "QfY8t6_IuVcL"
      },
      "source": [
        "[PlayTypes](https://statsapi.web.nhl.com/api/v1/playTypes)\n",
        "[Example game](https://statsapi.web.nhl.com/api/v1/game/2017020001/feed/live)\n",
        "[Example team](https://statsapi.web.nhl.com/api/v1/teams/10)"
      ]
    },
    {
      "cell_type": "markdown",
      "metadata": {
        "id": "5Ga-oiT2Itmz"
      },
      "source": [
        "# Imports"
      ]
    },
    {
      "cell_type": "code",
      "execution_count": 12,
      "metadata": {},
      "outputs": [
        {
          "name": "stdout",
          "output_type": "stream",
          "text": [
            "The autoreload extension is already loaded. To reload it, use:\n",
            "  %reload_ext autoreload\n"
          ]
        }
      ],
      "source": [
        "%load_ext autoreload\n",
        "%autoreload 2"
      ]
    },
    {
      "cell_type": "code",
      "execution_count": 13,
      "metadata": {},
      "outputs": [
        {
          "data": {
            "text/plain": [
              "'/home/shabgard/ift6758-venv/project/Milestone2/NHL/NHL'"
            ]
          },
          "execution_count": 13,
          "metadata": {},
          "output_type": "execute_result"
        }
      ],
      "source": [
        "import pathlib\n",
        "if pathlib.Path().resolve().name == 'notebooks':\n",
        "    %cd ..\n",
        "%pwd"
      ]
    },
    {
      "cell_type": "code",
      "execution_count": 27,
      "metadata": {
        "id": "wUtIcPjBIw24"
      },
      "outputs": [],
      "source": [
        "import plotly.graph_objects as go\n",
        "import plotly.express as px\n",
        "import pandas as pd\n",
        "import numpy as np\n",
        "from src.data import NHLDataDownloader\n",
        "from scipy import stats\n",
        "from src.utils import normalize\n",
        "import ipywidgets as widgets\n",
        "from IPython.display import display\n",
        "import pprint\n",
        "from PIL import Image"
      ]
    },
    {
      "cell_type": "markdown",
      "metadata": {
        "id": "WF0f3VGNtUZw"
      },
      "source": [
        "# Raw data\n"
      ]
    },
    {
      "cell_type": "code",
      "execution_count": 28,
      "metadata": {
        "colab": {
          "base_uri": "https://localhost:8080/"
        },
        "id": "3mjoFbeS8GBV",
        "outputId": "4e545ac7-0bcd-4be4-8cbb-af7d003387f4"
      },
      "outputs": [
        {
          "name": "stdout",
          "output_type": "stream",
          "text": [
            "Season 2018 successfully loaded from file\n"
          ]
        }
      ],
      "source": [
        "# Utilisation du téléchargeur de données NHL\n",
        "\n",
        "# Étape 1: Spécifier la saison\n",
        "season_year = 2018\n",
        "nhl_downloader = NHLDataDownloader(season_year)\n",
        "\n",
        "# Étape 2: Télécharger les données\n",
        "season_data = nhl_downloader.load_data()\n"
      ]
    },
    {
      "cell_type": "code",
      "execution_count": 29,
      "metadata": {
        "colab": {
          "base_uri": "https://localhost:8080/"
        },
        "id": "fdBVV8118Jv6",
        "outputId": "bd8b917a-bb2e-4bb9-e17a-693530cc3344"
      },
      "outputs": [
        {
          "data": {
            "text/plain": [
              "{'players': [{'player': {'id': 8477953,\n",
              "    'fullName': 'Kasperi Kapanen',\n",
              "    'link': '/api/v1/people/8477953'},\n",
              "   'playerType': 'Shooter'},\n",
              "  {'player': {'id': 8471679,\n",
              "    'fullName': 'Carey Price',\n",
              "    'link': '/api/v1/people/8471679'},\n",
              "   'playerType': 'Goalie'}],\n",
              " 'result': {'event': 'Shot',\n",
              "  'eventCode': 'TOR833',\n",
              "  'eventTypeId': 'SHOT',\n",
              "  'description': 'Kasperi Kapanen Backhand saved by Carey Price',\n",
              "  'secondaryType': 'Backhand'},\n",
              " 'about': {'eventIdx': 355,\n",
              "  'eventId': 833,\n",
              "  'period': 3,\n",
              "  'periodType': 'REGULAR',\n",
              "  'ordinalNum': '3rd',\n",
              "  'periodTime': '20:00',\n",
              "  'periodTimeRemaining': '00:00',\n",
              "  'dateTime': '2018-10-04T01:49:23Z',\n",
              "  'goals': {'away': 2, 'home': 2}},\n",
              " 'coordinates': {'x': -81.0, 'y': -9.0},\n",
              " 'team': {'id': 10,\n",
              "  'name': 'Toronto Maple Leafs',\n",
              "  'link': '/api/v1/teams/10',\n",
              "  'triCode': 'TOR'}}"
            ]
          },
          "execution_count": 29,
          "metadata": {},
          "output_type": "execute_result"
        }
      ],
      "source": [
        "for play in season_data['regulars'][0]['liveData']['plays']['allPlays']:\n",
        "  if play['result']['event'] == 'Shot':\n",
        "    shot_exemple = play\n",
        "  if play['result']['event'] == 'Goal':\n",
        "    goal_exemple = play\n",
        "\n",
        "shot_exemple"
      ]
    },
    {
      "cell_type": "code",
      "execution_count": 30,
      "metadata": {
        "colab": {
          "base_uri": "https://localhost:8080/"
        },
        "id": "FJnvTIom8MR3",
        "outputId": "c03082c1-77df-4d27-ac2a-7cef8318dcac"
      },
      "outputs": [
        {
          "data": {
            "text/plain": [
              "{'players': [{'player': {'id': 8479318,\n",
              "    'fullName': 'Auston Matthews',\n",
              "    'link': '/api/v1/people/8479318'},\n",
              "   'playerType': 'Scorer',\n",
              "   'seasonTotal': 2},\n",
              "  {'player': {'id': 8466139,\n",
              "    'fullName': 'Patrick Marleau',\n",
              "    'link': '/api/v1/people/8466139'},\n",
              "   'playerType': 'Assist',\n",
              "   'seasonTotal': 1},\n",
              "  {'player': {'id': 8474581,\n",
              "    'fullName': 'Jake Gardiner',\n",
              "    'link': '/api/v1/people/8474581'},\n",
              "   'playerType': 'Assist',\n",
              "   'seasonTotal': 1},\n",
              "  {'player': {'id': 8471679,\n",
              "    'fullName': 'Carey Price',\n",
              "    'link': '/api/v1/people/8471679'},\n",
              "   'playerType': 'Goalie'}],\n",
              " 'result': {'event': 'Goal',\n",
              "  'eventCode': 'TOR843',\n",
              "  'eventTypeId': 'GOAL',\n",
              "  'description': 'Auston Matthews (2) Snap Shot, assists: Patrick Marleau (1), Jake Gardiner (1)',\n",
              "  'secondaryType': 'Snap Shot',\n",
              "  'strength': {'code': 'EVEN', 'name': 'Even'},\n",
              "  'gameWinningGoal': True,\n",
              "  'emptyNet': False},\n",
              " 'about': {'eventIdx': 362,\n",
              "  'eventId': 843,\n",
              "  'period': 4,\n",
              "  'periodType': 'OVERTIME',\n",
              "  'ordinalNum': 'OT',\n",
              "  'periodTime': '01:01',\n",
              "  'periodTimeRemaining': '03:59',\n",
              "  'dateTime': '2018-10-04T01:53:02Z',\n",
              "  'goals': {'away': 2, 'home': 3}},\n",
              " 'coordinates': {'x': 74.0, 'y': 4.0},\n",
              " 'team': {'id': 10,\n",
              "  'name': 'Toronto Maple Leafs',\n",
              "  'link': '/api/v1/teams/10',\n",
              "  'triCode': 'TOR'}}"
            ]
          },
          "execution_count": 30,
          "metadata": {},
          "output_type": "execute_result"
        }
      ],
      "source": [
        "goal_exemple"
      ]
    },
    {
      "cell_type": "markdown",
      "metadata": {},
      "source": [
        "## Outil de débogage interactif"
      ]
    },
    {
      "cell_type": "code",
      "execution_count": 31,
      "metadata": {},
      "outputs": [
        {
          "data": {
            "application/vnd.plotly.v1+json": {
              "config": {
                "plotlyServerURL": "https://plot.ly"
              },
              "data": [
                {
                  "marker": {
                    "color": "#111111",
                    "size": 15
                  },
                  "mode": "markers",
                  "type": "scatter",
                  "x": [
                    null
                  ],
                  "y": [
                    null
                  ]
                }
              ],
              "layout": {
                "autosize": false,
                "images": [
                  {
                    "layer": "below",
                    "opacity": 0.9,
                    "sizex": 200,
                    "sizey": 85,
                    "sizing": "stretch",
                    "source": "data:image/png;base64,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",
                    "x": -100,
                    "xref": "x",
                    "y": 42.5,
                    "yref": "y"
                  }
                ],
                "template": {
                  "data": {
                    "bar": [
                      {
                        "error_x": {
                          "color": "#2a3f5f"
                        },
                        "error_y": {
                          "color": "#2a3f5f"
                        },
                        "marker": {
                          "line": {
                            "color": "white",
                            "width": 0.5
                          },
                          "pattern": {
                            "fillmode": "overlay",
                            "size": 10,
                            "solidity": 0.2
                          }
                        },
                        "type": "bar"
                      }
                    ],
                    "barpolar": [
                      {
                        "marker": {
                          "line": {
                            "color": "white",
                            "width": 0.5
                          },
                          "pattern": {
                            "fillmode": "overlay",
                            "size": 10,
                            "solidity": 0.2
                          }
                        },
                        "type": "barpolar"
                      }
                    ],
                    "carpet": [
                      {
                        "aaxis": {
                          "endlinecolor": "#2a3f5f",
                          "gridcolor": "#C8D4E3",
                          "linecolor": "#C8D4E3",
                          "minorgridcolor": "#C8D4E3",
                          "startlinecolor": "#2a3f5f"
                        },
                        "baxis": {
                          "endlinecolor": "#2a3f5f",
                          "gridcolor": "#C8D4E3",
                          "linecolor": "#C8D4E3",
                          "minorgridcolor": "#C8D4E3",
                          "startlinecolor": "#2a3f5f"
                        },
                        "type": "carpet"
                      }
                    ],
                    "choropleth": [
                      {
                        "colorbar": {
                          "outlinewidth": 0,
                          "ticks": ""
                        },
                        "type": "choropleth"
                      }
                    ],
                    "contour": [
                      {
                        "colorbar": {
                          "outlinewidth": 0,
                          "ticks": ""
                        },
                        "colorscale": [
                          [
                            0,
                            "#0d0887"
                          ],
                          [
                            0.1111111111111111,
                            "#46039f"
                          ],
                          [
                            0.2222222222222222,
                            "#7201a8"
                          ],
                          [
                            0.3333333333333333,
                            "#9c179e"
                          ],
                          [
                            0.4444444444444444,
                            "#bd3786"
                          ],
                          [
                            0.5555555555555556,
                            "#d8576b"
                          ],
                          [
                            0.6666666666666666,
                            "#ed7953"
                          ],
                          [
                            0.7777777777777778,
                            "#fb9f3a"
                          ],
                          [
                            0.8888888888888888,
                            "#fdca26"
                          ],
                          [
                            1,
                            "#f0f921"
                          ]
                        ],
                        "type": "contour"
                      }
                    ],
                    "contourcarpet": [
                      {
                        "colorbar": {
                          "outlinewidth": 0,
                          "ticks": ""
                        },
                        "type": "contourcarpet"
                      }
                    ],
                    "heatmap": [
                      {
                        "colorbar": {
                          "outlinewidth": 0,
                          "ticks": ""
                        },
                        "colorscale": [
                          [
                            0,
                            "#0d0887"
                          ],
                          [
                            0.1111111111111111,
                            "#46039f"
                          ],
                          [
                            0.2222222222222222,
                            "#7201a8"
                          ],
                          [
                            0.3333333333333333,
                            "#9c179e"
                          ],
                          [
                            0.4444444444444444,
                            "#bd3786"
                          ],
                          [
                            0.5555555555555556,
                            "#d8576b"
                          ],
                          [
                            0.6666666666666666,
                            "#ed7953"
                          ],
                          [
                            0.7777777777777778,
                            "#fb9f3a"
                          ],
                          [
                            0.8888888888888888,
                            "#fdca26"
                          ],
                          [
                            1,
                            "#f0f921"
                          ]
                        ],
                        "type": "heatmap"
                      }
                    ],
                    "heatmapgl": [
                      {
                        "colorbar": {
                          "outlinewidth": 0,
                          "ticks": ""
                        },
                        "colorscale": [
                          [
                            0,
                            "#0d0887"
                          ],
                          [
                            0.1111111111111111,
                            "#46039f"
                          ],
                          [
                            0.2222222222222222,
                            "#7201a8"
                          ],
                          [
                            0.3333333333333333,
                            "#9c179e"
                          ],
                          [
                            0.4444444444444444,
                            "#bd3786"
                          ],
                          [
                            0.5555555555555556,
                            "#d8576b"
                          ],
                          [
                            0.6666666666666666,
                            "#ed7953"
                          ],
                          [
                            0.7777777777777778,
                            "#fb9f3a"
                          ],
                          [
                            0.8888888888888888,
                            "#fdca26"
                          ],
                          [
                            1,
                            "#f0f921"
                          ]
                        ],
                        "type": "heatmapgl"
                      }
                    ],
                    "histogram": [
                      {
                        "marker": {
                          "pattern": {
                            "fillmode": "overlay",
                            "size": 10,
                            "solidity": 0.2
                          }
                        },
                        "type": "histogram"
                      }
                    ],
                    "histogram2d": [
                      {
                        "colorbar": {
                          "outlinewidth": 0,
                          "ticks": ""
                        },
                        "colorscale": [
                          [
                            0,
                            "#0d0887"
                          ],
                          [
                            0.1111111111111111,
                            "#46039f"
                          ],
                          [
                            0.2222222222222222,
                            "#7201a8"
                          ],
                          [
                            0.3333333333333333,
                            "#9c179e"
                          ],
                          [
                            0.4444444444444444,
                            "#bd3786"
                          ],
                          [
                            0.5555555555555556,
                            "#d8576b"
                          ],
                          [
                            0.6666666666666666,
                            "#ed7953"
                          ],
                          [
                            0.7777777777777778,
                            "#fb9f3a"
                          ],
                          [
                            0.8888888888888888,
                            "#fdca26"
                          ],
                          [
                            1,
                            "#f0f921"
                          ]
                        ],
                        "type": "histogram2d"
                      }
                    ],
                    "histogram2dcontour": [
                      {
                        "colorbar": {
                          "outlinewidth": 0,
                          "ticks": ""
                        },
                        "colorscale": [
                          [
                            0,
                            "#0d0887"
                          ],
                          [
                            0.1111111111111111,
                            "#46039f"
                          ],
                          [
                            0.2222222222222222,
                            "#7201a8"
                          ],
                          [
                            0.3333333333333333,
                            "#9c179e"
                          ],
                          [
                            0.4444444444444444,
                            "#bd3786"
                          ],
                          [
                            0.5555555555555556,
                            "#d8576b"
                          ],
                          [
                            0.6666666666666666,
                            "#ed7953"
                          ],
                          [
                            0.7777777777777778,
                            "#fb9f3a"
                          ],
                          [
                            0.8888888888888888,
                            "#fdca26"
                          ],
                          [
                            1,
                            "#f0f921"
                          ]
                        ],
                        "type": "histogram2dcontour"
                      }
                    ],
                    "mesh3d": [
                      {
                        "colorbar": {
                          "outlinewidth": 0,
                          "ticks": ""
                        },
                        "type": "mesh3d"
                      }
                    ],
                    "parcoords": [
                      {
                        "line": {
                          "colorbar": {
                            "outlinewidth": 0,
                            "ticks": ""
                          }
                        },
                        "type": "parcoords"
                      }
                    ],
                    "pie": [
                      {
                        "automargin": true,
                        "type": "pie"
                      }
                    ],
                    "scatter": [
                      {
                        "fillpattern": {
                          "fillmode": "overlay",
                          "size": 10,
                          "solidity": 0.2
                        },
                        "type": "scatter"
                      }
                    ],
                    "scatter3d": [
                      {
                        "line": {
                          "colorbar": {
                            "outlinewidth": 0,
                            "ticks": ""
                          }
                        },
                        "marker": {
                          "colorbar": {
                            "outlinewidth": 0,
                            "ticks": ""
                          }
                        },
                        "type": "scatter3d"
                      }
                    ],
                    "scattercarpet": [
                      {
                        "marker": {
                          "colorbar": {
                            "outlinewidth": 0,
                            "ticks": ""
                          }
                        },
                        "type": "scattercarpet"
                      }
                    ],
                    "scattergeo": [
                      {
                        "marker": {
                          "colorbar": {
                            "outlinewidth": 0,
                            "ticks": ""
                          }
                        },
                        "type": "scattergeo"
                      }
                    ],
                    "scattergl": [
                      {
                        "marker": {
                          "colorbar": {
                            "outlinewidth": 0,
                            "ticks": ""
                          }
                        },
                        "type": "scattergl"
                      }
                    ],
                    "scattermapbox": [
                      {
                        "marker": {
                          "colorbar": {
                            "outlinewidth": 0,
                            "ticks": ""
                          }
                        },
                        "type": "scattermapbox"
                      }
                    ],
                    "scatterpolar": [
                      {
                        "marker": {
                          "colorbar": {
                            "outlinewidth": 0,
                            "ticks": ""
                          }
                        },
                        "type": "scatterpolar"
                      }
                    ],
                    "scatterpolargl": [
                      {
                        "marker": {
                          "colorbar": {
                            "outlinewidth": 0,
                            "ticks": ""
                          }
                        },
                        "type": "scatterpolargl"
                      }
                    ],
                    "scatterternary": [
                      {
                        "marker": {
                          "colorbar": {
                            "outlinewidth": 0,
                            "ticks": ""
                          }
                        },
                        "type": "scatterternary"
                      }
                    ],
                    "surface": [
                      {
                        "colorbar": {
                          "outlinewidth": 0,
                          "ticks": ""
                        },
                        "colorscale": [
                          [
                            0,
                            "#0d0887"
                          ],
                          [
                            0.1111111111111111,
                            "#46039f"
                          ],
                          [
                            0.2222222222222222,
                            "#7201a8"
                          ],
                          [
                            0.3333333333333333,
                            "#9c179e"
                          ],
                          [
                            0.4444444444444444,
                            "#bd3786"
                          ],
                          [
                            0.5555555555555556,
                            "#d8576b"
                          ],
                          [
                            0.6666666666666666,
                            "#ed7953"
                          ],
                          [
                            0.7777777777777778,
                            "#fb9f3a"
                          ],
                          [
                            0.8888888888888888,
                            "#fdca26"
                          ],
                          [
                            1,
                            "#f0f921"
                          ]
                        ],
                        "type": "surface"
                      }
                    ],
                    "table": [
                      {
                        "cells": {
                          "fill": {
                            "color": "#EBF0F8"
                          },
                          "line": {
                            "color": "white"
                          }
                        },
                        "header": {
                          "fill": {
                            "color": "#C8D4E3"
                          },
                          "line": {
                            "color": "white"
                          }
                        },
                        "type": "table"
                      }
                    ]
                  },
                  "layout": {
                    "annotationdefaults": {
                      "arrowcolor": "#2a3f5f",
                      "arrowhead": 0,
                      "arrowwidth": 1
                    },
                    "autotypenumbers": "strict",
                    "coloraxis": {
                      "colorbar": {
                        "outlinewidth": 0,
                        "ticks": ""
                      }
                    },
                    "colorscale": {
                      "diverging": [
                        [
                          0,
                          "#8e0152"
                        ],
                        [
                          0.1,
                          "#c51b7d"
                        ],
                        [
                          0.2,
                          "#de77ae"
                        ],
                        [
                          0.3,
                          "#f1b6da"
                        ],
                        [
                          0.4,
                          "#fde0ef"
                        ],
                        [
                          0.5,
                          "#f7f7f7"
                        ],
                        [
                          0.6,
                          "#e6f5d0"
                        ],
                        [
                          0.7,
                          "#b8e186"
                        ],
                        [
                          0.8,
                          "#7fbc41"
                        ],
                        [
                          0.9,
                          "#4d9221"
                        ],
                        [
                          1,
                          "#276419"
                        ]
                      ],
                      "sequential": [
                        [
                          0,
                          "#0d0887"
                        ],
                        [
                          0.1111111111111111,
                          "#46039f"
                        ],
                        [
                          0.2222222222222222,
                          "#7201a8"
                        ],
                        [
                          0.3333333333333333,
                          "#9c179e"
                        ],
                        [
                          0.4444444444444444,
                          "#bd3786"
                        ],
                        [
                          0.5555555555555556,
                          "#d8576b"
                        ],
                        [
                          0.6666666666666666,
                          "#ed7953"
                        ],
                        [
                          0.7777777777777778,
                          "#fb9f3a"
                        ],
                        [
                          0.8888888888888888,
                          "#fdca26"
                        ],
                        [
                          1,
                          "#f0f921"
                        ]
                      ],
                      "sequentialminus": [
                        [
                          0,
                          "#0d0887"
                        ],
                        [
                          0.1111111111111111,
                          "#46039f"
                        ],
                        [
                          0.2222222222222222,
                          "#7201a8"
                        ],
                        [
                          0.3333333333333333,
                          "#9c179e"
                        ],
                        [
                          0.4444444444444444,
                          "#bd3786"
                        ],
                        [
                          0.5555555555555556,
                          "#d8576b"
                        ],
                        [
                          0.6666666666666666,
                          "#ed7953"
                        ],
                        [
                          0.7777777777777778,
                          "#fb9f3a"
                        ],
                        [
                          0.8888888888888888,
                          "#fdca26"
                        ],
                        [
                          1,
                          "#f0f921"
                        ]
                      ]
                    },
                    "colorway": [
                      "#636efa",
                      "#EF553B",
                      "#00cc96",
                      "#ab63fa",
                      "#FFA15A",
                      "#19d3f3",
                      "#FF6692",
                      "#B6E880",
                      "#FF97FF",
                      "#FECB52"
                    ],
                    "font": {
                      "color": "#2a3f5f"
                    },
                    "geo": {
                      "bgcolor": "white",
                      "lakecolor": "white",
                      "landcolor": "white",
                      "showlakes": true,
                      "showland": true,
                      "subunitcolor": "#C8D4E3"
                    },
                    "hoverlabel": {
                      "align": "left"
                    },
                    "hovermode": "closest",
                    "mapbox": {
                      "style": "light"
                    },
                    "paper_bgcolor": "white",
                    "plot_bgcolor": "white",
                    "polar": {
                      "angularaxis": {
                        "gridcolor": "#EBF0F8",
                        "linecolor": "#EBF0F8",
                        "ticks": ""
                      },
                      "bgcolor": "white",
                      "radialaxis": {
                        "gridcolor": "#EBF0F8",
                        "linecolor": "#EBF0F8",
                        "ticks": ""
                      }
                    },
                    "scene": {
                      "xaxis": {
                        "backgroundcolor": "white",
                        "gridcolor": "#DFE8F3",
                        "gridwidth": 2,
                        "linecolor": "#EBF0F8",
                        "showbackground": true,
                        "ticks": "",
                        "zerolinecolor": "#EBF0F8"
                      },
                      "yaxis": {
                        "backgroundcolor": "white",
                        "gridcolor": "#DFE8F3",
                        "gridwidth": 2,
                        "linecolor": "#EBF0F8",
                        "showbackground": true,
                        "ticks": "",
                        "zerolinecolor": "#EBF0F8"
                      },
                      "zaxis": {
                        "backgroundcolor": "white",
                        "gridcolor": "#DFE8F3",
                        "gridwidth": 2,
                        "linecolor": "#EBF0F8",
                        "showbackground": true,
                        "ticks": "",
                        "zerolinecolor": "#EBF0F8"
                      }
                    },
                    "shapedefaults": {
                      "line": {
                        "color": "#2a3f5f"
                      }
                    },
                    "ternary": {
                      "aaxis": {
                        "gridcolor": "#DFE8F3",
                        "linecolor": "#A2B1C6",
                        "ticks": ""
                      },
                      "baxis": {
                        "gridcolor": "#DFE8F3",
                        "linecolor": "#A2B1C6",
                        "ticks": ""
                      },
                      "bgcolor": "white",
                      "caxis": {
                        "gridcolor": "#DFE8F3",
                        "linecolor": "#A2B1C6",
                        "ticks": ""
                      }
                    },
                    "title": {
                      "x": 0.05
                    },
                    "xaxis": {
                      "automargin": true,
                      "gridcolor": "#EBF0F8",
                      "linecolor": "#EBF0F8",
                      "ticks": "",
                      "title": {
                        "standoff": 15
                      },
                      "zerolinecolor": "#EBF0F8",
                      "zerolinewidth": 2
                    },
                    "yaxis": {
                      "automargin": true,
                      "gridcolor": "#EBF0F8",
                      "linecolor": "#EBF0F8",
                      "ticks": "",
                      "title": {
                        "standoff": 15
                      },
                      "zerolinecolor": "#EBF0F8",
                      "zerolinewidth": 2
                    }
                  }
                },
                "xaxis": {
                  "range": [
                    -100,
                    100
                  ],
                  "showgrid": false,
                  "showline": false,
                  "zeroline": false
                },
                "yaxis": {
                  "range": [
                    -42.5,
                    42.5
                  ],
                  "scaleanchor": "x",
                  "scaleratio": 1,
                  "showgrid": false,
                  "showline": false,
                  "zeroline": false
                }
              }
            }
          },
          "metadata": {},
          "output_type": "display_data"
        },
        {
          "data": {
            "application/vnd.jupyter.widget-view+json": {
              "model_id": "cfdbe42bd2d04bd2ae0477e25379bde6",
              "version_major": 2,
              "version_minor": 0
            },
            "text/plain": [
              "Dropdown(description='Type:', options=('regulars', 'playoffs'), value='regulars')"
            ]
          },
          "metadata": {},
          "output_type": "display_data"
        },
        {
          "data": {
            "application/vnd.jupyter.widget-view+json": {
              "model_id": "2866375317884416816f2ec5f8144f3c",
              "version_major": 2,
              "version_minor": 0
            },
            "text/plain": [
              "IntSlider(value=0, description='Game Index:', max=1270)"
            ]
          },
          "metadata": {},
          "output_type": "display_data"
        },
        {
          "data": {
            "application/vnd.jupyter.widget-view+json": {
              "model_id": "fc79ed9bf7344f9d9917a8ef7e8778d2",
              "version_major": 2,
              "version_minor": 0
            },
            "text/plain": [
              "IntSlider(value=0, description='Play Index:', max=365)"
            ]
          },
          "metadata": {},
          "output_type": "display_data"
        },
        {
          "data": {
            "application/vnd.jupyter.widget-view+json": {
              "model_id": "a98a97179957447d95f494f76a70b65b",
              "version_major": 2,
              "version_minor": 0
            },
            "text/plain": [
              "Output()"
            ]
          },
          "metadata": {},
          "output_type": "display_data"
        }
      ],
      "source": [
        "rink_image = Image.open(\"figures/nhl_rink.png\")\n",
        "\n",
        "pp = pprint.PrettyPrinter(indent=4)\n",
        "\n",
        "data = season_data\n",
        "\n",
        "# Dropdown to select 'regulars' or 'playoffs'\n",
        "type_dropdown = widgets.Dropdown(options=['regulars', 'playoffs'],\n",
        "                                 description='Type:')\n",
        "\n",
        "# Slider to switch between different games\n",
        "game_slider = widgets.IntSlider(value=0,\n",
        "                                min=0,\n",
        "                                max= len(data['regulars']) - 1,\n",
        "                                description='Game Index:')\n",
        "\n",
        "# Slider to switch between different plays\n",
        "play_slider = widgets.IntSlider(value=0,\n",
        "                                min=0,\n",
        "                                max=len(data[\n",
        "                                    'regulars'][0][\n",
        "                                        'liveData'][\n",
        "                                            'plays'][\n",
        "                                                'allPlays']) - 1,\n",
        "                                description='Play Index:')\n",
        "\n",
        "# Output widget to display the plot\n",
        "plot_output = widgets.Output()\n",
        "\n",
        "def update_game_slider_range(*args):\n",
        "    \"\"\"Update the game slider range based on the type selected.\"\"\"\n",
        "    test = {\"test\":\"regulars\"}\n",
        "    if type_dropdown.value == 'regulars':\n",
        "        game_slider.max = len(data['regulars']) - 1\n",
        "    else:\n",
        "        game_slider.max = len(data['playoffs']) - 1\n",
        "type_dropdown.observe(update_game_slider_range, 'value')\n",
        "\n",
        "def update_play_slider_range(*args):\n",
        "    \"\"\"Update the play slider range based on game_slider's value.\"\"\"\n",
        "    if type_dropdown.value == 'regulars':\n",
        "        coords_length = len(data[\n",
        "            'regulars'][\n",
        "                game_slider.value][\n",
        "                    'liveData'][\n",
        "                        'plays'][\n",
        "                            'allPlays']) - 1\n",
        "    else:\n",
        "        key = list(data['playoffs'].keys())[game_slider.value]\n",
        "        coords_length = len(data[\n",
        "            'playoffs'][\n",
        "                key][\n",
        "                    'liveData'][\n",
        "                        'plays'][\n",
        "                            'allPlays']) - 1\n",
        "    \n",
        "    play_slider.max = coords_length - 1\n",
        "game_slider.observe(update_play_slider_range, 'value')\n",
        "\n",
        "def plot_coordinates(change):\n",
        "    \"\"\"Plot the coordinates based on the selected options.\"\"\"\n",
        "    with plot_output:\n",
        "        plot_output.clear_output(wait=True)\n",
        "\n",
        "        if type_dropdown.value == 'regulars':\n",
        "            game = data['regulars'][game_slider.value]\n",
        "\n",
        "        else:\n",
        "            key = list(data['playoffs'].keys())[game_slider.value]\n",
        "            game = data['playoffs'][key]\n",
        "\n",
        "        play = game[\n",
        "            'liveData'][\n",
        "                'plays'][\n",
        "                    'allPlays'][\n",
        "                        play_slider.value]\n",
        "        coords = play['coordinates']\n",
        "        teams = game['liveData']['linescore']['teams']\n",
        "\n",
        "        home = teams[\"home\"][\"team\"][\"triCode\"]\n",
        "        home_score = teams[\"home\"][\"goals\"]\n",
        "        away = teams[\"away\"][\"team\"][\"triCode\"]\n",
        "        away_score = teams[\"away\"][\"goals\"]\n",
        "\n",
        "        print(f'{home} {home_score} goals vs {away} {away_score} goals')\n",
        "        pp.pprint(play)\n",
        "\n",
        "        if len(coords) == 0:\n",
        "          coords = {'x':None, 'y':None}\n",
        "\n",
        "        fig = go.Figure()\n",
        "\n",
        "        fig.add_trace(go.Scatter(x= [coords['x']], y=[coords['y']],\n",
        "                                mode='markers',\n",
        "                                marker_size=15,\n",
        "                                marker_color=\"#111111\"))\n",
        "\n",
        "        # Add images\n",
        "        fig.add_layout_image(\n",
        "                dict(\n",
        "                    source=rink_image,\n",
        "                    xref=\"x\",\n",
        "                    yref=\"y\",\n",
        "                    x=-100,\n",
        "                    y=42.5,\n",
        "                    sizex=200,\n",
        "                    sizey=85,\n",
        "                    sizing=\"stretch\",\n",
        "                    opacity=0.9,\n",
        "                    layer=\"below\")\n",
        "        )\n",
        "\n",
        "        fig.update_xaxes(\n",
        "            showline=False,\n",
        "            zeroline=False,\n",
        "            showgrid=False,\n",
        "            range=[-100, 100])\n",
        "        fig.update_yaxes(\n",
        "            showline=False,\n",
        "            zeroline=False,\n",
        "            showgrid=False,\n",
        "            range=[-42.5, 42.5],\n",
        "            scaleanchor = \"x\",\n",
        "            scaleratio = 1,\n",
        "          )\n",
        "\n",
        "        fig.update_layout(\n",
        "            autosize=False,\n",
        "            template=\"plotly_white\")\n",
        "\n",
        "        fig.show()\n",
        "\n",
        "# Watch for changes\n",
        "type_dropdown.observe(plot_coordinates, 'value')\n",
        "game_slider.observe(plot_coordinates, 'value')\n",
        "play_slider.observe(plot_coordinates, 'value')\n",
        "\n",
        "# Initial plot\n",
        "plot_coordinates(None)\n",
        "\n",
        "# Display widgets\n",
        "display(type_dropdown, game_slider, play_slider, plot_output)"
      ]
    },
    {
      "cell_type": "markdown",
      "metadata": {
        "id": "TxgGUnpDIK7T"
      },
      "source": [
        "# To DataFrames"
      ]
    },
    {
      "cell_type": "code",
      "execution_count": 38,
      "metadata": {},
      "outputs": [
        {
          "ename": "ConnectionError",
          "evalue": "HTTPSConnectionPool(host='statsapi.web.nhl.com', port=443): Max retries exceeded with url: /api/v1/teams?season=20202021 (Caused by NameResolutionError(\"<urllib3.connection.HTTPSConnection object at 0x7f77bbec1c90>: Failed to resolve 'statsapi.web.nhl.com' ([Errno -2] Name or service not known)\"))",
          "output_type": "error",
          "traceback": [
            "\u001b[0;31m---------------------------------------------------------------------------\u001b[0m",
            "\u001b[0;31mgaierror\u001b[0m                                  Traceback (most recent call last)",
            "File \u001b[0;32m~/ift6758-venv/project/Milestone2/NHL/env/lib/python3.11/site-packages/urllib3/connection.py:203\u001b[0m, in \u001b[0;36mHTTPConnection._new_conn\u001b[0;34m(self)\u001b[0m\n\u001b[1;32m    202\u001b[0m \u001b[39mtry\u001b[39;00m:\n\u001b[0;32m--> 203\u001b[0m     sock \u001b[39m=\u001b[39m connection\u001b[39m.\u001b[39;49mcreate_connection(\n\u001b[1;32m    204\u001b[0m         (\u001b[39mself\u001b[39;49m\u001b[39m.\u001b[39;49m_dns_host, \u001b[39mself\u001b[39;49m\u001b[39m.\u001b[39;49mport),\n\u001b[1;32m    205\u001b[0m         \u001b[39mself\u001b[39;49m\u001b[39m.\u001b[39;49mtimeout,\n\u001b[1;32m    206\u001b[0m         source_address\u001b[39m=\u001b[39;49m\u001b[39mself\u001b[39;49m\u001b[39m.\u001b[39;49msource_address,\n\u001b[1;32m    207\u001b[0m         socket_options\u001b[39m=\u001b[39;49m\u001b[39mself\u001b[39;49m\u001b[39m.\u001b[39;49msocket_options,\n\u001b[1;32m    208\u001b[0m     )\n\u001b[1;32m    209\u001b[0m \u001b[39mexcept\u001b[39;00m socket\u001b[39m.\u001b[39mgaierror \u001b[39mas\u001b[39;00m e:\n",
            "File \u001b[0;32m~/ift6758-venv/project/Milestone2/NHL/env/lib/python3.11/site-packages/urllib3/util/connection.py:60\u001b[0m, in \u001b[0;36mcreate_connection\u001b[0;34m(address, timeout, source_address, socket_options)\u001b[0m\n\u001b[1;32m     58\u001b[0m     \u001b[39mraise\u001b[39;00m LocationParseError(\u001b[39mf\u001b[39m\u001b[39m\"\u001b[39m\u001b[39m'\u001b[39m\u001b[39m{\u001b[39;00mhost\u001b[39m}\u001b[39;00m\u001b[39m'\u001b[39m\u001b[39m, label empty or too long\u001b[39m\u001b[39m\"\u001b[39m) \u001b[39mfrom\u001b[39;00m \u001b[39mNone\u001b[39;00m\n\u001b[0;32m---> 60\u001b[0m \u001b[39mfor\u001b[39;00m res \u001b[39min\u001b[39;00m socket\u001b[39m.\u001b[39;49mgetaddrinfo(host, port, family, socket\u001b[39m.\u001b[39;49mSOCK_STREAM):\n\u001b[1;32m     61\u001b[0m     af, socktype, proto, canonname, sa \u001b[39m=\u001b[39m res\n",
            "File \u001b[0;32m/usr/lib/python3.11/socket.py:962\u001b[0m, in \u001b[0;36mgetaddrinfo\u001b[0;34m(host, port, family, type, proto, flags)\u001b[0m\n\u001b[1;32m    961\u001b[0m addrlist \u001b[39m=\u001b[39m []\n\u001b[0;32m--> 962\u001b[0m \u001b[39mfor\u001b[39;00m res \u001b[39min\u001b[39;00m _socket\u001b[39m.\u001b[39;49mgetaddrinfo(host, port, family, \u001b[39mtype\u001b[39;49m, proto, flags):\n\u001b[1;32m    963\u001b[0m     af, socktype, proto, canonname, sa \u001b[39m=\u001b[39m res\n",
            "\u001b[0;31mgaierror\u001b[0m: [Errno -2] Name or service not known",
            "\nThe above exception was the direct cause of the following exception:\n",
            "\u001b[0;31mNameResolutionError\u001b[0m                       Traceback (most recent call last)",
            "File \u001b[0;32m~/ift6758-venv/project/Milestone2/NHL/env/lib/python3.11/site-packages/urllib3/connectionpool.py:791\u001b[0m, in \u001b[0;36mHTTPConnectionPool.urlopen\u001b[0;34m(self, method, url, body, headers, retries, redirect, assert_same_host, timeout, pool_timeout, release_conn, chunked, body_pos, preload_content, decode_content, **response_kw)\u001b[0m\n\u001b[1;32m    790\u001b[0m \u001b[39m# Make the request on the HTTPConnection object\u001b[39;00m\n\u001b[0;32m--> 791\u001b[0m response \u001b[39m=\u001b[39m \u001b[39mself\u001b[39;49m\u001b[39m.\u001b[39;49m_make_request(\n\u001b[1;32m    792\u001b[0m     conn,\n\u001b[1;32m    793\u001b[0m     method,\n\u001b[1;32m    794\u001b[0m     url,\n\u001b[1;32m    795\u001b[0m     timeout\u001b[39m=\u001b[39;49mtimeout_obj,\n\u001b[1;32m    796\u001b[0m     body\u001b[39m=\u001b[39;49mbody,\n\u001b[1;32m    797\u001b[0m     headers\u001b[39m=\u001b[39;49mheaders,\n\u001b[1;32m    798\u001b[0m     chunked\u001b[39m=\u001b[39;49mchunked,\n\u001b[1;32m    799\u001b[0m     retries\u001b[39m=\u001b[39;49mretries,\n\u001b[1;32m    800\u001b[0m     response_conn\u001b[39m=\u001b[39;49mresponse_conn,\n\u001b[1;32m    801\u001b[0m     preload_content\u001b[39m=\u001b[39;49mpreload_content,\n\u001b[1;32m    802\u001b[0m     decode_content\u001b[39m=\u001b[39;49mdecode_content,\n\u001b[1;32m    803\u001b[0m     \u001b[39m*\u001b[39;49m\u001b[39m*\u001b[39;49mresponse_kw,\n\u001b[1;32m    804\u001b[0m )\n\u001b[1;32m    806\u001b[0m \u001b[39m# Everything went great!\u001b[39;00m\n",
            "File \u001b[0;32m~/ift6758-venv/project/Milestone2/NHL/env/lib/python3.11/site-packages/urllib3/connectionpool.py:492\u001b[0m, in \u001b[0;36mHTTPConnectionPool._make_request\u001b[0;34m(self, conn, method, url, body, headers, retries, timeout, chunked, response_conn, preload_content, decode_content, enforce_content_length)\u001b[0m\n\u001b[1;32m    491\u001b[0m         new_e \u001b[39m=\u001b[39m _wrap_proxy_error(new_e, conn\u001b[39m.\u001b[39mproxy\u001b[39m.\u001b[39mscheme)\n\u001b[0;32m--> 492\u001b[0m     \u001b[39mraise\u001b[39;00m new_e\n\u001b[1;32m    494\u001b[0m \u001b[39m# conn.request() calls http.client.*.request, not the method in\u001b[39;00m\n\u001b[1;32m    495\u001b[0m \u001b[39m# urllib3.request. It also calls makefile (recv) on the socket.\u001b[39;00m\n",
            "File \u001b[0;32m~/ift6758-venv/project/Milestone2/NHL/env/lib/python3.11/site-packages/urllib3/connectionpool.py:468\u001b[0m, in \u001b[0;36mHTTPConnectionPool._make_request\u001b[0;34m(self, conn, method, url, body, headers, retries, timeout, chunked, response_conn, preload_content, decode_content, enforce_content_length)\u001b[0m\n\u001b[1;32m    467\u001b[0m \u001b[39mtry\u001b[39;00m:\n\u001b[0;32m--> 468\u001b[0m     \u001b[39mself\u001b[39;49m\u001b[39m.\u001b[39;49m_validate_conn(conn)\n\u001b[1;32m    469\u001b[0m \u001b[39mexcept\u001b[39;00m (SocketTimeout, BaseSSLError) \u001b[39mas\u001b[39;00m e:\n",
            "File \u001b[0;32m~/ift6758-venv/project/Milestone2/NHL/env/lib/python3.11/site-packages/urllib3/connectionpool.py:1097\u001b[0m, in \u001b[0;36mHTTPSConnectionPool._validate_conn\u001b[0;34m(self, conn)\u001b[0m\n\u001b[1;32m   1096\u001b[0m \u001b[39mif\u001b[39;00m conn\u001b[39m.\u001b[39mis_closed:\n\u001b[0;32m-> 1097\u001b[0m     conn\u001b[39m.\u001b[39;49mconnect()\n\u001b[1;32m   1099\u001b[0m \u001b[39mif\u001b[39;00m \u001b[39mnot\u001b[39;00m conn\u001b[39m.\u001b[39mis_verified:\n",
            "File \u001b[0;32m~/ift6758-venv/project/Milestone2/NHL/env/lib/python3.11/site-packages/urllib3/connection.py:611\u001b[0m, in \u001b[0;36mHTTPSConnection.connect\u001b[0;34m(self)\u001b[0m\n\u001b[1;32m    610\u001b[0m sock: socket\u001b[39m.\u001b[39msocket \u001b[39m|\u001b[39m ssl\u001b[39m.\u001b[39mSSLSocket\n\u001b[0;32m--> 611\u001b[0m \u001b[39mself\u001b[39m\u001b[39m.\u001b[39msock \u001b[39m=\u001b[39m sock \u001b[39m=\u001b[39m \u001b[39mself\u001b[39;49m\u001b[39m.\u001b[39;49m_new_conn()\n\u001b[1;32m    612\u001b[0m server_hostname: \u001b[39mstr\u001b[39m \u001b[39m=\u001b[39m \u001b[39mself\u001b[39m\u001b[39m.\u001b[39mhost\n",
            "File \u001b[0;32m~/ift6758-venv/project/Milestone2/NHL/env/lib/python3.11/site-packages/urllib3/connection.py:210\u001b[0m, in \u001b[0;36mHTTPConnection._new_conn\u001b[0;34m(self)\u001b[0m\n\u001b[1;32m    209\u001b[0m \u001b[39mexcept\u001b[39;00m socket\u001b[39m.\u001b[39mgaierror \u001b[39mas\u001b[39;00m e:\n\u001b[0;32m--> 210\u001b[0m     \u001b[39mraise\u001b[39;00m NameResolutionError(\u001b[39mself\u001b[39m\u001b[39m.\u001b[39mhost, \u001b[39mself\u001b[39m, e) \u001b[39mfrom\u001b[39;00m \u001b[39me\u001b[39;00m\n\u001b[1;32m    211\u001b[0m \u001b[39mexcept\u001b[39;00m SocketTimeout \u001b[39mas\u001b[39;00m e:\n",
            "\u001b[0;31mNameResolutionError\u001b[0m: <urllib3.connection.HTTPSConnection object at 0x7f77bbec1c90>: Failed to resolve 'statsapi.web.nhl.com' ([Errno -2] Name or service not known)",
            "\nThe above exception was the direct cause of the following exception:\n",
            "\u001b[0;31mMaxRetryError\u001b[0m                             Traceback (most recent call last)",
            "File \u001b[0;32m~/ift6758-venv/project/Milestone2/NHL/env/lib/python3.11/site-packages/requests/adapters.py:486\u001b[0m, in \u001b[0;36mHTTPAdapter.send\u001b[0;34m(self, request, stream, timeout, verify, cert, proxies)\u001b[0m\n\u001b[1;32m    485\u001b[0m \u001b[39mtry\u001b[39;00m:\n\u001b[0;32m--> 486\u001b[0m     resp \u001b[39m=\u001b[39m conn\u001b[39m.\u001b[39;49murlopen(\n\u001b[1;32m    487\u001b[0m         method\u001b[39m=\u001b[39;49mrequest\u001b[39m.\u001b[39;49mmethod,\n\u001b[1;32m    488\u001b[0m         url\u001b[39m=\u001b[39;49murl,\n\u001b[1;32m    489\u001b[0m         body\u001b[39m=\u001b[39;49mrequest\u001b[39m.\u001b[39;49mbody,\n\u001b[1;32m    490\u001b[0m         headers\u001b[39m=\u001b[39;49mrequest\u001b[39m.\u001b[39;49mheaders,\n\u001b[1;32m    491\u001b[0m         redirect\u001b[39m=\u001b[39;49m\u001b[39mFalse\u001b[39;49;00m,\n\u001b[1;32m    492\u001b[0m         assert_same_host\u001b[39m=\u001b[39;49m\u001b[39mFalse\u001b[39;49;00m,\n\u001b[1;32m    493\u001b[0m         preload_content\u001b[39m=\u001b[39;49m\u001b[39mFalse\u001b[39;49;00m,\n\u001b[1;32m    494\u001b[0m         decode_content\u001b[39m=\u001b[39;49m\u001b[39mFalse\u001b[39;49;00m,\n\u001b[1;32m    495\u001b[0m         retries\u001b[39m=\u001b[39;49m\u001b[39mself\u001b[39;49m\u001b[39m.\u001b[39;49mmax_retries,\n\u001b[1;32m    496\u001b[0m         timeout\u001b[39m=\u001b[39;49mtimeout,\n\u001b[1;32m    497\u001b[0m         chunked\u001b[39m=\u001b[39;49mchunked,\n\u001b[1;32m    498\u001b[0m     )\n\u001b[1;32m    500\u001b[0m \u001b[39mexcept\u001b[39;00m (ProtocolError, \u001b[39mOSError\u001b[39;00m) \u001b[39mas\u001b[39;00m err:\n",
            "File \u001b[0;32m~/ift6758-venv/project/Milestone2/NHL/env/lib/python3.11/site-packages/urllib3/connectionpool.py:845\u001b[0m, in \u001b[0;36mHTTPConnectionPool.urlopen\u001b[0;34m(self, method, url, body, headers, retries, redirect, assert_same_host, timeout, pool_timeout, release_conn, chunked, body_pos, preload_content, decode_content, **response_kw)\u001b[0m\n\u001b[1;32m    843\u001b[0m     new_e \u001b[39m=\u001b[39m ProtocolError(\u001b[39m\"\u001b[39m\u001b[39mConnection aborted.\u001b[39m\u001b[39m\"\u001b[39m, new_e)\n\u001b[0;32m--> 845\u001b[0m retries \u001b[39m=\u001b[39m retries\u001b[39m.\u001b[39;49mincrement(\n\u001b[1;32m    846\u001b[0m     method, url, error\u001b[39m=\u001b[39;49mnew_e, _pool\u001b[39m=\u001b[39;49m\u001b[39mself\u001b[39;49m, _stacktrace\u001b[39m=\u001b[39;49msys\u001b[39m.\u001b[39;49mexc_info()[\u001b[39m2\u001b[39;49m]\n\u001b[1;32m    847\u001b[0m )\n\u001b[1;32m    848\u001b[0m retries\u001b[39m.\u001b[39msleep()\n",
            "File \u001b[0;32m~/ift6758-venv/project/Milestone2/NHL/env/lib/python3.11/site-packages/urllib3/util/retry.py:515\u001b[0m, in \u001b[0;36mRetry.increment\u001b[0;34m(self, method, url, response, error, _pool, _stacktrace)\u001b[0m\n\u001b[1;32m    514\u001b[0m     reason \u001b[39m=\u001b[39m error \u001b[39mor\u001b[39;00m ResponseError(cause)\n\u001b[0;32m--> 515\u001b[0m     \u001b[39mraise\u001b[39;00m MaxRetryError(_pool, url, reason) \u001b[39mfrom\u001b[39;00m \u001b[39mreason\u001b[39;00m  \u001b[39m# type: ignore[arg-type]\u001b[39;00m\n\u001b[1;32m    517\u001b[0m log\u001b[39m.\u001b[39mdebug(\u001b[39m\"\u001b[39m\u001b[39mIncremented Retry for (url=\u001b[39m\u001b[39m'\u001b[39m\u001b[39m%s\u001b[39;00m\u001b[39m'\u001b[39m\u001b[39m): \u001b[39m\u001b[39m%r\u001b[39;00m\u001b[39m\"\u001b[39m, url, new_retry)\n",
            "\u001b[0;31mMaxRetryError\u001b[0m: HTTPSConnectionPool(host='statsapi.web.nhl.com', port=443): Max retries exceeded with url: /api/v1/teams?season=20202021 (Caused by NameResolutionError(\"<urllib3.connection.HTTPSConnection object at 0x7f77bbec1c90>: Failed to resolve 'statsapi.web.nhl.com' ([Errno -2] Name or service not known)\"))",
            "\nDuring handling of the above exception, another exception occurred:\n",
            "\u001b[0;31mConnectionError\u001b[0m                           Traceback (most recent call last)",
            "\u001b[1;32m/home/shabgard/ift6758-venv/project/Milestone2/NHL/NHL/notebooks/M1.ipynb Cell 13\u001b[0m line \u001b[0;36m3\n\u001b[1;32m      <a href='vscode-notebook-cell:/home/shabgard/ift6758-venv/project/Milestone2/NHL/NHL/notebooks/M1.ipynb#X15sZmlsZQ%3D%3D?line=0'>1</a>\u001b[0m season_year \u001b[39m=\u001b[39m \u001b[39m2020\u001b[39m\n\u001b[1;32m      <a href='vscode-notebook-cell:/home/shabgard/ift6758-venv/project/Milestone2/NHL/NHL/notebooks/M1.ipynb#X15sZmlsZQ%3D%3D?line=1'>2</a>\u001b[0m nhl_downloader\u001b[39m.\u001b[39mset_season(season_year)\n\u001b[0;32m----> <a href='vscode-notebook-cell:/home/shabgard/ift6758-venv/project/Milestone2/NHL/NHL/notebooks/M1.ipynb#X15sZmlsZQ%3D%3D?line=2'>3</a>\u001b[0m df \u001b[39m=\u001b[39m nhl_downloader\u001b[39m.\u001b[39;49mload_df_shots()\n\u001b[1;32m      <a href='vscode-notebook-cell:/home/shabgard/ift6758-venv/project/Milestone2/NHL/NHL/notebooks/M1.ipynb#X15sZmlsZQ%3D%3D?line=3'>4</a>\u001b[0m df\n",
            "File \u001b[0;32m~/ift6758-venv/project/Milestone2/NHL/NHL/src/data/load.py:161\u001b[0m, in \u001b[0;36mNHLDataDownloader.load_df_shots\u001b[0;34m(self, filename, season)\u001b[0m\n\u001b[1;32m    159\u001b[0m   \u001b[39mif\u001b[39;00m os\u001b[39m.\u001b[39mpath\u001b[39m.\u001b[39misfile(filename):\n\u001b[1;32m    160\u001b[0m     \u001b[39mreturn\u001b[39;00m pd\u001b[39m.\u001b[39mread_pickle(filename)\n\u001b[0;32m--> 161\u001b[0m   season \u001b[39m=\u001b[39m \u001b[39mself\u001b[39;49m\u001b[39m.\u001b[39;49mload_processed_data()\n\u001b[1;32m    163\u001b[0m columns \u001b[39m=\u001b[39m [\u001b[39m'\u001b[39m\u001b[39mGame_id\u001b[39m\u001b[39m'\u001b[39m,\n\u001b[1;32m    164\u001b[0m         \u001b[39m'\u001b[39m\u001b[39mPeriod\u001b[39m\u001b[39m'\u001b[39m,\n\u001b[1;32m    165\u001b[0m         \u001b[39m'\u001b[39m\u001b[39mTime\u001b[39m\u001b[39m'\u001b[39m,\n\u001b[0;32m   (...)\u001b[0m\n\u001b[1;32m    173\u001b[0m         \u001b[39m'\u001b[39m\u001b[39mEmpty_net\u001b[39m\u001b[39m'\u001b[39m,\n\u001b[1;32m    174\u001b[0m         \u001b[39m'\u001b[39m\u001b[39mStrength\u001b[39m\u001b[39m'\u001b[39m]\n\u001b[1;32m    176\u001b[0m data \u001b[39m=\u001b[39m []\n",
            "File \u001b[0;32m~/ift6758-venv/project/Milestone2/NHL/NHL/src/data/load.py:136\u001b[0m, in \u001b[0;36mNHLDataDownloader.load_processed_data\u001b[0;34m(self, filename, samples)\u001b[0m\n\u001b[1;32m    125\u001b[0m \u001b[39mdef\u001b[39;00m \u001b[39mload_processed_data\u001b[39m(\u001b[39mself\u001b[39m, filename: \u001b[39mstr\u001b[39m \u001b[39m=\u001b[39m \u001b[39m\"\u001b[39m\u001b[39m\"\u001b[39m, samples: \u001b[39mbool\u001b[39m \u001b[39m=\u001b[39m \u001b[39mFalse\u001b[39;00m) \u001b[39m-\u001b[39m\u001b[39m>\u001b[39m Season :\n\u001b[1;32m    126\u001b[0m \u001b[39m  \u001b[39m\u001b[39m\"\"\"\u001b[39;00m\n\u001b[1;32m    127\u001b[0m \u001b[39m  Load season data and parse the data into the Season model.\u001b[39;00m\n\u001b[1;32m    128\u001b[0m \n\u001b[0;32m   (...)\u001b[0m\n\u001b[1;32m    134\u001b[0m \u001b[39m      samples (bool): if true, only a small portion of the data is downloaded, default false.\u001b[39;00m\n\u001b[1;32m    135\u001b[0m \u001b[39m  \"\"\"\u001b[39;00m\n\u001b[0;32m--> 136\u001b[0m   data \u001b[39m=\u001b[39m \u001b[39mself\u001b[39;49m\u001b[39m.\u001b[39;49mload_data(filename, samples)\n\u001b[1;32m    137\u001b[0m   \u001b[39mprint\u001b[39m(\u001b[39m'\u001b[39m\u001b[39mProcessing data... (1-2 minutes)\u001b[39m\u001b[39m'\u001b[39m)\n\u001b[1;32m    138\u001b[0m   season \u001b[39m=\u001b[39m Season\u001b[39m.\u001b[39mmodel_validate(data)\n",
            "File \u001b[0;32m~/ift6758-venv/project/Milestone2/NHL/NHL/src/data/load.py:89\u001b[0m, in \u001b[0;36mNHLDataDownloader.load_data\u001b[0;34m(self, filename, samples)\u001b[0m\n\u001b[1;32m     85\u001b[0m \u001b[39melse\u001b[39;00m:\n\u001b[1;32m     87\u001b[0m   data \u001b[39m=\u001b[39m {}\n\u001b[0;32m---> 89\u001b[0m   nb_regular_games \u001b[39m=\u001b[39m RequestNHL\u001b[39m.\u001b[39;49mnb_regular_games(\u001b[39mself\u001b[39;49m\u001b[39m.\u001b[39;49mseason_year)\n\u001b[1;32m     90\u001b[0m   nb_playoffs \u001b[39m=\u001b[39m \u001b[39m105\u001b[39m\n\u001b[1;32m     91\u001b[0m   \u001b[39mif\u001b[39;00m samples:\n",
            "File \u001b[0;32m~/ift6758-venv/project/Milestone2/NHL/NHL/src/data/request.py:39\u001b[0m, in \u001b[0;36mRequestNHL.nb_regular_games\u001b[0;34m(self, season)\u001b[0m\n\u001b[1;32m     37\u001b[0m \u001b[39m# season_fullname = season + str(int(season)+1)\u001b[39;00m\n\u001b[1;32m     38\u001b[0m season_fullname \u001b[39m=\u001b[39m utils\u001b[39m.\u001b[39mseason_full_name(season)\n\u001b[0;32m---> 39\u001b[0m teams \u001b[39m=\u001b[39m requests\u001b[39m.\u001b[39;49mget(\u001b[39mself\u001b[39;49m\u001b[39m.\u001b[39;49mteams_url, params\u001b[39m=\u001b[39;49m{\u001b[39m\"\u001b[39;49m\u001b[39mseason\u001b[39;49m\u001b[39m\"\u001b[39;49m: season_fullname})\n\u001b[1;32m     40\u001b[0m teams \u001b[39m=\u001b[39m teams\u001b[39m.\u001b[39mjson()\n\u001b[1;32m     41\u001b[0m \u001b[39mreturn\u001b[39;00m \u001b[39mself\u001b[39m\u001b[39m.\u001b[39mnb_games[\u001b[39mlen\u001b[39m(teams[\u001b[39m\"\u001b[39m\u001b[39mteams\u001b[39m\u001b[39m\"\u001b[39m])]\n",
            "File \u001b[0;32m~/ift6758-venv/project/Milestone2/NHL/env/lib/python3.11/site-packages/requests/api.py:73\u001b[0m, in \u001b[0;36mget\u001b[0;34m(url, params, **kwargs)\u001b[0m\n\u001b[1;32m     62\u001b[0m \u001b[39mdef\u001b[39;00m \u001b[39mget\u001b[39m(url, params\u001b[39m=\u001b[39m\u001b[39mNone\u001b[39;00m, \u001b[39m*\u001b[39m\u001b[39m*\u001b[39mkwargs):\n\u001b[1;32m     63\u001b[0m \u001b[39m    \u001b[39m\u001b[39mr\u001b[39m\u001b[39m\"\"\"Sends a GET request.\u001b[39;00m\n\u001b[1;32m     64\u001b[0m \n\u001b[1;32m     65\u001b[0m \u001b[39m    :param url: URL for the new :class:`Request` object.\u001b[39;00m\n\u001b[0;32m   (...)\u001b[0m\n\u001b[1;32m     70\u001b[0m \u001b[39m    :rtype: requests.Response\u001b[39;00m\n\u001b[1;32m     71\u001b[0m \u001b[39m    \"\"\"\u001b[39;00m\n\u001b[0;32m---> 73\u001b[0m     \u001b[39mreturn\u001b[39;00m request(\u001b[39m\"\u001b[39;49m\u001b[39mget\u001b[39;49m\u001b[39m\"\u001b[39;49m, url, params\u001b[39m=\u001b[39;49mparams, \u001b[39m*\u001b[39;49m\u001b[39m*\u001b[39;49mkwargs)\n",
            "File \u001b[0;32m~/ift6758-venv/project/Milestone2/NHL/env/lib/python3.11/site-packages/requests/api.py:59\u001b[0m, in \u001b[0;36mrequest\u001b[0;34m(method, url, **kwargs)\u001b[0m\n\u001b[1;32m     55\u001b[0m \u001b[39m# By using the 'with' statement we are sure the session is closed, thus we\u001b[39;00m\n\u001b[1;32m     56\u001b[0m \u001b[39m# avoid leaving sockets open which can trigger a ResourceWarning in some\u001b[39;00m\n\u001b[1;32m     57\u001b[0m \u001b[39m# cases, and look like a memory leak in others.\u001b[39;00m\n\u001b[1;32m     58\u001b[0m \u001b[39mwith\u001b[39;00m sessions\u001b[39m.\u001b[39mSession() \u001b[39mas\u001b[39;00m session:\n\u001b[0;32m---> 59\u001b[0m     \u001b[39mreturn\u001b[39;00m session\u001b[39m.\u001b[39;49mrequest(method\u001b[39m=\u001b[39;49mmethod, url\u001b[39m=\u001b[39;49murl, \u001b[39m*\u001b[39;49m\u001b[39m*\u001b[39;49mkwargs)\n",
            "File \u001b[0;32m~/ift6758-venv/project/Milestone2/NHL/env/lib/python3.11/site-packages/requests/sessions.py:589\u001b[0m, in \u001b[0;36mSession.request\u001b[0;34m(self, method, url, params, data, headers, cookies, files, auth, timeout, allow_redirects, proxies, hooks, stream, verify, cert, json)\u001b[0m\n\u001b[1;32m    584\u001b[0m send_kwargs \u001b[39m=\u001b[39m {\n\u001b[1;32m    585\u001b[0m     \u001b[39m\"\u001b[39m\u001b[39mtimeout\u001b[39m\u001b[39m\"\u001b[39m: timeout,\n\u001b[1;32m    586\u001b[0m     \u001b[39m\"\u001b[39m\u001b[39mallow_redirects\u001b[39m\u001b[39m\"\u001b[39m: allow_redirects,\n\u001b[1;32m    587\u001b[0m }\n\u001b[1;32m    588\u001b[0m send_kwargs\u001b[39m.\u001b[39mupdate(settings)\n\u001b[0;32m--> 589\u001b[0m resp \u001b[39m=\u001b[39m \u001b[39mself\u001b[39;49m\u001b[39m.\u001b[39;49msend(prep, \u001b[39m*\u001b[39;49m\u001b[39m*\u001b[39;49msend_kwargs)\n\u001b[1;32m    591\u001b[0m \u001b[39mreturn\u001b[39;00m resp\n",
            "File \u001b[0;32m~/ift6758-venv/project/Milestone2/NHL/env/lib/python3.11/site-packages/requests/sessions.py:703\u001b[0m, in \u001b[0;36mSession.send\u001b[0;34m(self, request, **kwargs)\u001b[0m\n\u001b[1;32m    700\u001b[0m start \u001b[39m=\u001b[39m preferred_clock()\n\u001b[1;32m    702\u001b[0m \u001b[39m# Send the request\u001b[39;00m\n\u001b[0;32m--> 703\u001b[0m r \u001b[39m=\u001b[39m adapter\u001b[39m.\u001b[39;49msend(request, \u001b[39m*\u001b[39;49m\u001b[39m*\u001b[39;49mkwargs)\n\u001b[1;32m    705\u001b[0m \u001b[39m# Total elapsed time of the request (approximately)\u001b[39;00m\n\u001b[1;32m    706\u001b[0m elapsed \u001b[39m=\u001b[39m preferred_clock() \u001b[39m-\u001b[39m start\n",
            "File \u001b[0;32m~/ift6758-venv/project/Milestone2/NHL/env/lib/python3.11/site-packages/requests/adapters.py:519\u001b[0m, in \u001b[0;36mHTTPAdapter.send\u001b[0;34m(self, request, stream, timeout, verify, cert, proxies)\u001b[0m\n\u001b[1;32m    515\u001b[0m     \u001b[39mif\u001b[39;00m \u001b[39misinstance\u001b[39m(e\u001b[39m.\u001b[39mreason, _SSLError):\n\u001b[1;32m    516\u001b[0m         \u001b[39m# This branch is for urllib3 v1.22 and later.\u001b[39;00m\n\u001b[1;32m    517\u001b[0m         \u001b[39mraise\u001b[39;00m SSLError(e, request\u001b[39m=\u001b[39mrequest)\n\u001b[0;32m--> 519\u001b[0m     \u001b[39mraise\u001b[39;00m \u001b[39mConnectionError\u001b[39;00m(e, request\u001b[39m=\u001b[39mrequest)\n\u001b[1;32m    521\u001b[0m \u001b[39mexcept\u001b[39;00m ClosedPoolError \u001b[39mas\u001b[39;00m e:\n\u001b[1;32m    522\u001b[0m     \u001b[39mraise\u001b[39;00m \u001b[39mConnectionError\u001b[39;00m(e, request\u001b[39m=\u001b[39mrequest)\n",
            "\u001b[0;31mConnectionError\u001b[0m: HTTPSConnectionPool(host='statsapi.web.nhl.com', port=443): Max retries exceeded with url: /api/v1/teams?season=20202021 (Caused by NameResolutionError(\"<urllib3.connection.HTTPSConnection object at 0x7f77bbec1c90>: Failed to resolve 'statsapi.web.nhl.com' ([Errno -2] Name or service not known)\"))"
          ]
        }
      ],
      "source": [
        "season_year = 2018\n",
        "nhl_downloader.set_season(season_year)\n",
        "df = nhl_downloader.load_df_shots()\n",
        "df"
      ]
    },
    {
      "cell_type": "markdown",
      "metadata": {
        "id": "EBhpl93lO5bh"
      },
      "source": [
        "# Visualisations simples"
      ]
    },
    {
      "cell_type": "markdown",
      "metadata": {
        "id": "xo9UIZjrNfHj"
      },
      "source": [
        "## Number of shots, by type"
      ]
    },
    {
      "cell_type": "code",
      "execution_count": null,
      "metadata": {
        "colab": {
          "base_uri": "https://localhost:8080/",
          "height": 542
        },
        "id": "GJI6tbcn19uE",
        "outputId": "8b0b7da6-8da9-436b-f156-2093523c1946"
      },
      "outputs": [],
      "source": [
        "ddf = df[df['Type'] != '']\n",
        "df_g = ddf.groupby(['Type', 'Goal']).size().to_frame('Counts').reset_index()\n",
        "df_g['Percentage'] = df_g['Counts'] / df_g.groupby('Type')['Counts'].transform('sum') * 100\n",
        "\n",
        "px.bar(df_g,\n",
        "       x='Type',\n",
        "       y='Counts',\n",
        "       color='Goal',\n",
        "       title=f'Number of shots, by type, Saison {season_year}',\n",
        "       log_y=True,\n",
        "       text=df_g['Percentage'].apply(lambda x: '{0:1.2f}%'.format(x)),\n",
        "       height=550\n",
        "       ).update_xaxes(categoryorder='total descending')"
      ]
    },
    {
      "cell_type": "markdown",
      "metadata": {
        "id": "2VMAjmd4NldB"
      },
      "source": [
        "## Distance to net"
      ]
    },
    {
      "cell_type": "code",
      "execution_count": null,
      "metadata": {
        "id": "TB61ypJMpOqZ"
      },
      "outputs": [],
      "source": [
        "bins = pd.IntervalIndex.from_tuples([(0, 5), (5, 10), (10, 20), (20, 30), (30, 40), (40, 50), (50, 60), (60, 75), (75, 90), (90, 120), (120, 150), (150, 190)])\n",
        "\n",
        "df_g = df.groupby(['Goal','Net_distance']).size().to_frame('Counts').reset_index()\n",
        "df_g['Bins'] = pd.cut(df_g['Net_distance'], bins, precision=0)\n",
        "df_g = df_g.groupby(['Goal','Bins'], observed=True)['Counts'].sum().to_frame('Counts').reset_index()\n",
        "df_g['Percentage'] = df_g['Counts'] / df_g.groupby('Bins', observed=True)['Counts'].transform('sum') * 100\n",
        "df_g['Bins'] = df_g['Bins'].astype('str')\n",
        "\n",
        "fig = px.bar(df_g,\n",
        "       x='Bins',\n",
        "       y='Counts',\n",
        "       color='Goal',\n",
        "       title=f'Number of shots, by distance, Saison {season_year}',\n",
        "       log_y=True,\n",
        "       text=df_g['Percentage'].apply(lambda x: '{0:1.2f}%'.format(x)),\n",
        "       height=550,\n",
        "       labels=dict(Bins='Distance (ft)', Counts=\"Counts\"))\n",
        "\n",
        "fig.show()\n",
        "fig.write_html(f'figures/shot-distance-{season_year}.html')"
      ]
    },
    {
      "cell_type": "markdown",
      "metadata": {},
      "source": [
        "## Percentage of Goals by type and distance"
      ]
    },
    {
      "cell_type": "code",
      "execution_count": null,
      "metadata": {},
      "outputs": [],
      "source": [
        "df_td = df.copy()\n",
        "df_td = df_td[(df_td['Type'] != '') & (~df_td['Net_distance'].isna())]\n",
        "df_td['Distance'] = pd.qcut(df_td['Net_distance'], 12, precision=0)\n",
        "\n",
        "grouped = df_td.groupby(['Type', 'Distance']).agg(Total_Shots=('Goal', 'size'), Goals=('Goal', 'sum')).reset_index()\n",
        "grouped['Percentage'] = grouped['Goals'] / grouped['Total_Shots'] * 100\n",
        "\n",
        "q3 = grouped.Percentage.quantile(0.75)\n",
        "iqr = q3 - grouped.Percentage.quantile(0.25)\n",
        "upper_fence = q3 + 1.5 * iqr\n",
        "# Emperical value\n",
        "upper_fence = 33\n",
        "grouped = grouped[grouped['Percentage'] < upper_fence]\n",
        "\n",
        "grouped = grouped.pivot(index='Type', columns='Distance')['Percentage']\n",
        "grouped.columns = grouped.columns.astype('str')\n",
        "grouped.fillna(0, inplace=True)\n",
        "\n",
        "fig = px.imshow(grouped, width=800, height=650, labels=dict(y='Shot Type', x=\"Distance (ft)\", color=\"Goal Percentage\"),\n",
        "                title=f'Goals success rate by type and distance, Saison {season_year}')\n",
        "fig.update_xaxes(side=\"top\")\n",
        "fig.update_layout(title_font_size=25)\n",
        "fig.show()\n",
        "fig.write_html(f'figures/type-shot-distance-{season_year}.html')"
      ]
    },
    {
      "cell_type": "code",
      "execution_count": null,
      "metadata": {
        "id": "ZgL6SXOOjq2Q"
      },
      "outputs": [],
      "source": [
        "df_sl = df[df.X_dist < 90]\n",
        "df_sl = df_sl.groupby(['X_dist', 'Y']).size().to_frame('Counts').reset_index()\n",
        "df_sl = df_sl.pivot(index='X_dist', columns='Y')['Counts'].fillna(0)\n",
        "\n",
        "fig = px.imshow(np.log(df_sl + 1), width=600, height=600,\n",
        "          labels=dict(x='Distance from center of rink (ft)', y=\"Distance from goal line (ft)\", color=\"Number of shots (log)\"),\n",
        "          title='Shots location',\n",
        "          )\n",
        "fig.update_layout(title_font_size=30)"
      ]
    },
    {
      "cell_type": "markdown",
      "metadata": {},
      "source": [
        "# Visualisations avancées"
      ]
    },
    {
      "cell_type": "code",
      "execution_count": null,
      "metadata": {
        "id": "mPRJ2XqGG99_"
      },
      "outputs": [],
      "source": [
        "def get_shots_location(df: pd.DataFrame, team: str) -> pd.DataFrame:\n",
        "    \"\"\"\n",
        "    Get the difference between the average number of shot by all teams vs the specified team.\n",
        "\n",
        "    Args:\n",
        "        df : DataFrame returned by the fonction load_df_shots.\n",
        "        team: Tricode of the team. e.g. 'MTL'\n",
        "    \"\"\"\n",
        "    df_tot = df[df.X_dist < 90]\n",
        "    df_team = df_tot[df_tot.Team == team]\n",
        "    ng=df_team.Game_id.nunique()\n",
        "    #print(ng)\n",
        "\n",
        "    # Get the average number of shots for every location\n",
        "    df_tot = df_tot.groupby(['X_dist', 'Y']).size().to_frame('Counts').reset_index()\n",
        "    df_tot = df_tot.pivot(index='X_dist', columns='Y')['Counts'].fillna(0)\n",
        "    df_tot = df_tot / (df.Game_id.nunique() * 2)\n",
        "    df_tot = pd.melt(df_tot.reset_index(), id_vars='X_dist', value_vars=df_tot.columns)\n",
        "\n",
        "    # Get the team average number of shots for every location\n",
        "    df_team = df_team.groupby(['X_dist', 'Y']).size().to_frame('Counts').reset_index()\n",
        "    df_team = df_team.pivot(index='X_dist', columns='Y')['Counts'].fillna(0)\n",
        "    df_team = df_team / ng\n",
        "\n",
        "    df_team = pd.melt(df_team.reset_index(), id_vars='X_dist', value_vars=df_team.columns)\n",
        "\n",
        "    # Compute the difference\n",
        "    df_sl = pd.merge(df_tot, df_team, on=[\"X_dist\", \"Y\"],  how=\"outer\").fillna(0)\n",
        "    df_sl[\"dif\"] = df_sl.value_y - df_sl.value_x\n",
        "\n",
        "\n",
        "    # Compute the binned difference\n",
        "    df_sl['ybin'] = pd.cut(df_sl.Y, 15)\n",
        "    df_sl['xbin'] = pd.cut(df_sl.X_dist, 15)\n",
        "    df_sl['dif_bin'] = df_sl.groupby(['xbin', 'ybin'], observed=True).dif.transform('sum')\n",
        "\n",
        "    return df_sl"
      ]
    },
    {
      "cell_type": "code",
      "execution_count": null,
      "metadata": {},
      "outputs": [],
      "source": [
        "def get_dens(team,df):\n",
        "    \"\"\"\n",
        "    Compute the difference between shots after applying kde.\n",
        "\n",
        "    Args:\n",
        "        team: Tricode of the team. e.g. 'MTL'\n",
        "    \"\"\"\n",
        "\n",
        "    dfs = get_shots_location(df, team)\n",
        "    max = dfs.dif_bin.max()\n",
        "\n",
        "    values = [dfs.X_dist.values, dfs.Y.values]\n",
        "    weights_tot = dfs.value_x.values\n",
        "    weights_team = dfs.value_y.values\n",
        "\n",
        "    gauss_tot = stats.gaussian_kde(values, bw_method=0.3,weights=weights_tot)\n",
        "    gauss_team = stats.gaussian_kde(values, bw_method=0.3,weights=weights_team)\n",
        "\n",
        "\n",
        "    x = np.linspace(0, 89, 90)\n",
        "    y = np.linspace(-42, 42, 85)\n",
        "    X, Y = np.meshgrid(x, y)\n",
        "    xy = np.vstack([X.ravel(), Y.ravel()])\n",
        "    dens_tot = np.exp(gauss_tot(xy)).reshape((X.shape))\n",
        "    dens_team= np.exp(gauss_team(xy)).reshape((X.shape))\n",
        "\n",
        "    dens = dens_team - dens_tot\n",
        "\n",
        "    ratio = np.array(dens).reshape(-1).min() / np.array(dens).reshape(-1).max()\n",
        "    return normalize(np.flip(dens), max * ratio, max)"
      ]
    },
    {
      "cell_type": "code",
      "execution_count": null,
      "metadata": {},
      "outputs": [],
      "source": [
        "rink_image = Image.open(\"figures/half_nhl_rink.png\")\n",
        "\n",
        "fig = go.Figure()\n",
        "\n",
        "x = np.linspace(0, 89, 90)\n",
        "y = np.linspace(-42, 42, 85)\n",
        "\n",
        "teams = df.Team.unique()\n",
        "visibility = [False] * len(teams)\n",
        "dropdown_list = []\n",
        "\n",
        "fig.add_trace(\n",
        "    go.Contour(\n",
        "        z=get_dens(teams[0],df),\n",
        "        # z=np.flip(dens_team - dens_tot),\n",
        "        x=x,\n",
        "        y=y,\n",
        "        opacity = 0.6,\n",
        "        colorscale='RdBu_r',\n",
        "        contours_coloring='fill',  # This will fill the contours\n",
        "        contours=dict(start=-0.5, end=0.5, size=0.05),  # You can adjust these parameters\n",
        "        visible=True\n",
        "    )\n",
        ")\n",
        "\n",
        "vis = visibility.copy()\n",
        "vis[0] = True\n",
        "\n",
        "dropdown_list.append(dict(\n",
        "                args=[{\"visible\": vis}],\n",
        "                label=teams[0],\n",
        "                method=\"restyle\"\n",
        "            ))\n",
        "\n",
        "for id, team in enumerate(teams[1:]):\n",
        "\n",
        "\n",
        "# Plotly Contour Plot\n",
        "    fig.add_trace(\n",
        "        go.Contour(\n",
        "            z=get_dens(team,df),\n",
        "            x=x,\n",
        "            y=y,\n",
        "            opacity = 0.6,\n",
        "            colorscale='RdBu_r',\n",
        "            contours_coloring='fill',\n",
        "            contours=dict(start=-0.5, end=0.5, size=0.05),\n",
        "            visible=False\n",
        "        )\n",
        "    )\n",
        "\n",
        "    vis = visibility.copy()\n",
        "    vis[id + 1] = True\n",
        "\n",
        "    dropdown_list.append(dict(\n",
        "                    args=[{\"visible\": vis}],\n",
        "                    label=team,\n",
        "                    method=\"restyle\"\n",
        "                ))\n",
        "\n",
        "\n",
        "fig.update_layout(\n",
        "    height=600,\n",
        "    width=680,\n",
        "    title = f'Season {season_year}',\n",
        "    title_font_size=30,\n",
        "    updatemenus=[\n",
        "        dict(\n",
        "            active=0,\n",
        "            buttons=dropdown_list,\n",
        "            showactive=True,\n",
        "            x=0.35,\n",
        "            xanchor=\"left\",\n",
        "            y=1.18,\n",
        "            yanchor=\"top\"\n",
        "        ),\n",
        "    ]\n",
        ")\n",
        "fig.add_layout_image(\n",
        "        dict(\n",
        "            source=rink_image,\n",
        "            xref=\"x\",\n",
        "            yref=\"y\",\n",
        "            x=0,\n",
        "            y=42.5,\n",
        "            sizex=100,\n",
        "            sizey=85,\n",
        "            opacity=1,\n",
        "            layer=\"below\")\n",
        ")\n",
        "\n",
        "fig.update_xaxes(showline=False, zeroline=False, showgrid=False, range=[0, 100])\n",
        "fig.update_yaxes(\n",
        "    showline=False,\n",
        "    zeroline=False,\n",
        "    showgrid=False,\n",
        "    range=[-42.5, 42.5],\n",
        "    scaleanchor = \"x\",\n",
        "    scaleratio = 1,\n",
        "  )\n",
        "\n",
        "fig.show()"
      ]
    }
  ],
  "metadata": {
    "colab": {
      "provenance": []
    },
    "kernelspec": {
      "display_name": "venv",
      "language": "python",
      "name": "python3"
    },
    "language_info": {
      "codemirror_mode": {
        "name": "ipython",
        "version": 3
      },
      "file_extension": ".py",
      "mimetype": "text/x-python",
      "name": "python",
      "nbconvert_exporter": "python",
      "pygments_lexer": "ipython3",
      "version": "3.11.2"
    },
    "widgets": {
      "application/vnd.jupyter.widget-state+json": {
        "39fd68583ad04b7890f856b4b2839532": {
          "model_module": "@jupyter-widgets/controls",
          "model_module_version": "1.5.0",
          "model_name": "DescriptionStyleModel",
          "state": {
            "_model_module": "@jupyter-widgets/controls",
            "_model_module_version": "1.5.0",
            "_model_name": "DescriptionStyleModel",
            "_view_count": null,
            "_view_module": "@jupyter-widgets/base",
            "_view_module_version": "1.2.0",
            "_view_name": "StyleView",
            "description_width": ""
          }
        },
        "57278cf4ee724a20aaa98cc96c54248a": {
          "model_module": "@jupyter-widgets/controls",
          "model_module_version": "1.5.0",
          "model_name": "TextModel",
          "state": {
            "_dom_classes": [],
            "_model_module": "@jupyter-widgets/controls",
            "_model_module_version": "1.5.0",
            "_model_name": "TextModel",
            "_view_count": null,
            "_view_module": "@jupyter-widgets/controls",
            "_view_module_version": "1.5.0",
            "_view_name": "TextView",
            "continuous_update": true,
            "description": "Season:",
            "description_tooltip": null,
            "disabled": false,
            "layout": "IPY_MODEL_f52a3318c31b49668c2750ba38711441",
            "placeholder": "​",
            "style": "IPY_MODEL_39fd68583ad04b7890f856b4b2839532",
            "value": "2016"
          }
        },
        "f52a3318c31b49668c2750ba38711441": {
          "model_module": "@jupyter-widgets/base",
          "model_module_version": "1.2.0",
          "model_name": "LayoutModel",
          "state": {
            "_model_module": "@jupyter-widgets/base",
            "_model_module_version": "1.2.0",
            "_model_name": "LayoutModel",
            "_view_count": null,
            "_view_module": "@jupyter-widgets/base",
            "_view_module_version": "1.2.0",
            "_view_name": "LayoutView",
            "align_content": null,
            "align_items": null,
            "align_self": null,
            "border": null,
            "bottom": null,
            "display": null,
            "flex": null,
            "flex_flow": null,
            "grid_area": null,
            "grid_auto_columns": null,
            "grid_auto_flow": null,
            "grid_auto_rows": null,
            "grid_column": null,
            "grid_gap": null,
            "grid_row": null,
            "grid_template_areas": null,
            "grid_template_columns": null,
            "grid_template_rows": null,
            "height": null,
            "justify_content": null,
            "justify_items": null,
            "left": null,
            "margin": null,
            "max_height": null,
            "max_width": null,
            "min_height": null,
            "min_width": null,
            "object_fit": null,
            "object_position": null,
            "order": null,
            "overflow": null,
            "overflow_x": null,
            "overflow_y": null,
            "padding": null,
            "right": null,
            "top": null,
            "visibility": null,
            "width": null
          }
        }
      }
    }
  },
  "nbformat": 4,
  "nbformat_minor": 0
}
