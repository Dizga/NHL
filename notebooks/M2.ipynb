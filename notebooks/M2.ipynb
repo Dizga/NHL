{
 "cells": [
  {
   "cell_type": "code",
   "execution_count": null,
   "metadata": {},
   "outputs": [],
   "source": [
    "%load_ext autoreload\n",
    "%autoreload 2\n",
    "\n",
    "import pathlib\n",
    "if pathlib.Path().resolve().name == 'notebooks':\n",
    "    %cd ..\n",
    "%pwd"
   ]
  },
  {
   "cell_type": "code",
   "execution_count": null,
   "metadata": {},
   "outputs": [],
   "source": [
    "import plotly.graph_objects as go\n",
    "import plotly.express as px\n",
    "import pandas as pd\n",
    "import numpy as np\n",
    "from src.data import NHLDataDownloader\n",
    "from src.features import load_df_shots"
   ]
  },
  {
   "cell_type": "code",
   "execution_count": null,
   "metadata": {},
   "outputs": [],
   "source": [
    "columns = ['Net_distance', 'Net_angle', 'Goal', 'Empty_net']\n",
    "df_2015 = load_df_shots(2015)\n",
    "df_2016 = load_df_shots(2016)\n",
    "df_2017 = load_df_shots(2017)\n",
    "df_2018 = load_df_shots(2018)\n",
    "\n",
    "df_tot = pd.concat([df_2015, df_2016, df_2017, df_2018]).reset_index(drop=True)\n",
    "df = df_tot[columns]"
   ]
  }
 ],
 "metadata": {
  "language_info": {
   "name": "python"
  }
 },
 "nbformat": 4,
 "nbformat_minor": 2
}
