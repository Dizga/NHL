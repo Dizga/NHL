{
 "cells": [
  {
   "cell_type": "code",
   "execution_count": 2,
   "metadata": {},
   "outputs": [
    {
     "name": "stdout",
     "output_type": "stream",
     "text": [
      "/Users/alexandreganito/Documents/Data science/Project/NHL\n"
     ]
    }
   ],
   "source": [
    "%load_ext autoreload\n",
    "%autoreload 2\n",
    "\n",
    "import pathlib\n",
    "if pathlib.Path().resolve().name == 'notebooks':\n",
    "    %cd ..\n",
    "%pwd\n",
    "\n",
    "import plotly.graph_objects as go\n",
    "import plotly.express as px\n",
    "import pandas as pd\n",
    "import numpy as np\n",
    "from src.data import NHLDataDownloader\n",
    "from src.features import load_df_shots, add_goalie_ratio, add_opponent_concedes, add_shooter_ratio, add_team_goals"
   ]
  },
  {
   "cell_type": "code",
   "execution_count": 2,
   "metadata": {},
   "outputs": [
    {
     "name": "stdout",
     "output_type": "stream",
     "text": [
      "Season 2016 successfully loaded from file\n",
      "Processing data... (1-2 minutes)\n",
      "Done!\n"
     ]
    }
   ],
   "source": [
    "nhl = NHLDataDownloader(2016)\n",
    "test = nhl.load_processed_data()"
   ]
  },
  {
   "cell_type": "code",
   "execution_count": 5,
   "metadata": {},
   "outputs": [],
   "source": [
    "columns = ['Shot_distance', 'Shot_angle', 'Goal', 'Empty_net']\n",
    "df_2016 = load_df_shots(2016)\n",
    "df_2017 = load_df_shots(2017)\n",
    "df_2018 = load_df_shots(2018)\n",
    "df_2019 = load_df_shots(2019)\n",
    "df_2020 = load_df_shots(2020)\n",
    "\n",
    "# df_tot = pd.concat([df_2016, df_2017, df_2018, df_2019]).reset_index(drop=True)\n",
    "df = pd.concat([df_2016, df_2017, df_2018, df_2019, df_2020]).reset_index(drop=True)\n",
    "# df = df_tot[columns]"
   ]
  },
  {
   "cell_type": "code",
   "execution_count": 4,
   "metadata": {},
   "outputs": [],
   "source": [
    "df = add_shooter_ratio(df)\n",
    "df = add_goalie_ratio(df)\n",
    "df = add_team_goals(df)\n",
    "df = add_opponent_concedes(df)"
   ]
  },
  {
   "cell_type": "code",
   "execution_count": 5,
   "metadata": {},
   "outputs": [],
   "source": [
    "df.drop('Strength', axis=1, inplace=True)\n",
    "df.Shot_angle = df.Shot_angle.abs()\n",
    "df.to_pickle(\"final.pkl\")"
   ]
  },
  {
   "cell_type": "code",
   "execution_count": 83,
   "metadata": {},
   "outputs": [],
   "source": [
    "dfp = df"
   ]
  },
  {
   "cell_type": "code",
   "execution_count": 342,
   "metadata": {},
   "outputs": [],
   "source": [
    "from src.client import start_experiment"
   ]
  },
  {
   "cell_type": "code",
   "execution_count": 349,
   "metadata": {},
   "outputs": [
    {
     "name": "stderr",
     "output_type": "stream",
     "text": [
      "\u001b[1;38;5;214mCOMET WARNING:\u001b[0m To get all data logged automatically, import comet_ml before the following modules: xgboost, tensorboard, keras, sklearn, tensorflow.\n",
      "\u001b[1;38;5;214mCOMET WARNING:\u001b[0m As you are running in a Jupyter environment, you will need to call `experiment.end()` when finished to ensure all metrics and code are logged before exiting.\n",
      "\u001b[1;38;5;39mCOMET INFO:\u001b[0m Experiment is live on comet.com https://www.comet.com/dizga/test/fca2ee2765014c2bbf49fe8885b75617\n",
      "\n"
     ]
    }
   ],
   "source": [
    "exp = start_experiment()"
   ]
  },
  {
   "cell_type": "code",
   "execution_count": 351,
   "metadata": {},
   "outputs": [
    {
     "name": "stderr",
     "output_type": "stream",
     "text": [
      "\u001b[1;38;5;39mCOMET INFO:\u001b[0m ---------------------------------------------------------------------------------------\n",
      "\u001b[1;38;5;39mCOMET INFO:\u001b[0m Comet.ml Experiment Summary\n",
      "\u001b[1;38;5;39mCOMET INFO:\u001b[0m ---------------------------------------------------------------------------------------\n",
      "\u001b[1;38;5;39mCOMET INFO:\u001b[0m   Data:\n",
      "\u001b[1;38;5;39mCOMET INFO:\u001b[0m     display_summary_level : 1\n",
      "\u001b[1;38;5;39mCOMET INFO:\u001b[0m     url                   : https://www.comet.com/dizga/test/fca2ee2765014c2bbf49fe8885b75617\n",
      "\u001b[1;38;5;39mCOMET INFO:\u001b[0m   Uploads:\n",
      "\u001b[1;38;5;39mCOMET INFO:\u001b[0m     dataframe                : 1 (17.48 KB)\n",
      "\u001b[1;38;5;39mCOMET INFO:\u001b[0m     environment details      : 1\n",
      "\u001b[1;38;5;39mCOMET INFO:\u001b[0m     filename                 : 1\n",
      "\u001b[1;38;5;39mCOMET INFO:\u001b[0m     git metadata             : 1\n",
      "\u001b[1;38;5;39mCOMET INFO:\u001b[0m     git-patch (uncompressed) : 1 (1.25 KB)\n",
      "\u001b[1;38;5;39mCOMET INFO:\u001b[0m     installed packages       : 1\n",
      "\u001b[1;38;5;39mCOMET INFO:\u001b[0m     notebook                 : 1\n",
      "\u001b[1;38;5;39mCOMET INFO:\u001b[0m     source_code              : 1\n",
      "\u001b[1;38;5;39mCOMET INFO:\u001b[0m \n",
      "\u001b[1;38;5;214mCOMET WARNING:\u001b[0m To get all data logged automatically, import comet_ml before the following modules: xgboost, tensorboard, keras, sklearn, tensorflow.\n",
      "\u001b[1;38;5;39mCOMET INFO:\u001b[0m Please wait for metadata to finish uploading (timeout is 3600 seconds)\n"
     ]
    }
   ],
   "source": [
    "exp.end()"
   ]
  },
  {
   "cell_type": "code",
   "execution_count": 346,
   "metadata": {},
   "outputs": [],
   "source": [
    "subset_df = df[(df.Year == 2017) & (df.Game_id == 1065)]"
   ]
  },
  {
   "cell_type": "code",
   "execution_count": 350,
   "metadata": {},
   "outputs": [
    {
     "name": "stderr",
     "output_type": "stream",
     "text": [
      "\u001b[1;38;5;214mCOMET WARNING:\u001b[0m pandas_profiling is required to log profile; ignoring\n"
     ]
    },
    {
     "data": {
      "text/plain": [
       "{'profile': None,\n",
       " 'dataframe': {'web': 'https://www.comet.com/api/asset/download?assetId=1a115b61bde44f62bf6320a5add8ba95&experimentKey=fca2ee2765014c2bbf49fe8885b75617',\n",
       "  'api': 'https://www.comet.com/api/rest/v2/experiment/asset/get-asset?assetId=1a115b61bde44f62bf6320a5add8ba95&experimentKey=fca2ee2765014c2bbf49fe8885b75617',\n",
       "  'assetId': '1a115b61bde44f62bf6320a5add8ba95'}}"
      ]
     },
     "execution_count": 350,
     "metadata": {},
     "output_type": "execute_result"
    }
   ],
   "source": [
    "exp.log_dataframe_profile(subset_df, name='wpg_v_wsh_2017021065', dataframe_format='csv')"
   ]
  },
  {
   "cell_type": "code",
   "execution_count": 57,
   "metadata": {},
   "outputs": [],
   "source": [
    "goal_df = df_all[['Year','Game_id','Shooter', 'Goal']]\n",
    "goal_ratio_df = goal_df.groupby(['Year','Game_id', 'Shooter']).Goal.mean().reset_index(name='Goal_ratio')\n",
    "\n",
    "base = pd.DataFrame([[0,0,n,0.1] for n in goal_ratio_df.Shooter.unique()], columns=goal_ratio_df.columns)\n",
    "goal_ratio_df = pd.concat([base, goal_ratio_df]).reset_index(drop=True)\n",
    "goal_ratio_df['Ema'] = goal_ratio_df.groupby('Shooter')['Goal_ratio'].transform(\n",
    "    lambda x: x.ewm(alpha=0.01, adjust=False).mean()\n",
    ")\n",
    "\n",
    "df_all = df_all.drop('Shooter_ratio', axis=1, errors='ignore')\n",
    "\n",
    "goal_ratio_df['Shooter_ratio'] = goal_ratio_df.groupby('Shooter')['Ema'].shift().round(4)\n",
    "df_all = df_all.merge(goal_ratio_df[['Year','Game_id', 'Shooter', 'Shooter_ratio']], how='left', on=['Year','Game_id', 'Shooter'])"
   ]
  },
  {
   "cell_type": "code",
   "execution_count": 58,
   "metadata": {},
   "outputs": [],
   "source": [
    "save_df = df_all[['Year','Game_id','Goalie', 'Goal']]\n",
    "save_ratio_df = save_df.groupby(['Year','Game_id', 'Goalie']).Goal.mean().reset_index(name='Save_ratio')\n",
    "save_ratio_df.Save_ratio = 1 - save_ratio_df.Save_ratio\n",
    "\n",
    "base = pd.DataFrame([[0,0,n,0.9] for n in save_ratio_df.Goalie.unique()], columns=save_ratio_df.columns)\n",
    "save_ratio_df = pd.concat([base, save_ratio_df]).reset_index(drop=True)\n",
    "save_ratio_df['Ema'] = save_ratio_df.groupby('Goalie')['Save_ratio'].transform(\n",
    "    lambda x: x.ewm(alpha=0.01, adjust=False).mean()\n",
    ")\n",
    "\n",
    "df_all = df_all.drop('Goalie_ratio', axis=1, errors='ignore')\n",
    "\n",
    "save_ratio_df['Goalie_ratio'] = save_ratio_df.groupby('Goalie')['Ema'].shift().round(4)\n",
    "df_all = df_all.merge(save_ratio_df[['Year','Game_id', 'Goalie', 'Goalie_ratio']], how='left', on=['Year','Game_id', 'Goalie'])\n",
    "df_all.loc[df_all.Goalie == '', 'Goalie_ratio'] = 0.5"
   ]
  },
  {
   "cell_type": "code",
   "execution_count": 59,
   "metadata": {},
   "outputs": [],
   "source": [
    "goal_df = df_all[['Year','Game_id','Team', 'Goal']]\n",
    "goal_ratio_df = goal_df.groupby(['Year','Game_id', 'Team']).apply(\n",
    "    lambda x: x['Goal'].sum()\n",
    ").reset_index(name='Goal_ratio')\n",
    "\n",
    "base = pd.DataFrame([[0,0,n,3] for n in goal_ratio_df.Team.unique()], columns=goal_ratio_df.columns)\n",
    "goal_ratio_df = pd.concat([base, goal_ratio_df]).reset_index(drop=True)\n",
    "goal_ratio_df['Ema'] = goal_ratio_df.groupby('Team')['Goal_ratio'].transform(\n",
    "    lambda x: x.ewm(alpha=0.01, adjust=False).mean()\n",
    ")\n",
    "\n",
    "df_all = df_all.drop('Team_goals', axis=1, errors='ignore')\n",
    "\n",
    "goal_ratio_df['Team_goals'] = goal_ratio_df.groupby('Team')['Ema'].shift().round(4)\n",
    "df_all = df_all.merge(goal_ratio_df[['Year','Game_id', 'Team', 'Team_goals']], how='left', on=['Year','Game_id', 'Team'])"
   ]
  },
  {
   "cell_type": "code",
   "execution_count": 60,
   "metadata": {},
   "outputs": [],
   "source": [
    "goal_df = df_all[['Year','Game_id', 'OppTeam', 'Goal']]\n",
    "goal_ratio_df = goal_df.groupby(['Year','Game_id', 'OppTeam']).apply(\n",
    "    lambda x: x['Goal'].sum()\n",
    ").reset_index(name='Goals')\n",
    "\n",
    "base = pd.DataFrame([[0,0,n,3] for n in goal_ratio_df.OppTeam.unique()], columns=goal_ratio_df.columns)\n",
    "goal_ratio_df = pd.concat([base, goal_ratio_df]).reset_index(drop=True)\n",
    "goal_ratio_df['Ema'] = goal_ratio_df.groupby('OppTeam')['Goals'].transform(\n",
    "    lambda x: x.ewm(alpha=0.01, adjust=False).mean()\n",
    ")\n",
    "\n",
    "df_all = df_all.drop('Opp_concedes', axis=1, errors='ignore')\n",
    "\n",
    "goal_ratio_df['Opp_concedes'] = goal_ratio_df.groupby('OppTeam')['Ema'].shift().round(4)\n",
    "df_all = df_all.merge(goal_ratio_df[['Year','Game_id', 'OppTeam', 'Opp_concedes']], how='left', on=['Year','Game_id', 'OppTeam'])"
   ]
  },
  {
   "cell_type": "code",
   "execution_count": 4,
   "metadata": {},
   "outputs": [
    {
     "data": {
      "application/vnd.plotly.v1+json": {
       "config": {
        "plotlyServerURL": "https://plot.ly"
       },
       "data": [
        {
         "alignmentgroup": "True",
         "bingroup": "y",
         "histfunc": "avg",
         "hovertemplate": "avg of AUC=%{x}<br>Pos Weight / Estimators / Max depth=%{y}<extra></extra>",
         "legendgroup": "",
         "marker": {
          "color": "#636efa",
          "pattern": {
           "shape": ""
          }
         },
         "name": "",
         "offsetgroup": "",
         "orientation": "h",
         "showlegend": false,
         "type": "histogram",
         "x": [
          0.777,
          0.781,
          0.78,
          0.776
         ],
         "xaxis": "x",
         "y": [
          "1 / 500 / 4 ",
          "1.5 / 400 / 4 ",
          "2 / 200 / 5 ",
          "3 / 300 / 6 "
         ],
         "yaxis": "y"
        }
       ],
       "layout": {
        "barmode": "relative",
        "legend": {
         "tracegroupgap": 0
        },
        "margin": {
         "t": 60
        },
        "template": {
         "data": {
          "bar": [
           {
            "error_x": {
             "color": "#2a3f5f"
            },
            "error_y": {
             "color": "#2a3f5f"
            },
            "marker": {
             "line": {
              "color": "#E5ECF6",
              "width": 0.5
             },
             "pattern": {
              "fillmode": "overlay",
              "size": 10,
              "solidity": 0.2
             }
            },
            "type": "bar"
           }
          ],
          "barpolar": [
           {
            "marker": {
             "line": {
              "color": "#E5ECF6",
              "width": 0.5
             },
             "pattern": {
              "fillmode": "overlay",
              "size": 10,
              "solidity": 0.2
             }
            },
            "type": "barpolar"
           }
          ],
          "carpet": [
           {
            "aaxis": {
             "endlinecolor": "#2a3f5f",
             "gridcolor": "white",
             "linecolor": "white",
             "minorgridcolor": "white",
             "startlinecolor": "#2a3f5f"
            },
            "baxis": {
             "endlinecolor": "#2a3f5f",
             "gridcolor": "white",
             "linecolor": "white",
             "minorgridcolor": "white",
             "startlinecolor": "#2a3f5f"
            },
            "type": "carpet"
           }
          ],
          "choropleth": [
           {
            "colorbar": {
             "outlinewidth": 0,
             "ticks": ""
            },
            "type": "choropleth"
           }
          ],
          "contour": [
           {
            "colorbar": {
             "outlinewidth": 0,
             "ticks": ""
            },
            "colorscale": [
             [
              0,
              "#0d0887"
             ],
             [
              0.1111111111111111,
              "#46039f"
             ],
             [
              0.2222222222222222,
              "#7201a8"
             ],
             [
              0.3333333333333333,
              "#9c179e"
             ],
             [
              0.4444444444444444,
              "#bd3786"
             ],
             [
              0.5555555555555556,
              "#d8576b"
             ],
             [
              0.6666666666666666,
              "#ed7953"
             ],
             [
              0.7777777777777778,
              "#fb9f3a"
             ],
             [
              0.8888888888888888,
              "#fdca26"
             ],
             [
              1,
              "#f0f921"
             ]
            ],
            "type": "contour"
           }
          ],
          "contourcarpet": [
           {
            "colorbar": {
             "outlinewidth": 0,
             "ticks": ""
            },
            "type": "contourcarpet"
           }
          ],
          "heatmap": [
           {
            "colorbar": {
             "outlinewidth": 0,
             "ticks": ""
            },
            "colorscale": [
             [
              0,
              "#0d0887"
             ],
             [
              0.1111111111111111,
              "#46039f"
             ],
             [
              0.2222222222222222,
              "#7201a8"
             ],
             [
              0.3333333333333333,
              "#9c179e"
             ],
             [
              0.4444444444444444,
              "#bd3786"
             ],
             [
              0.5555555555555556,
              "#d8576b"
             ],
             [
              0.6666666666666666,
              "#ed7953"
             ],
             [
              0.7777777777777778,
              "#fb9f3a"
             ],
             [
              0.8888888888888888,
              "#fdca26"
             ],
             [
              1,
              "#f0f921"
             ]
            ],
            "type": "heatmap"
           }
          ],
          "heatmapgl": [
           {
            "colorbar": {
             "outlinewidth": 0,
             "ticks": ""
            },
            "colorscale": [
             [
              0,
              "#0d0887"
             ],
             [
              0.1111111111111111,
              "#46039f"
             ],
             [
              0.2222222222222222,
              "#7201a8"
             ],
             [
              0.3333333333333333,
              "#9c179e"
             ],
             [
              0.4444444444444444,
              "#bd3786"
             ],
             [
              0.5555555555555556,
              "#d8576b"
             ],
             [
              0.6666666666666666,
              "#ed7953"
             ],
             [
              0.7777777777777778,
              "#fb9f3a"
             ],
             [
              0.8888888888888888,
              "#fdca26"
             ],
             [
              1,
              "#f0f921"
             ]
            ],
            "type": "heatmapgl"
           }
          ],
          "histogram": [
           {
            "marker": {
             "pattern": {
              "fillmode": "overlay",
              "size": 10,
              "solidity": 0.2
             }
            },
            "type": "histogram"
           }
          ],
          "histogram2d": [
           {
            "colorbar": {
             "outlinewidth": 0,
             "ticks": ""
            },
            "colorscale": [
             [
              0,
              "#0d0887"
             ],
             [
              0.1111111111111111,
              "#46039f"
             ],
             [
              0.2222222222222222,
              "#7201a8"
             ],
             [
              0.3333333333333333,
              "#9c179e"
             ],
             [
              0.4444444444444444,
              "#bd3786"
             ],
             [
              0.5555555555555556,
              "#d8576b"
             ],
             [
              0.6666666666666666,
              "#ed7953"
             ],
             [
              0.7777777777777778,
              "#fb9f3a"
             ],
             [
              0.8888888888888888,
              "#fdca26"
             ],
             [
              1,
              "#f0f921"
             ]
            ],
            "type": "histogram2d"
           }
          ],
          "histogram2dcontour": [
           {
            "colorbar": {
             "outlinewidth": 0,
             "ticks": ""
            },
            "colorscale": [
             [
              0,
              "#0d0887"
             ],
             [
              0.1111111111111111,
              "#46039f"
             ],
             [
              0.2222222222222222,
              "#7201a8"
             ],
             [
              0.3333333333333333,
              "#9c179e"
             ],
             [
              0.4444444444444444,
              "#bd3786"
             ],
             [
              0.5555555555555556,
              "#d8576b"
             ],
             [
              0.6666666666666666,
              "#ed7953"
             ],
             [
              0.7777777777777778,
              "#fb9f3a"
             ],
             [
              0.8888888888888888,
              "#fdca26"
             ],
             [
              1,
              "#f0f921"
             ]
            ],
            "type": "histogram2dcontour"
           }
          ],
          "mesh3d": [
           {
            "colorbar": {
             "outlinewidth": 0,
             "ticks": ""
            },
            "type": "mesh3d"
           }
          ],
          "parcoords": [
           {
            "line": {
             "colorbar": {
              "outlinewidth": 0,
              "ticks": ""
             }
            },
            "type": "parcoords"
           }
          ],
          "pie": [
           {
            "automargin": true,
            "type": "pie"
           }
          ],
          "scatter": [
           {
            "fillpattern": {
             "fillmode": "overlay",
             "size": 10,
             "solidity": 0.2
            },
            "type": "scatter"
           }
          ],
          "scatter3d": [
           {
            "line": {
             "colorbar": {
              "outlinewidth": 0,
              "ticks": ""
             }
            },
            "marker": {
             "colorbar": {
              "outlinewidth": 0,
              "ticks": ""
             }
            },
            "type": "scatter3d"
           }
          ],
          "scattercarpet": [
           {
            "marker": {
             "colorbar": {
              "outlinewidth": 0,
              "ticks": ""
             }
            },
            "type": "scattercarpet"
           }
          ],
          "scattergeo": [
           {
            "marker": {
             "colorbar": {
              "outlinewidth": 0,
              "ticks": ""
             }
            },
            "type": "scattergeo"
           }
          ],
          "scattergl": [
           {
            "marker": {
             "colorbar": {
              "outlinewidth": 0,
              "ticks": ""
             }
            },
            "type": "scattergl"
           }
          ],
          "scattermapbox": [
           {
            "marker": {
             "colorbar": {
              "outlinewidth": 0,
              "ticks": ""
             }
            },
            "type": "scattermapbox"
           }
          ],
          "scatterpolar": [
           {
            "marker": {
             "colorbar": {
              "outlinewidth": 0,
              "ticks": ""
             }
            },
            "type": "scatterpolar"
           }
          ],
          "scatterpolargl": [
           {
            "marker": {
             "colorbar": {
              "outlinewidth": 0,
              "ticks": ""
             }
            },
            "type": "scatterpolargl"
           }
          ],
          "scatterternary": [
           {
            "marker": {
             "colorbar": {
              "outlinewidth": 0,
              "ticks": ""
             }
            },
            "type": "scatterternary"
           }
          ],
          "surface": [
           {
            "colorbar": {
             "outlinewidth": 0,
             "ticks": ""
            },
            "colorscale": [
             [
              0,
              "#0d0887"
             ],
             [
              0.1111111111111111,
              "#46039f"
             ],
             [
              0.2222222222222222,
              "#7201a8"
             ],
             [
              0.3333333333333333,
              "#9c179e"
             ],
             [
              0.4444444444444444,
              "#bd3786"
             ],
             [
              0.5555555555555556,
              "#d8576b"
             ],
             [
              0.6666666666666666,
              "#ed7953"
             ],
             [
              0.7777777777777778,
              "#fb9f3a"
             ],
             [
              0.8888888888888888,
              "#fdca26"
             ],
             [
              1,
              "#f0f921"
             ]
            ],
            "type": "surface"
           }
          ],
          "table": [
           {
            "cells": {
             "fill": {
              "color": "#EBF0F8"
             },
             "line": {
              "color": "white"
             }
            },
            "header": {
             "fill": {
              "color": "#C8D4E3"
             },
             "line": {
              "color": "white"
             }
            },
            "type": "table"
           }
          ]
         },
         "layout": {
          "annotationdefaults": {
           "arrowcolor": "#2a3f5f",
           "arrowhead": 0,
           "arrowwidth": 1
          },
          "autotypenumbers": "strict",
          "coloraxis": {
           "colorbar": {
            "outlinewidth": 0,
            "ticks": ""
           }
          },
          "colorscale": {
           "diverging": [
            [
             0,
             "#8e0152"
            ],
            [
             0.1,
             "#c51b7d"
            ],
            [
             0.2,
             "#de77ae"
            ],
            [
             0.3,
             "#f1b6da"
            ],
            [
             0.4,
             "#fde0ef"
            ],
            [
             0.5,
             "#f7f7f7"
            ],
            [
             0.6,
             "#e6f5d0"
            ],
            [
             0.7,
             "#b8e186"
            ],
            [
             0.8,
             "#7fbc41"
            ],
            [
             0.9,
             "#4d9221"
            ],
            [
             1,
             "#276419"
            ]
           ],
           "sequential": [
            [
             0,
             "#0d0887"
            ],
            [
             0.1111111111111111,
             "#46039f"
            ],
            [
             0.2222222222222222,
             "#7201a8"
            ],
            [
             0.3333333333333333,
             "#9c179e"
            ],
            [
             0.4444444444444444,
             "#bd3786"
            ],
            [
             0.5555555555555556,
             "#d8576b"
            ],
            [
             0.6666666666666666,
             "#ed7953"
            ],
            [
             0.7777777777777778,
             "#fb9f3a"
            ],
            [
             0.8888888888888888,
             "#fdca26"
            ],
            [
             1,
             "#f0f921"
            ]
           ],
           "sequentialminus": [
            [
             0,
             "#0d0887"
            ],
            [
             0.1111111111111111,
             "#46039f"
            ],
            [
             0.2222222222222222,
             "#7201a8"
            ],
            [
             0.3333333333333333,
             "#9c179e"
            ],
            [
             0.4444444444444444,
             "#bd3786"
            ],
            [
             0.5555555555555556,
             "#d8576b"
            ],
            [
             0.6666666666666666,
             "#ed7953"
            ],
            [
             0.7777777777777778,
             "#fb9f3a"
            ],
            [
             0.8888888888888888,
             "#fdca26"
            ],
            [
             1,
             "#f0f921"
            ]
           ]
          },
          "colorway": [
           "#636efa",
           "#EF553B",
           "#00cc96",
           "#ab63fa",
           "#FFA15A",
           "#19d3f3",
           "#FF6692",
           "#B6E880",
           "#FF97FF",
           "#FECB52"
          ],
          "font": {
           "color": "#2a3f5f"
          },
          "geo": {
           "bgcolor": "white",
           "lakecolor": "white",
           "landcolor": "#E5ECF6",
           "showlakes": true,
           "showland": true,
           "subunitcolor": "white"
          },
          "hoverlabel": {
           "align": "left"
          },
          "hovermode": "closest",
          "mapbox": {
           "style": "light"
          },
          "paper_bgcolor": "white",
          "plot_bgcolor": "#E5ECF6",
          "polar": {
           "angularaxis": {
            "gridcolor": "white",
            "linecolor": "white",
            "ticks": ""
           },
           "bgcolor": "#E5ECF6",
           "radialaxis": {
            "gridcolor": "white",
            "linecolor": "white",
            "ticks": ""
           }
          },
          "scene": {
           "xaxis": {
            "backgroundcolor": "#E5ECF6",
            "gridcolor": "white",
            "gridwidth": 2,
            "linecolor": "white",
            "showbackground": true,
            "ticks": "",
            "zerolinecolor": "white"
           },
           "yaxis": {
            "backgroundcolor": "#E5ECF6",
            "gridcolor": "white",
            "gridwidth": 2,
            "linecolor": "white",
            "showbackground": true,
            "ticks": "",
            "zerolinecolor": "white"
           },
           "zaxis": {
            "backgroundcolor": "#E5ECF6",
            "gridcolor": "white",
            "gridwidth": 2,
            "linecolor": "white",
            "showbackground": true,
            "ticks": "",
            "zerolinecolor": "white"
           }
          },
          "shapedefaults": {
           "line": {
            "color": "#2a3f5f"
           }
          },
          "ternary": {
           "aaxis": {
            "gridcolor": "white",
            "linecolor": "white",
            "ticks": ""
           },
           "baxis": {
            "gridcolor": "white",
            "linecolor": "white",
            "ticks": ""
           },
           "bgcolor": "#E5ECF6",
           "caxis": {
            "gridcolor": "white",
            "linecolor": "white",
            "ticks": ""
           }
          },
          "title": {
           "x": 0.05
          },
          "xaxis": {
           "automargin": true,
           "gridcolor": "white",
           "linecolor": "white",
           "ticks": "",
           "title": {
            "standoff": 15
           },
           "zerolinecolor": "white",
           "zerolinewidth": 2
          },
          "yaxis": {
           "automargin": true,
           "gridcolor": "white",
           "linecolor": "white",
           "ticks": "",
           "title": {
            "standoff": 15
           },
           "zerolinecolor": "white",
           "zerolinewidth": 2
          }
         }
        },
        "xaxis": {
         "anchor": "y",
         "domain": [
          0,
          1
         ],
         "range": [
          0.76,
          0.79
         ],
         "title": {
          "text": "avg of AUC"
         }
        },
        "yaxis": {
         "anchor": "x",
         "domain": [
          0,
          1
         ],
         "title": {
          "text": "Pos Weight / Estimators / Max depth"
         }
        }
       }
      }
     },
     "metadata": {},
     "output_type": "display_data"
    }
   ],
   "source": [
    "import plotly.express as px\n",
    "\n",
    "\n",
    "ddd = pd.DataFrame([[\"1 / 500 / 4 \", 0.777], [\"1.5 / 400 / 4 \", 0.781], [\"2 / 200 / 5 \", 0.78], [\"3 / 300 / 6 \", 0.776]],\n",
    "                   columns=['hypers', 'AUC'])\n",
    "\n",
    "\n",
    "# ddd\n",
    "fig = px.histogram(ddd, x='AUC', y='hypers', labels=dict(hypers=\"Pos Weight / Estimators / Max depth\"), histfunc='avg')\n",
    "\n",
    "# px.scatter_3d(x=[3,1,1.5], y=[300,500,400], z=[0.777,0.776,0.781], color=[1,2,3],\n",
    "#               labels=dict(x=\"Pos Weight\", y=\"Estimators\", z=\"AUC\", color='accuracy'))\n",
    "\n",
    "# import plotly.express as px\n",
    "# fig = px.scatter_3d(x=[3,1,1.5], y=[300,500,400], z=[0.777,0.776,0.781], color=[1,2,3])\n",
    "fig.update_xaxes(range=[0.76, 0.79])\n",
    "fig.show()\n",
    "fig.write_html(f'../NHL-blog/_includes/hp-tuning.html')"
   ]
  },
  {
   "cell_type": "code",
   "execution_count": 8,
   "metadata": {},
   "outputs": [],
   "source": [
    "df_tot = df[[\n",
    "        'Game_id',\n",
    "        'Game_time',\n",
    "        'Type',\n",
    "        # 'Empty_net',\n",
    "        'Previous_distance',\n",
    "        # 'X_diff',\n",
    "        'Speed',\n",
    "        # 'Period',\n",
    "        # 'Is_rebound',\n",
    "        'Time_since_powp',\n",
    "        'Players',\n",
    "        'Opp_players',\n",
    "        'P_diff',\n",
    "        'Shot_distance',\n",
    "        # 'X_net',\n",
    "        'Shot_angle',\n",
    "        'Rebound_angle',\n",
    "        'Year',\n",
    "        'Shooter_ratio',\n",
    "        'Goalie_ratio',\n",
    "        'Team_goals',\n",
    "        'Opp_concedes',\n",
    "        'Previous_event_type',\n",
    "        'Goal']].copy()"
   ]
  },
  {
   "cell_type": "code",
   "execution_count": 32,
   "metadata": {},
   "outputs": [
    {
     "data": {
      "text/html": [
       "<div>\n",
       "<style scoped>\n",
       "    .dataframe tbody tr th:only-of-type {\n",
       "        vertical-align: middle;\n",
       "    }\n",
       "\n",
       "    .dataframe tbody tr th {\n",
       "        vertical-align: top;\n",
       "    }\n",
       "\n",
       "    .dataframe thead th {\n",
       "        text-align: right;\n",
       "    }\n",
       "</style>\n",
       "<table border=\"1\" class=\"dataframe\">\n",
       "  <thead>\n",
       "    <tr style=\"text-align: right;\">\n",
       "      <th></th>\n",
       "      <th>Game_id</th>\n",
       "      <th>Game_time</th>\n",
       "      <th>Period</th>\n",
       "      <th>Time</th>\n",
       "      <th>Team</th>\n",
       "      <th>OppTeam</th>\n",
       "      <th>Goal</th>\n",
       "      <th>X</th>\n",
       "      <th>Y</th>\n",
       "      <th>Shooter</th>\n",
       "      <th>...</th>\n",
       "      <th>X_net</th>\n",
       "      <th>Shot_distance</th>\n",
       "      <th>Shot_angle</th>\n",
       "      <th>Rebound_angle</th>\n",
       "      <th>Year</th>\n",
       "      <th>Shooter_ratio</th>\n",
       "      <th>Goalie_ratio</th>\n",
       "      <th>Team_goals</th>\n",
       "      <th>Opp_concedes</th>\n",
       "      <th>Powp</th>\n",
       "    </tr>\n",
       "  </thead>\n",
       "  <tbody>\n",
       "    <tr>\n",
       "      <th>0</th>\n",
       "      <td>1</td>\n",
       "      <td>71</td>\n",
       "      <td>1</td>\n",
       "      <td>01:11</td>\n",
       "      <td>TOR</td>\n",
       "      <td>OTT</td>\n",
       "      <td>False</td>\n",
       "      <td>-77.0</td>\n",
       "      <td>5.0</td>\n",
       "      <td>Mitchell Marner</td>\n",
       "      <td>...</td>\n",
       "      <td>12.0</td>\n",
       "      <td>13.000000</td>\n",
       "      <td>22.619865</td>\n",
       "      <td>0.0</td>\n",
       "      <td>2016</td>\n",
       "      <td>0.1000</td>\n",
       "      <td>0.9000</td>\n",
       "      <td>3.0000</td>\n",
       "      <td>3.0000</td>\n",
       "      <td>0</td>\n",
       "    </tr>\n",
       "    <tr>\n",
       "      <th>1</th>\n",
       "      <td>1</td>\n",
       "      <td>173</td>\n",
       "      <td>1</td>\n",
       "      <td>02:53</td>\n",
       "      <td>OTT</td>\n",
       "      <td>TOR</td>\n",
       "      <td>False</td>\n",
       "      <td>86.0</td>\n",
       "      <td>13.0</td>\n",
       "      <td>Chris Kelly</td>\n",
       "      <td>...</td>\n",
       "      <td>3.0</td>\n",
       "      <td>13.341664</td>\n",
       "      <td>77.005383</td>\n",
       "      <td>0.0</td>\n",
       "      <td>2016</td>\n",
       "      <td>0.1000</td>\n",
       "      <td>0.9000</td>\n",
       "      <td>3.0000</td>\n",
       "      <td>3.0000</td>\n",
       "      <td>0</td>\n",
       "    </tr>\n",
       "    <tr>\n",
       "      <th>2</th>\n",
       "      <td>1</td>\n",
       "      <td>241</td>\n",
       "      <td>1</td>\n",
       "      <td>04:01</td>\n",
       "      <td>OTT</td>\n",
       "      <td>TOR</td>\n",
       "      <td>False</td>\n",
       "      <td>23.0</td>\n",
       "      <td>-38.0</td>\n",
       "      <td>Cody Ceci</td>\n",
       "      <td>...</td>\n",
       "      <td>66.0</td>\n",
       "      <td>76.157731</td>\n",
       "      <td>29.931512</td>\n",
       "      <td>0.0</td>\n",
       "      <td>2016</td>\n",
       "      <td>0.1000</td>\n",
       "      <td>0.9000</td>\n",
       "      <td>3.0000</td>\n",
       "      <td>3.0000</td>\n",
       "      <td>0</td>\n",
       "    </tr>\n",
       "    <tr>\n",
       "      <th>3</th>\n",
       "      <td>1</td>\n",
       "      <td>286</td>\n",
       "      <td>1</td>\n",
       "      <td>04:46</td>\n",
       "      <td>OTT</td>\n",
       "      <td>TOR</td>\n",
       "      <td>False</td>\n",
       "      <td>33.0</td>\n",
       "      <td>-15.0</td>\n",
       "      <td>Erik Karlsson</td>\n",
       "      <td>...</td>\n",
       "      <td>56.0</td>\n",
       "      <td>57.974132</td>\n",
       "      <td>14.995079</td>\n",
       "      <td>0.0</td>\n",
       "      <td>2016</td>\n",
       "      <td>0.1000</td>\n",
       "      <td>0.9000</td>\n",
       "      <td>3.0000</td>\n",
       "      <td>3.0000</td>\n",
       "      <td>0</td>\n",
       "    </tr>\n",
       "    <tr>\n",
       "      <th>4</th>\n",
       "      <td>1</td>\n",
       "      <td>406</td>\n",
       "      <td>1</td>\n",
       "      <td>06:46</td>\n",
       "      <td>TOR</td>\n",
       "      <td>OTT</td>\n",
       "      <td>False</td>\n",
       "      <td>-34.0</td>\n",
       "      <td>28.0</td>\n",
       "      <td>Martin Marincin</td>\n",
       "      <td>...</td>\n",
       "      <td>55.0</td>\n",
       "      <td>61.717096</td>\n",
       "      <td>26.980231</td>\n",
       "      <td>0.0</td>\n",
       "      <td>2016</td>\n",
       "      <td>0.1000</td>\n",
       "      <td>0.9000</td>\n",
       "      <td>3.0000</td>\n",
       "      <td>3.0000</td>\n",
       "      <td>0</td>\n",
       "    </tr>\n",
       "    <tr>\n",
       "      <th>...</th>\n",
       "      <td>...</td>\n",
       "      <td>...</td>\n",
       "      <td>...</td>\n",
       "      <td>...</td>\n",
       "      <td>...</td>\n",
       "      <td>...</td>\n",
       "      <td>...</td>\n",
       "      <td>...</td>\n",
       "      <td>...</td>\n",
       "      <td>...</td>\n",
       "      <td>...</td>\n",
       "      <td>...</td>\n",
       "      <td>...</td>\n",
       "      <td>...</td>\n",
       "      <td>...</td>\n",
       "      <td>...</td>\n",
       "      <td>...</td>\n",
       "      <td>...</td>\n",
       "      <td>...</td>\n",
       "      <td>...</td>\n",
       "      <td>...</td>\n",
       "    </tr>\n",
       "    <tr>\n",
       "      <th>358203</th>\n",
       "      <td>868</td>\n",
       "      <td>3597</td>\n",
       "      <td>3</td>\n",
       "      <td>19:57</td>\n",
       "      <td>SJS</td>\n",
       "      <td>ARI</td>\n",
       "      <td>False</td>\n",
       "      <td>71.0</td>\n",
       "      <td>-16.0</td>\n",
       "      <td>Noah Gregor</td>\n",
       "      <td>...</td>\n",
       "      <td>18.0</td>\n",
       "      <td>24.083189</td>\n",
       "      <td>41.633539</td>\n",
       "      <td>0.0</td>\n",
       "      <td>2020</td>\n",
       "      <td>0.1053</td>\n",
       "      <td>0.9032</td>\n",
       "      <td>2.8750</td>\n",
       "      <td>2.9873</td>\n",
       "      <td>0</td>\n",
       "    </tr>\n",
       "    <tr>\n",
       "      <th>358204</th>\n",
       "      <td>868</td>\n",
       "      <td>3633</td>\n",
       "      <td>4</td>\n",
       "      <td>00:33</td>\n",
       "      <td>SJS</td>\n",
       "      <td>ARI</td>\n",
       "      <td>False</td>\n",
       "      <td>-68.0</td>\n",
       "      <td>-14.0</td>\n",
       "      <td>Erik Karlsson</td>\n",
       "      <td>...</td>\n",
       "      <td>21.0</td>\n",
       "      <td>25.238859</td>\n",
       "      <td>33.690068</td>\n",
       "      <td>0.0</td>\n",
       "      <td>2020</td>\n",
       "      <td>0.0671</td>\n",
       "      <td>0.9032</td>\n",
       "      <td>2.8750</td>\n",
       "      <td>2.9873</td>\n",
       "      <td>0</td>\n",
       "    </tr>\n",
       "    <tr>\n",
       "      <th>358205</th>\n",
       "      <td>868</td>\n",
       "      <td>3657</td>\n",
       "      <td>4</td>\n",
       "      <td>00:57</td>\n",
       "      <td>ARI</td>\n",
       "      <td>SJS</td>\n",
       "      <td>False</td>\n",
       "      <td>56.0</td>\n",
       "      <td>11.0</td>\n",
       "      <td>Conor Garland</td>\n",
       "      <td>...</td>\n",
       "      <td>33.0</td>\n",
       "      <td>34.785054</td>\n",
       "      <td>18.434949</td>\n",
       "      <td>0.0</td>\n",
       "      <td>2020</td>\n",
       "      <td>0.1145</td>\n",
       "      <td>0.9006</td>\n",
       "      <td>2.7882</td>\n",
       "      <td>3.3300</td>\n",
       "      <td>0</td>\n",
       "    </tr>\n",
       "    <tr>\n",
       "      <th>358206</th>\n",
       "      <td>868</td>\n",
       "      <td>3706</td>\n",
       "      <td>4</td>\n",
       "      <td>01:46</td>\n",
       "      <td>ARI</td>\n",
       "      <td>SJS</td>\n",
       "      <td>False</td>\n",
       "      <td>73.0</td>\n",
       "      <td>6.0</td>\n",
       "      <td>Conor Garland</td>\n",
       "      <td>...</td>\n",
       "      <td>16.0</td>\n",
       "      <td>17.088007</td>\n",
       "      <td>20.556045</td>\n",
       "      <td>0.0</td>\n",
       "      <td>2020</td>\n",
       "      <td>0.1145</td>\n",
       "      <td>0.9006</td>\n",
       "      <td>2.7882</td>\n",
       "      <td>3.3300</td>\n",
       "      <td>0</td>\n",
       "    </tr>\n",
       "    <tr>\n",
       "      <th>358207</th>\n",
       "      <td>868</td>\n",
       "      <td>3750</td>\n",
       "      <td>4</td>\n",
       "      <td>02:30</td>\n",
       "      <td>ARI</td>\n",
       "      <td>SJS</td>\n",
       "      <td>True</td>\n",
       "      <td>76.0</td>\n",
       "      <td>-15.0</td>\n",
       "      <td>Phil Kessel</td>\n",
       "      <td>...</td>\n",
       "      <td>13.0</td>\n",
       "      <td>19.849433</td>\n",
       "      <td>49.085617</td>\n",
       "      <td>0.0</td>\n",
       "      <td>2020</td>\n",
       "      <td>0.1253</td>\n",
       "      <td>0.9006</td>\n",
       "      <td>2.7882</td>\n",
       "      <td>3.3300</td>\n",
       "      <td>0</td>\n",
       "    </tr>\n",
       "  </tbody>\n",
       "</table>\n",
       "<p>358208 rows × 34 columns</p>\n",
       "</div>"
      ],
      "text/plain": [
       "        Game_id  Game_time  Period   Time Team OppTeam   Goal     X     Y  \\\n",
       "0             1         71       1  01:11  TOR     OTT  False -77.0   5.0   \n",
       "1             1        173       1  02:53  OTT     TOR  False  86.0  13.0   \n",
       "2             1        241       1  04:01  OTT     TOR  False  23.0 -38.0   \n",
       "3             1        286       1  04:46  OTT     TOR  False  33.0 -15.0   \n",
       "4             1        406       1  06:46  TOR     OTT  False -34.0  28.0   \n",
       "...         ...        ...     ...    ...  ...     ...    ...   ...   ...   \n",
       "358203      868       3597       3  19:57  SJS     ARI  False  71.0 -16.0   \n",
       "358204      868       3633       4  00:33  SJS     ARI  False -68.0 -14.0   \n",
       "358205      868       3657       4  00:57  ARI     SJS  False  56.0  11.0   \n",
       "358206      868       3706       4  01:46  ARI     SJS  False  73.0   6.0   \n",
       "358207      868       3750       4  02:30  ARI     SJS   True  76.0 -15.0   \n",
       "\n",
       "                Shooter  ... X_net Shot_distance  Shot_angle Rebound_angle  \\\n",
       "0       Mitchell Marner  ...  12.0     13.000000   22.619865           0.0   \n",
       "1           Chris Kelly  ...   3.0     13.341664   77.005383           0.0   \n",
       "2             Cody Ceci  ...  66.0     76.157731   29.931512           0.0   \n",
       "3         Erik Karlsson  ...  56.0     57.974132   14.995079           0.0   \n",
       "4       Martin Marincin  ...  55.0     61.717096   26.980231           0.0   \n",
       "...                 ...  ...   ...           ...         ...           ...   \n",
       "358203      Noah Gregor  ...  18.0     24.083189   41.633539           0.0   \n",
       "358204    Erik Karlsson  ...  21.0     25.238859   33.690068           0.0   \n",
       "358205    Conor Garland  ...  33.0     34.785054   18.434949           0.0   \n",
       "358206    Conor Garland  ...  16.0     17.088007   20.556045           0.0   \n",
       "358207      Phil Kessel  ...  13.0     19.849433   49.085617           0.0   \n",
       "\n",
       "        Year  Shooter_ratio  Goalie_ratio  Team_goals  Opp_concedes  Powp  \n",
       "0       2016         0.1000        0.9000      3.0000        3.0000     0  \n",
       "1       2016         0.1000        0.9000      3.0000        3.0000     0  \n",
       "2       2016         0.1000        0.9000      3.0000        3.0000     0  \n",
       "3       2016         0.1000        0.9000      3.0000        3.0000     0  \n",
       "4       2016         0.1000        0.9000      3.0000        3.0000     0  \n",
       "...      ...            ...           ...         ...           ...   ...  \n",
       "358203  2020         0.1053        0.9032      2.8750        2.9873     0  \n",
       "358204  2020         0.0671        0.9032      2.8750        2.9873     0  \n",
       "358205  2020         0.1145        0.9006      2.7882        3.3300     0  \n",
       "358206  2020         0.1145        0.9006      2.7882        3.3300     0  \n",
       "358207  2020         0.1253        0.9006      2.7882        3.3300     0  \n",
       "\n",
       "[358208 rows x 34 columns]"
      ]
     },
     "execution_count": 32,
     "metadata": {},
     "output_type": "execute_result"
    }
   ],
   "source": [
    "df_2016 = load_df_shots(2016)\n",
    "df_2017 = load_df_shots(2017)\n",
    "df_2018 = load_df_shots(2018)\n",
    "df_2019 = load_df_shots(2019)\n",
    "df_2020 = load_df_shots(2020)\n",
    "\n",
    "df = pd.concat([df_2016, df_2017, df_2018, df_2019, df_2020]).reset_index(drop=True)\n",
    "\n",
    "df = add_shooter_ratio(df)\n",
    "df = add_goalie_ratio(df)\n",
    "df = add_team_goals(df)\n",
    "df = add_opponent_concedes(df)\n",
    "\n",
    "df.Shot_angle = df.Shot_angle.abs()\n",
    "df['Powp'] = df.Players - df.Opp_players\n",
    "df.loc[df.Powp < 0, 'Powp'] = 0\n",
    "df"
   ]
  },
  {
   "cell_type": "code",
   "execution_count": 33,
   "metadata": {},
   "outputs": [
    {
     "data": {
      "text/plain": [
       "Index(['Game_id', 'Game_time', 'Period', 'Time', 'Team', 'OppTeam', 'Goal',\n",
       "       'X', 'Y', 'Shooter', 'Goalie', 'Type', 'Empty_net', 'Strength',\n",
       "       'Previous_event_type', 'Previous_x', 'Previous_y',\n",
       "       'Previous_time_since', 'Previous_distance', 'Speed', 'Is_rebound',\n",
       "       'Time_since_powp', 'Players', 'Opp_players', 'X_net', 'Shot_distance',\n",
       "       'Shot_angle', 'Rebound_angle', 'Year', 'Shooter_ratio', 'Goalie_ratio',\n",
       "       'Team_goals', 'Opp_concedes', 'Powp'],\n",
       "      dtype='object')"
      ]
     },
     "execution_count": 33,
     "metadata": {},
     "output_type": "execute_result"
    }
   ],
   "source": [
    "df.columns"
   ]
  },
  {
   "cell_type": "code",
   "execution_count": 9,
   "metadata": {},
   "outputs": [],
   "source": [
    "df_tot.loc[df_tot.P_diff < 0, 'P_diff'] = 0"
   ]
  },
  {
   "cell_type": "code",
   "execution_count": 11,
   "metadata": {},
   "outputs": [],
   "source": [
    "from sklearn.preprocessing import OrdinalEncoder, normalize, minmax_scale\n",
    "enc = OrdinalEncoder()"
   ]
  },
  {
   "cell_type": "code",
   "execution_count": 12,
   "metadata": {},
   "outputs": [],
   "source": [
    "df_tot.Game_time = minmax_scale(df_tot.Game_time.values)\n",
    "\n",
    "df_tot.Previous_distance = minmax_scale(df_tot.Previous_distance.values)\n",
    "df_tot.Speed = minmax_scale(df_tot.Speed.values)\n",
    "df_tot.Time_since_powp = minmax_scale(df_tot.Time_since_powp.values)\n",
    "df_tot.Shot_distance = minmax_scale(df_tot.Shot_distance.values)\n",
    "\n",
    "df_tot.Shooter_ratio = minmax_scale(df_tot.Shooter_ratio.values)\n",
    "df_tot.Goalie_ratio = minmax_scale(df_tot.Goalie_ratio.values)\n",
    "df_tot.Team_goals = minmax_scale(df_tot.Team_goals.values)\n",
    "df_tot.Opp_concedes = minmax_scale(df_tot.Opp_concedes.values)\n",
    "# df_tot.Players = minmax_scale(df_tot.Players.values)\n",
    "# df_tot.Opp_players = minmax_scale(df_tot.Opp_players.values)\n",
    "df_tot.P_diff = minmax_scale(df_tot.P_diff.values)\n",
    "\n",
    "df_tot.Shot_angle = df_tot.Shot_angle.abs()\n",
    "df_tot.Shot_angle = minmax_scale(df_tot.Shot_angle.values)\n",
    "df_tot.Rebound_angle = minmax_scale(df_tot.Rebound_angle.values)"
   ]
  },
  {
   "cell_type": "code",
   "execution_count": 13,
   "metadata": {},
   "outputs": [],
   "source": [
    "from sklearn.preprocessing import OrdinalEncoder\n",
    "enc = OrdinalEncoder()\n",
    "\n",
    "df_train = df_tot[df_tot.Year < 2020].drop('Year', axis=1)\n",
    "df_val = df_tot[df_tot.Year == 2020].drop('Year', axis=1)\n",
    "df_test = df_tot[df_tot.Year == 2020].drop('Year', axis=1)\n",
    "\n",
    "if 'Type' in df_tot:\n",
    "    type_enc = df_train.groupby('Type').Goal.mean().reset_index(name='Type_enc')\n",
    "    df_train = df_train.drop('Type_enc', axis=1, errors='ignore')\n",
    "    df_train = df_train.merge(type_enc[['Type', 'Type_enc']], how='left', on=['Type'])\n",
    "    df_train = df_train.drop('Type', axis=1, errors='ignore')\n",
    "    df_val = df_val.drop('Type_enc', axis=1, errors='ignore')\n",
    "    df_val = df_val.merge(type_enc[['Type', 'Type_enc']], how='left', on=['Type'])\n",
    "    df_val = df_val.drop('Type', axis=1, errors='ignore')\n",
    "    df_test = df_test.drop('Type_enc', axis=1, errors='ignore')\n",
    "    df_test = df_test.merge(type_enc[['Type', 'Type_enc']], how='left', on=['Type'])\n",
    "    df_test = df_test.drop('Type', axis=1, errors='ignore')\n",
    "\n",
    "    # df_train.Type_enc = minmax_scale(df_train.Type_enc.values)\n",
    "    # df_val.Type_enc = minmax_scale(df_val.Type_enc.values)\n",
    "    # df_test.Type_enc = minmax_scale(df_test.Type_enc.values)\n",
    "    # df_train.Type = enc.fit_transform(df_train.Type.values.reshape(-1,1)).reshape(-1)\n",
    "    # df_val.Type = enc.fit_transform(df_val.Type.values.reshape(-1,1)).reshape(-1)\n",
    "    # df_test.Type = enc.transform(df_test.Type.values.reshape(-1,1)).reshape(-1)\n",
    "\n",
    "# df_train.Empty_net = df_train.Empty_net.astype(int)\n",
    "# df_train.Is_rebound = df_train.Is_rebound.astype(int)\n",
    "df_train.Goal = df_train.Goal.astype(float)\n",
    "\n",
    "# df_val.Empty_net = df_val.Empty_net.astype(int)\n",
    "# df_val.Is_rebound = df_val.Is_rebound.astype(int)\n",
    "df_val.Goal = df_val.Goal.astype(float)\n",
    "\n",
    "# df_test.Empty_net = df_test.Empty_net.astype(int)\n",
    "# df_test.Is_rebound = df_test.Is_rebound.astype(int)\n",
    "df_test.Goal = df_test.Goal.astype(float)\n",
    "\n",
    "train_labels = df_train.Goal.values.reshape(-1,1)\n",
    "val_labels = df_val.Goal.values.reshape(-1,1)\n",
    "test_labels = df_test.Goal.values.reshape(-1,1)\n",
    "\n",
    "pos = df_train.Goal.sum()\n",
    "neg = len(df_train) - df_train.Goal.sum()\n",
    "tot = len(df_train)\n",
    "class_weight = {0: (1 / neg) * (tot/2.0), 1: (1 / pos) * (tot/2.0)}"
   ]
  },
  {
   "cell_type": "code",
   "execution_count": 14,
   "metadata": {},
   "outputs": [],
   "source": [
    "type_enc = df_train.groupby('Previous_event_type').Goal.mean().reset_index(name='Pe_enc')\n",
    "df_train = df_train.drop('Pe_enc', axis=1, errors='ignore')\n",
    "df_train = df_train.merge(type_enc[['Previous_event_type', 'Pe_enc']], how='left', on=['Previous_event_type'])\n",
    "df_train = df_train.drop('Previous_event_type', axis=1, errors='ignore')\n",
    "\n",
    "df_val = df_val.drop('Pe_enc', axis=1, errors='ignore')\n",
    "df_val = df_val.merge(type_enc[['Previous_event_type', 'Pe_enc']], how='left', on=['Previous_event_type'])\n",
    "df_val = df_val.drop('Previous_event_type', axis=1, errors='ignore')\n",
    "df_val.Pe_enc.fillna(df_val.Pe_enc.mean(), inplace=True)\n",
    "\n",
    "df_test = df_test.drop('Pe_enc', axis=1, errors='ignore')\n",
    "df_test = df_test.merge(type_enc[['Previous_event_type', 'Pe_enc']], how='left', on=['Previous_event_type'])\n",
    "df_test = df_test.drop('Previous_event_type', axis=1, errors='ignore')\n",
    "df_test.Pe_enc.fillna(df_test.Pe_enc.mean(), inplace=True)"
   ]
  },
  {
   "cell_type": "markdown",
   "metadata": {},
   "source": [
    "## XGBoost"
   ]
  },
  {
   "cell_type": "code",
   "execution_count": null,
   "metadata": {},
   "outputs": [],
   "source": [
    "from xgboost import XGBClassifier\n",
    "from sklearn.metrics import accuracy_score, roc_curve, auc, roc_auc_score\n",
    "\n",
    "X_train = df_train.Shot_distance\n",
    "y_train = df_train.Goal\n",
    "X_test = df_test.Shot_distance\n",
    "y_test = df_test.Goal\n",
    "\n",
    "bst = XGBClassifier()\n",
    "bst.fit(X_train, y_train)\n",
    "# make predictions\n",
    "preds = bst.predict(X_test)"
   ]
  },
  {
   "cell_type": "code",
   "execution_count": 34,
   "metadata": {},
   "outputs": [
    {
     "ename": "ValueError",
     "evalue": "DataFrame.dtypes for data must be int, float, bool or category. When categorical type is supplied, The experimental DMatrix parameter`enable_categorical` must be set to `True`.  Invalid columns:Previous_event_type: object",
     "output_type": "error",
     "traceback": [
      "\u001b[0;31m---------------------------------------------------------------------------\u001b[0m",
      "\u001b[0;31mValueError\u001b[0m                                Traceback (most recent call last)",
      "\u001b[1;32m/Users/alexandreganito/Documents/Data science/Project/NHL/notebooks/M2-features.ipynb Cell 24\u001b[0m line \u001b[0;36m1\n\u001b[1;32m      <a href='vscode-notebook-cell:/Users/alexandreganito/Documents/Data%20science/Project/NHL/notebooks/M2-features.ipynb#X30sZmlsZQ%3D%3D?line=8'>9</a>\u001b[0m bst \u001b[39m=\u001b[39m XGBClassifier(scale_pos_weight\u001b[39m=\u001b[39m\u001b[39m9\u001b[39m)\n\u001b[1;32m     <a href='vscode-notebook-cell:/Users/alexandreganito/Documents/Data%20science/Project/NHL/notebooks/M2-features.ipynb#X30sZmlsZQ%3D%3D?line=9'>10</a>\u001b[0m \u001b[39m# fit model\u001b[39;00m\n\u001b[0;32m---> <a href='vscode-notebook-cell:/Users/alexandreganito/Documents/Data%20science/Project/NHL/notebooks/M2-features.ipynb#X30sZmlsZQ%3D%3D?line=10'>11</a>\u001b[0m bst\u001b[39m.\u001b[39;49mfit(X_train, y_train)\n\u001b[1;32m     <a href='vscode-notebook-cell:/Users/alexandreganito/Documents/Data%20science/Project/NHL/notebooks/M2-features.ipynb#X30sZmlsZQ%3D%3D?line=11'>12</a>\u001b[0m \u001b[39m# make predictions\u001b[39;00m\n\u001b[1;32m     <a href='vscode-notebook-cell:/Users/alexandreganito/Documents/Data%20science/Project/NHL/notebooks/M2-features.ipynb#X30sZmlsZQ%3D%3D?line=12'>13</a>\u001b[0m preds \u001b[39m=\u001b[39m bst\u001b[39m.\u001b[39mpredict(X_test)\n",
      "File \u001b[0;32m~/Documents/Data science/venv/lib/python3.10/site-packages/xgboost/core.py:729\u001b[0m, in \u001b[0;36mrequire_keyword_args.<locals>.throw_if.<locals>.inner_f\u001b[0;34m(*args, **kwargs)\u001b[0m\n\u001b[1;32m    727\u001b[0m \u001b[39mfor\u001b[39;00m k, arg \u001b[39min\u001b[39;00m \u001b[39mzip\u001b[39m(sig\u001b[39m.\u001b[39mparameters, args):\n\u001b[1;32m    728\u001b[0m     kwargs[k] \u001b[39m=\u001b[39m arg\n\u001b[0;32m--> 729\u001b[0m \u001b[39mreturn\u001b[39;00m func(\u001b[39m*\u001b[39;49m\u001b[39m*\u001b[39;49mkwargs)\n",
      "File \u001b[0;32m~/Documents/Data science/venv/lib/python3.10/site-packages/xgboost/sklearn.py:1496\u001b[0m, in \u001b[0;36mXGBClassifier.fit\u001b[0;34m(self, X, y, sample_weight, base_margin, eval_set, eval_metric, early_stopping_rounds, verbose, xgb_model, sample_weight_eval_set, base_margin_eval_set, feature_weights, callbacks)\u001b[0m\n\u001b[1;32m   1485\u001b[0m     params[\u001b[39m\"\u001b[39m\u001b[39mnum_class\u001b[39m\u001b[39m\"\u001b[39m] \u001b[39m=\u001b[39m \u001b[39mself\u001b[39m\u001b[39m.\u001b[39mn_classes_\n\u001b[1;32m   1487\u001b[0m (\n\u001b[1;32m   1488\u001b[0m     model,\n\u001b[1;32m   1489\u001b[0m     metric,\n\u001b[0;32m   (...)\u001b[0m\n\u001b[1;32m   1494\u001b[0m     xgb_model, eval_metric, params, early_stopping_rounds, callbacks\n\u001b[1;32m   1495\u001b[0m )\n\u001b[0;32m-> 1496\u001b[0m train_dmatrix, evals \u001b[39m=\u001b[39m _wrap_evaluation_matrices(\n\u001b[1;32m   1497\u001b[0m     missing\u001b[39m=\u001b[39;49m\u001b[39mself\u001b[39;49m\u001b[39m.\u001b[39;49mmissing,\n\u001b[1;32m   1498\u001b[0m     X\u001b[39m=\u001b[39;49mX,\n\u001b[1;32m   1499\u001b[0m     y\u001b[39m=\u001b[39;49my,\n\u001b[1;32m   1500\u001b[0m     group\u001b[39m=\u001b[39;49m\u001b[39mNone\u001b[39;49;00m,\n\u001b[1;32m   1501\u001b[0m     qid\u001b[39m=\u001b[39;49m\u001b[39mNone\u001b[39;49;00m,\n\u001b[1;32m   1502\u001b[0m     sample_weight\u001b[39m=\u001b[39;49msample_weight,\n\u001b[1;32m   1503\u001b[0m     base_margin\u001b[39m=\u001b[39;49mbase_margin,\n\u001b[1;32m   1504\u001b[0m     feature_weights\u001b[39m=\u001b[39;49mfeature_weights,\n\u001b[1;32m   1505\u001b[0m     eval_set\u001b[39m=\u001b[39;49meval_set,\n\u001b[1;32m   1506\u001b[0m     sample_weight_eval_set\u001b[39m=\u001b[39;49msample_weight_eval_set,\n\u001b[1;32m   1507\u001b[0m     base_margin_eval_set\u001b[39m=\u001b[39;49mbase_margin_eval_set,\n\u001b[1;32m   1508\u001b[0m     eval_group\u001b[39m=\u001b[39;49m\u001b[39mNone\u001b[39;49;00m,\n\u001b[1;32m   1509\u001b[0m     eval_qid\u001b[39m=\u001b[39;49m\u001b[39mNone\u001b[39;49;00m,\n\u001b[1;32m   1510\u001b[0m     create_dmatrix\u001b[39m=\u001b[39;49m\u001b[39mself\u001b[39;49m\u001b[39m.\u001b[39;49m_create_dmatrix,\n\u001b[1;32m   1511\u001b[0m     enable_categorical\u001b[39m=\u001b[39;49m\u001b[39mself\u001b[39;49m\u001b[39m.\u001b[39;49menable_categorical,\n\u001b[1;32m   1512\u001b[0m     feature_types\u001b[39m=\u001b[39;49m\u001b[39mself\u001b[39;49m\u001b[39m.\u001b[39;49mfeature_types,\n\u001b[1;32m   1513\u001b[0m )\n\u001b[1;32m   1515\u001b[0m \u001b[39mself\u001b[39m\u001b[39m.\u001b[39m_Booster \u001b[39m=\u001b[39m train(\n\u001b[1;32m   1516\u001b[0m     params,\n\u001b[1;32m   1517\u001b[0m     train_dmatrix,\n\u001b[0;32m   (...)\u001b[0m\n\u001b[1;32m   1526\u001b[0m     callbacks\u001b[39m=\u001b[39mcallbacks,\n\u001b[1;32m   1527\u001b[0m )\n\u001b[1;32m   1529\u001b[0m \u001b[39mif\u001b[39;00m \u001b[39mnot\u001b[39;00m \u001b[39mcallable\u001b[39m(\u001b[39mself\u001b[39m\u001b[39m.\u001b[39mobjective):\n",
      "File \u001b[0;32m~/Documents/Data science/venv/lib/python3.10/site-packages/xgboost/sklearn.py:534\u001b[0m, in \u001b[0;36m_wrap_evaluation_matrices\u001b[0;34m(missing, X, y, group, qid, sample_weight, base_margin, feature_weights, eval_set, sample_weight_eval_set, base_margin_eval_set, eval_group, eval_qid, create_dmatrix, enable_categorical, feature_types)\u001b[0m\n\u001b[1;32m    514\u001b[0m \u001b[39mdef\u001b[39;00m \u001b[39m_wrap_evaluation_matrices\u001b[39m(\n\u001b[1;32m    515\u001b[0m     missing: \u001b[39mfloat\u001b[39m,\n\u001b[1;32m    516\u001b[0m     X: Any,\n\u001b[0;32m   (...)\u001b[0m\n\u001b[1;32m    530\u001b[0m     feature_types: Optional[FeatureTypes],\n\u001b[1;32m    531\u001b[0m ) \u001b[39m-\u001b[39m\u001b[39m>\u001b[39m Tuple[Any, List[Tuple[Any, \u001b[39mstr\u001b[39m]]]:\n\u001b[1;32m    532\u001b[0m \u001b[39m    \u001b[39m\u001b[39m\"\"\"Convert array_like evaluation matrices into DMatrix.  Perform validation on the\u001b[39;00m\n\u001b[1;32m    533\u001b[0m \u001b[39m    way.\"\"\"\u001b[39;00m\n\u001b[0;32m--> 534\u001b[0m     train_dmatrix \u001b[39m=\u001b[39m create_dmatrix(\n\u001b[1;32m    535\u001b[0m         data\u001b[39m=\u001b[39;49mX,\n\u001b[1;32m    536\u001b[0m         label\u001b[39m=\u001b[39;49my,\n\u001b[1;32m    537\u001b[0m         group\u001b[39m=\u001b[39;49mgroup,\n\u001b[1;32m    538\u001b[0m         qid\u001b[39m=\u001b[39;49mqid,\n\u001b[1;32m    539\u001b[0m         weight\u001b[39m=\u001b[39;49msample_weight,\n\u001b[1;32m    540\u001b[0m         base_margin\u001b[39m=\u001b[39;49mbase_margin,\n\u001b[1;32m    541\u001b[0m         feature_weights\u001b[39m=\u001b[39;49mfeature_weights,\n\u001b[1;32m    542\u001b[0m         missing\u001b[39m=\u001b[39;49mmissing,\n\u001b[1;32m    543\u001b[0m         enable_categorical\u001b[39m=\u001b[39;49menable_categorical,\n\u001b[1;32m    544\u001b[0m         feature_types\u001b[39m=\u001b[39;49mfeature_types,\n\u001b[1;32m    545\u001b[0m         ref\u001b[39m=\u001b[39;49m\u001b[39mNone\u001b[39;49;00m,\n\u001b[1;32m    546\u001b[0m     )\n\u001b[1;32m    548\u001b[0m     n_validation \u001b[39m=\u001b[39m \u001b[39m0\u001b[39m \u001b[39mif\u001b[39;00m eval_set \u001b[39mis\u001b[39;00m \u001b[39mNone\u001b[39;00m \u001b[39melse\u001b[39;00m \u001b[39mlen\u001b[39m(eval_set)\n\u001b[1;32m    550\u001b[0m     \u001b[39mdef\u001b[39;00m \u001b[39mvalidate_or_none\u001b[39m(meta: Optional[Sequence], name: \u001b[39mstr\u001b[39m) \u001b[39m-\u001b[39m\u001b[39m>\u001b[39m Sequence:\n",
      "File \u001b[0;32m~/Documents/Data science/venv/lib/python3.10/site-packages/xgboost/sklearn.py:954\u001b[0m, in \u001b[0;36mXGBModel._create_dmatrix\u001b[0;34m(self, ref, **kwargs)\u001b[0m\n\u001b[1;32m    952\u001b[0m \u001b[39mif\u001b[39;00m _can_use_qdm(\u001b[39mself\u001b[39m\u001b[39m.\u001b[39mtree_method) \u001b[39mand\u001b[39;00m \u001b[39mself\u001b[39m\u001b[39m.\u001b[39mbooster \u001b[39m!=\u001b[39m \u001b[39m\"\u001b[39m\u001b[39mgblinear\u001b[39m\u001b[39m\"\u001b[39m:\n\u001b[1;32m    953\u001b[0m     \u001b[39mtry\u001b[39;00m:\n\u001b[0;32m--> 954\u001b[0m         \u001b[39mreturn\u001b[39;00m QuantileDMatrix(\n\u001b[1;32m    955\u001b[0m             \u001b[39m*\u001b[39;49m\u001b[39m*\u001b[39;49mkwargs, ref\u001b[39m=\u001b[39;49mref, nthread\u001b[39m=\u001b[39;49m\u001b[39mself\u001b[39;49m\u001b[39m.\u001b[39;49mn_jobs, max_bin\u001b[39m=\u001b[39;49m\u001b[39mself\u001b[39;49m\u001b[39m.\u001b[39;49mmax_bin\n\u001b[1;32m    956\u001b[0m         )\n\u001b[1;32m    957\u001b[0m     \u001b[39mexcept\u001b[39;00m \u001b[39mTypeError\u001b[39;00m:  \u001b[39m# `QuantileDMatrix` supports lesser types than DMatrix\u001b[39;00m\n\u001b[1;32m    958\u001b[0m         \u001b[39mpass\u001b[39;00m\n",
      "File \u001b[0;32m~/Documents/Data science/venv/lib/python3.10/site-packages/xgboost/core.py:729\u001b[0m, in \u001b[0;36mrequire_keyword_args.<locals>.throw_if.<locals>.inner_f\u001b[0;34m(*args, **kwargs)\u001b[0m\n\u001b[1;32m    727\u001b[0m \u001b[39mfor\u001b[39;00m k, arg \u001b[39min\u001b[39;00m \u001b[39mzip\u001b[39m(sig\u001b[39m.\u001b[39mparameters, args):\n\u001b[1;32m    728\u001b[0m     kwargs[k] \u001b[39m=\u001b[39m arg\n\u001b[0;32m--> 729\u001b[0m \u001b[39mreturn\u001b[39;00m func(\u001b[39m*\u001b[39;49m\u001b[39m*\u001b[39;49mkwargs)\n",
      "File \u001b[0;32m~/Documents/Data science/venv/lib/python3.10/site-packages/xgboost/core.py:1528\u001b[0m, in \u001b[0;36mQuantileDMatrix.__init__\u001b[0;34m(self, data, label, weight, base_margin, missing, silent, feature_names, feature_types, nthread, max_bin, ref, group, qid, label_lower_bound, label_upper_bound, feature_weights, enable_categorical, data_split_mode)\u001b[0m\n\u001b[1;32m   1508\u001b[0m     \u001b[39mif\u001b[39;00m \u001b[39many\u001b[39m(\n\u001b[1;32m   1509\u001b[0m         info \u001b[39mis\u001b[39;00m \u001b[39mnot\u001b[39;00m \u001b[39mNone\u001b[39;00m\n\u001b[1;32m   1510\u001b[0m         \u001b[39mfor\u001b[39;00m info \u001b[39min\u001b[39;00m (\n\u001b[0;32m   (...)\u001b[0m\n\u001b[1;32m   1521\u001b[0m         )\n\u001b[1;32m   1522\u001b[0m     ):\n\u001b[1;32m   1523\u001b[0m         \u001b[39mraise\u001b[39;00m \u001b[39mValueError\u001b[39;00m(\n\u001b[1;32m   1524\u001b[0m             \u001b[39m\"\u001b[39m\u001b[39mIf data iterator is used as input, data like label should be \u001b[39m\u001b[39m\"\u001b[39m\n\u001b[1;32m   1525\u001b[0m             \u001b[39m\"\u001b[39m\u001b[39mspecified as batch argument.\u001b[39m\u001b[39m\"\u001b[39m\n\u001b[1;32m   1526\u001b[0m         )\n\u001b[0;32m-> 1528\u001b[0m \u001b[39mself\u001b[39;49m\u001b[39m.\u001b[39;49m_init(\n\u001b[1;32m   1529\u001b[0m     data,\n\u001b[1;32m   1530\u001b[0m     ref\u001b[39m=\u001b[39;49mref,\n\u001b[1;32m   1531\u001b[0m     label\u001b[39m=\u001b[39;49mlabel,\n\u001b[1;32m   1532\u001b[0m     weight\u001b[39m=\u001b[39;49mweight,\n\u001b[1;32m   1533\u001b[0m     base_margin\u001b[39m=\u001b[39;49mbase_margin,\n\u001b[1;32m   1534\u001b[0m     group\u001b[39m=\u001b[39;49mgroup,\n\u001b[1;32m   1535\u001b[0m     qid\u001b[39m=\u001b[39;49mqid,\n\u001b[1;32m   1536\u001b[0m     label_lower_bound\u001b[39m=\u001b[39;49mlabel_lower_bound,\n\u001b[1;32m   1537\u001b[0m     label_upper_bound\u001b[39m=\u001b[39;49mlabel_upper_bound,\n\u001b[1;32m   1538\u001b[0m     feature_weights\u001b[39m=\u001b[39;49mfeature_weights,\n\u001b[1;32m   1539\u001b[0m     feature_names\u001b[39m=\u001b[39;49mfeature_names,\n\u001b[1;32m   1540\u001b[0m     feature_types\u001b[39m=\u001b[39;49mfeature_types,\n\u001b[1;32m   1541\u001b[0m     enable_categorical\u001b[39m=\u001b[39;49menable_categorical,\n\u001b[1;32m   1542\u001b[0m )\n",
      "File \u001b[0;32m~/Documents/Data science/venv/lib/python3.10/site-packages/xgboost/core.py:1587\u001b[0m, in \u001b[0;36mQuantileDMatrix._init\u001b[0;34m(self, data, ref, enable_categorical, **meta)\u001b[0m\n\u001b[1;32m   1575\u001b[0m config \u001b[39m=\u001b[39m make_jcargs(\n\u001b[1;32m   1576\u001b[0m     nthread\u001b[39m=\u001b[39m\u001b[39mself\u001b[39m\u001b[39m.\u001b[39mnthread, missing\u001b[39m=\u001b[39m\u001b[39mself\u001b[39m\u001b[39m.\u001b[39mmissing, max_bin\u001b[39m=\u001b[39m\u001b[39mself\u001b[39m\u001b[39m.\u001b[39mmax_bin\n\u001b[1;32m   1577\u001b[0m )\n\u001b[1;32m   1578\u001b[0m ret \u001b[39m=\u001b[39m _LIB\u001b[39m.\u001b[39mXGQuantileDMatrixCreateFromCallback(\n\u001b[1;32m   1579\u001b[0m     \u001b[39mNone\u001b[39;00m,\n\u001b[1;32m   1580\u001b[0m     it\u001b[39m.\u001b[39mproxy\u001b[39m.\u001b[39mhandle,\n\u001b[0;32m   (...)\u001b[0m\n\u001b[1;32m   1585\u001b[0m     ctypes\u001b[39m.\u001b[39mbyref(handle),\n\u001b[1;32m   1586\u001b[0m )\n\u001b[0;32m-> 1587\u001b[0m it\u001b[39m.\u001b[39;49mreraise()\n\u001b[1;32m   1588\u001b[0m \u001b[39m# delay check_call to throw intermediate exception first\u001b[39;00m\n\u001b[1;32m   1589\u001b[0m _check_call(ret)\n",
      "File \u001b[0;32m~/Documents/Data science/venv/lib/python3.10/site-packages/xgboost/core.py:575\u001b[0m, in \u001b[0;36mDataIter.reraise\u001b[0;34m(self)\u001b[0m\n\u001b[1;32m    573\u001b[0m exc \u001b[39m=\u001b[39m \u001b[39mself\u001b[39m\u001b[39m.\u001b[39m_exception\n\u001b[1;32m    574\u001b[0m \u001b[39mself\u001b[39m\u001b[39m.\u001b[39m_exception \u001b[39m=\u001b[39m \u001b[39mNone\u001b[39;00m\n\u001b[0;32m--> 575\u001b[0m \u001b[39mraise\u001b[39;00m exc\n",
      "File \u001b[0;32m~/Documents/Data science/venv/lib/python3.10/site-packages/xgboost/core.py:556\u001b[0m, in \u001b[0;36mDataIter._handle_exception\u001b[0;34m(self, fn, dft_ret)\u001b[0m\n\u001b[1;32m    553\u001b[0m     \u001b[39mreturn\u001b[39;00m dft_ret\n\u001b[1;32m    555\u001b[0m \u001b[39mtry\u001b[39;00m:\n\u001b[0;32m--> 556\u001b[0m     \u001b[39mreturn\u001b[39;00m fn()\n\u001b[1;32m    557\u001b[0m \u001b[39mexcept\u001b[39;00m \u001b[39mException\u001b[39;00m \u001b[39mas\u001b[39;00m e:  \u001b[39m# pylint: disable=broad-except\u001b[39;00m\n\u001b[1;32m    558\u001b[0m     \u001b[39m# Defer the exception in order to return 0 and stop the iteration.\u001b[39;00m\n\u001b[1;32m    559\u001b[0m     \u001b[39m# Exception inside a ctype callback function has no effect except\u001b[39;00m\n\u001b[1;32m    560\u001b[0m     \u001b[39m# for printing to stderr (doesn't stop the execution).\u001b[39;00m\n\u001b[1;32m    561\u001b[0m     tb \u001b[39m=\u001b[39m sys\u001b[39m.\u001b[39mexc_info()[\u001b[39m2\u001b[39m]\n",
      "File \u001b[0;32m~/Documents/Data science/venv/lib/python3.10/site-packages/xgboost/core.py:640\u001b[0m, in \u001b[0;36mDataIter._next_wrapper.<locals>.<lambda>\u001b[0;34m()\u001b[0m\n\u001b[1;32m    637\u001b[0m     \u001b[39mself\u001b[39m\u001b[39m.\u001b[39m_data_ref \u001b[39m=\u001b[39m ref\n\u001b[1;32m    639\u001b[0m \u001b[39m# pylint: disable=not-callable\u001b[39;00m\n\u001b[0;32m--> 640\u001b[0m \u001b[39mreturn\u001b[39;00m \u001b[39mself\u001b[39m\u001b[39m.\u001b[39m_handle_exception(\u001b[39mlambda\u001b[39;00m: \u001b[39mself\u001b[39;49m\u001b[39m.\u001b[39;49mnext(input_data), \u001b[39m0\u001b[39m)\n",
      "File \u001b[0;32m~/Documents/Data science/venv/lib/python3.10/site-packages/xgboost/data.py:1280\u001b[0m, in \u001b[0;36mSingleBatchInternalIter.next\u001b[0;34m(self, input_data)\u001b[0m\n\u001b[1;32m   1278\u001b[0m     \u001b[39mreturn\u001b[39;00m \u001b[39m0\u001b[39m\n\u001b[1;32m   1279\u001b[0m \u001b[39mself\u001b[39m\u001b[39m.\u001b[39mit \u001b[39m+\u001b[39m\u001b[39m=\u001b[39m \u001b[39m1\u001b[39m\n\u001b[0;32m-> 1280\u001b[0m input_data(\u001b[39m*\u001b[39;49m\u001b[39m*\u001b[39;49m\u001b[39mself\u001b[39;49m\u001b[39m.\u001b[39;49mkwargs)\n\u001b[1;32m   1281\u001b[0m \u001b[39mreturn\u001b[39;00m \u001b[39m1\u001b[39m\n",
      "File \u001b[0;32m~/Documents/Data science/venv/lib/python3.10/site-packages/xgboost/core.py:729\u001b[0m, in \u001b[0;36mrequire_keyword_args.<locals>.throw_if.<locals>.inner_f\u001b[0;34m(*args, **kwargs)\u001b[0m\n\u001b[1;32m    727\u001b[0m \u001b[39mfor\u001b[39;00m k, arg \u001b[39min\u001b[39;00m \u001b[39mzip\u001b[39m(sig\u001b[39m.\u001b[39mparameters, args):\n\u001b[1;32m    728\u001b[0m     kwargs[k] \u001b[39m=\u001b[39m arg\n\u001b[0;32m--> 729\u001b[0m \u001b[39mreturn\u001b[39;00m func(\u001b[39m*\u001b[39;49m\u001b[39m*\u001b[39;49mkwargs)\n",
      "File \u001b[0;32m~/Documents/Data science/venv/lib/python3.10/site-packages/xgboost/core.py:623\u001b[0m, in \u001b[0;36mDataIter._next_wrapper.<locals>.input_data\u001b[0;34m(data, feature_names, feature_types, **kwargs)\u001b[0m\n\u001b[1;32m    621\u001b[0m     new, cat_codes, feature_names, feature_types \u001b[39m=\u001b[39m \u001b[39mself\u001b[39m\u001b[39m.\u001b[39m_temporary_data\n\u001b[1;32m    622\u001b[0m \u001b[39melse\u001b[39;00m:\n\u001b[0;32m--> 623\u001b[0m     new, cat_codes, feature_names, feature_types \u001b[39m=\u001b[39m _proxy_transform(\n\u001b[1;32m    624\u001b[0m         data,\n\u001b[1;32m    625\u001b[0m         feature_names,\n\u001b[1;32m    626\u001b[0m         feature_types,\n\u001b[1;32m    627\u001b[0m         \u001b[39mself\u001b[39;49m\u001b[39m.\u001b[39;49m_enable_categorical,\n\u001b[1;32m    628\u001b[0m     )\n\u001b[1;32m    629\u001b[0m \u001b[39m# Stage the data, meta info are copied inside C++ MetaInfo.\u001b[39;00m\n\u001b[1;32m    630\u001b[0m \u001b[39mself\u001b[39m\u001b[39m.\u001b[39m_temporary_data \u001b[39m=\u001b[39m (new, cat_codes, feature_names, feature_types)\n",
      "File \u001b[0;32m~/Documents/Data science/venv/lib/python3.10/site-packages/xgboost/data.py:1315\u001b[0m, in \u001b[0;36m_proxy_transform\u001b[0;34m(data, feature_names, feature_types, enable_categorical)\u001b[0m\n\u001b[1;32m   1313\u001b[0m     data \u001b[39m=\u001b[39m pd\u001b[39m.\u001b[39mDataFrame(data)\n\u001b[1;32m   1314\u001b[0m \u001b[39mif\u001b[39;00m _is_pandas_df(data):\n\u001b[0;32m-> 1315\u001b[0m     arr, feature_names, feature_types \u001b[39m=\u001b[39m _transform_pandas_df(\n\u001b[1;32m   1316\u001b[0m         data, enable_categorical, feature_names, feature_types\n\u001b[1;32m   1317\u001b[0m     )\n\u001b[1;32m   1318\u001b[0m     arr, _ \u001b[39m=\u001b[39m _ensure_np_dtype(arr, arr\u001b[39m.\u001b[39mdtype)\n\u001b[1;32m   1319\u001b[0m     \u001b[39mreturn\u001b[39;00m arr, \u001b[39mNone\u001b[39;00m, feature_names, feature_types\n",
      "File \u001b[0;32m~/Documents/Data science/venv/lib/python3.10/site-packages/xgboost/data.py:490\u001b[0m, in \u001b[0;36m_transform_pandas_df\u001b[0;34m(data, enable_categorical, feature_names, feature_types, meta, meta_type)\u001b[0m\n\u001b[1;32m    483\u001b[0m \u001b[39mfor\u001b[39;00m dtype \u001b[39min\u001b[39;00m data\u001b[39m.\u001b[39mdtypes:\n\u001b[1;32m    484\u001b[0m     \u001b[39mif\u001b[39;00m \u001b[39mnot\u001b[39;00m (\n\u001b[1;32m    485\u001b[0m         (dtype\u001b[39m.\u001b[39mname \u001b[39min\u001b[39;00m _pandas_dtype_mapper)\n\u001b[1;32m    486\u001b[0m         \u001b[39mor\u001b[39;00m is_pd_sparse_dtype(dtype)\n\u001b[1;32m    487\u001b[0m         \u001b[39mor\u001b[39;00m (is_pd_cat_dtype(dtype) \u001b[39mand\u001b[39;00m enable_categorical)\n\u001b[1;32m    488\u001b[0m         \u001b[39mor\u001b[39;00m is_pa_ext_dtype(dtype)\n\u001b[1;32m    489\u001b[0m     ):\n\u001b[0;32m--> 490\u001b[0m         _invalid_dataframe_dtype(data)\n\u001b[1;32m    491\u001b[0m     \u001b[39mif\u001b[39;00m is_pa_ext_dtype(dtype):\n\u001b[1;32m    492\u001b[0m         pyarrow_extension \u001b[39m=\u001b[39m \u001b[39mTrue\u001b[39;00m\n",
      "File \u001b[0;32m~/Documents/Data science/venv/lib/python3.10/site-packages/xgboost/data.py:308\u001b[0m, in \u001b[0;36m_invalid_dataframe_dtype\u001b[0;34m(data)\u001b[0m\n\u001b[1;32m    306\u001b[0m type_err \u001b[39m=\u001b[39m \u001b[39m\"\u001b[39m\u001b[39mDataFrame.dtypes for data must be int, float, bool or category.\u001b[39m\u001b[39m\"\u001b[39m\n\u001b[1;32m    307\u001b[0m msg \u001b[39m=\u001b[39m \u001b[39mf\u001b[39m\u001b[39m\"\"\"\u001b[39m\u001b[39m{\u001b[39;00mtype_err\u001b[39m}\u001b[39;00m\u001b[39m \u001b[39m\u001b[39m{\u001b[39;00m_ENABLE_CAT_ERR\u001b[39m}\u001b[39;00m\u001b[39m \u001b[39m\u001b[39m{\u001b[39;00merr\u001b[39m}\u001b[39;00m\u001b[39m\"\"\"\u001b[39m\n\u001b[0;32m--> 308\u001b[0m \u001b[39mraise\u001b[39;00m \u001b[39mValueError\u001b[39;00m(msg)\n",
      "\u001b[0;31mValueError\u001b[0m: DataFrame.dtypes for data must be int, float, bool or category. When categorical type is supplied, The experimental DMatrix parameter`enable_categorical` must be set to `True`.  Invalid columns:Previous_event_type: object"
     ]
    }
   ],
   "source": [
    "from xgboost import XGBClassifier\n",
    "from sklearn.metrics import accuracy_score, roc_curve, auc, roc_auc_score\n",
    "\n",
    "X_train = df_train.drop('Goal', axis=1)\n",
    "y_train = df_train.Goal\n",
    "X_test = df_test.drop('Goal', axis=1)\n",
    "y_test = df_test.Goal\n",
    "\n",
    "bst = XGBClassifier(scale_pos_weight=9)\n",
    "# fit model\n",
    "bst.fit(X_train, y_train)\n",
    "# make predictions\n",
    "preds = bst.predict(X_test)"
   ]
  },
  {
   "cell_type": "code",
   "execution_count": 381,
   "metadata": {},
   "outputs": [
    {
     "data": {
      "text/plain": [
       "237301   NaN\n",
       "237302   NaN\n",
       "237303   NaN\n",
       "237304   NaN\n",
       "237305   NaN\n",
       "          ..\n",
       "305795   NaN\n",
       "305796   NaN\n",
       "305797   NaN\n",
       "305798   NaN\n",
       "305799   NaN\n",
       "Name: Goal, Length: 68499, dtype: float64"
      ]
     },
     "execution_count": 381,
     "metadata": {},
     "output_type": "execute_result"
    }
   ],
   "source": [
    "y_val"
   ]
  },
  {
   "cell_type": "code",
   "execution_count": 334,
   "metadata": {},
   "outputs": [
    {
     "name": "stderr",
     "output_type": "stream",
     "text": [
      "/Users/alexandreganito/Documents/Data science/venv/lib/python3.10/site-packages/sklearn/utils/validation.py:605: FutureWarning: is_sparse is deprecated and will be removed in a future version. Check `isinstance(dtype, pd.SparseDtype)` instead.\n",
      "  if is_sparse(pd_dtype):\n",
      "/Users/alexandreganito/Documents/Data science/venv/lib/python3.10/site-packages/sklearn/utils/validation.py:614: FutureWarning: is_sparse is deprecated and will be removed in a future version. Check `isinstance(dtype, pd.SparseDtype)` instead.\n",
      "  if is_sparse(pd_dtype) or not is_extension_array_dtype(pd_dtype):\n",
      "/Users/alexandreganito/Documents/Data science/venv/lib/python3.10/site-packages/sklearn/utils/validation.py:605: FutureWarning: is_sparse is deprecated and will be removed in a future version. Check `isinstance(dtype, pd.SparseDtype)` instead.\n",
      "  if is_sparse(pd_dtype):\n",
      "/Users/alexandreganito/Documents/Data science/venv/lib/python3.10/site-packages/sklearn/utils/validation.py:614: FutureWarning: is_sparse is deprecated and will be removed in a future version. Check `isinstance(dtype, pd.SparseDtype)` instead.\n",
      "  if is_sparse(pd_dtype) or not is_extension_array_dtype(pd_dtype):\n",
      "/Users/alexandreganito/Documents/Data science/venv/lib/python3.10/site-packages/sklearn/utils/validation.py:605: FutureWarning: is_sparse is deprecated and will be removed in a future version. Check `isinstance(dtype, pd.SparseDtype)` instead.\n",
      "  if is_sparse(pd_dtype):\n",
      "/Users/alexandreganito/Documents/Data science/venv/lib/python3.10/site-packages/sklearn/utils/validation.py:614: FutureWarning: is_sparse is deprecated and will be removed in a future version. Check `isinstance(dtype, pd.SparseDtype)` instead.\n",
      "  if is_sparse(pd_dtype) or not is_extension_array_dtype(pd_dtype):\n"
     ]
    },
    {
     "data": {
      "text/plain": [
       "0.6971836360860937"
      ]
     },
     "execution_count": 334,
     "metadata": {},
     "output_type": "execute_result"
    }
   ],
   "source": [
    "accuracy_score(y_test, preds)"
   ]
  },
  {
   "cell_type": "markdown",
   "metadata": {},
   "source": [
    "## TFDF"
   ]
  },
  {
   "cell_type": "code",
   "execution_count": 15,
   "metadata": {},
   "outputs": [],
   "source": [
    "import tensorflow_decision_forests as tfdf"
   ]
  },
  {
   "cell_type": "code",
   "execution_count": 16,
   "metadata": {},
   "outputs": [
    {
     "name": "stdout",
     "output_type": "stream",
     "text": [
      "Use /var/folders/dp/b94k5mbd3bb12qxl1lrmxmdc0000gn/T/tmpf3ysorsa as temporary training directory\n",
      "Reading training dataset...\n",
      "Training dataset read in 0:00:02.841007. Found 305800 examples.\n",
      "Training model...\n"
     ]
    },
    {
     "name": "stderr",
     "output_type": "stream",
     "text": [
      "[INFO 23-11-13 13:39:37.2853 EST kernel.cc:1233] Loading model from path /var/folders/dp/b94k5mbd3bb12qxl1lrmxmdc0000gn/T/tmpf3ysorsa/model/ with prefix 6ea15be4b4dd41b2\n",
      "[INFO 23-11-13 13:39:43.7441 EST decision_forest.cc:660] Model loaded with 254 root(s), 6642384 node(s), and 17 input feature(s).\n",
      "[INFO 23-11-13 13:39:43.7441 EST abstract_model.cc:1344] Engine \"RandomForestOptPred\" built\n",
      "[INFO 23-11-13 13:39:43.7441 EST kernel.cc:1061] Use fast generic engine\n"
     ]
    },
    {
     "name": "stdout",
     "output_type": "stream",
     "text": [
      "Model trained in 0:00:59.410906\n",
      "Compiling model...\n",
      "Model compiled.\n"
     ]
    },
    {
     "data": {
      "text/plain": [
       "<keras.src.callbacks.History at 0x2bf3c87c0>"
      ]
     },
     "execution_count": 16,
     "metadata": {},
     "output_type": "execute_result"
    }
   ],
   "source": [
    "train_ds = tfdf.keras.pd_dataframe_to_tf_dataset(df_train, label=\"Goal\")\n",
    "val_ds = tfdf.keras.pd_dataframe_to_tf_dataset(df_val, label=\"Goal\")\n",
    "test_ds = tfdf.keras.pd_dataframe_to_tf_dataset(df_test, label=\"Goal\")\n",
    "\n",
    "model = tfdf.keras.RandomForestModel(num_trees=550, max_depth=30)\n",
    "# model.fit(train_ds)\n",
    "model.fit(train_ds, class_weight=class_weight)"
   ]
  },
  {
   "cell_type": "code",
   "execution_count": 1,
   "metadata": {},
   "outputs": [
    {
     "ename": "NameError",
     "evalue": "name 'df_val' is not defined",
     "output_type": "error",
     "traceback": [
      "\u001b[0;31m---------------------------------------------------------------------------\u001b[0m",
      "\u001b[0;31mNameError\u001b[0m                                 Traceback (most recent call last)",
      "\u001b[1;32m/Users/alexandreganito/Documents/Data science/Project/NHL/notebooks/M2-features.ipynb Cell 32\u001b[0m line \u001b[0;36m1\n\u001b[0;32m----> <a href='vscode-notebook-cell:/Users/alexandreganito/Documents/Data%20science/Project/NHL/notebooks/M2-features.ipynb#X43sZmlsZQ%3D%3D?line=0'>1</a>\u001b[0m \u001b[39m43597\u001b[39m \u001b[39m/\u001b[39m df_val[df_val\u001b[39m.\u001b[39mGoal \u001b[39m==\u001b[39m \u001b[39m0\u001b[39m]\u001b[39m.\u001b[39mGoal\u001b[39m.\u001b[39mcount()\n",
      "\u001b[0;31mNameError\u001b[0m: name 'df_val' is not defined"
     ]
    }
   ],
   "source": [
    "43597 / df_val[df_val.Goal == 0].Goal.count()"
   ]
  },
  {
   "cell_type": "code",
   "execution_count": 20,
   "metadata": {},
   "outputs": [
    {
     "data": {
      "text/plain": [
       "0.6749398315282792"
      ]
     },
     "execution_count": 20,
     "metadata": {},
     "output_type": "execute_result"
    }
   ],
   "source": [
    "4487 / df_val[df_val.Goal == 1].Goal.count()"
   ]
  },
  {
   "cell_type": "code",
   "execution_count": 101,
   "metadata": {},
   "outputs": [],
   "source": [
    "from keras import metrics"
   ]
  },
  {
   "cell_type": "code",
   "execution_count": 186,
   "metadata": {},
   "outputs": [
    {
     "name": "stdout",
     "output_type": "stream",
     "text": [
      "53/53 [==============================] - 8s 154ms/step - loss: 0.0000e+00 - auc_14: 0.7719 - auc_pr: 0.3141 - precision_7: 0.3983 - recall_7: 0.1665\n"
     ]
    }
   ],
   "source": [
    "mtrcs = [metrics.AUC(), metrics.AUC(curve='PR', name='auc_pr'), metrics.Precision(), metrics.Recall()]\n",
    "model.compile(metrics=mtrcs)\n",
    "eval = model.evaluate(val_ds)[1:]\n",
    "mtrs_dir = {mtr.name:eval[i] for i, mtr in enumerate(mtrcs)}"
   ]
  },
  {
   "cell_type": "code",
   "execution_count": 103,
   "metadata": {},
   "outputs": [
    {
     "data": {
      "text/plain": [
       "{'auc': 0.7638530731201172,\n",
       " 'auc_pr': 0.2980096936225891,\n",
       " 'precision': 0.3699645400047302,\n",
       " 'recall': 0.1726835072040558}"
      ]
     },
     "execution_count": 103,
     "metadata": {},
     "output_type": "execute_result"
    }
   ],
   "source": [
    "mtrs_dir"
   ]
  },
  {
   "cell_type": "code",
   "execution_count": 175,
   "metadata": {},
   "outputs": [
    {
     "name": "stdout",
     "output_type": "stream",
     "text": [
      "53/53 [==============================] - 7s 132ms/step - loss: 0.0000e+00 - accuracy: 0.8815 - auc_11: 0.7703 - auc_12: 0.3076 - precision_6: 0.3411 - recall_6: 0.2141\n"
     ]
    },
    {
     "data": {
      "text/plain": [
       "[0.0,\n",
       " 0.881544828414917,\n",
       " 0.7703195810317993,\n",
       " 0.3076251447200775,\n",
       " 0.3411329984664917,\n",
       " 0.21406491100788116]"
      ]
     },
     "execution_count": 175,
     "metadata": {},
     "output_type": "execute_result"
    }
   ],
   "source": [
    "from keras import metrics\n",
    "model.compile(metrics=['accuracy', metrics.AUC(), metrics.AUC(curve='PR'), metrics.Precision(), metrics.Recall()])\n",
    "model.evaluate(val_ds)\n",
    "# predictions = model.predict(test_ds)"
   ]
  },
  {
   "cell_type": "code",
   "execution_count": 187,
   "metadata": {},
   "outputs": [
    {
     "name": "stdout",
     "output_type": "stream",
     "text": [
      "53/53 [==============================] - 8s 152ms/step - loss: 0.0000e+00 - auc_15: 0.7719 - accuracy: 0.8928\n"
     ]
    },
    {
     "data": {
      "text/plain": [
       "[0.0, 0.7719451189041138, 0.8928408026695251]"
      ]
     },
     "execution_count": 187,
     "metadata": {},
     "output_type": "execute_result"
    }
   ],
   "source": [
    "from keras import metrics\n",
    "model.compile(metrics.AUC(), 'accuracy')\n",
    "model.evaluate(val_ds)"
   ]
  },
  {
   "cell_type": "code",
   "execution_count": 17,
   "metadata": {},
   "outputs": [
    {
     "name": "stdout",
     "output_type": "stream",
     "text": [
      "53/53 [==============================] - 3s 60ms/step\n"
     ]
    }
   ],
   "source": [
    "predictions = model.predict(val_ds)"
   ]
  },
  {
   "cell_type": "code",
   "execution_count": 21,
   "metadata": {},
   "outputs": [
    {
     "data": {
      "text/plain": [
       "array([0.10629918, 0.10236217, 0.08661415, ..., 0.19291331, 0.39763764,\n",
       "       0.3149605 ], dtype=float32)"
      ]
     },
     "execution_count": 21,
     "metadata": {},
     "output_type": "execute_result"
    }
   ],
   "source": [
    "predictions.reshape(-1)"
   ]
  },
  {
   "cell_type": "code",
   "execution_count": 25,
   "metadata": {},
   "outputs": [],
   "source": [
    "y_val = df_val.Goal"
   ]
  },
  {
   "cell_type": "code",
   "execution_count": 24,
   "metadata": {},
   "outputs": [],
   "source": [
    "import matplotlib.pyplot as plt\n",
    "import numpy as np\n",
    "from sklearn.metrics import roc_curve, roc_auc_score\n",
    "from sklearn.calibration import calibration_curve\n",
    "\n",
    "def plots(y_valid, y_prob, model_name):\n",
    "    fig, axes = plt.subplots(2, 2, figsize=(12, 8))\n",
    "    plt.subplots_adjust(wspace=0.4, hspace=0.6)\n",
    "    plt.suptitle(f'Performance Evaluation of: {model_name}', fontsize=16)\n",
    "\n",
    "\n",
    "    # Plot ROC curve and calculate AUC\n",
    "    fpr, tpr, thresholds = roc_curve(y_valid, y_prob)\n",
    "    roc_auc = roc_auc_score(y_valid, y_prob)\n",
    "\n",
    "    axes[0,0].plot(fpr, tpr, color='darkorange', lw=2, label='ROC curve (area = %0.2f)' % roc_auc)\n",
    "    axes[0,0].plot([0, 1], [0, 1], color='navy', lw=2, linestyle='--')\n",
    "    axes[0,0].set_xlim([0.0, 1.0])\n",
    "    axes[0,0].set_ylim([0.0, 1.05])\n",
    "    axes[0,0].set_xlabel('False Positive Rate')\n",
    "    axes[0,0].set_ylabel('True Positive Rate')\n",
    "    axes[0,0].set_title('Receiver Operating Characteristic (ROC)')\n",
    "    axes[0,0].legend(loc=\"lower right\")\n",
    "\n",
    "    \n",
    "\n",
    "    axes[0,1].plot([0, 1], [0, 1], 'k:', label=\"Perfectly calibrated\")\n",
    "    prob_true, prob_pred = calibration_curve(y_valid, y_prob, n_bins=10)\n",
    "    axes[0,1].plot(prob_pred, prob_true, 's-', label=\"%s\" % ('clf_distance',))\n",
    "    axes[0,1].set_ylabel('Fraction of positives')\n",
    "    axes[0,1].set_xlabel('Mean predicted probability')\n",
    "    axes[0,1].set_title('Calibration Plot')\n",
    "\n",
    "    # Calculate and plot the rate of goals and cumulative proportion of goals\n",
    "    sorted_indices = np.argsort(y_prob)\n",
    "    sorted_goals = y_valid[sorted_indices]\n",
    "    predicted_probs = y_prob[sorted_indices]\n",
    "\n",
    "    n_bins = 20\n",
    "    bins = np.linspace(0, 1, n_bins + 1)\n",
    "    midpoints = (bins[:-1] + bins[1:]) / 2\n",
    "\n",
    "    goal_rates = []\n",
    "    for i in range(n_bins):\n",
    "        start_idx = int(i * len(predicted_probs) / n_bins)\n",
    "        end_idx = int((i + 1) * len(predicted_probs) / n_bins)\n",
    "        \n",
    "        goals = sum(sorted_goals[start_idx:end_idx])\n",
    "        total_shots = end_idx - start_idx\n",
    "        \n",
    "        goal_rate = 100 * goals / total_shots\n",
    "        goal_rates.append(goal_rate)\n",
    "\n",
    "    axes[1,0].plot(midpoints*100, goal_rates, linestyle='-')\n",
    "    axes[1,0].set_xlim([100,0])\n",
    "    axes[1,0].set_ylim([0,100])\n",
    "    axes[1,0].set_xlabel('Centile of Probability')\n",
    "    axes[1,0].set_ylabel('Rate of Goals')\n",
    "    axes[1,0].set_title('Rate of Goals vs. Centile of Probability')\n",
    "\n",
    "    cumulative_goals = np.cumsum(sorted_goals[::-1])\n",
    "    tot_goals = y_valid.sum()\n",
    "\n",
    "    axes[1,1].plot(np.arange(len(y_prob), 0, -1) * 100 / len(y_prob), cumulative_goals * 100 / tot_goals, linestyle='-')\n",
    "    axes[1,1].set_xlim([100,0])\n",
    "    axes[1,1].set_ylim([0,100])\n",
    "    axes[1,1].set_xlabel('Centile of Probability')\n",
    "    axes[1,1].set_ylabel('Cumulative Proportion of Goals')\n",
    "    axes[1,1].set_title('Cumulative Proportion of Goals vs. Centile of Probability')\n",
    "\n",
    "    # Display the figure with two subplots side by side\n",
    "    plt.show()"
   ]
  },
  {
   "cell_type": "code",
   "execution_count": 31,
   "metadata": {},
   "outputs": [
    {
     "name": "stderr",
     "output_type": "stream",
     "text": [
      "/Users/alexandreganito/Documents/Data science/venv/lib/python3.10/site-packages/sklearn/utils/validation.py:605: FutureWarning: is_sparse is deprecated and will be removed in a future version. Check `isinstance(dtype, pd.SparseDtype)` instead.\n",
      "  if is_sparse(pd_dtype):\n",
      "/Users/alexandreganito/Documents/Data science/venv/lib/python3.10/site-packages/sklearn/utils/validation.py:614: FutureWarning: is_sparse is deprecated and will be removed in a future version. Check `isinstance(dtype, pd.SparseDtype)` instead.\n",
      "  if is_sparse(pd_dtype) or not is_extension_array_dtype(pd_dtype):\n",
      "/Users/alexandreganito/Documents/Data science/venv/lib/python3.10/site-packages/sklearn/utils/validation.py:605: FutureWarning: is_sparse is deprecated and will be removed in a future version. Check `isinstance(dtype, pd.SparseDtype)` instead.\n",
      "  if is_sparse(pd_dtype):\n",
      "/Users/alexandreganito/Documents/Data science/venv/lib/python3.10/site-packages/sklearn/utils/validation.py:614: FutureWarning: is_sparse is deprecated and will be removed in a future version. Check `isinstance(dtype, pd.SparseDtype)` instead.\n",
      "  if is_sparse(pd_dtype) or not is_extension_array_dtype(pd_dtype):\n",
      "/Users/alexandreganito/Documents/Data science/venv/lib/python3.10/site-packages/sklearn/utils/validation.py:605: FutureWarning: is_sparse is deprecated and will be removed in a future version. Check `isinstance(dtype, pd.SparseDtype)` instead.\n",
      "  if is_sparse(pd_dtype):\n",
      "/Users/alexandreganito/Documents/Data science/venv/lib/python3.10/site-packages/sklearn/utils/validation.py:614: FutureWarning: is_sparse is deprecated and will be removed in a future version. Check `isinstance(dtype, pd.SparseDtype)` instead.\n",
      "  if is_sparse(pd_dtype) or not is_extension_array_dtype(pd_dtype):\n",
      "/Users/alexandreganito/Documents/Data science/venv/lib/python3.10/site-packages/sklearn/utils/validation.py:605: FutureWarning: is_sparse is deprecated and will be removed in a future version. Check `isinstance(dtype, pd.SparseDtype)` instead.\n",
      "  if is_sparse(pd_dtype):\n",
      "/Users/alexandreganito/Documents/Data science/venv/lib/python3.10/site-packages/sklearn/utils/validation.py:614: FutureWarning: is_sparse is deprecated and will be removed in a future version. Check `isinstance(dtype, pd.SparseDtype)` instead.\n",
      "  if is_sparse(pd_dtype) or not is_extension_array_dtype(pd_dtype):\n",
      "/Users/alexandreganito/Documents/Data science/venv/lib/python3.10/site-packages/sklearn/utils/validation.py:605: FutureWarning: is_sparse is deprecated and will be removed in a future version. Check `isinstance(dtype, pd.SparseDtype)` instead.\n",
      "  if is_sparse(pd_dtype):\n",
      "/Users/alexandreganito/Documents/Data science/venv/lib/python3.10/site-packages/sklearn/utils/validation.py:614: FutureWarning: is_sparse is deprecated and will be removed in a future version. Check `isinstance(dtype, pd.SparseDtype)` instead.\n",
      "  if is_sparse(pd_dtype) or not is_extension_array_dtype(pd_dtype):\n",
      "/Users/alexandreganito/Documents/Data science/venv/lib/python3.10/site-packages/sklearn/utils/validation.py:605: FutureWarning: is_sparse is deprecated and will be removed in a future version. Check `isinstance(dtype, pd.SparseDtype)` instead.\n",
      "  if is_sparse(pd_dtype):\n",
      "/Users/alexandreganito/Documents/Data science/venv/lib/python3.10/site-packages/sklearn/utils/validation.py:614: FutureWarning: is_sparse is deprecated and will be removed in a future version. Check `isinstance(dtype, pd.SparseDtype)` instead.\n",
      "  if is_sparse(pd_dtype) or not is_extension_array_dtype(pd_dtype):\n",
      "/Users/alexandreganito/Documents/Data science/venv/lib/python3.10/site-packages/sklearn/utils/validation.py:605: FutureWarning: is_sparse is deprecated and will be removed in a future version. Check `isinstance(dtype, pd.SparseDtype)` instead.\n",
      "  if is_sparse(pd_dtype):\n",
      "/Users/alexandreganito/Documents/Data science/venv/lib/python3.10/site-packages/sklearn/utils/validation.py:614: FutureWarning: is_sparse is deprecated and will be removed in a future version. Check `isinstance(dtype, pd.SparseDtype)` instead.\n",
      "  if is_sparse(pd_dtype) or not is_extension_array_dtype(pd_dtype):\n"
     ]
    },
    {
     "data": {
      "image/png": "[encoded data removed]",
      "text/plain": [
       "<Figure size 1200x800 with 4 Axes>"
      ]
     },
     "metadata": {},
     "output_type": "display_data"
    }
   ],
   "source": [
    "plots(y_val, predictions.reshape(-1), \"test\")"
   ]
  },
  {
   "cell_type": "code",
   "execution_count": 180,
   "metadata": {},
   "outputs": [
    {
     "data": {
      "image/png": "[encoded data removed]",
      "text/plain": [
       "<Figure size 640x480 with 1 Axes>"
      ]
     },
     "metadata": {},
     "output_type": "display_data"
    }
   ],
   "source": [
    "from sklearn.metrics import roc_curve, auc, precision_recall_curve\n",
    "import matplotlib.pyplot as plt\n",
    "fpr, tpr, _ = roc_curve(val_labels, predictions)\n",
    "roc_auc = auc(fpr, tpr)\n",
    "\n",
    "precision, recall, _ = precision_recall_curve(val_labels, predictions)\n",
    "auc_score = auc(recall, precision)\n",
    "\n",
    "# Plotting ROC curve\n",
    "plt.figure()\n",
    "lw = 2\n",
    "plt.plot(recall, precision, color='darkorange', lw=lw, label='ROC curve (area = %0.2f)' % auc_score)\n",
    "plt.plot([0, 1], [0, 1], color='navy', lw=lw, linestyle='--')\n",
    "plt.xlim([0.0, 1.0])\n",
    "plt.ylim([0.0, 1.05])\n",
    "plt.xlabel('False Positive Rate')\n",
    "plt.ylabel('True Positive Rate')\n",
    "plt.title('Receiver Operating Characteristic (ROC) Curve')\n",
    "plt.legend(loc=\"lower right\")\n",
    "plt.show()"
   ]
  },
  {
   "cell_type": "code",
   "execution_count": 181,
   "metadata": {},
   "outputs": [
    {
     "name": "stdout",
     "output_type": "stream",
     "text": [
      "Model: \"random_forest_model_5\"\n",
      "_________________________________________________________________\n",
      " Layer (type)                Output Shape              Param #   \n",
      "=================================================================\n",
      "=================================================================\n",
      "Total params: 1 (1.00 Byte)\n",
      "Trainable params: 0 (0.00 Byte)\n",
      "Non-trainable params: 1 (1.00 Byte)\n",
      "_________________________________________________________________\n",
      "Type: \"RANDOM_FOREST\"\n",
      "Task: CLASSIFICATION\n",
      "Label: \"__LABEL\"\n",
      "\n",
      "Input Features (15):\n",
      "\tGame_id\n",
      "\tGame_time\n",
      "\tGoalie_ratio\n",
      "\tOpp_concedes\n",
      "\tP_diff\n",
      "\tPe_enc\n",
      "\tPrevious_distance\n",
      "\tRebound_angle\n",
      "\tShooter_ratio\n",
      "\tShot_angle\n",
      "\tShot_distance\n",
      "\tSpeed\n",
      "\tTeam_goals\n",
      "\tTime_since_powp\n",
      "\tType_enc\n",
      "\n",
      "Trained with weights\n",
      "\n",
      "Variable Importance: INV_MEAN_MIN_DEPTH:\n",
      "    1.     \"Shot_distance\"  0.317370 ################\n",
      "    2.        \"Shot_angle\"  0.155764 #####\n",
      "    3.      \"Goalie_ratio\"  0.149446 #####\n",
      "    4.             \"Speed\"  0.123687 ###\n",
      "    5.     \"Shooter_ratio\"  0.108036 ###\n",
      "    6.         \"Game_time\"  0.096599 ##\n",
      "    7.            \"Pe_enc\"  0.089794 #\n",
      "    8. \"Previous_distance\"  0.085934 #\n",
      "    9.          \"Type_enc\"  0.080218 #\n",
      "   10.   \"Time_since_powp\"  0.072118 \n",
      "   11.        \"Team_goals\"  0.062707 \n",
      "   12.      \"Opp_concedes\"  0.062674 \n",
      "   13.           \"Game_id\"  0.061895 \n",
      "   14.            \"P_diff\"  0.061472 \n",
      "   15.     \"Rebound_angle\"  0.059462 \n",
      "\n",
      "Variable Importance: NUM_AS_ROOT:\n",
      "    1.   \"Shot_distance\" 169.000000 ################\n",
      "    2.    \"Goalie_ratio\" 117.000000 ###########\n",
      "    3.   \"Shooter_ratio\" 82.000000 #######\n",
      "    4.       \"Game_time\" 54.000000 #####\n",
      "    5.          \"Pe_enc\" 28.000000 ##\n",
      "    6.      \"Shot_angle\" 20.000000 #\n",
      "    7.           \"Speed\" 20.000000 #\n",
      "    8.        \"Type_enc\"  7.000000 \n",
      "    9.          \"P_diff\"  2.000000 \n",
      "   10. \"Time_since_powp\"  1.000000 \n",
      "\n",
      "Variable Importance: NUM_NODES:\n",
      "    1.             \"Speed\" 594503.000000 ################\n",
      "    2.         \"Game_time\" 583376.000000 ###############\n",
      "    3.      \"Opp_concedes\" 580408.000000 ###############\n",
      "    4.        \"Team_goals\" 578934.000000 ###############\n",
      "    5.           \"Game_id\" 577080.000000 ###############\n",
      "    6.     \"Shooter_ratio\" 577065.000000 ###############\n",
      "    7. \"Previous_distance\" 573918.000000 ###############\n",
      "    8.      \"Goalie_ratio\" 545044.000000 ##############\n",
      "    9.     \"Shot_distance\" 523213.000000 ##############\n",
      "   10.        \"Shot_angle\" 500996.000000 #############\n",
      "   11.            \"Pe_enc\" 166241.000000 ####\n",
      "   12.     \"Rebound_angle\" 157138.000000 ###\n",
      "   13.          \"Type_enc\" 136267.000000 ###\n",
      "   14.   \"Time_since_powp\" 109539.000000 ##\n",
      "   15.            \"P_diff\" 21156.000000 \n",
      "\n",
      "Variable Importance: SUM_SCORE:\n",
      "    1.     \"Shot_distance\" 15028486.371603 ################\n",
      "    2.      \"Goalie_ratio\" 8118725.246302 ########\n",
      "    3.             \"Speed\" 7297428.998480 #######\n",
      "    4.        \"Shot_angle\" 6887750.718194 ######\n",
      "    5.         \"Game_time\" 6865136.842179 ######\n",
      "    6.     \"Shooter_ratio\" 6672193.202586 ######\n",
      "    7. \"Previous_distance\" 6500380.856505 ######\n",
      "    8.      \"Opp_concedes\" 6057309.778958 ######\n",
      "    9.        \"Team_goals\" 6028906.760028 ######\n",
      "   10.           \"Game_id\" 5996390.857449 ######\n",
      "   11.            \"Pe_enc\" 2109241.632904 #\n",
      "   12.          \"Type_enc\" 1918039.458734 #\n",
      "   13.     \"Rebound_angle\" 1676728.309927 #\n",
      "   14.   \"Time_since_powp\" 1502909.085281 #\n",
      "   15.            \"P_diff\" 568197.722245 \n",
      "\n",
      "\n",
      "\n",
      "Winner takes all: true\n",
      "Out-of-bag evaluation: accuracy:0.591353 logloss:0.736332\n",
      "Number of trees: 500\n",
      "Total number of nodes: 12450256\n",
      "\n",
      "Number of nodes by tree:\n",
      "Count: 500 Average: 24900.5 StdDev: 741.364\n",
      "Min: 22621 Max: 27259 Ignored: 0\n",
      "----------------------------------------------\n",
      "[ 22621, 22852)  2   0.40%   0.40%\n",
      "[ 22852, 23084)  4   0.80%   1.20% #\n",
      "[ 23084, 23316)  4   0.80%   2.00% #\n",
      "[ 23316, 23548) 12   2.40%   4.40% ##\n",
      "[ 23548, 23780) 13   2.60%   7.00% ##\n",
      "[ 23780, 24012) 21   4.20%  11.20% ###\n",
      "[ 24012, 24244) 27   5.40%  16.60% ###\n",
      "[ 24244, 24476) 43   8.60%  25.20% #####\n",
      "[ 24476, 24708) 61  12.20%  37.40% ########\n",
      "[ 24708, 24940) 80  16.00%  53.40% ##########\n",
      "[ 24940, 25172) 62  12.40%  65.80% ########\n",
      "[ 25172, 25404) 57  11.40%  77.20% #######\n",
      "[ 25404, 25636) 31   6.20%  83.40% ####\n",
      "[ 25636, 25868) 36   7.20%  90.60% #####\n",
      "[ 25868, 26100) 23   4.60%  95.20% ###\n",
      "[ 26100, 26332) 11   2.20%  97.40% #\n",
      "[ 26332, 26564)  5   1.00%  98.40% #\n",
      "[ 26564, 26796)  3   0.60%  99.00%\n",
      "[ 26796, 27028)  3   0.60%  99.60%\n",
      "[ 27028, 27259]  2   0.40% 100.00%\n",
      "\n",
      "Depth by leafs:\n",
      "Count: 6.22538e+06 Average: 20.3001 StdDev: 4.41473\n",
      "Min: 1 Max: 27 Ignored: 0\n",
      "----------------------------------------------\n",
      "[  1,  2)     45   0.00%   0.00%\n",
      "[  2,  3)    168   0.00%   0.00%\n",
      "[  3,  5)    916   0.01%   0.02%\n",
      "[  5,  6)    905   0.01%   0.03%\n",
      "[  6,  7)   1923   0.03%   0.06%\n",
      "[  7,  9)  16485   0.26%   0.33%\n",
      "[  9, 10)  24711   0.40%   0.73%\n",
      "[ 10, 11)  45670   0.73%   1.46%\n",
      "[ 11, 13) 195935   3.15%   4.61% ##\n",
      "[ 13, 14) 168277   2.70%   7.31% ##\n",
      "[ 14, 15) 226985   3.65%  10.96% ##\n",
      "[ 15, 17) 628567  10.10%  21.05% #######\n",
      "[ 17, 18) 394283   6.33%  27.39% ####\n",
      "[ 18, 19) 437118   7.02%  34.41% #####\n",
      "[ 19, 21) 952485  15.30%  49.71% ##########\n",
      "[ 21, 22) 487495   7.83%  57.54% #####\n",
      "[ 22, 23) 477064   7.66%  65.20% #####\n",
      "[ 23, 25) 883404  14.19%  79.39% #########\n",
      "[ 25, 26) 389867   6.26%  85.65% ####\n",
      "[ 26, 27] 893075  14.35% 100.00% #########\n",
      "\n",
      "Number of training obs by leaf:\n",
      "Count: 6.22538e+06 Average: 24.5608 StdDev: 66.0369\n",
      "Min: 5 Max: 8281 Ignored: 0\n",
      "----------------------------------------------\n",
      "[    5,  418) 6.19725e+06  99.55%  99.55% ##########\n",
      "[  418,  832)       21882   0.35%  99.90%\n",
      "[  832, 1246)        4024   0.06%  99.96%\n",
      "[ 1246, 1660)        1294   0.02%  99.99%\n",
      "[ 1660, 2074)         487   0.01%  99.99%\n",
      "[ 2074, 2488)         220   0.00% 100.00%\n",
      "[ 2488, 2901)         113   0.00% 100.00%\n",
      "[ 2901, 3315)          54   0.00% 100.00%\n",
      "[ 3315, 3729)          25   0.00% 100.00%\n",
      "[ 3729, 4143)          14   0.00% 100.00%\n",
      "[ 4143, 4557)           6   0.00% 100.00%\n",
      "[ 4557, 4971)           4   0.00% 100.00%\n",
      "[ 4971, 5385)           3   0.00% 100.00%\n",
      "[ 5385, 5798)           2   0.00% 100.00%\n",
      "[ 5798, 6212)           0   0.00% 100.00%\n",
      "[ 6212, 6626)           0   0.00% 100.00%\n",
      "[ 6626, 7040)           0   0.00% 100.00%\n",
      "[ 7040, 7454)           0   0.00% 100.00%\n",
      "[ 7454, 7868)           0   0.00% 100.00%\n",
      "[ 7868, 8281]           2   0.00% 100.00%\n",
      "\n",
      "Attribute in nodes:\n",
      "\t594503 : Speed [NUMERICAL]\n",
      "\t583376 : Game_time [NUMERICAL]\n",
      "\t580408 : Opp_concedes [NUMERICAL]\n",
      "\t578934 : Team_goals [NUMERICAL]\n",
      "\t577080 : Game_id [NUMERICAL]\n",
      "\t577065 : Shooter_ratio [NUMERICAL]\n",
      "\t573918 : Previous_distance [NUMERICAL]\n",
      "\t545044 : Goalie_ratio [NUMERICAL]\n",
      "\t523213 : Shot_distance [NUMERICAL]\n",
      "\t500996 : Shot_angle [NUMERICAL]\n",
      "\t166241 : Pe_enc [NUMERICAL]\n",
      "\t157138 : Rebound_angle [NUMERICAL]\n",
      "\t136267 : Type_enc [NUMERICAL]\n",
      "\t109539 : Time_since_powp [NUMERICAL]\n",
      "\t21156 : P_diff [NUMERICAL]\n",
      "\n",
      "Attribute in nodes with depth <= 0:\n",
      "\t169 : Shot_distance [NUMERICAL]\n",
      "\t117 : Goalie_ratio [NUMERICAL]\n",
      "\t82 : Shooter_ratio [NUMERICAL]\n",
      "\t54 : Game_time [NUMERICAL]\n",
      "\t28 : Pe_enc [NUMERICAL]\n",
      "\t20 : Speed [NUMERICAL]\n",
      "\t20 : Shot_angle [NUMERICAL]\n",
      "\t7 : Type_enc [NUMERICAL]\n",
      "\t2 : P_diff [NUMERICAL]\n",
      "\t1 : Time_since_powp [NUMERICAL]\n",
      "\n",
      "Attribute in nodes with depth <= 1:\n",
      "\t393 : Shot_distance [NUMERICAL]\n",
      "\t276 : Goalie_ratio [NUMERICAL]\n",
      "\t185 : Shooter_ratio [NUMERICAL]\n",
      "\t171 : Game_time [NUMERICAL]\n",
      "\t114 : Shot_angle [NUMERICAL]\n",
      "\t107 : Pe_enc [NUMERICAL]\n",
      "\t79 : Speed [NUMERICAL]\n",
      "\t59 : Type_enc [NUMERICAL]\n",
      "\t26 : P_diff [NUMERICAL]\n",
      "\t22 : Time_since_powp [NUMERICAL]\n",
      "\t12 : Previous_distance [NUMERICAL]\n",
      "\t5 : Rebound_angle [NUMERICAL]\n",
      "\t5 : Game_id [NUMERICAL]\n",
      "\t1 : Team_goals [NUMERICAL]\n",
      "\n",
      "Attribute in nodes with depth <= 2:\n",
      "\t816 : Shot_distance [NUMERICAL]\n",
      "\t502 : Goalie_ratio [NUMERICAL]\n",
      "\t325 : Shooter_ratio [NUMERICAL]\n",
      "\t322 : Shot_angle [NUMERICAL]\n",
      "\t310 : Game_time [NUMERICAL]\n",
      "\t256 : Pe_enc [NUMERICAL]\n",
      "\t208 : Speed [NUMERICAL]\n",
      "\t127 : Type_enc [NUMERICAL]\n",
      "\t112 : Time_since_powp [NUMERICAL]\n",
      "\t107 : P_diff [NUMERICAL]\n",
      "\t60 : Previous_distance [NUMERICAL]\n",
      "\t23 : Rebound_angle [NUMERICAL]\n",
      "\t17 : Game_id [NUMERICAL]\n",
      "\t9 : Team_goals [NUMERICAL]\n",
      "\t3 : Opp_concedes [NUMERICAL]\n",
      "\n",
      "Attribute in nodes with depth <= 3:\n",
      "\t1507 : Shot_distance [NUMERICAL]\n",
      "\t871 : Goalie_ratio [NUMERICAL]\n",
      "\t686 : Shot_angle [NUMERICAL]\n",
      "\t532 : Game_time [NUMERICAL]\n",
      "\t531 : Shooter_ratio [NUMERICAL]\n",
      "\t461 : Speed [NUMERICAL]\n",
      "\t458 : Pe_enc [NUMERICAL]\n",
      "\t338 : Time_since_powp [NUMERICAL]\n",
      "\t322 : Type_enc [NUMERICAL]\n",
      "\t280 : P_diff [NUMERICAL]\n",
      "\t185 : Previous_distance [NUMERICAL]\n",
      "\t79 : Rebound_angle [NUMERICAL]\n",
      "\t42 : Game_id [NUMERICAL]\n",
      "\t32 : Team_goals [NUMERICAL]\n",
      "\t11 : Opp_concedes [NUMERICAL]\n",
      "\n",
      "Attribute in nodes with depth <= 5:\n",
      "\t4550 : Shot_distance [NUMERICAL]\n",
      "\t2595 : Shot_angle [NUMERICAL]\n",
      "\t2160 : Goalie_ratio [NUMERICAL]\n",
      "\t2129 : Speed [NUMERICAL]\n",
      "\t1609 : Game_time [NUMERICAL]\n",
      "\t1516 : Shooter_ratio [NUMERICAL]\n",
      "\t1423 : Time_since_powp [NUMERICAL]\n",
      "\t1328 : Type_enc [NUMERICAL]\n",
      "\t1306 : Pe_enc [NUMERICAL]\n",
      "\t1275 : Previous_distance [NUMERICAL]\n",
      "\t998 : P_diff [NUMERICAL]\n",
      "\t485 : Rebound_angle [NUMERICAL]\n",
      "\t438 : Team_goals [NUMERICAL]\n",
      "\t381 : Game_id [NUMERICAL]\n",
      "\t355 : Opp_concedes [NUMERICAL]\n",
      "\n",
      "Condition type in nodes:\n",
      "\t6224878 : HigherCondition\n",
      "Condition type in nodes with depth <= 0:\n",
      "\t500 : HigherCondition\n",
      "Condition type in nodes with depth <= 1:\n",
      "\t1455 : HigherCondition\n",
      "Condition type in nodes with depth <= 2:\n",
      "\t3197 : HigherCondition\n",
      "Condition type in nodes with depth <= 3:\n",
      "\t6335 : HigherCondition\n",
      "Condition type in nodes with depth <= 5:\n",
      "\t22548 : HigherCondition\n",
      "Node format: NOT_SET\n",
      "\n",
      "Training OOB:\n",
      "\ttrees: 1, Out-of-bag evaluation: accuracy:0.597576 logloss:14.5048\n",
      "\ttrees: 11, Out-of-bag evaluation: accuracy:0.585722 logloss:5.92687\n",
      "\ttrees: 21, Out-of-bag evaluation: accuracy:0.590456 logloss:3.11799\n",
      "\ttrees: 31, Out-of-bag evaluation: accuracy:0.592137 logloss:2.12903\n",
      "\ttrees: 41, Out-of-bag evaluation: accuracy:0.592331 logloss:1.67693\n",
      "\ttrees: 51, Out-of-bag evaluation: accuracy:0.590997 logloss:1.42077\n",
      "\ttrees: 61, Out-of-bag evaluation: accuracy:0.590218 logloss:1.26542\n",
      "\ttrees: 71, Out-of-bag evaluation: accuracy:0.591226 logloss:1.15702\n",
      "\ttrees: 81, Out-of-bag evaluation: accuracy:0.591185 logloss:1.08109\n",
      "\ttrees: 91, Out-of-bag evaluation: accuracy:0.591148 logloss:1.02567\n",
      "\ttrees: 101, Out-of-bag evaluation: accuracy:0.591148 logloss:0.977143\n",
      "\ttrees: 111, Out-of-bag evaluation: accuracy:0.591518 logloss:0.946191\n",
      "\ttrees: 121, Out-of-bag evaluation: accuracy:0.591753 logloss:0.912016\n",
      "\ttrees: 131, Out-of-bag evaluation: accuracy:0.590893 logloss:0.881955\n",
      "\ttrees: 141, Out-of-bag evaluation: accuracy:0.590488 logloss:0.860617\n",
      "\ttrees: 151, Out-of-bag evaluation: accuracy:0.591299 logloss:0.8454\n",
      "\ttrees: 161, Out-of-bag evaluation: accuracy:0.590788 logloss:0.8343\n",
      "\ttrees: 171, Out-of-bag evaluation: accuracy:0.590478 logloss:0.823979\n",
      "\ttrees: 181, Out-of-bag evaluation: accuracy:0.591031 logloss:0.813475\n",
      "\ttrees: 191, Out-of-bag evaluation: accuracy:0.59094 logloss:0.805443\n",
      "\ttrees: 201, Out-of-bag evaluation: accuracy:0.590875 logloss:0.796456\n",
      "\ttrees: 211, Out-of-bag evaluation: accuracy:0.590798 logloss:0.791914\n",
      "\ttrees: 221, Out-of-bag evaluation: accuracy:0.591106 logloss:0.785395\n",
      "\ttrees: 231, Out-of-bag evaluation: accuracy:0.591094 logloss:0.781338\n",
      "\ttrees: 241, Out-of-bag evaluation: accuracy:0.591381 logloss:0.776508\n",
      "\ttrees: 251, Out-of-bag evaluation: accuracy:0.591499 logloss:0.771174\n",
      "\ttrees: 261, Out-of-bag evaluation: accuracy:0.591921 logloss:0.768183\n",
      "\ttrees: 271, Out-of-bag evaluation: accuracy:0.591446 logloss:0.764042\n",
      "\ttrees: 281, Out-of-bag evaluation: accuracy:0.591698 logloss:0.760734\n",
      "\ttrees: 291, Out-of-bag evaluation: accuracy:0.59102 logloss:0.759464\n",
      "\ttrees: 301, Out-of-bag evaluation: accuracy:0.591262 logloss:0.758197\n",
      "\ttrees: 311, Out-of-bag evaluation: accuracy:0.591734 logloss:0.755013\n",
      "\ttrees: 321, Out-of-bag evaluation: accuracy:0.591644 logloss:0.752958\n",
      "\ttrees: 331, Out-of-bag evaluation: accuracy:0.591445 logloss:0.751583\n",
      "\ttrees: 341, Out-of-bag evaluation: accuracy:0.591709 logloss:0.748807\n",
      "\ttrees: 351, Out-of-bag evaluation: accuracy:0.592252 logloss:0.745656\n",
      "\ttrees: 361, Out-of-bag evaluation: accuracy:0.592041 logloss:0.745257\n",
      "\ttrees: 371, Out-of-bag evaluation: accuracy:0.592163 logloss:0.744024\n",
      "\ttrees: 381, Out-of-bag evaluation: accuracy:0.592288 logloss:0.742335\n",
      "\ttrees: 391, Out-of-bag evaluation: accuracy:0.591658 logloss:0.741155\n",
      "\ttrees: 401, Out-of-bag evaluation: accuracy:0.591435 logloss:0.741013\n",
      "\ttrees: 411, Out-of-bag evaluation: accuracy:0.591907 logloss:0.740853\n",
      "\ttrees: 421, Out-of-bag evaluation: accuracy:0.59199 logloss:0.740646\n",
      "\ttrees: 431, Out-of-bag evaluation: accuracy:0.591864 logloss:0.740112\n",
      "\ttrees: 441, Out-of-bag evaluation: accuracy:0.591718 logloss:0.739463\n",
      "\ttrees: 451, Out-of-bag evaluation: accuracy:0.591665 logloss:0.738894\n",
      "\ttrees: 461, Out-of-bag evaluation: accuracy:0.59146 logloss:0.738254\n",
      "\ttrees: 471, Out-of-bag evaluation: accuracy:0.591397 logloss:0.738219\n",
      "\ttrees: 481, Out-of-bag evaluation: accuracy:0.591199 logloss:0.736996\n",
      "\ttrees: 491, Out-of-bag evaluation: accuracy:0.591007 logloss:0.736961\n",
      "\ttrees: 500, Out-of-bag evaluation: accuracy:0.591353 logloss:0.736332\n",
      "\n",
      "None\n"
     ]
    }
   ],
   "source": [
    "print(model.summary())"
   ]
  }
 ],
 "metadata": {
  "kernelspec": {
   "display_name": "venv",
   "language": "python",
   "name": "python3"
  },
  "language_info": {
   "codemirror_mode": {
    "name": "ipython",
    "version": 3
   },
   "file_extension": ".py",
   "mimetype": "text/x-python",
   "name": "python",
   "nbconvert_exporter": "python",
   "pygments_lexer": "ipython3",
   "version": "3.10.13"
  }
 },
 "nbformat": 4,
 "nbformat_minor": 2
}
